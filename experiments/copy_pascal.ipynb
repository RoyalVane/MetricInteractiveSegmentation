{
 "cells": [
  {
   "cell_type": "code",
   "execution_count": 1,
   "metadata": {},
   "outputs": [],
   "source": [
    "import shutil\n",
    "import os"
   ]
  },
  {
   "cell_type": "code",
   "execution_count": null,
   "metadata": {},
   "outputs": [],
   "source": []
  },
  {
   "cell_type": "code",
   "execution_count": null,
   "metadata": {},
   "outputs": [],
   "source": [
    "for file_name in src_files:\n",
    "    full_file_name = os.path.join(src, file_name)\n",
    "    if (os.path.isfile(full_file_name)):\n",
    "        shutil.copy(full_file_name, dest)"
   ]
  },
  {
   "cell_type": "code",
   "execution_count": 3,
   "metadata": {},
   "outputs": [],
   "source": [
    "import requests\n",
    "from tqdm import tqdm\n",
    "import os\n",
    "import tarfile\n",
    "\n",
    "import shutil\n",
    "\n",
    "\n",
    "def extract_tar_file(fname, path):\n",
    "    with tarfile.open(fname) as f:\n",
    "        f.extractall(path=path)    \n",
    "\n",
    "if not os.path.isdir(\"/scratch/yardima/\"):\n",
    "    os.mkdir(\"/scratch/yardima/\")\n",
    "\n",
    "if not os.path.isdir(\"/scratch/yardima/datasets\"):\n",
    "    os.mkdir(\"/scratch/yardima/datasets\")\n",
    "\n",
    "if not os.path.isdir(\"/scratch/yardima/datasets/voc12/\"):\n",
    "    os.mkdir(\"/scratch/yardima/datasets/voc12/\")\n",
    "\n",
    "\n",
    "shutil.copyfile(\"/srv/glusterfs/yardima/datasets/voc2012.tar\", \"/scratch/yardima/datasets/voc2012.tar\")\n",
    "shutil.copyfile(\"/srv/glusterfs/yardima/datasets/bsd_bench.tar\", \"/scratch/yardima/datasets/bsd_bench.tar\")\n",
    "\n",
    "extract_tar_file(\"/scratch/yardima/datasets/voc2012.tar\", \"/scratch/yardima/datasets/voc12/\")\n",
    "extract_tar_file(\"/scratch/yardima/datasets/bsd_bench.tar\", \"/scratch/yardima/datasets/\")\n",
    "\n",
    "if not os.path.isdir(\"/scratch/yardima/datasets/voc12/VOCdevkit/VOC2012/SegmentationClassAug\"):\n",
    "    os.mkdir(\"/scratch/yardima/datasets/voc12/VOCdevkit/VOC2012/SegmentationClassAug\")\n",
    "\n",
    "    "
   ]
  },
  {
   "cell_type": "code",
   "execution_count": null,
   "metadata": {},
   "outputs": [],
   "source": [
    "\n",
    "\n",
    "src = \"/srv/glusterfs/yardima/datasets/voc12/VOCdevkit/VOC2012/SegmentationClassAug\"\n",
    "src_files = os.listdir(src)\n",
    "dest_folder = \"/scratch/yardima/datasets/voc12/VOCdevkit/VOC2012/SegmentationClassAug/\"\n",
    "\n",
    "for file_name in src_files:\n",
    "    full_file_name = os.path.join(src, file_name)\n",
    "    if (os.path.isfile(full_file_name)):\n",
    "        shutil.copy(full_file_name, dest_folder)\n",
    "        "
   ]
  },
  {
   "cell_type": "code",
   "execution_count": 4,
   "metadata": {},
   "outputs": [],
   "source": [
    "if not os.path.isdir(\"/scratch/yardima/datasets/voc12/VOCdevkit/VOC2012/SegmentationObjectAug\"):\n",
    "    os.mkdir(\"/scratch/yardima/datasets/voc12/VOCdevkit/VOC2012/SegmentationObjectAug\")\n",
    "\n",
    "src = \"/srv/glusterfs/yardima/datasets/voc12/VOCdevkit/VOC2012/SegmentationObjectAug\"\n",
    "src_files = os.listdir(src)\n",
    "dest_folder = \"/scratch/yardima/datasets/voc12/VOCdevkit/VOC2012/SegmentationObjectAug/\"\n",
    "\n",
    "for file_name in src_files:\n",
    "    full_file_name = os.path.join(src, file_name)\n",
    "    if (os.path.isfile(full_file_name)):\n",
    "        shutil.copy(full_file_name, dest_folder)"
   ]
  }
 ],
 "metadata": {
  "kernelspec": {
   "display_name": "Python 3",
   "language": "python",
   "name": "python3"
  },
  "language_info": {
   "codemirror_mode": {
    "name": "ipython",
    "version": 3
   },
   "file_extension": ".py",
   "mimetype": "text/x-python",
   "name": "python",
   "nbconvert_exporter": "python",
   "pygments_lexer": "ipython3",
   "version": "3.6.6"
  }
 },
 "nbformat": 4,
 "nbformat_minor": 2
}
