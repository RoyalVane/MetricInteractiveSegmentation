{
 "cells": [
  {
   "cell_type": "code",
   "execution_count": 1,
   "metadata": {},
   "outputs": [],
   "source": [
    "import numpy as np\n",
    "%matplotlib notebook\n",
    "import matplotlib.pyplot as plt\n",
    "\n",
    "import torch\n",
    "import torch.nn as nn\n",
    "import torch.nn.functional as F\n",
    "import torch.optim as optim\n",
    "\n",
    "import torchvision\n",
    "from torchvision import transforms, datasets\n",
    "import torch.utils.data as data"
   ]
  },
  {
   "cell_type": "code",
   "execution_count": 2,
   "metadata": {},
   "outputs": [],
   "source": [
    "import deeptriplet\n",
    "import deeptriplet.models\n",
    "import deeptriplet.datasets"
   ]
  },
  {
   "cell_type": "code",
   "execution_count": 3,
   "metadata": {},
   "outputs": [
    {
     "name": "stdout",
     "output_type": "stream",
     "text": [
      "True\n",
      "2\n"
     ]
    }
   ],
   "source": [
    "print(torch.cuda.is_available())\n",
    "print(torch.cuda.device_count())\n",
    "device = torch.device(\"cuda:1\" if torch.cuda.is_available() else \"cpu\")"
   ]
  },
  {
   "cell_type": "markdown",
   "metadata": {},
   "source": [
    "## Load GrabCut dataset"
   ]
  },
  {
   "cell_type": "code",
   "execution_count": 4,
   "metadata": {},
   "outputs": [],
   "source": [
    "dataset = deeptriplet.datasets.GrabCut(grabcut_root=\"/scratch-second/yardima/datasets/GrabCut/\")"
   ]
  },
  {
   "cell_type": "markdown",
   "metadata": {},
   "source": [
    "## Load trained embedding model"
   ]
  },
  {
   "cell_type": "code",
   "execution_count": 5,
   "metadata": {},
   "outputs": [],
   "source": [
    "model_path_random = \"/srv/glusterfs/yardima/runs/deeplabv3_plus/triplet-aug/run_8/models/deeplabv3p-triplet-aug_epoch-79.pth\"\n",
    "    "
   ]
  },
  {
   "cell_type": "code",
   "execution_count": 11,
   "metadata": {
    "scrolled": true
   },
   "outputs": [],
   "source": [
    "d1 = torch.load(model_path_random)\n",
    "from modeling.deeplab import *\n",
    "\n",
    "net = DeepLab(backbone='resnet', output_stride=16, num_classes=50, sync_bn=True, freeze_bn=False)\n",
    "net = net.cuda()\n",
    "net.load_state_dict(d1)\n",
    "\n",
    "net = net.eval().cuda();"
   ]
  },
  {
   "cell_type": "markdown",
   "metadata": {},
   "source": [
    "## Interactive plot"
   ]
  },
  {
   "cell_type": "code",
   "execution_count": 6,
   "metadata": {},
   "outputs": [],
   "source": [
    "from sklearn.neighbors import KNeighborsClassifier"
   ]
  },
  {
   "cell_type": "code",
   "execution_count": 7,
   "metadata": {},
   "outputs": [],
   "source": [
    "class InteractiveSegmentation:\n",
    "\n",
    "    def __init__(self, img, lbl, embed):\n",
    "        fig = plt.figure(figsize=(6,6))\n",
    "        ax = fig.add_subplot(111)\n",
    "        ax.imshow(np.transpose(img.squeeze() / 4 + 0.45, axes=[1, 2, 0]))\n",
    "        # ax.plot(np.random.rand(10))\n",
    "        text=ax.text(0,0, \"\", va=\"bottom\", ha=\"left\")\n",
    "\n",
    "        self.text = text\n",
    "        \n",
    "        self.samples_positive = []\n",
    "        self.samples_negative = []\n",
    "        \n",
    "        self.ax = ax\n",
    "        self.fig = fig\n",
    "        \n",
    "        self.img = img\n",
    "        self.lbl = lbl\n",
    "        self.embed = embed\n",
    "        \n",
    "        cid = fig.canvas.mpl_connect('button_press_event', lambda x: self.onclick(x))\n",
    "        \n",
    "        self.fg_color = np.array([0.1, 0.2, 1., 0.6])\n",
    "        self.bg_color = np.array([0.4, 0.0, 0.0, 0.0])\n",
    "        \n",
    "        self.mask = np.zeros(shape=(lbl.shape[0], lbl.shape[1], 4), dtype=np.float32)\n",
    "        self.maskim = ax.imshow(self.mask)\n",
    "        \n",
    "        self.h = int(lbl.shape[0])\n",
    "        self.w = int(lbl.shape[1])\n",
    "        \n",
    "        \n",
    "    def update_plot(self):\n",
    "        \n",
    "        knn = KNeighborsClassifier(n_neighbors=1)\n",
    "        \n",
    "        ixp = [i[1] * self.w + i[0] for i in self.samples_positive]\n",
    "        ixn = [i[1] * self.w + i[0] for i in self.samples_negative]\n",
    "        \n",
    "        X = self.embed.reshape(self.w * self.h, -1)[ixp + ixn, :]\n",
    "        y = np.array([1] * len(ixp) + [0] * len(ixn))\n",
    "        \n",
    "        print(X.shape)\n",
    "        print(y.shape)\n",
    "        \n",
    "        knn.fit(X, y)\n",
    "        \n",
    "        pred = knn.predict(self.embed.reshape(self.w * self.h, -1)).reshape(self.h, self.w)\n",
    "        \n",
    "        r = np.zeros(pred.shape)\n",
    "        g = np.zeros(pred.shape)\n",
    "        b = np.zeros(pred.shape)\n",
    "        a = np.zeros(pred.shape)\n",
    "        \n",
    "        r[pred == 1] = self.fg_color[0]\n",
    "        g[pred == 1] = self.fg_color[1]\n",
    "        b[pred == 1] = self.fg_color[2]\n",
    "        a[pred == 1] = self.fg_color[3]\n",
    "        \n",
    "        self.mask[:,:,0] = r\n",
    "        self.mask[:,:,1] = g\n",
    "        self.mask[:,:,2] = b\n",
    "        self.mask[:,:,3] = a\n",
    "        \n",
    "        self.maskim.set_data(self.mask)\n",
    "        \n",
    "\n",
    "\n",
    "    def onclick(self, event):\n",
    "        point = (int(round(event.xdata)), int(round(event.ydata)))\n",
    "\n",
    "        if event.button == 1:\n",
    "            self.samples_positive.append(point)\n",
    "            self.samples_positive = list(set(self.samples_positive))\n",
    "            self.ax.add_artist(plt.Circle(point, 2.2, color='r'))\n",
    "        else:\n",
    "            self.samples_negative.append(point)\n",
    "            self.samples_negative = list(set(self.samples_negative))\n",
    "            self.ax.add_artist(plt.Circle(point, 2.2, color='b'))\n",
    "            \n",
    "        if len(self.samples_negative) > 0 and len(self.samples_positive) > 0:\n",
    "            self.update_plot()\n",
    "        \n",
    "        tx = 'button=%d, xdata=%d, ydata=%d' % (event.button, point[0], point[1])\n",
    "        self.text.set_text(tx)\n",
    "        \n",
    "        ax.draw()"
   ]
  },
  {
   "cell_type": "code",
   "execution_count": 12,
   "metadata": {
    "scrolled": false
   },
   "outputs": [
    {
     "name": "stderr",
     "output_type": "stream",
     "text": [
      "/home/yardima/miniconda3/lib/python3.7/site-packages/ipykernel_launcher.py:3: UserWarning: To copy construct from a tensor, it is recommended to use sourceTensor.clone().detach() or sourceTensor.clone().detach().requires_grad_(True), rather than torch.tensor(sourceTensor).\n",
      "  This is separate from the ipykernel package so we can avoid doing imports until\n"
     ]
    },
    {
     "ename": "NameError",
     "evalue": "name 'net' is not defined",
     "output_type": "error",
     "traceback": [
      "\u001b[0;31m---------------------------------------------------------------------------\u001b[0m",
      "\u001b[0;31mNameError\u001b[0m                                 Traceback (most recent call last)",
      "\u001b[0;32m<ipython-input-12-753aacb9e5eb>\u001b[0m in \u001b[0;36m<module>\u001b[0;34m\u001b[0m\n\u001b[1;32m      4\u001b[0m \u001b[0;34m\u001b[0m\u001b[0m\n\u001b[1;32m      5\u001b[0m \u001b[0;32mwith\u001b[0m \u001b[0mtorch\u001b[0m\u001b[0;34m.\u001b[0m\u001b[0mno_grad\u001b[0m\u001b[0;34m(\u001b[0m\u001b[0;34m)\u001b[0m\u001b[0;34m:\u001b[0m\u001b[0;34m\u001b[0m\u001b[0;34m\u001b[0m\u001b[0m\n\u001b[0;32m----> 6\u001b[0;31m     \u001b[0membed\u001b[0m \u001b[0;34m=\u001b[0m \u001b[0mnet\u001b[0m\u001b[0;34m.\u001b[0m\u001b[0mforward\u001b[0m\u001b[0;34m(\u001b[0m\u001b[0mimg\u001b[0m\u001b[0;34m.\u001b[0m\u001b[0mcuda\u001b[0m\u001b[0;34m(\u001b[0m\u001b[0;34m)\u001b[0m\u001b[0;34m.\u001b[0m\u001b[0munsqueeze\u001b[0m\u001b[0;34m(\u001b[0m\u001b[0;36m0\u001b[0m\u001b[0;34m)\u001b[0m\u001b[0;34m)\u001b[0m\u001b[0;34m\u001b[0m\u001b[0;34m\u001b[0m\u001b[0m\n\u001b[0m\u001b[1;32m      7\u001b[0m     \u001b[0membed\u001b[0m \u001b[0;34m=\u001b[0m \u001b[0membed\u001b[0m\u001b[0;34m.\u001b[0m\u001b[0msqueeze\u001b[0m\u001b[0;34m(\u001b[0m\u001b[0;34m)\u001b[0m\u001b[0;34m.\u001b[0m\u001b[0mpermute\u001b[0m\u001b[0;34m(\u001b[0m\u001b[0;36m1\u001b[0m\u001b[0;34m,\u001b[0m \u001b[0;36m2\u001b[0m\u001b[0;34m,\u001b[0m \u001b[0;36m0\u001b[0m\u001b[0;34m)\u001b[0m\u001b[0;34m.\u001b[0m\u001b[0mcpu\u001b[0m\u001b[0;34m(\u001b[0m\u001b[0;34m)\u001b[0m\u001b[0;34m\u001b[0m\u001b[0;34m\u001b[0m\u001b[0m\n\u001b[1;32m      8\u001b[0m \u001b[0;34m\u001b[0m\u001b[0m\n",
      "\u001b[0;31mNameError\u001b[0m: name 'net' is not defined"
     ]
    }
   ],
   "source": [
    "img, lbl = dataset[7]\n",
    "img = torch.tensor(img)\n",
    "lbl = torch.tensor(lbl)\n",
    "\n",
    "with torch.no_grad():  \n",
    "    embed = net.forward(img.cuda().unsqueeze(0))\n",
    "    embed = embed.squeeze().permute(1, 2, 0).cpu()\n",
    "    \n",
    "p = InteractiveSegmentation(img.numpy(), lbl.numpy(), embed.numpy())"
   ]
  },
  {
   "cell_type": "code",
   "execution_count": null,
   "metadata": {},
   "outputs": [],
   "source": []
  }
 ],
 "metadata": {
  "kernelspec": {
   "display_name": "Python 3",
   "language": "python",
   "name": "python3"
  },
  "language_info": {
   "codemirror_mode": {
    "name": "ipython",
    "version": 3
   },
   "file_extension": ".py",
   "mimetype": "text/x-python",
   "name": "python",
   "nbconvert_exporter": "python",
   "pygments_lexer": "ipython3",
   "version": "3.7.1"
  }
 },
 "nbformat": 4,
 "nbformat_minor": 2
}
