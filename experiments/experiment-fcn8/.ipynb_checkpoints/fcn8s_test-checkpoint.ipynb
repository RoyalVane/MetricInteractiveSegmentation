{
 "cells": [
  {
   "cell_type": "code",
   "execution_count": 1,
   "metadata": {},
   "outputs": [],
   "source": [
    "import numpy as np\n",
    "import matplotlib.pyplot as plt"
   ]
  },
  {
   "cell_type": "code",
   "execution_count": 2,
   "metadata": {},
   "outputs": [],
   "source": [
    "import torch\n",
    "import torch.nn as nn\n",
    "import torch.nn.functional as F\n",
    "import torch.optim as optim\n",
    "\n",
    "import torchvision\n",
    "from torchvision import transforms, datasets\n",
    "import torch.utils.data as data"
   ]
  },
  {
   "cell_type": "code",
   "execution_count": 3,
   "metadata": {},
   "outputs": [
    {
     "name": "stdout",
     "output_type": "stream",
     "text": [
      "True\n",
      "1\n"
     ]
    }
   ],
   "source": [
    "print(torch.cuda.is_available())\n",
    "print(torch.cuda.device_count())\n",
    "device = torch.device(\"cuda:0\" if torch.cuda.is_available() else \"cpu\")"
   ]
  },
  {
   "cell_type": "markdown",
   "metadata": {},
   "source": [
    "# Load the VOC2012 dataset"
   ]
  },
  {
   "cell_type": "code",
   "execution_count": 4,
   "metadata": {},
   "outputs": [],
   "source": [
    "import requests\n",
    "from tqdm import tqdm"
   ]
  },
  {
   "cell_type": "code",
   "execution_count": 8,
   "metadata": {},
   "outputs": [],
   "source": [
    "def download_file(url, local_filename):\n",
    "    # NOTE the stream=True parameter\n",
    "    r = requests.get(url, stream=True)\n",
    "    with open(local_filename, 'wb') as f:\n",
    "        for chunk in tqdm(r.iter_content(chunk_size=1024)): \n",
    "            if chunk: # filter out keep-alive new chunks\n",
    "                f.write(chunk)\n",
    "                #f.flush() commented by recommendation from J.F.Sebastian\n",
    "    return local_filename"
   ]
  },
  {
   "cell_type": "code",
   "execution_count": 9,
   "metadata": {},
   "outputs": [],
   "source": [
    "import os\n",
    "\n",
    "if not os.path.isdir(\"/scratch/yardima/\"):\n",
    "    os.mkdir(\"/scratch/yardima/\")\n",
    "\n",
    "if not os.path.isdir(\"/scratch/yardima/datasets/\"):\n",
    "    os.mkdir(\"/scratch/yardima/datasets/\")\n",
    "    \n",
    "if not os.path.isdir(\"/scratch/yardima/datasets/voc12\"):\n",
    "    os.mkdir(\"/scratch/yardima/datasets/voc12\")"
   ]
  },
  {
   "cell_type": "code",
   "execution_count": 10,
   "metadata": {},
   "outputs": [
    {
     "name": "stderr",
     "output_type": "stream",
     "text": [
      "1952773it [00:45, 42796.09it/s]\n"
     ]
    },
    {
     "data": {
      "text/plain": [
       "'/scratch/yardima/datasets/voc2012.tar'"
      ]
     },
     "execution_count": 10,
     "metadata": {},
     "output_type": "execute_result"
    }
   ],
   "source": [
    "download_file(\"http://host.robots.ox.ac.uk/pascal/VOC/voc2012/VOCtrainval_11-May-2012.tar\",\n",
    "              \"/scratch/yardima/datasets/voc2012.tar\")"
   ]
  },
  {
   "cell_type": "code",
   "execution_count": 11,
   "metadata": {},
   "outputs": [],
   "source": [
    "import tarfile"
   ]
  },
  {
   "cell_type": "code",
   "execution_count": 12,
   "metadata": {},
   "outputs": [],
   "source": [
    "def extract_tar_file(fname, path):\n",
    "    with tarfile.open(fname) as f:\n",
    "        f.extractall(path=path)    "
   ]
  },
  {
   "cell_type": "code",
   "execution_count": 13,
   "metadata": {},
   "outputs": [],
   "source": [
    "extract_tar_file(\"/scratch/yardima/datasets/voc2012.tar\", \"/scratch/yardima/datasets/voc12/\")"
   ]
  },
  {
   "cell_type": "code",
   "execution_count": 14,
   "metadata": {},
   "outputs": [
    {
     "name": "stderr",
     "output_type": "stream",
     "text": [
      "1386270it [03:36, 6389.36it/s]\n"
     ]
    },
    {
     "data": {
      "text/plain": [
       "'/scratch/yardima/datasets/bsd_bench.tar'"
      ]
     },
     "execution_count": 14,
     "metadata": {},
     "output_type": "execute_result"
    }
   ],
   "source": [
    "download_file(\"http://www.eecs.berkeley.edu/Research/Projects/CS/vision/grouping/semantic_contours/benchmark.tgz\",\n",
    "              \"/scratch/yardima/datasets/bsd_bench.tar\")"
   ]
  },
  {
   "cell_type": "code",
   "execution_count": 15,
   "metadata": {},
   "outputs": [],
   "source": [
    "extract_tar_file(\"/scratch/yardima/datasets/bsd_bench.tar\", \"/scratch/yardima/datasets/\")"
   ]
  },
  {
   "cell_type": "code",
   "execution_count": 4,
   "metadata": {},
   "outputs": [],
   "source": [
    "import ptsemseg\n",
    "import ptsemseg.loader"
   ]
  },
  {
   "cell_type": "code",
   "execution_count": 5,
   "metadata": {},
   "outputs": [],
   "source": [
    "data_loader = ptsemseg.loader.get_loader(\"pascal\")\n",
    "\n",
    "data_aug = None\n",
    "\n",
    "t_loader = data_loader(\n",
    "        \"/srv/glusterfs/yardima/datasets/voc12/VOCdevkit/VOC2012\",\n",
    "        is_transform=True,\n",
    "        split=\"train_aug\",\n",
    "        img_size=(\"same\", \"same\"),\n",
    "        augmentations=data_aug)\n",
    "\n",
    "\n",
    "v_loader = data_loader(\"/srv/glusterfs/yardima/datasets/voc12/VOCdevkit/VOC2012\",\n",
    "                        is_transform=True,\n",
    "                        split=\"val\",\n",
    "                        img_size=(\"same\", \"same\"),)\n",
    "\n",
    "trainloader = data.DataLoader(t_loader,\n",
    "                                  batch_size=1,\n",
    "                                  num_workers=2,\n",
    "                                  shuffle=True)\n",
    "\n",
    "valloader = data.DataLoader(v_loader,\n",
    "                                batch_size=1,\n",
    "                                num_workers=2)"
   ]
  },
  {
   "cell_type": "markdown",
   "metadata": {},
   "source": [
    "# Load the pretrained FCN8 model"
   ]
  },
  {
   "cell_type": "code",
   "execution_count": 6,
   "metadata": {},
   "outputs": [],
   "source": [
    "import ptsemseg.models"
   ]
  },
  {
   "cell_type": "code",
   "execution_count": 7,
   "metadata": {},
   "outputs": [],
   "source": [
    "fcn8 = ptsemseg.models.get_model({\"arch\":\"fcn8s\"}, n_classes=21)"
   ]
  },
  {
   "cell_type": "code",
   "execution_count": 8,
   "metadata": {},
   "outputs": [
    {
     "name": "stdout",
     "output_type": "stream",
     "text": [
      "Number of parameters: 134489759\n"
     ]
    }
   ],
   "source": [
    "parameters = 0\n",
    "for p in fcn8.parameters():\n",
    "    parameters += p.numel()\n",
    "\n",
    "print(\"Number of parameters: {}\".format(parameters))"
   ]
  },
  {
   "cell_type": "code",
   "execution_count": 9,
   "metadata": {},
   "outputs": [],
   "source": [
    "pretrained_state = torch.load(\"/srv/glusterfs/yardima/runs/pretrained-models/fcn8s_pascal_best_model.pkl\",\n",
    "                              map_location=lambda storage, loc: storage)"
   ]
  },
  {
   "cell_type": "code",
   "execution_count": 10,
   "metadata": {},
   "outputs": [],
   "source": [
    "pretrained_state = torch.load(\"/scratch/yardima/model2\",\n",
    "                              map_location=lambda storage, loc: storage)"
   ]
  },
  {
   "cell_type": "code",
   "execution_count": 10,
   "metadata": {},
   "outputs": [],
   "source": [
    "fcn8 = nn.DataParallel(fcn8)"
   ]
  },
  {
   "cell_type": "code",
   "execution_count": 12,
   "metadata": {},
   "outputs": [
    {
     "data": {
      "text/plain": [
       "dict_keys(['epoch', 'model_state', 'optimizer_state', 'scheduler_state', 'best_iou'])"
      ]
     },
     "execution_count": 12,
     "metadata": {},
     "output_type": "execute_result"
    }
   ],
   "source": [
    "pretrained_state.keys()"
   ]
  },
  {
   "cell_type": "code",
   "execution_count": 13,
   "metadata": {},
   "outputs": [],
   "source": [
    "fcn8.load_state_dict(pretrained_state['model_state'])\n",
    "fcn8.train(False);"
   ]
  },
  {
   "cell_type": "code",
   "execution_count": 34,
   "metadata": {},
   "outputs": [],
   "source": [
    "fcn8.load_state_dict(pretrained_state['model_state'])\n",
    "fcn8.train(False);\n",
    "fcn8.cuda();"
   ]
  },
  {
   "cell_type": "code",
   "execution_count": 33,
   "metadata": {},
   "outputs": [],
   "source": [
    "pretrained_state.keys();"
   ]
  },
  {
   "cell_type": "code",
   "execution_count": 14,
   "metadata": {},
   "outputs": [],
   "source": [
    "del pretrained_state\n",
    "\n",
    "import gc\n",
    "gc.collect()\n",
    "\n",
    "torch.cuda.empty_cache()"
   ]
  },
  {
   "cell_type": "code",
   "execution_count": 17,
   "metadata": {},
   "outputs": [
    {
     "name": "stderr",
     "output_type": "stream",
     "text": [
      "Clipping input data to the valid range for imshow with RGB data ([0..1] for floats or [0..255] for integers).\n"
     ]
    },
    {
     "name": "stdout",
     "output_type": "stream",
     "text": [
      "torch.Size([1, 3, 480, 360])\n"
     ]
    },
    {
     "data": {
      "text/plain": [
       "<matplotlib.image.AxesImage at 0x2b91cd747cf8>"
      ]
     },
     "execution_count": 17,
     "metadata": {},
     "output_type": "execute_result"
    },
    {
     "data": {
      "image/png": "[encoded data removed]",
      "text/plain": [
       "<Figure size 432x288 with 1 Axes>"
      ]
     },
     "metadata": {
      "needs_background": "light"
     },
     "output_type": "display_data"
    }
   ],
   "source": [
    "dataiter = iter(trainloader)\n",
    "i, l = dataiter.next()\n",
    "\n",
    "print(i.shape)\n",
    "g = torchvision.utils.make_grid(i, nrow=4)\n",
    "\n",
    "#g = g / 2 + 0.5     # unnormalize\n",
    "npimg = g.numpy()\n",
    "plt.imshow(np.transpose(npimg, (1, 2, 0)))"
   ]
  },
  {
   "cell_type": "code",
   "execution_count": 44,
   "metadata": {},
   "outputs": [
    {
     "data": {
      "image/png": "[encoded data removed]",
      "text/plain": [
       "<Figure size 432x288 with 1 Axes>"
      ]
     },
     "metadata": {
      "needs_background": "light"
     },
     "output_type": "display_data"
    }
   ],
   "source": [
    "v_loader.decode_segmap(l.numpy().reshape((l.shape[1], l.shape[2])), plot=True)"
   ]
  },
  {
   "cell_type": "code",
   "execution_count": 45,
   "metadata": {},
   "outputs": [],
   "source": [
    "out = fcn8.forward(i)"
   ]
  },
  {
   "cell_type": "code",
   "execution_count": 41,
   "metadata": {},
   "outputs": [
    {
     "name": "stdout",
     "output_type": "stream",
     "text": [
      "torch.Size([21, 375, 500])\n"
     ]
    }
   ],
   "source": [
    "for o in out:\n",
    "    print(o.shape)"
   ]
  },
  {
   "cell_type": "code",
   "execution_count": 46,
   "metadata": {},
   "outputs": [
    {
     "data": {
      "image/png": "[encoded data removed]",
      "text/plain": [
       "<Figure size 432x288 with 1 Axes>"
      ]
     },
     "metadata": {
      "needs_background": "light"
     },
     "output_type": "display_data"
    }
   ],
   "source": [
    "#output = output[:,:img_temp.shape[0],:img_temp.shape[1]]\n",
    "output = out.data.cpu().numpy().squeeze()\n",
    "output = output.transpose(1,2,0)\n",
    "output = np.argmax(output,axis = 2)\n",
    "#output = output[:,:,1]\n",
    "\n",
    "# plt.subplot(3, 1, 1)\n",
    "# plt.imshow(img_original)\n",
    "# plt.subplot(3, 1, 2)\n",
    "# plt.imshow(gt)\n",
    "# plt.subplot(3, 1, 3)\n",
    "plt.imshow(output)\n",
    "plt.show()"
   ]
  },
  {
   "cell_type": "code",
   "execution_count": 9,
   "metadata": {},
   "outputs": [
    {
     "ename": "NameError",
     "evalue": "name 'fcn8' is not defined",
     "output_type": "error",
     "traceback": [
      "\u001b[0;31m---------------------------------------------------------------------------\u001b[0m",
      "\u001b[0;31mNameError\u001b[0m                                 Traceback (most recent call last)",
      "\u001b[0;32m<ipython-input-9-eeaa640298ab>\u001b[0m in \u001b[0;36m<module>\u001b[0;34m\u001b[0m\n\u001b[0;32m----> 1\u001b[0;31m \u001b[0;32mdel\u001b[0m \u001b[0mfcn8\u001b[0m\u001b[0;34m\u001b[0m\u001b[0m\n\u001b[0m\u001b[1;32m      2\u001b[0m \u001b[0mtorch\u001b[0m\u001b[0;34m.\u001b[0m\u001b[0mcuda\u001b[0m\u001b[0;34m.\u001b[0m\u001b[0mempty_cache\u001b[0m\u001b[0;34m(\u001b[0m\u001b[0;34m)\u001b[0m\u001b[0;34m\u001b[0m\u001b[0m\n\u001b[1;32m      3\u001b[0m \u001b[0mgc\u001b[0m\u001b[0;34m.\u001b[0m\u001b[0mcollect\u001b[0m\u001b[0;34m(\u001b[0m\u001b[0;34m)\u001b[0m\u001b[0;34m\u001b[0m\u001b[0m\n",
      "\u001b[0;31mNameError\u001b[0m: name 'fcn8' is not defined"
     ]
    }
   ],
   "source": [
    "del fcn8\n",
    "torch.cuda.empty_cache()\n",
    "gc.collect()"
   ]
  },
  {
   "cell_type": "markdown",
   "metadata": {},
   "source": [
    "## Training using triplet loss"
   ]
  },
  {
   "cell_type": "code",
   "execution_count": 46,
   "metadata": {},
   "outputs": [],
   "source": [
    "#torch.save(fcn8.state_dict(), \"/scratch/yardima/model1\")"
   ]
  },
  {
   "cell_type": "code",
   "execution_count": 6,
   "metadata": {},
   "outputs": [],
   "source": [
    "d1 = torch.load(\"/srv/glusterfs/yardima/runs/pretrained-models/fcn8s_pascal_best_model.pkl\")[\"model_state\"]"
   ]
  },
  {
   "cell_type": "code",
   "execution_count": 7,
   "metadata": {},
   "outputs": [],
   "source": [
    "import deeptriplet\n",
    "import deeptriplet.models\n",
    "import deeptriplet.triplet\n",
    "\n",
    "fe = deeptriplet.models.FCN8Embedding(embedding_dim=30)"
   ]
  },
  {
   "cell_type": "code",
   "execution_count": 8,
   "metadata": {},
   "outputs": [],
   "source": [
    "fe = nn.DataParallel(fe)"
   ]
  },
  {
   "cell_type": "code",
   "execution_count": 9,
   "metadata": {},
   "outputs": [],
   "source": [
    "fe.load_state_dict(d1, strict=False)"
   ]
  },
  {
   "cell_type": "code",
   "execution_count": 10,
   "metadata": {},
   "outputs": [
    {
     "name": "stdout",
     "output_type": "stream",
     "text": [
      "module.embedding_layer.0.weight\n",
      "module.embedding_layer.0.bias\n",
      "module.embedding_layer.3.weight\n",
      "module.embedding_layer.3.bias\n",
      "module.embedding_layer.6.weight\n",
      "module.embedding_layer.6.bias\n",
      "module.embed_pool4.weight\n",
      "module.embed_pool4.bias\n",
      "module.embed_pool3.weight\n",
      "module.embed_pool3.bias\n",
      "module.upembed2.weight\n",
      "module.upembed4.weight\n",
      "module.upembed8.weight\n"
     ]
    }
   ],
   "source": [
    "sd1 = d1\n",
    "for k, val in fe.state_dict().items():\n",
    "    if k in sd1 and sd1[k].equal(val):\n",
    "        pass\n",
    "    else:\n",
    "        print(k)"
   ]
  },
  {
   "cell_type": "markdown",
   "metadata": {},
   "source": [
    "## Triplet loss with local selection"
   ]
  },
  {
   "cell_type": "code",
   "execution_count": 11,
   "metadata": {},
   "outputs": [],
   "source": [
    "reg = 1e-3\n",
    "margin = 1\n",
    "n_triplets = 300\n",
    "loss_fun = nn.MarginRankingLoss(margin=margin)\n",
    "fe.cuda()\n",
    "optimizer = optim.SGD(fe.parameters(), lr=1e-3, momentum=0.9, weight_decay=5e-8)\n",
    "lr_update = lambda epoch: 0.95 ** epoch\n",
    "scheduler = torch.optim.lr_scheduler.LambdaLR(optimizer, lr_lambda=lr_update)\n",
    "# target = torch.FloatTensor(n_triplets).fill_(1).to(device)\n",
    "loss_fn = deeptriplet.triplet.LocalTriplet()"
   ]
  },
  {
   "cell_type": "code",
   "execution_count": null,
   "metadata": {
    "scrolled": true
   },
   "outputs": [
    {
     "name": "stdout",
     "output_type": "stream",
     "text": [
      "Epoch 0\n",
      "0.20087996176443995\n",
      "0.10185380095615983\n",
      "0.09449593152385205\n",
      "0.0782872077357024\n",
      "0.07738097403198481\n",
      "0.06944005290977656\n",
      "0.07289065320044756\n",
      "0.07550839681178331\n",
      "0.06728439858183265\n"
     ]
    }
   ],
   "source": [
    "%%time\n",
    "for epoch in range(10):\n",
    "    scheduler.step()\n",
    "    i = 1\n",
    "    running_loss = 0.0\n",
    "    \n",
    "    print(\"Epoch {}\".format(epoch))\n",
    "    for (images, labels) in trainloader:\n",
    "        images.cuda()\n",
    "        optimizer.zero_grad()\n",
    "        \n",
    "        out = fe.forward(images)\n",
    "        \n",
    "        #loss = compute_loss(out, labels, loss_fn=loss_fun, reg=reg, target=target, n_triplets=n_triplets)\n",
    "        \n",
    "        loss = loss_fn.compute_loss(out, labels)\n",
    "        \n",
    "        loss.backward()\n",
    "\n",
    "        \n",
    "        optimizer.step()\n",
    "        \n",
    "        running_loss += loss.item()\n",
    "        \n",
    "        del loss, out\n",
    "        \n",
    "        if i % 100 == 0:\n",
    "            print(running_loss / 100)\n",
    "            running_loss = 0.0\n",
    "            \n",
    "        i += 1"
   ]
  },
  {
   "cell_type": "code",
   "execution_count": null,
   "metadata": {},
   "outputs": [],
   "source": []
  },
  {
   "cell_type": "code",
   "execution_count": null,
   "metadata": {},
   "outputs": [],
   "source": [
    "fe"
   ]
  },
  {
   "cell_type": "code",
   "execution_count": 1,
   "metadata": {},
   "outputs": [
    {
     "ename": "NameError",
     "evalue": "name 'compute_loss' is not defined",
     "output_type": "error",
     "traceback": [
      "\u001b[0;31m---------------------------------------------------------------------------\u001b[0m",
      "\u001b[0;31mNameError\u001b[0m                                 Traceback (most recent call last)",
      "\u001b[0;32m<ipython-input-1-2ceb38ca00db>\u001b[0m in \u001b[0;36m<module>\u001b[0;34m\u001b[0m\n\u001b[0;32m----> 1\u001b[0;31m \u001b[0mcl\u001b[0m \u001b[0;34m=\u001b[0m \u001b[0mcompute_loss\u001b[0m\u001b[0;34m(\u001b[0m\u001b[0mnp\u001b[0m\u001b[0;34m.\u001b[0m\u001b[0mones\u001b[0m\u001b[0;34m(\u001b[0m\u001b[0mshape\u001b[0m\u001b[0;34m=\u001b[0m\u001b[0;34m(\u001b[0m\u001b[0;36m1\u001b[0m\u001b[0;34m,\u001b[0m \u001b[0;36m30\u001b[0m\u001b[0;34m,\u001b[0m \u001b[0;36m2\u001b[0m\u001b[0;34m,\u001b[0m \u001b[0;36m2\u001b[0m\u001b[0;34m)\u001b[0m\u001b[0;34m)\u001b[0m\u001b[0;34m,\u001b[0m \u001b[0mnp\u001b[0m\u001b[0;34m.\u001b[0m\u001b[0marray\u001b[0m\u001b[0;34m(\u001b[0m\u001b[0;34m[\u001b[0m\u001b[0;34m[\u001b[0m\u001b[0;34m[\u001b[0m\u001b[0;36m3\u001b[0m\u001b[0;34m,\u001b[0m \u001b[0;36m0\u001b[0m\u001b[0;34m]\u001b[0m\u001b[0;34m,\u001b[0m \u001b[0;34m[\u001b[0m\u001b[0;36m1\u001b[0m\u001b[0;34m,\u001b[0m \u001b[0;36m1\u001b[0m\u001b[0;34m]\u001b[0m\u001b[0;34m]\u001b[0m\u001b[0;34m]\u001b[0m\u001b[0;34m)\u001b[0m\u001b[0;34m,\u001b[0m \u001b[0mn_anchors\u001b[0m\u001b[0;34m=\u001b[0m\u001b[0;36m200\u001b[0m\u001b[0;34m)\u001b[0m\u001b[0;34m\u001b[0m\u001b[0m\n\u001b[0m",
      "\u001b[0;31mNameError\u001b[0m: name 'compute_loss' is not defined"
     ]
    }
   ],
   "source": [
    "cl = compute_loss(np.ones(shape=(1, 30, 2, 2)), np.array([[[3, 0], [1, 1]]]), n_anchors=200)"
   ]
  },
  {
   "cell_type": "code",
   "execution_count": 94,
   "metadata": {},
   "outputs": [
    {
     "data": {
      "text/plain": [
       "(array([0, 1, 3]), array([2, 0, 1, 1]))"
      ]
     },
     "execution_count": 94,
     "metadata": {},
     "output_type": "execute_result"
    }
   ],
   "source": [
    "np.unique(np.array([[[3, 0], [1, 1]]]), return_inverse=True)"
   ]
  },
  {
   "cell_type": "code",
   "execution_count": 98,
   "metadata": {},
   "outputs": [
    {
     "name": "stdout",
     "output_type": "stream",
     "text": [
      "CPU times: user 1.85 s, sys: 2.71 s, total: 4.56 s\n",
      "Wall time: 4.88 s\n"
     ]
    }
   ],
   "source": [
    "%%time\n",
    "for i in range(100):\n",
    "    cl = compute_loss(np.ones(shape=(1, 30, 512, 512)), l, n_anchors=200)"
   ]
  }
 ],
 "metadata": {
  "kernelspec": {
   "display_name": "Python 3",
   "language": "python",
   "name": "python3"
  },
  "language_info": {
   "codemirror_mode": {
    "name": "ipython",
    "version": 3
   },
   "file_extension": ".py",
   "mimetype": "text/x-python",
   "name": "python",
   "nbconvert_exporter": "python",
   "pygments_lexer": "ipython3",
   "version": "3.6.6"
  }
 },
 "nbformat": 4,
 "nbformat_minor": 2
}
