{
 "cells": [
  {
   "cell_type": "code",
   "execution_count": 1,
   "metadata": {},
   "outputs": [],
   "source": [
    "import numpy as np\n",
    "%matplotlib notebook\n",
    "import matplotlib.pyplot as plt\n",
    "\n",
    "import torch\n",
    "import torch.nn as nn\n",
    "import torch.nn.functional as F\n",
    "import torch.optim as optim\n",
    "\n",
    "import torchvision\n",
    "from torchvision import transforms, datasets\n",
    "import torch.utils.data as data"
   ]
  },
  {
   "cell_type": "code",
   "execution_count": 2,
   "metadata": {},
   "outputs": [],
   "source": [
    "import deeptriplet.models\n",
    "import deeptriplet.datasets"
   ]
  },
  {
   "cell_type": "code",
   "execution_count": 3,
   "metadata": {},
   "outputs": [
    {
     "name": "stdout",
     "output_type": "stream",
     "text": [
      "True\n",
      "1\n"
     ]
    }
   ],
   "source": [
    "print(torch.cuda.is_available())\n",
    "print(torch.cuda.device_count())\n",
    "device = torch.device(\"cuda:0\" if torch.cuda.is_available() else \"cpu\")"
   ]
  },
  {
   "cell_type": "markdown",
   "metadata": {},
   "source": [
    "## Load VOC2012 dataset"
   ]
  },
  {
   "cell_type": "code",
   "execution_count": 4,
   "metadata": {},
   "outputs": [],
   "source": [
    "valset = deeptriplet.datasets.PascalDataset(pascal_root=\"/scratch/yardima/datasets/voc12/VOCdevkit/VOC2012\",\n",
    "                                            split_file=\"/home/yardima/Python/experiments/pascal_split/val_obj.txt\",\n",
    "                                            normalize_imagenet=True,\n",
    "                                            augment=False,\n",
    "                                            pad_zeros=True,\n",
    "                                            downsample_label=1)\n",
    "\n",
    "valloader = data.DataLoader(valset,\n",
    "                                batch_size=1,\n",
    "                                num_workers=2,\n",
    "                                shuffle=True)\n",
    "\n",
    "trainset = deeptriplet.datasets.PascalDataset(pascal_root=\"/scratch/yardima/datasets/voc12/VOCdevkit/VOC2012\",\n",
    "                        split_file=\"/home/yardima/Python/experiments/pascal_split/train_obj.txt\",\n",
    "                        normalize_imagenet=True,\n",
    "                        augment=True,\n",
    "                        pad_zeros=True,\n",
    "                        downsample_label=8,\n",
    "                        scale_low=0.8,\n",
    "                        scale_high=1.2)\n",
    "\n",
    "trainloader = data.DataLoader(trainset,\n",
    "                                batch_size=10,\n",
    "                                num_workers=4,\n",
    "                                shuffle=True)"
   ]
  },
  {
   "cell_type": "markdown",
   "metadata": {},
   "source": [
    "## Load trained embedding model"
   ]
  },
  {
   "cell_type": "code",
   "execution_count": 5,
   "metadata": {},
   "outputs": [],
   "source": [
    "model_path_random = \"/srv/glusterfs/yardima/runs/deeplabv2/lfov-triplet/run_8/models/class-vgg-pascal_epoch-49.pth\""
   ]
  },
  {
   "cell_type": "code",
   "execution_count": 6,
   "metadata": {},
   "outputs": [],
   "source": [
    "d1 = torch.load(model_path_random, map_location=lambda storage, loc: storage)"
   ]
  },
  {
   "cell_type": "code",
   "execution_count": 7,
   "metadata": {},
   "outputs": [],
   "source": [
    "net = deeptriplet.models.DeepLab_VGG(n_classes=45)\n",
    "net = net.cuda()\n",
    "net.load_state_dict(d1)"
   ]
  },
  {
   "cell_type": "code",
   "execution_count": 8,
   "metadata": {},
   "outputs": [],
   "source": [
    "net = net.eval().cuda();"
   ]
  },
  {
   "cell_type": "markdown",
   "metadata": {},
   "source": [
    "## Click-precision graph"
   ]
  },
  {
   "cell_type": "code",
   "execution_count": 12,
   "metadata": {},
   "outputs": [],
   "source": [
    "import scipy.ndimage.morphology as morph"
   ]
  },
  {
   "cell_type": "code",
   "execution_count": 321,
   "metadata": {},
   "outputs": [
    {
     "name": "stderr",
     "output_type": "stream",
     "text": [
      "/home/yardima/.pyenv/versions/3.6.6/lib/python3.6/site-packages/torch/nn/modules/upsampling.py:225: UserWarning: nn.UpsamplingBilinear2d is deprecated. Use nn.functional.interpolate instead.\n",
      "  warnings.warn(\"nn.UpsamplingBilinear2d is deprecated. Use nn.functional.interpolate instead.\")\n",
      "/home/yardima/.pyenv/versions/3.6.6/lib/python3.6/site-packages/torch/nn/modules/upsampling.py:122: UserWarning: nn.Upsampling is deprecated. Use nn.functional.interpolate instead.\n",
      "  warnings.warn(\"nn.Upsampling is deprecated. Use nn.functional.interpolate instead.\")\n"
     ]
    },
    {
     "data": {
      "application/javascript": [
       "/* Put everything inside the global mpl namespace */\n",
       "window.mpl = {};\n",
       "\n",
       "\n",
       "mpl.get_websocket_type = function() {\n",
       "    if (typeof(WebSocket) !== 'undefined') {\n",
       "        return WebSocket;\n",
       "    } else if (typeof(MozWebSocket) !== 'undefined') {\n",
       "        return MozWebSocket;\n",
       "    } else {\n",
       "        alert('Your browser does not have WebSocket support.' +\n",
       "              'Please try Chrome, Safari or Firefox ≥ 6. ' +\n",
       "              'Firefox 4 and 5 are also supported but you ' +\n",
       "              'have to enable WebSockets in about:config.');\n",
       "    };\n",
       "}\n",
       "\n",
       "mpl.figure = function(figure_id, websocket, ondownload, parent_element) {\n",
       "    this.id = figure_id;\n",
       "\n",
       "    this.ws = websocket;\n",
       "\n",
       "    this.supports_binary = (this.ws.binaryType != undefined);\n",
       "\n",
       "    if (!this.supports_binary) {\n",
       "        var warnings = document.getElementById(\"mpl-warnings\");\n",
       "        if (warnings) {\n",
       "            warnings.style.display = 'block';\n",
       "            warnings.textContent = (\n",
       "                \"This browser does not support binary websocket messages. \" +\n",
       "                    \"Performance may be slow.\");\n",
       "        }\n",
       "    }\n",
       "\n",
       "    this.imageObj = new Image();\n",
       "\n",
       "    this.context = undefined;\n",
       "    this.message = undefined;\n",
       "    this.canvas = undefined;\n",
       "    this.rubberband_canvas = undefined;\n",
       "    this.rubberband_context = undefined;\n",
       "    this.format_dropdown = undefined;\n",
       "\n",
       "    this.image_mode = 'full';\n",
       "\n",
       "    this.root = $('<div/>');\n",
       "    this._root_extra_style(this.root)\n",
       "    this.root.attr('style', 'display: inline-block');\n",
       "\n",
       "    $(parent_element).append(this.root);\n",
       "\n",
       "    this._init_header(this);\n",
       "    this._init_canvas(this);\n",
       "    this._init_toolbar(this);\n",
       "\n",
       "    var fig = this;\n",
       "\n",
       "    this.waiting = false;\n",
       "\n",
       "    this.ws.onopen =  function () {\n",
       "            fig.send_message(\"supports_binary\", {value: fig.supports_binary});\n",
       "            fig.send_message(\"send_image_mode\", {});\n",
       "            if (mpl.ratio != 1) {\n",
       "                fig.send_message(\"set_dpi_ratio\", {'dpi_ratio': mpl.ratio});\n",
       "            }\n",
       "            fig.send_message(\"refresh\", {});\n",
       "        }\n",
       "\n",
       "    this.imageObj.onload = function() {\n",
       "            if (fig.image_mode == 'full') {\n",
       "                // Full images could contain transparency (where diff images\n",
       "                // almost always do), so we need to clear the canvas so that\n",
       "                // there is no ghosting.\n",
       "                fig.context.clearRect(0, 0, fig.canvas.width, fig.canvas.height);\n",
       "            }\n",
       "            fig.context.drawImage(fig.imageObj, 0, 0);\n",
       "        };\n",
       "\n",
       "    this.imageObj.onunload = function() {\n",
       "        fig.ws.close();\n",
       "    }\n",
       "\n",
       "    this.ws.onmessage = this._make_on_message_function(this);\n",
       "\n",
       "    this.ondownload = ondownload;\n",
       "}\n",
       "\n",
       "mpl.figure.prototype._init_header = function() {\n",
       "    var titlebar = $(\n",
       "        '<div class=\"ui-dialog-titlebar ui-widget-header ui-corner-all ' +\n",
       "        'ui-helper-clearfix\"/>');\n",
       "    var titletext = $(\n",
       "        '<div class=\"ui-dialog-title\" style=\"width: 100%; ' +\n",
       "        'text-align: center; padding: 3px;\"/>');\n",
       "    titlebar.append(titletext)\n",
       "    this.root.append(titlebar);\n",
       "    this.header = titletext[0];\n",
       "}\n",
       "\n",
       "\n",
       "\n",
       "mpl.figure.prototype._canvas_extra_style = function(canvas_div) {\n",
       "\n",
       "}\n",
       "\n",
       "\n",
       "mpl.figure.prototype._root_extra_style = function(canvas_div) {\n",
       "\n",
       "}\n",
       "\n",
       "mpl.figure.prototype._init_canvas = function() {\n",
       "    var fig = this;\n",
       "\n",
       "    var canvas_div = $('<div/>');\n",
       "\n",
       "    canvas_div.attr('style', 'position: relative; clear: both; outline: 0');\n",
       "\n",
       "    function canvas_keyboard_event(event) {\n",
       "        return fig.key_event(event, event['data']);\n",
       "    }\n",
       "\n",
       "    canvas_div.keydown('key_press', canvas_keyboard_event);\n",
       "    canvas_div.keyup('key_release', canvas_keyboard_event);\n",
       "    this.canvas_div = canvas_div\n",
       "    this._canvas_extra_style(canvas_div)\n",
       "    this.root.append(canvas_div);\n",
       "\n",
       "    var canvas = $('<canvas/>');\n",
       "    canvas.addClass('mpl-canvas');\n",
       "    canvas.attr('style', \"left: 0; top: 0; z-index: 0; outline: 0\")\n",
       "\n",
       "    this.canvas = canvas[0];\n",
       "    this.context = canvas[0].getContext(\"2d\");\n",
       "\n",
       "    var backingStore = this.context.backingStorePixelRatio ||\n",
       "\tthis.context.webkitBackingStorePixelRatio ||\n",
       "\tthis.context.mozBackingStorePixelRatio ||\n",
       "\tthis.context.msBackingStorePixelRatio ||\n",
       "\tthis.context.oBackingStorePixelRatio ||\n",
       "\tthis.context.backingStorePixelRatio || 1;\n",
       "\n",
       "    mpl.ratio = (window.devicePixelRatio || 1) / backingStore;\n",
       "\n",
       "    var rubberband = $('<canvas/>');\n",
       "    rubberband.attr('style', \"position: absolute; left: 0; top: 0; z-index: 1;\")\n",
       "\n",
       "    var pass_mouse_events = true;\n",
       "\n",
       "    canvas_div.resizable({\n",
       "        start: function(event, ui) {\n",
       "            pass_mouse_events = false;\n",
       "        },\n",
       "        resize: function(event, ui) {\n",
       "            fig.request_resize(ui.size.width, ui.size.height);\n",
       "        },\n",
       "        stop: function(event, ui) {\n",
       "            pass_mouse_events = true;\n",
       "            fig.request_resize(ui.size.width, ui.size.height);\n",
       "        },\n",
       "    });\n",
       "\n",
       "    function mouse_event_fn(event) {\n",
       "        if (pass_mouse_events)\n",
       "            return fig.mouse_event(event, event['data']);\n",
       "    }\n",
       "\n",
       "    rubberband.mousedown('button_press', mouse_event_fn);\n",
       "    rubberband.mouseup('button_release', mouse_event_fn);\n",
       "    // Throttle sequential mouse events to 1 every 20ms.\n",
       "    rubberband.mousemove('motion_notify', mouse_event_fn);\n",
       "\n",
       "    rubberband.mouseenter('figure_enter', mouse_event_fn);\n",
       "    rubberband.mouseleave('figure_leave', mouse_event_fn);\n",
       "\n",
       "    canvas_div.on(\"wheel\", function (event) {\n",
       "        event = event.originalEvent;\n",
       "        event['data'] = 'scroll'\n",
       "        if (event.deltaY < 0) {\n",
       "            event.step = 1;\n",
       "        } else {\n",
       "            event.step = -1;\n",
       "        }\n",
       "        mouse_event_fn(event);\n",
       "    });\n",
       "\n",
       "    canvas_div.append(canvas);\n",
       "    canvas_div.append(rubberband);\n",
       "\n",
       "    this.rubberband = rubberband;\n",
       "    this.rubberband_canvas = rubberband[0];\n",
       "    this.rubberband_context = rubberband[0].getContext(\"2d\");\n",
       "    this.rubberband_context.strokeStyle = \"#000000\";\n",
       "\n",
       "    this._resize_canvas = function(width, height) {\n",
       "        // Keep the size of the canvas, canvas container, and rubber band\n",
       "        // canvas in synch.\n",
       "        canvas_div.css('width', width)\n",
       "        canvas_div.css('height', height)\n",
       "\n",
       "        canvas.attr('width', width * mpl.ratio);\n",
       "        canvas.attr('height', height * mpl.ratio);\n",
       "        canvas.attr('style', 'width: ' + width + 'px; height: ' + height + 'px;');\n",
       "\n",
       "        rubberband.attr('width', width);\n",
       "        rubberband.attr('height', height);\n",
       "    }\n",
       "\n",
       "    // Set the figure to an initial 600x600px, this will subsequently be updated\n",
       "    // upon first draw.\n",
       "    this._resize_canvas(600, 600);\n",
       "\n",
       "    // Disable right mouse context menu.\n",
       "    $(this.rubberband_canvas).bind(\"contextmenu\",function(e){\n",
       "        return false;\n",
       "    });\n",
       "\n",
       "    function set_focus () {\n",
       "        canvas.focus();\n",
       "        canvas_div.focus();\n",
       "    }\n",
       "\n",
       "    window.setTimeout(set_focus, 100);\n",
       "}\n",
       "\n",
       "mpl.figure.prototype._init_toolbar = function() {\n",
       "    var fig = this;\n",
       "\n",
       "    var nav_element = $('<div/>')\n",
       "    nav_element.attr('style', 'width: 100%');\n",
       "    this.root.append(nav_element);\n",
       "\n",
       "    // Define a callback function for later on.\n",
       "    function toolbar_event(event) {\n",
       "        return fig.toolbar_button_onclick(event['data']);\n",
       "    }\n",
       "    function toolbar_mouse_event(event) {\n",
       "        return fig.toolbar_button_onmouseover(event['data']);\n",
       "    }\n",
       "\n",
       "    for(var toolbar_ind in mpl.toolbar_items) {\n",
       "        var name = mpl.toolbar_items[toolbar_ind][0];\n",
       "        var tooltip = mpl.toolbar_items[toolbar_ind][1];\n",
       "        var image = mpl.toolbar_items[toolbar_ind][2];\n",
       "        var method_name = mpl.toolbar_items[toolbar_ind][3];\n",
       "\n",
       "        if (!name) {\n",
       "            // put a spacer in here.\n",
       "            continue;\n",
       "        }\n",
       "        var button = $('<button/>');\n",
       "        button.addClass('ui-button ui-widget ui-state-default ui-corner-all ' +\n",
       "                        'ui-button-icon-only');\n",
       "        button.attr('role', 'button');\n",
       "        button.attr('aria-disabled', 'false');\n",
       "        button.click(method_name, toolbar_event);\n",
       "        button.mouseover(tooltip, toolbar_mouse_event);\n",
       "\n",
       "        var icon_img = $('<span/>');\n",
       "        icon_img.addClass('ui-button-icon-primary ui-icon');\n",
       "        icon_img.addClass(image);\n",
       "        icon_img.addClass('ui-corner-all');\n",
       "\n",
       "        var tooltip_span = $('<span/>');\n",
       "        tooltip_span.addClass('ui-button-text');\n",
       "        tooltip_span.html(tooltip);\n",
       "\n",
       "        button.append(icon_img);\n",
       "        button.append(tooltip_span);\n",
       "\n",
       "        nav_element.append(button);\n",
       "    }\n",
       "\n",
       "    var fmt_picker_span = $('<span/>');\n",
       "\n",
       "    var fmt_picker = $('<select/>');\n",
       "    fmt_picker.addClass('mpl-toolbar-option ui-widget ui-widget-content');\n",
       "    fmt_picker_span.append(fmt_picker);\n",
       "    nav_element.append(fmt_picker_span);\n",
       "    this.format_dropdown = fmt_picker[0];\n",
       "\n",
       "    for (var ind in mpl.extensions) {\n",
       "        var fmt = mpl.extensions[ind];\n",
       "        var option = $(\n",
       "            '<option/>', {selected: fmt === mpl.default_extension}).html(fmt);\n",
       "        fmt_picker.append(option)\n",
       "    }\n",
       "\n",
       "    // Add hover states to the ui-buttons\n",
       "    $( \".ui-button\" ).hover(\n",
       "        function() { $(this).addClass(\"ui-state-hover\");},\n",
       "        function() { $(this).removeClass(\"ui-state-hover\");}\n",
       "    );\n",
       "\n",
       "    var status_bar = $('<span class=\"mpl-message\"/>');\n",
       "    nav_element.append(status_bar);\n",
       "    this.message = status_bar[0];\n",
       "}\n",
       "\n",
       "mpl.figure.prototype.request_resize = function(x_pixels, y_pixels) {\n",
       "    // Request matplotlib to resize the figure. Matplotlib will then trigger a resize in the client,\n",
       "    // which will in turn request a refresh of the image.\n",
       "    this.send_message('resize', {'width': x_pixels, 'height': y_pixels});\n",
       "}\n",
       "\n",
       "mpl.figure.prototype.send_message = function(type, properties) {\n",
       "    properties['type'] = type;\n",
       "    properties['figure_id'] = this.id;\n",
       "    this.ws.send(JSON.stringify(properties));\n",
       "}\n",
       "\n",
       "mpl.figure.prototype.send_draw_message = function() {\n",
       "    if (!this.waiting) {\n",
       "        this.waiting = true;\n",
       "        this.ws.send(JSON.stringify({type: \"draw\", figure_id: this.id}));\n",
       "    }\n",
       "}\n",
       "\n",
       "\n",
       "mpl.figure.prototype.handle_save = function(fig, msg) {\n",
       "    var format_dropdown = fig.format_dropdown;\n",
       "    var format = format_dropdown.options[format_dropdown.selectedIndex].value;\n",
       "    fig.ondownload(fig, format);\n",
       "}\n",
       "\n",
       "\n",
       "mpl.figure.prototype.handle_resize = function(fig, msg) {\n",
       "    var size = msg['size'];\n",
       "    if (size[0] != fig.canvas.width || size[1] != fig.canvas.height) {\n",
       "        fig._resize_canvas(size[0], size[1]);\n",
       "        fig.send_message(\"refresh\", {});\n",
       "    };\n",
       "}\n",
       "\n",
       "mpl.figure.prototype.handle_rubberband = function(fig, msg) {\n",
       "    var x0 = msg['x0'] / mpl.ratio;\n",
       "    var y0 = (fig.canvas.height - msg['y0']) / mpl.ratio;\n",
       "    var x1 = msg['x1'] / mpl.ratio;\n",
       "    var y1 = (fig.canvas.height - msg['y1']) / mpl.ratio;\n",
       "    x0 = Math.floor(x0) + 0.5;\n",
       "    y0 = Math.floor(y0) + 0.5;\n",
       "    x1 = Math.floor(x1) + 0.5;\n",
       "    y1 = Math.floor(y1) + 0.5;\n",
       "    var min_x = Math.min(x0, x1);\n",
       "    var min_y = Math.min(y0, y1);\n",
       "    var width = Math.abs(x1 - x0);\n",
       "    var height = Math.abs(y1 - y0);\n",
       "\n",
       "    fig.rubberband_context.clearRect(\n",
       "        0, 0, fig.canvas.width, fig.canvas.height);\n",
       "\n",
       "    fig.rubberband_context.strokeRect(min_x, min_y, width, height);\n",
       "}\n",
       "\n",
       "mpl.figure.prototype.handle_figure_label = function(fig, msg) {\n",
       "    // Updates the figure title.\n",
       "    fig.header.textContent = msg['label'];\n",
       "}\n",
       "\n",
       "mpl.figure.prototype.handle_cursor = function(fig, msg) {\n",
       "    var cursor = msg['cursor'];\n",
       "    switch(cursor)\n",
       "    {\n",
       "    case 0:\n",
       "        cursor = 'pointer';\n",
       "        break;\n",
       "    case 1:\n",
       "        cursor = 'default';\n",
       "        break;\n",
       "    case 2:\n",
       "        cursor = 'crosshair';\n",
       "        break;\n",
       "    case 3:\n",
       "        cursor = 'move';\n",
       "        break;\n",
       "    }\n",
       "    fig.rubberband_canvas.style.cursor = cursor;\n",
       "}\n",
       "\n",
       "mpl.figure.prototype.handle_message = function(fig, msg) {\n",
       "    fig.message.textContent = msg['message'];\n",
       "}\n",
       "\n",
       "mpl.figure.prototype.handle_draw = function(fig, msg) {\n",
       "    // Request the server to send over a new figure.\n",
       "    fig.send_draw_message();\n",
       "}\n",
       "\n",
       "mpl.figure.prototype.handle_image_mode = function(fig, msg) {\n",
       "    fig.image_mode = msg['mode'];\n",
       "}\n",
       "\n",
       "mpl.figure.prototype.updated_canvas_event = function() {\n",
       "    // Called whenever the canvas gets updated.\n",
       "    this.send_message(\"ack\", {});\n",
       "}\n",
       "\n",
       "// A function to construct a web socket function for onmessage handling.\n",
       "// Called in the figure constructor.\n",
       "mpl.figure.prototype._make_on_message_function = function(fig) {\n",
       "    return function socket_on_message(evt) {\n",
       "        if (evt.data instanceof Blob) {\n",
       "            /* FIXME: We get \"Resource interpreted as Image but\n",
       "             * transferred with MIME type text/plain:\" errors on\n",
       "             * Chrome.  But how to set the MIME type?  It doesn't seem\n",
       "             * to be part of the websocket stream */\n",
       "            evt.data.type = \"image/png\";\n",
       "\n",
       "            /* Free the memory for the previous frames */\n",
       "            if (fig.imageObj.src) {\n",
       "                (window.URL || window.webkitURL).revokeObjectURL(\n",
       "                    fig.imageObj.src);\n",
       "            }\n",
       "\n",
       "            fig.imageObj.src = (window.URL || window.webkitURL).createObjectURL(\n",
       "                evt.data);\n",
       "            fig.updated_canvas_event();\n",
       "            fig.waiting = false;\n",
       "            return;\n",
       "        }\n",
       "        else if (typeof evt.data === 'string' && evt.data.slice(0, 21) == \"data:image/png;base64\") {\n",
       "            fig.imageObj.src = evt.data;\n",
       "            fig.updated_canvas_event();\n",
       "            fig.waiting = false;\n",
       "            return;\n",
       "        }\n",
       "\n",
       "        var msg = JSON.parse(evt.data);\n",
       "        var msg_type = msg['type'];\n",
       "\n",
       "        // Call the  \"handle_{type}\" callback, which takes\n",
       "        // the figure and JSON message as its only arguments.\n",
       "        try {\n",
       "            var callback = fig[\"handle_\" + msg_type];\n",
       "        } catch (e) {\n",
       "            console.log(\"No handler for the '\" + msg_type + \"' message type: \", msg);\n",
       "            return;\n",
       "        }\n",
       "\n",
       "        if (callback) {\n",
       "            try {\n",
       "                // console.log(\"Handling '\" + msg_type + \"' message: \", msg);\n",
       "                callback(fig, msg);\n",
       "            } catch (e) {\n",
       "                console.log(\"Exception inside the 'handler_\" + msg_type + \"' callback:\", e, e.stack, msg);\n",
       "            }\n",
       "        }\n",
       "    };\n",
       "}\n",
       "\n",
       "// from http://stackoverflow.com/questions/1114465/getting-mouse-location-in-canvas\n",
       "mpl.findpos = function(e) {\n",
       "    //this section is from http://www.quirksmode.org/js/events_properties.html\n",
       "    var targ;\n",
       "    if (!e)\n",
       "        e = window.event;\n",
       "    if (e.target)\n",
       "        targ = e.target;\n",
       "    else if (e.srcElement)\n",
       "        targ = e.srcElement;\n",
       "    if (targ.nodeType == 3) // defeat Safari bug\n",
       "        targ = targ.parentNode;\n",
       "\n",
       "    // jQuery normalizes the pageX and pageY\n",
       "    // pageX,Y are the mouse positions relative to the document\n",
       "    // offset() returns the position of the element relative to the document\n",
       "    var x = e.pageX - $(targ).offset().left;\n",
       "    var y = e.pageY - $(targ).offset().top;\n",
       "\n",
       "    return {\"x\": x, \"y\": y};\n",
       "};\n",
       "\n",
       "/*\n",
       " * return a copy of an object with only non-object keys\n",
       " * we need this to avoid circular references\n",
       " * http://stackoverflow.com/a/24161582/3208463\n",
       " */\n",
       "function simpleKeys (original) {\n",
       "  return Object.keys(original).reduce(function (obj, key) {\n",
       "    if (typeof original[key] !== 'object')\n",
       "        obj[key] = original[key]\n",
       "    return obj;\n",
       "  }, {});\n",
       "}\n",
       "\n",
       "mpl.figure.prototype.mouse_event = function(event, name) {\n",
       "    var canvas_pos = mpl.findpos(event)\n",
       "\n",
       "    if (name === 'button_press')\n",
       "    {\n",
       "        this.canvas.focus();\n",
       "        this.canvas_div.focus();\n",
       "    }\n",
       "\n",
       "    var x = canvas_pos.x * mpl.ratio;\n",
       "    var y = canvas_pos.y * mpl.ratio;\n",
       "\n",
       "    this.send_message(name, {x: x, y: y, button: event.button,\n",
       "                             step: event.step,\n",
       "                             guiEvent: simpleKeys(event)});\n",
       "\n",
       "    /* This prevents the web browser from automatically changing to\n",
       "     * the text insertion cursor when the button is pressed.  We want\n",
       "     * to control all of the cursor setting manually through the\n",
       "     * 'cursor' event from matplotlib */\n",
       "    event.preventDefault();\n",
       "    return false;\n",
       "}\n",
       "\n",
       "mpl.figure.prototype._key_event_extra = function(event, name) {\n",
       "    // Handle any extra behaviour associated with a key event\n",
       "}\n",
       "\n",
       "mpl.figure.prototype.key_event = function(event, name) {\n",
       "\n",
       "    // Prevent repeat events\n",
       "    if (name == 'key_press')\n",
       "    {\n",
       "        if (event.which === this._key)\n",
       "            return;\n",
       "        else\n",
       "            this._key = event.which;\n",
       "    }\n",
       "    if (name == 'key_release')\n",
       "        this._key = null;\n",
       "\n",
       "    var value = '';\n",
       "    if (event.ctrlKey && event.which != 17)\n",
       "        value += \"ctrl+\";\n",
       "    if (event.altKey && event.which != 18)\n",
       "        value += \"alt+\";\n",
       "    if (event.shiftKey && event.which != 16)\n",
       "        value += \"shift+\";\n",
       "\n",
       "    value += 'k';\n",
       "    value += event.which.toString();\n",
       "\n",
       "    this._key_event_extra(event, name);\n",
       "\n",
       "    this.send_message(name, {key: value,\n",
       "                             guiEvent: simpleKeys(event)});\n",
       "    return false;\n",
       "}\n",
       "\n",
       "mpl.figure.prototype.toolbar_button_onclick = function(name) {\n",
       "    if (name == 'download') {\n",
       "        this.handle_save(this, null);\n",
       "    } else {\n",
       "        this.send_message(\"toolbar_button\", {name: name});\n",
       "    }\n",
       "};\n",
       "\n",
       "mpl.figure.prototype.toolbar_button_onmouseover = function(tooltip) {\n",
       "    this.message.textContent = tooltip;\n",
       "};\n",
       "mpl.toolbar_items = [[\"Home\", \"Reset original view\", \"fa fa-home icon-home\", \"home\"], [\"Back\", \"Back to previous view\", \"fa fa-arrow-left icon-arrow-left\", \"back\"], [\"Forward\", \"Forward to next view\", \"fa fa-arrow-right icon-arrow-right\", \"forward\"], [\"\", \"\", \"\", \"\"], [\"Pan\", \"Pan axes with left mouse, zoom with right\", \"fa fa-arrows icon-move\", \"pan\"], [\"Zoom\", \"Zoom to rectangle\", \"fa fa-square-o icon-check-empty\", \"zoom\"], [\"\", \"\", \"\", \"\"], [\"Download\", \"Download plot\", \"fa fa-floppy-o icon-save\", \"download\"]];\n",
       "\n",
       "mpl.extensions = [\"eps\", \"jpeg\", \"pdf\", \"png\", \"ps\", \"raw\", \"svg\", \"tif\"];\n",
       "\n",
       "mpl.default_extension = \"png\";var comm_websocket_adapter = function(comm) {\n",
       "    // Create a \"websocket\"-like object which calls the given IPython comm\n",
       "    // object with the appropriate methods. Currently this is a non binary\n",
       "    // socket, so there is still some room for performance tuning.\n",
       "    var ws = {};\n",
       "\n",
       "    ws.close = function() {\n",
       "        comm.close()\n",
       "    };\n",
       "    ws.send = function(m) {\n",
       "        //console.log('sending', m);\n",
       "        comm.send(m);\n",
       "    };\n",
       "    // Register the callback with on_msg.\n",
       "    comm.on_msg(function(msg) {\n",
       "        //console.log('receiving', msg['content']['data'], msg);\n",
       "        // Pass the mpl event to the overridden (by mpl) onmessage function.\n",
       "        ws.onmessage(msg['content']['data'])\n",
       "    });\n",
       "    return ws;\n",
       "}\n",
       "\n",
       "mpl.mpl_figure_comm = function(comm, msg) {\n",
       "    // This is the function which gets called when the mpl process\n",
       "    // starts-up an IPython Comm through the \"matplotlib\" channel.\n",
       "\n",
       "    var id = msg.content.data.id;\n",
       "    // Get hold of the div created by the display call when the Comm\n",
       "    // socket was opened in Python.\n",
       "    var element = $(\"#\" + id);\n",
       "    var ws_proxy = comm_websocket_adapter(comm)\n",
       "\n",
       "    function ondownload(figure, format) {\n",
       "        window.open(figure.imageObj.src);\n",
       "    }\n",
       "\n",
       "    var fig = new mpl.figure(id, ws_proxy,\n",
       "                           ondownload,\n",
       "                           element.get(0));\n",
       "\n",
       "    // Call onopen now - mpl needs it, as it is assuming we've passed it a real\n",
       "    // web socket which is closed, not our websocket->open comm proxy.\n",
       "    ws_proxy.onopen();\n",
       "\n",
       "    fig.parent_element = element.get(0);\n",
       "    fig.cell_info = mpl.find_output_cell(\"<div id='\" + id + \"'></div>\");\n",
       "    if (!fig.cell_info) {\n",
       "        console.error(\"Failed to find cell for figure\", id, fig);\n",
       "        return;\n",
       "    }\n",
       "\n",
       "    var output_index = fig.cell_info[2]\n",
       "    var cell = fig.cell_info[0];\n",
       "\n",
       "};\n",
       "\n",
       "mpl.figure.prototype.handle_close = function(fig, msg) {\n",
       "    var width = fig.canvas.width/mpl.ratio\n",
       "    fig.root.unbind('remove')\n",
       "\n",
       "    // Update the output cell to use the data from the current canvas.\n",
       "    fig.push_to_output();\n",
       "    var dataURL = fig.canvas.toDataURL();\n",
       "    // Re-enable the keyboard manager in IPython - without this line, in FF,\n",
       "    // the notebook keyboard shortcuts fail.\n",
       "    IPython.keyboard_manager.enable()\n",
       "    $(fig.parent_element).html('<img src=\"' + dataURL + '\" width=\"' + width + '\">');\n",
       "    fig.close_ws(fig, msg);\n",
       "}\n",
       "\n",
       "mpl.figure.prototype.close_ws = function(fig, msg){\n",
       "    fig.send_message('closing', msg);\n",
       "    // fig.ws.close()\n",
       "}\n",
       "\n",
       "mpl.figure.prototype.push_to_output = function(remove_interactive) {\n",
       "    // Turn the data on the canvas into data in the output cell.\n",
       "    var width = this.canvas.width/mpl.ratio\n",
       "    var dataURL = this.canvas.toDataURL();\n",
       "    this.cell_info[1]['text/html'] = '<img src=\"' + dataURL + '\" width=\"' + width + '\">';\n",
       "}\n",
       "\n",
       "mpl.figure.prototype.updated_canvas_event = function() {\n",
       "    // Tell IPython that the notebook contents must change.\n",
       "    IPython.notebook.set_dirty(true);\n",
       "    this.send_message(\"ack\", {});\n",
       "    var fig = this;\n",
       "    // Wait a second, then push the new image to the DOM so\n",
       "    // that it is saved nicely (might be nice to debounce this).\n",
       "    setTimeout(function () { fig.push_to_output() }, 1000);\n",
       "}\n",
       "\n",
       "mpl.figure.prototype._init_toolbar = function() {\n",
       "    var fig = this;\n",
       "\n",
       "    var nav_element = $('<div/>')\n",
       "    nav_element.attr('style', 'width: 100%');\n",
       "    this.root.append(nav_element);\n",
       "\n",
       "    // Define a callback function for later on.\n",
       "    function toolbar_event(event) {\n",
       "        return fig.toolbar_button_onclick(event['data']);\n",
       "    }\n",
       "    function toolbar_mouse_event(event) {\n",
       "        return fig.toolbar_button_onmouseover(event['data']);\n",
       "    }\n",
       "\n",
       "    for(var toolbar_ind in mpl.toolbar_items){\n",
       "        var name = mpl.toolbar_items[toolbar_ind][0];\n",
       "        var tooltip = mpl.toolbar_items[toolbar_ind][1];\n",
       "        var image = mpl.toolbar_items[toolbar_ind][2];\n",
       "        var method_name = mpl.toolbar_items[toolbar_ind][3];\n",
       "\n",
       "        if (!name) { continue; };\n",
       "\n",
       "        var button = $('<button class=\"btn btn-default\" href=\"#\" title=\"' + name + '\"><i class=\"fa ' + image + ' fa-lg\"></i></button>');\n",
       "        button.click(method_name, toolbar_event);\n",
       "        button.mouseover(tooltip, toolbar_mouse_event);\n",
       "        nav_element.append(button);\n",
       "    }\n",
       "\n",
       "    // Add the status bar.\n",
       "    var status_bar = $('<span class=\"mpl-message\" style=\"text-align:right; float: right;\"/>');\n",
       "    nav_element.append(status_bar);\n",
       "    this.message = status_bar[0];\n",
       "\n",
       "    // Add the close button to the window.\n",
       "    var buttongrp = $('<div class=\"btn-group inline pull-right\"></div>');\n",
       "    var button = $('<button class=\"btn btn-mini btn-primary\" href=\"#\" title=\"Stop Interaction\"><i class=\"fa fa-power-off icon-remove icon-large\"></i></button>');\n",
       "    button.click(function (evt) { fig.handle_close(fig, {}); } );\n",
       "    button.mouseover('Stop Interaction', toolbar_mouse_event);\n",
       "    buttongrp.append(button);\n",
       "    var titlebar = this.root.find($('.ui-dialog-titlebar'));\n",
       "    titlebar.prepend(buttongrp);\n",
       "}\n",
       "\n",
       "mpl.figure.prototype._root_extra_style = function(el){\n",
       "    var fig = this\n",
       "    el.on(\"remove\", function(){\n",
       "\tfig.close_ws(fig, {});\n",
       "    });\n",
       "}\n",
       "\n",
       "mpl.figure.prototype._canvas_extra_style = function(el){\n",
       "    // this is important to make the div 'focusable\n",
       "    el.attr('tabindex', 0)\n",
       "    // reach out to IPython and tell the keyboard manager to turn it's self\n",
       "    // off when our div gets focus\n",
       "\n",
       "    // location in version 3\n",
       "    if (IPython.notebook.keyboard_manager) {\n",
       "        IPython.notebook.keyboard_manager.register_events(el);\n",
       "    }\n",
       "    else {\n",
       "        // location in version 2\n",
       "        IPython.keyboard_manager.register_events(el);\n",
       "    }\n",
       "\n",
       "}\n",
       "\n",
       "mpl.figure.prototype._key_event_extra = function(event, name) {\n",
       "    var manager = IPython.notebook.keyboard_manager;\n",
       "    if (!manager)\n",
       "        manager = IPython.keyboard_manager;\n",
       "\n",
       "    // Check for shift+enter\n",
       "    if (event.shiftKey && event.which == 13) {\n",
       "        this.canvas_div.blur();\n",
       "        event.shiftKey = false;\n",
       "        // Send a \"J\" for go to next cell\n",
       "        event.which = 74;\n",
       "        event.keyCode = 74;\n",
       "        manager.command_mode();\n",
       "        manager.handle_keydown(event);\n",
       "    }\n",
       "}\n",
       "\n",
       "mpl.figure.prototype.handle_save = function(fig, msg) {\n",
       "    fig.ondownload(fig, null);\n",
       "}\n",
       "\n",
       "\n",
       "mpl.find_output_cell = function(html_output) {\n",
       "    // Return the cell and output element which can be found *uniquely* in the notebook.\n",
       "    // Note - this is a bit hacky, but it is done because the \"notebook_saving.Notebook\"\n",
       "    // IPython event is triggered only after the cells have been serialised, which for\n",
       "    // our purposes (turning an active figure into a static one), is too late.\n",
       "    var cells = IPython.notebook.get_cells();\n",
       "    var ncells = cells.length;\n",
       "    for (var i=0; i<ncells; i++) {\n",
       "        var cell = cells[i];\n",
       "        if (cell.cell_type === 'code'){\n",
       "            for (var j=0; j<cell.output_area.outputs.length; j++) {\n",
       "                var data = cell.output_area.outputs[j];\n",
       "                if (data.data) {\n",
       "                    // IPython >= 3 moved mimebundle to data attribute of output\n",
       "                    data = data.data;\n",
       "                }\n",
       "                if (data['text/html'] == html_output) {\n",
       "                    return [cell, data, j];\n",
       "                }\n",
       "            }\n",
       "        }\n",
       "    }\n",
       "}\n",
       "\n",
       "// Register the function which deals with the matplotlib target/channel.\n",
       "// The kernel may be null if the page has been refreshed.\n",
       "if (IPython.notebook.kernel != null) {\n",
       "    IPython.notebook.kernel.comm_manager.register_target('matplotlib', mpl.mpl_figure_comm);\n",
       "}\n"
      ],
      "text/plain": [
       "<IPython.core.display.Javascript object>"
      ]
     },
     "metadata": {},
     "output_type": "display_data"
    },
    {
     "data": {
      "text/html": [
       "<img src=\"data:image/png;base64,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\" width=\"640\">"
      ],
      "text/plain": [
       "<IPython.core.display.HTML object>"
      ]
     },
     "metadata": {},
     "output_type": "display_data"
    },
    {
     "name": "stdout",
     "output_type": "stream",
     "text": [
      "CPU times: user 6.66 s, sys: 916 ms, total: 7.57 s\n",
      "Wall time: 8.51 s\n"
     ]
    }
   ],
   "source": [
    "%%time\n",
    "image, label = valset[1]\n",
    "results = simulate_clicks_v2(net, image, label, 20)\n",
    "plt.figure()\n",
    "plt.plot([r[\"iou\"] for r in results])\n",
    "plt.ylim(0, 1)"
   ]
  },
  {
   "cell_type": "code",
   "execution_count": 325,
   "metadata": {
    "scrolled": true
   },
   "outputs": [
    {
     "name": "stderr",
     "output_type": "stream",
     "text": [
      "/home/yardima/.pyenv/versions/3.6.6/lib/python3.6/site-packages/torch/nn/modules/upsampling.py:225: UserWarning: nn.UpsamplingBilinear2d is deprecated. Use nn.functional.interpolate instead.\n",
      "  warnings.warn(\"nn.UpsamplingBilinear2d is deprecated. Use nn.functional.interpolate instead.\")\n",
      "/home/yardima/.pyenv/versions/3.6.6/lib/python3.6/site-packages/torch/nn/modules/upsampling.py:122: UserWarning: nn.Upsampling is deprecated. Use nn.functional.interpolate instead.\n",
      "  warnings.warn(\"nn.Upsampling is deprecated. Use nn.functional.interpolate instead.\")\n"
     ]
    },
    {
     "name": "stdout",
     "output_type": "stream",
     "text": [
      "1\n"
     ]
    },
    {
     "name": "stderr",
     "output_type": "stream",
     "text": [
      "/home/yardima/.pyenv/versions/3.6.6/lib/python3.6/site-packages/torch/nn/modules/upsampling.py:225: UserWarning: nn.UpsamplingBilinear2d is deprecated. Use nn.functional.interpolate instead.\n",
      "  warnings.warn(\"nn.UpsamplingBilinear2d is deprecated. Use nn.functional.interpolate instead.\")\n",
      "/home/yardima/.pyenv/versions/3.6.6/lib/python3.6/site-packages/torch/nn/modules/upsampling.py:122: UserWarning: nn.Upsampling is deprecated. Use nn.functional.interpolate instead.\n",
      "  warnings.warn(\"nn.Upsampling is deprecated. Use nn.functional.interpolate instead.\")\n"
     ]
    },
    {
     "name": "stdout",
     "output_type": "stream",
     "text": [
      "2\n"
     ]
    },
    {
     "name": "stderr",
     "output_type": "stream",
     "text": [
      "/home/yardima/.pyenv/versions/3.6.6/lib/python3.6/site-packages/torch/nn/modules/upsampling.py:225: UserWarning: nn.UpsamplingBilinear2d is deprecated. Use nn.functional.interpolate instead.\n",
      "  warnings.warn(\"nn.UpsamplingBilinear2d is deprecated. Use nn.functional.interpolate instead.\")\n",
      "/home/yardima/.pyenv/versions/3.6.6/lib/python3.6/site-packages/torch/nn/modules/upsampling.py:122: UserWarning: nn.Upsampling is deprecated. Use nn.functional.interpolate instead.\n",
      "  warnings.warn(\"nn.Upsampling is deprecated. Use nn.functional.interpolate instead.\")\n"
     ]
    },
    {
     "name": "stdout",
     "output_type": "stream",
     "text": [
      "3\n"
     ]
    },
    {
     "name": "stderr",
     "output_type": "stream",
     "text": [
      "/home/yardima/.pyenv/versions/3.6.6/lib/python3.6/site-packages/torch/nn/modules/upsampling.py:225: UserWarning: nn.UpsamplingBilinear2d is deprecated. Use nn.functional.interpolate instead.\n",
      "  warnings.warn(\"nn.UpsamplingBilinear2d is deprecated. Use nn.functional.interpolate instead.\")\n",
      "/home/yardima/.pyenv/versions/3.6.6/lib/python3.6/site-packages/torch/nn/modules/upsampling.py:122: UserWarning: nn.Upsampling is deprecated. Use nn.functional.interpolate instead.\n",
      "  warnings.warn(\"nn.Upsampling is deprecated. Use nn.functional.interpolate instead.\")\n"
     ]
    },
    {
     "name": "stdout",
     "output_type": "stream",
     "text": [
      "4\n"
     ]
    },
    {
     "name": "stderr",
     "output_type": "stream",
     "text": [
      "/home/yardima/.pyenv/versions/3.6.6/lib/python3.6/site-packages/torch/nn/modules/upsampling.py:225: UserWarning: nn.UpsamplingBilinear2d is deprecated. Use nn.functional.interpolate instead.\n",
      "  warnings.warn(\"nn.UpsamplingBilinear2d is deprecated. Use nn.functional.interpolate instead.\")\n",
      "/home/yardima/.pyenv/versions/3.6.6/lib/python3.6/site-packages/torch/nn/modules/upsampling.py:122: UserWarning: nn.Upsampling is deprecated. Use nn.functional.interpolate instead.\n",
      "  warnings.warn(\"nn.Upsampling is deprecated. Use nn.functional.interpolate instead.\")\n"
     ]
    },
    {
     "name": "stdout",
     "output_type": "stream",
     "text": [
      "5\n"
     ]
    },
    {
     "name": "stderr",
     "output_type": "stream",
     "text": [
      "/home/yardima/.pyenv/versions/3.6.6/lib/python3.6/site-packages/torch/nn/modules/upsampling.py:225: UserWarning: nn.UpsamplingBilinear2d is deprecated. Use nn.functional.interpolate instead.\n",
      "  warnings.warn(\"nn.UpsamplingBilinear2d is deprecated. Use nn.functional.interpolate instead.\")\n",
      "/home/yardima/.pyenv/versions/3.6.6/lib/python3.6/site-packages/torch/nn/modules/upsampling.py:122: UserWarning: nn.Upsampling is deprecated. Use nn.functional.interpolate instead.\n",
      "  warnings.warn(\"nn.Upsampling is deprecated. Use nn.functional.interpolate instead.\")\n"
     ]
    },
    {
     "name": "stdout",
     "output_type": "stream",
     "text": [
      "6\n"
     ]
    },
    {
     "name": "stderr",
     "output_type": "stream",
     "text": [
      "/home/yardima/.pyenv/versions/3.6.6/lib/python3.6/site-packages/torch/nn/modules/upsampling.py:225: UserWarning: nn.UpsamplingBilinear2d is deprecated. Use nn.functional.interpolate instead.\n",
      "  warnings.warn(\"nn.UpsamplingBilinear2d is deprecated. Use nn.functional.interpolate instead.\")\n",
      "/home/yardima/.pyenv/versions/3.6.6/lib/python3.6/site-packages/torch/nn/modules/upsampling.py:122: UserWarning: nn.Upsampling is deprecated. Use nn.functional.interpolate instead.\n",
      "  warnings.warn(\"nn.Upsampling is deprecated. Use nn.functional.interpolate instead.\")\n"
     ]
    },
    {
     "name": "stdout",
     "output_type": "stream",
     "text": [
      "7\n"
     ]
    },
    {
     "name": "stderr",
     "output_type": "stream",
     "text": [
      "/home/yardima/.pyenv/versions/3.6.6/lib/python3.6/site-packages/torch/nn/modules/upsampling.py:225: UserWarning: nn.UpsamplingBilinear2d is deprecated. Use nn.functional.interpolate instead.\n",
      "  warnings.warn(\"nn.UpsamplingBilinear2d is deprecated. Use nn.functional.interpolate instead.\")\n",
      "/home/yardima/.pyenv/versions/3.6.6/lib/python3.6/site-packages/torch/nn/modules/upsampling.py:122: UserWarning: nn.Upsampling is deprecated. Use nn.functional.interpolate instead.\n",
      "  warnings.warn(\"nn.Upsampling is deprecated. Use nn.functional.interpolate instead.\")\n"
     ]
    },
    {
     "name": "stdout",
     "output_type": "stream",
     "text": [
      "8\n"
     ]
    },
    {
     "name": "stderr",
     "output_type": "stream",
     "text": [
      "/home/yardima/.pyenv/versions/3.6.6/lib/python3.6/site-packages/torch/nn/modules/upsampling.py:225: UserWarning: nn.UpsamplingBilinear2d is deprecated. Use nn.functional.interpolate instead.\n",
      "  warnings.warn(\"nn.UpsamplingBilinear2d is deprecated. Use nn.functional.interpolate instead.\")\n",
      "/home/yardima/.pyenv/versions/3.6.6/lib/python3.6/site-packages/torch/nn/modules/upsampling.py:122: UserWarning: nn.Upsampling is deprecated. Use nn.functional.interpolate instead.\n",
      "  warnings.warn(\"nn.Upsampling is deprecated. Use nn.functional.interpolate instead.\")\n"
     ]
    },
    {
     "name": "stdout",
     "output_type": "stream",
     "text": [
      "9\n"
     ]
    },
    {
     "name": "stderr",
     "output_type": "stream",
     "text": [
      "/home/yardima/.pyenv/versions/3.6.6/lib/python3.6/site-packages/torch/nn/modules/upsampling.py:225: UserWarning: nn.UpsamplingBilinear2d is deprecated. Use nn.functional.interpolate instead.\n",
      "  warnings.warn(\"nn.UpsamplingBilinear2d is deprecated. Use nn.functional.interpolate instead.\")\n",
      "/home/yardima/.pyenv/versions/3.6.6/lib/python3.6/site-packages/torch/nn/modules/upsampling.py:122: UserWarning: nn.Upsampling is deprecated. Use nn.functional.interpolate instead.\n",
      "  warnings.warn(\"nn.Upsampling is deprecated. Use nn.functional.interpolate instead.\")\n"
     ]
    },
    {
     "name": "stdout",
     "output_type": "stream",
     "text": [
      "10\n"
     ]
    },
    {
     "name": "stderr",
     "output_type": "stream",
     "text": [
      "/home/yardima/.pyenv/versions/3.6.6/lib/python3.6/site-packages/torch/nn/modules/upsampling.py:225: UserWarning: nn.UpsamplingBilinear2d is deprecated. Use nn.functional.interpolate instead.\n",
      "  warnings.warn(\"nn.UpsamplingBilinear2d is deprecated. Use nn.functional.interpolate instead.\")\n",
      "/home/yardima/.pyenv/versions/3.6.6/lib/python3.6/site-packages/torch/nn/modules/upsampling.py:122: UserWarning: nn.Upsampling is deprecated. Use nn.functional.interpolate instead.\n",
      "  warnings.warn(\"nn.Upsampling is deprecated. Use nn.functional.interpolate instead.\")\n"
     ]
    },
    {
     "name": "stdout",
     "output_type": "stream",
     "text": [
      "11\n"
     ]
    },
    {
     "name": "stderr",
     "output_type": "stream",
     "text": [
      "/home/yardima/.pyenv/versions/3.6.6/lib/python3.6/site-packages/torch/nn/modules/upsampling.py:225: UserWarning: nn.UpsamplingBilinear2d is deprecated. Use nn.functional.interpolate instead.\n",
      "  warnings.warn(\"nn.UpsamplingBilinear2d is deprecated. Use nn.functional.interpolate instead.\")\n",
      "/home/yardima/.pyenv/versions/3.6.6/lib/python3.6/site-packages/torch/nn/modules/upsampling.py:122: UserWarning: nn.Upsampling is deprecated. Use nn.functional.interpolate instead.\n",
      "  warnings.warn(\"nn.Upsampling is deprecated. Use nn.functional.interpolate instead.\")\n"
     ]
    },
    {
     "name": "stdout",
     "output_type": "stream",
     "text": [
      "12\n"
     ]
    },
    {
     "name": "stderr",
     "output_type": "stream",
     "text": [
      "/home/yardima/.pyenv/versions/3.6.6/lib/python3.6/site-packages/torch/nn/modules/upsampling.py:225: UserWarning: nn.UpsamplingBilinear2d is deprecated. Use nn.functional.interpolate instead.\n",
      "  warnings.warn(\"nn.UpsamplingBilinear2d is deprecated. Use nn.functional.interpolate instead.\")\n",
      "/home/yardima/.pyenv/versions/3.6.6/lib/python3.6/site-packages/torch/nn/modules/upsampling.py:122: UserWarning: nn.Upsampling is deprecated. Use nn.functional.interpolate instead.\n",
      "  warnings.warn(\"nn.Upsampling is deprecated. Use nn.functional.interpolate instead.\")\n"
     ]
    },
    {
     "name": "stdout",
     "output_type": "stream",
     "text": [
      "13\n"
     ]
    },
    {
     "name": "stderr",
     "output_type": "stream",
     "text": [
      "/home/yardima/.pyenv/versions/3.6.6/lib/python3.6/site-packages/torch/nn/modules/upsampling.py:225: UserWarning: nn.UpsamplingBilinear2d is deprecated. Use nn.functional.interpolate instead.\n",
      "  warnings.warn(\"nn.UpsamplingBilinear2d is deprecated. Use nn.functional.interpolate instead.\")\n",
      "/home/yardima/.pyenv/versions/3.6.6/lib/python3.6/site-packages/torch/nn/modules/upsampling.py:122: UserWarning: nn.Upsampling is deprecated. Use nn.functional.interpolate instead.\n",
      "  warnings.warn(\"nn.Upsampling is deprecated. Use nn.functional.interpolate instead.\")\n"
     ]
    },
    {
     "name": "stdout",
     "output_type": "stream",
     "text": [
      "14\n"
     ]
    },
    {
     "name": "stderr",
     "output_type": "stream",
     "text": [
      "/home/yardima/.pyenv/versions/3.6.6/lib/python3.6/site-packages/torch/nn/modules/upsampling.py:225: UserWarning: nn.UpsamplingBilinear2d is deprecated. Use nn.functional.interpolate instead.\n",
      "  warnings.warn(\"nn.UpsamplingBilinear2d is deprecated. Use nn.functional.interpolate instead.\")\n",
      "/home/yardima/.pyenv/versions/3.6.6/lib/python3.6/site-packages/torch/nn/modules/upsampling.py:122: UserWarning: nn.Upsampling is deprecated. Use nn.functional.interpolate instead.\n",
      "  warnings.warn(\"nn.Upsampling is deprecated. Use nn.functional.interpolate instead.\")\n"
     ]
    },
    {
     "name": "stdout",
     "output_type": "stream",
     "text": [
      "15\n"
     ]
    },
    {
     "name": "stderr",
     "output_type": "stream",
     "text": [
      "/home/yardima/.pyenv/versions/3.6.6/lib/python3.6/site-packages/torch/nn/modules/upsampling.py:225: UserWarning: nn.UpsamplingBilinear2d is deprecated. Use nn.functional.interpolate instead.\n",
      "  warnings.warn(\"nn.UpsamplingBilinear2d is deprecated. Use nn.functional.interpolate instead.\")\n",
      "/home/yardima/.pyenv/versions/3.6.6/lib/python3.6/site-packages/torch/nn/modules/upsampling.py:122: UserWarning: nn.Upsampling is deprecated. Use nn.functional.interpolate instead.\n",
      "  warnings.warn(\"nn.Upsampling is deprecated. Use nn.functional.interpolate instead.\")\n"
     ]
    },
    {
     "name": "stdout",
     "output_type": "stream",
     "text": [
      "16\n"
     ]
    },
    {
     "name": "stderr",
     "output_type": "stream",
     "text": [
      "/home/yardima/.pyenv/versions/3.6.6/lib/python3.6/site-packages/torch/nn/modules/upsampling.py:225: UserWarning: nn.UpsamplingBilinear2d is deprecated. Use nn.functional.interpolate instead.\n",
      "  warnings.warn(\"nn.UpsamplingBilinear2d is deprecated. Use nn.functional.interpolate instead.\")\n",
      "/home/yardima/.pyenv/versions/3.6.6/lib/python3.6/site-packages/torch/nn/modules/upsampling.py:122: UserWarning: nn.Upsampling is deprecated. Use nn.functional.interpolate instead.\n",
      "  warnings.warn(\"nn.Upsampling is deprecated. Use nn.functional.interpolate instead.\")\n"
     ]
    },
    {
     "name": "stdout",
     "output_type": "stream",
     "text": [
      "17\n"
     ]
    },
    {
     "name": "stderr",
     "output_type": "stream",
     "text": [
      "/home/yardima/.pyenv/versions/3.6.6/lib/python3.6/site-packages/torch/nn/modules/upsampling.py:225: UserWarning: nn.UpsamplingBilinear2d is deprecated. Use nn.functional.interpolate instead.\n",
      "  warnings.warn(\"nn.UpsamplingBilinear2d is deprecated. Use nn.functional.interpolate instead.\")\n",
      "/home/yardima/.pyenv/versions/3.6.6/lib/python3.6/site-packages/torch/nn/modules/upsampling.py:122: UserWarning: nn.Upsampling is deprecated. Use nn.functional.interpolate instead.\n",
      "  warnings.warn(\"nn.Upsampling is deprecated. Use nn.functional.interpolate instead.\")\n"
     ]
    },
    {
     "name": "stdout",
     "output_type": "stream",
     "text": [
      "18\n"
     ]
    },
    {
     "name": "stderr",
     "output_type": "stream",
     "text": [
      "/home/yardima/.pyenv/versions/3.6.6/lib/python3.6/site-packages/torch/nn/modules/upsampling.py:225: UserWarning: nn.UpsamplingBilinear2d is deprecated. Use nn.functional.interpolate instead.\n",
      "  warnings.warn(\"nn.UpsamplingBilinear2d is deprecated. Use nn.functional.interpolate instead.\")\n",
      "/home/yardima/.pyenv/versions/3.6.6/lib/python3.6/site-packages/torch/nn/modules/upsampling.py:122: UserWarning: nn.Upsampling is deprecated. Use nn.functional.interpolate instead.\n",
      "  warnings.warn(\"nn.Upsampling is deprecated. Use nn.functional.interpolate instead.\")\n"
     ]
    },
    {
     "name": "stdout",
     "output_type": "stream",
     "text": [
      "19\n"
     ]
    },
    {
     "name": "stderr",
     "output_type": "stream",
     "text": [
      "/home/yardima/.pyenv/versions/3.6.6/lib/python3.6/site-packages/torch/nn/modules/upsampling.py:225: UserWarning: nn.UpsamplingBilinear2d is deprecated. Use nn.functional.interpolate instead.\n",
      "  warnings.warn(\"nn.UpsamplingBilinear2d is deprecated. Use nn.functional.interpolate instead.\")\n",
      "/home/yardima/.pyenv/versions/3.6.6/lib/python3.6/site-packages/torch/nn/modules/upsampling.py:122: UserWarning: nn.Upsampling is deprecated. Use nn.functional.interpolate instead.\n",
      "  warnings.warn(\"nn.Upsampling is deprecated. Use nn.functional.interpolate instead.\")\n"
     ]
    },
    {
     "name": "stdout",
     "output_type": "stream",
     "text": [
      "20\n"
     ]
    },
    {
     "name": "stderr",
     "output_type": "stream",
     "text": [
      "/home/yardima/.pyenv/versions/3.6.6/lib/python3.6/site-packages/torch/nn/modules/upsampling.py:225: UserWarning: nn.UpsamplingBilinear2d is deprecated. Use nn.functional.interpolate instead.\n",
      "  warnings.warn(\"nn.UpsamplingBilinear2d is deprecated. Use nn.functional.interpolate instead.\")\n",
      "/home/yardima/.pyenv/versions/3.6.6/lib/python3.6/site-packages/torch/nn/modules/upsampling.py:122: UserWarning: nn.Upsampling is deprecated. Use nn.functional.interpolate instead.\n",
      "  warnings.warn(\"nn.Upsampling is deprecated. Use nn.functional.interpolate instead.\")\n"
     ]
    },
    {
     "name": "stdout",
     "output_type": "stream",
     "text": [
      "21\n"
     ]
    },
    {
     "name": "stderr",
     "output_type": "stream",
     "text": [
      "/home/yardima/.pyenv/versions/3.6.6/lib/python3.6/site-packages/torch/nn/modules/upsampling.py:225: UserWarning: nn.UpsamplingBilinear2d is deprecated. Use nn.functional.interpolate instead.\n",
      "  warnings.warn(\"nn.UpsamplingBilinear2d is deprecated. Use nn.functional.interpolate instead.\")\n",
      "/home/yardima/.pyenv/versions/3.6.6/lib/python3.6/site-packages/torch/nn/modules/upsampling.py:122: UserWarning: nn.Upsampling is deprecated. Use nn.functional.interpolate instead.\n",
      "  warnings.warn(\"nn.Upsampling is deprecated. Use nn.functional.interpolate instead.\")\n"
     ]
    },
    {
     "name": "stdout",
     "output_type": "stream",
     "text": [
      "22\n"
     ]
    },
    {
     "name": "stderr",
     "output_type": "stream",
     "text": [
      "/home/yardima/.pyenv/versions/3.6.6/lib/python3.6/site-packages/torch/nn/modules/upsampling.py:225: UserWarning: nn.UpsamplingBilinear2d is deprecated. Use nn.functional.interpolate instead.\n",
      "  warnings.warn(\"nn.UpsamplingBilinear2d is deprecated. Use nn.functional.interpolate instead.\")\n",
      "/home/yardima/.pyenv/versions/3.6.6/lib/python3.6/site-packages/torch/nn/modules/upsampling.py:122: UserWarning: nn.Upsampling is deprecated. Use nn.functional.interpolate instead.\n",
      "  warnings.warn(\"nn.Upsampling is deprecated. Use nn.functional.interpolate instead.\")\n"
     ]
    },
    {
     "name": "stdout",
     "output_type": "stream",
     "text": [
      "23\n"
     ]
    },
    {
     "name": "stderr",
     "output_type": "stream",
     "text": [
      "/home/yardima/.pyenv/versions/3.6.6/lib/python3.6/site-packages/torch/nn/modules/upsampling.py:225: UserWarning: nn.UpsamplingBilinear2d is deprecated. Use nn.functional.interpolate instead.\n",
      "  warnings.warn(\"nn.UpsamplingBilinear2d is deprecated. Use nn.functional.interpolate instead.\")\n",
      "/home/yardima/.pyenv/versions/3.6.6/lib/python3.6/site-packages/torch/nn/modules/upsampling.py:122: UserWarning: nn.Upsampling is deprecated. Use nn.functional.interpolate instead.\n",
      "  warnings.warn(\"nn.Upsampling is deprecated. Use nn.functional.interpolate instead.\")\n"
     ]
    },
    {
     "name": "stdout",
     "output_type": "stream",
     "text": [
      "24\n"
     ]
    },
    {
     "name": "stderr",
     "output_type": "stream",
     "text": [
      "/home/yardima/.pyenv/versions/3.6.6/lib/python3.6/site-packages/torch/nn/modules/upsampling.py:225: UserWarning: nn.UpsamplingBilinear2d is deprecated. Use nn.functional.interpolate instead.\n",
      "  warnings.warn(\"nn.UpsamplingBilinear2d is deprecated. Use nn.functional.interpolate instead.\")\n",
      "/home/yardima/.pyenv/versions/3.6.6/lib/python3.6/site-packages/torch/nn/modules/upsampling.py:122: UserWarning: nn.Upsampling is deprecated. Use nn.functional.interpolate instead.\n",
      "  warnings.warn(\"nn.Upsampling is deprecated. Use nn.functional.interpolate instead.\")\n"
     ]
    },
    {
     "name": "stdout",
     "output_type": "stream",
     "text": [
      "25\n"
     ]
    },
    {
     "name": "stderr",
     "output_type": "stream",
     "text": [
      "/home/yardima/.pyenv/versions/3.6.6/lib/python3.6/site-packages/torch/nn/modules/upsampling.py:225: UserWarning: nn.UpsamplingBilinear2d is deprecated. Use nn.functional.interpolate instead.\n",
      "  warnings.warn(\"nn.UpsamplingBilinear2d is deprecated. Use nn.functional.interpolate instead.\")\n",
      "/home/yardima/.pyenv/versions/3.6.6/lib/python3.6/site-packages/torch/nn/modules/upsampling.py:122: UserWarning: nn.Upsampling is deprecated. Use nn.functional.interpolate instead.\n",
      "  warnings.warn(\"nn.Upsampling is deprecated. Use nn.functional.interpolate instead.\")\n"
     ]
    },
    {
     "name": "stdout",
     "output_type": "stream",
     "text": [
      "26\n"
     ]
    },
    {
     "name": "stderr",
     "output_type": "stream",
     "text": [
      "/home/yardima/.pyenv/versions/3.6.6/lib/python3.6/site-packages/torch/nn/modules/upsampling.py:225: UserWarning: nn.UpsamplingBilinear2d is deprecated. Use nn.functional.interpolate instead.\n",
      "  warnings.warn(\"nn.UpsamplingBilinear2d is deprecated. Use nn.functional.interpolate instead.\")\n",
      "/home/yardima/.pyenv/versions/3.6.6/lib/python3.6/site-packages/torch/nn/modules/upsampling.py:122: UserWarning: nn.Upsampling is deprecated. Use nn.functional.interpolate instead.\n",
      "  warnings.warn(\"nn.Upsampling is deprecated. Use nn.functional.interpolate instead.\")\n"
     ]
    },
    {
     "name": "stdout",
     "output_type": "stream",
     "text": [
      "27\n"
     ]
    },
    {
     "name": "stderr",
     "output_type": "stream",
     "text": [
      "/home/yardima/.pyenv/versions/3.6.6/lib/python3.6/site-packages/torch/nn/modules/upsampling.py:225: UserWarning: nn.UpsamplingBilinear2d is deprecated. Use nn.functional.interpolate instead.\n",
      "  warnings.warn(\"nn.UpsamplingBilinear2d is deprecated. Use nn.functional.interpolate instead.\")\n",
      "/home/yardima/.pyenv/versions/3.6.6/lib/python3.6/site-packages/torch/nn/modules/upsampling.py:122: UserWarning: nn.Upsampling is deprecated. Use nn.functional.interpolate instead.\n",
      "  warnings.warn(\"nn.Upsampling is deprecated. Use nn.functional.interpolate instead.\")\n"
     ]
    },
    {
     "name": "stdout",
     "output_type": "stream",
     "text": [
      "28\n"
     ]
    },
    {
     "name": "stderr",
     "output_type": "stream",
     "text": [
      "/home/yardima/.pyenv/versions/3.6.6/lib/python3.6/site-packages/torch/nn/modules/upsampling.py:225: UserWarning: nn.UpsamplingBilinear2d is deprecated. Use nn.functional.interpolate instead.\n",
      "  warnings.warn(\"nn.UpsamplingBilinear2d is deprecated. Use nn.functional.interpolate instead.\")\n",
      "/home/yardima/.pyenv/versions/3.6.6/lib/python3.6/site-packages/torch/nn/modules/upsampling.py:122: UserWarning: nn.Upsampling is deprecated. Use nn.functional.interpolate instead.\n",
      "  warnings.warn(\"nn.Upsampling is deprecated. Use nn.functional.interpolate instead.\")\n"
     ]
    },
    {
     "name": "stdout",
     "output_type": "stream",
     "text": [
      "29\n"
     ]
    },
    {
     "name": "stderr",
     "output_type": "stream",
     "text": [
      "/home/yardima/.pyenv/versions/3.6.6/lib/python3.6/site-packages/torch/nn/modules/upsampling.py:225: UserWarning: nn.UpsamplingBilinear2d is deprecated. Use nn.functional.interpolate instead.\n",
      "  warnings.warn(\"nn.UpsamplingBilinear2d is deprecated. Use nn.functional.interpolate instead.\")\n",
      "/home/yardima/.pyenv/versions/3.6.6/lib/python3.6/site-packages/torch/nn/modules/upsampling.py:122: UserWarning: nn.Upsampling is deprecated. Use nn.functional.interpolate instead.\n",
      "  warnings.warn(\"nn.Upsampling is deprecated. Use nn.functional.interpolate instead.\")\n"
     ]
    },
    {
     "name": "stdout",
     "output_type": "stream",
     "text": [
      "30\n"
     ]
    },
    {
     "name": "stderr",
     "output_type": "stream",
     "text": [
      "/home/yardima/.pyenv/versions/3.6.6/lib/python3.6/site-packages/torch/nn/modules/upsampling.py:225: UserWarning: nn.UpsamplingBilinear2d is deprecated. Use nn.functional.interpolate instead.\n",
      "  warnings.warn(\"nn.UpsamplingBilinear2d is deprecated. Use nn.functional.interpolate instead.\")\n",
      "/home/yardima/.pyenv/versions/3.6.6/lib/python3.6/site-packages/torch/nn/modules/upsampling.py:122: UserWarning: nn.Upsampling is deprecated. Use nn.functional.interpolate instead.\n",
      "  warnings.warn(\"nn.Upsampling is deprecated. Use nn.functional.interpolate instead.\")\n"
     ]
    },
    {
     "name": "stdout",
     "output_type": "stream",
     "text": [
      "31\n"
     ]
    },
    {
     "name": "stderr",
     "output_type": "stream",
     "text": [
      "/home/yardima/.pyenv/versions/3.6.6/lib/python3.6/site-packages/torch/nn/modules/upsampling.py:225: UserWarning: nn.UpsamplingBilinear2d is deprecated. Use nn.functional.interpolate instead.\n",
      "  warnings.warn(\"nn.UpsamplingBilinear2d is deprecated. Use nn.functional.interpolate instead.\")\n",
      "/home/yardima/.pyenv/versions/3.6.6/lib/python3.6/site-packages/torch/nn/modules/upsampling.py:122: UserWarning: nn.Upsampling is deprecated. Use nn.functional.interpolate instead.\n",
      "  warnings.warn(\"nn.Upsampling is deprecated. Use nn.functional.interpolate instead.\")\n"
     ]
    },
    {
     "name": "stdout",
     "output_type": "stream",
     "text": [
      "32\n"
     ]
    },
    {
     "name": "stderr",
     "output_type": "stream",
     "text": [
      "/home/yardima/.pyenv/versions/3.6.6/lib/python3.6/site-packages/torch/nn/modules/upsampling.py:225: UserWarning: nn.UpsamplingBilinear2d is deprecated. Use nn.functional.interpolate instead.\n",
      "  warnings.warn(\"nn.UpsamplingBilinear2d is deprecated. Use nn.functional.interpolate instead.\")\n",
      "/home/yardima/.pyenv/versions/3.6.6/lib/python3.6/site-packages/torch/nn/modules/upsampling.py:122: UserWarning: nn.Upsampling is deprecated. Use nn.functional.interpolate instead.\n",
      "  warnings.warn(\"nn.Upsampling is deprecated. Use nn.functional.interpolate instead.\")\n"
     ]
    },
    {
     "name": "stdout",
     "output_type": "stream",
     "text": [
      "33\n"
     ]
    },
    {
     "name": "stderr",
     "output_type": "stream",
     "text": [
      "/home/yardima/.pyenv/versions/3.6.6/lib/python3.6/site-packages/torch/nn/modules/upsampling.py:225: UserWarning: nn.UpsamplingBilinear2d is deprecated. Use nn.functional.interpolate instead.\n",
      "  warnings.warn(\"nn.UpsamplingBilinear2d is deprecated. Use nn.functional.interpolate instead.\")\n",
      "/home/yardima/.pyenv/versions/3.6.6/lib/python3.6/site-packages/torch/nn/modules/upsampling.py:122: UserWarning: nn.Upsampling is deprecated. Use nn.functional.interpolate instead.\n",
      "  warnings.warn(\"nn.Upsampling is deprecated. Use nn.functional.interpolate instead.\")\n"
     ]
    },
    {
     "name": "stdout",
     "output_type": "stream",
     "text": [
      "34\n"
     ]
    },
    {
     "name": "stderr",
     "output_type": "stream",
     "text": [
      "/home/yardima/.pyenv/versions/3.6.6/lib/python3.6/site-packages/torch/nn/modules/upsampling.py:225: UserWarning: nn.UpsamplingBilinear2d is deprecated. Use nn.functional.interpolate instead.\n",
      "  warnings.warn(\"nn.UpsamplingBilinear2d is deprecated. Use nn.functional.interpolate instead.\")\n",
      "/home/yardima/.pyenv/versions/3.6.6/lib/python3.6/site-packages/torch/nn/modules/upsampling.py:122: UserWarning: nn.Upsampling is deprecated. Use nn.functional.interpolate instead.\n",
      "  warnings.warn(\"nn.Upsampling is deprecated. Use nn.functional.interpolate instead.\")\n"
     ]
    },
    {
     "name": "stdout",
     "output_type": "stream",
     "text": [
      "35\n"
     ]
    },
    {
     "name": "stderr",
     "output_type": "stream",
     "text": [
      "/home/yardima/.pyenv/versions/3.6.6/lib/python3.6/site-packages/torch/nn/modules/upsampling.py:225: UserWarning: nn.UpsamplingBilinear2d is deprecated. Use nn.functional.interpolate instead.\n",
      "  warnings.warn(\"nn.UpsamplingBilinear2d is deprecated. Use nn.functional.interpolate instead.\")\n",
      "/home/yardima/.pyenv/versions/3.6.6/lib/python3.6/site-packages/torch/nn/modules/upsampling.py:122: UserWarning: nn.Upsampling is deprecated. Use nn.functional.interpolate instead.\n",
      "  warnings.warn(\"nn.Upsampling is deprecated. Use nn.functional.interpolate instead.\")\n"
     ]
    },
    {
     "name": "stdout",
     "output_type": "stream",
     "text": [
      "36\n"
     ]
    },
    {
     "name": "stderr",
     "output_type": "stream",
     "text": [
      "/home/yardima/.pyenv/versions/3.6.6/lib/python3.6/site-packages/torch/nn/modules/upsampling.py:225: UserWarning: nn.UpsamplingBilinear2d is deprecated. Use nn.functional.interpolate instead.\n",
      "  warnings.warn(\"nn.UpsamplingBilinear2d is deprecated. Use nn.functional.interpolate instead.\")\n",
      "/home/yardima/.pyenv/versions/3.6.6/lib/python3.6/site-packages/torch/nn/modules/upsampling.py:122: UserWarning: nn.Upsampling is deprecated. Use nn.functional.interpolate instead.\n",
      "  warnings.warn(\"nn.Upsampling is deprecated. Use nn.functional.interpolate instead.\")\n"
     ]
    },
    {
     "name": "stdout",
     "output_type": "stream",
     "text": [
      "37\n"
     ]
    },
    {
     "name": "stderr",
     "output_type": "stream",
     "text": [
      "/home/yardima/.pyenv/versions/3.6.6/lib/python3.6/site-packages/torch/nn/modules/upsampling.py:225: UserWarning: nn.UpsamplingBilinear2d is deprecated. Use nn.functional.interpolate instead.\n",
      "  warnings.warn(\"nn.UpsamplingBilinear2d is deprecated. Use nn.functional.interpolate instead.\")\n",
      "/home/yardima/.pyenv/versions/3.6.6/lib/python3.6/site-packages/torch/nn/modules/upsampling.py:122: UserWarning: nn.Upsampling is deprecated. Use nn.functional.interpolate instead.\n",
      "  warnings.warn(\"nn.Upsampling is deprecated. Use nn.functional.interpolate instead.\")\n"
     ]
    },
    {
     "name": "stdout",
     "output_type": "stream",
     "text": [
      "38\n"
     ]
    },
    {
     "name": "stderr",
     "output_type": "stream",
     "text": [
      "/home/yardima/.pyenv/versions/3.6.6/lib/python3.6/site-packages/torch/nn/modules/upsampling.py:225: UserWarning: nn.UpsamplingBilinear2d is deprecated. Use nn.functional.interpolate instead.\n",
      "  warnings.warn(\"nn.UpsamplingBilinear2d is deprecated. Use nn.functional.interpolate instead.\")\n",
      "/home/yardima/.pyenv/versions/3.6.6/lib/python3.6/site-packages/torch/nn/modules/upsampling.py:122: UserWarning: nn.Upsampling is deprecated. Use nn.functional.interpolate instead.\n",
      "  warnings.warn(\"nn.Upsampling is deprecated. Use nn.functional.interpolate instead.\")\n"
     ]
    },
    {
     "name": "stdout",
     "output_type": "stream",
     "text": [
      "39\n"
     ]
    },
    {
     "name": "stderr",
     "output_type": "stream",
     "text": [
      "/home/yardima/.pyenv/versions/3.6.6/lib/python3.6/site-packages/torch/nn/modules/upsampling.py:225: UserWarning: nn.UpsamplingBilinear2d is deprecated. Use nn.functional.interpolate instead.\n",
      "  warnings.warn(\"nn.UpsamplingBilinear2d is deprecated. Use nn.functional.interpolate instead.\")\n",
      "/home/yardima/.pyenv/versions/3.6.6/lib/python3.6/site-packages/torch/nn/modules/upsampling.py:122: UserWarning: nn.Upsampling is deprecated. Use nn.functional.interpolate instead.\n",
      "  warnings.warn(\"nn.Upsampling is deprecated. Use nn.functional.interpolate instead.\")\n"
     ]
    },
    {
     "name": "stdout",
     "output_type": "stream",
     "text": [
      "40\n"
     ]
    },
    {
     "name": "stderr",
     "output_type": "stream",
     "text": [
      "/home/yardima/.pyenv/versions/3.6.6/lib/python3.6/site-packages/torch/nn/modules/upsampling.py:225: UserWarning: nn.UpsamplingBilinear2d is deprecated. Use nn.functional.interpolate instead.\n",
      "  warnings.warn(\"nn.UpsamplingBilinear2d is deprecated. Use nn.functional.interpolate instead.\")\n",
      "/home/yardima/.pyenv/versions/3.6.6/lib/python3.6/site-packages/torch/nn/modules/upsampling.py:122: UserWarning: nn.Upsampling is deprecated. Use nn.functional.interpolate instead.\n",
      "  warnings.warn(\"nn.Upsampling is deprecated. Use nn.functional.interpolate instead.\")\n"
     ]
    },
    {
     "name": "stdout",
     "output_type": "stream",
     "text": [
      "41\n"
     ]
    },
    {
     "name": "stderr",
     "output_type": "stream",
     "text": [
      "/home/yardima/.pyenv/versions/3.6.6/lib/python3.6/site-packages/torch/nn/modules/upsampling.py:225: UserWarning: nn.UpsamplingBilinear2d is deprecated. Use nn.functional.interpolate instead.\n",
      "  warnings.warn(\"nn.UpsamplingBilinear2d is deprecated. Use nn.functional.interpolate instead.\")\n",
      "/home/yardima/.pyenv/versions/3.6.6/lib/python3.6/site-packages/torch/nn/modules/upsampling.py:122: UserWarning: nn.Upsampling is deprecated. Use nn.functional.interpolate instead.\n",
      "  warnings.warn(\"nn.Upsampling is deprecated. Use nn.functional.interpolate instead.\")\n"
     ]
    },
    {
     "name": "stdout",
     "output_type": "stream",
     "text": [
      "42\n"
     ]
    },
    {
     "name": "stderr",
     "output_type": "stream",
     "text": [
      "/home/yardima/.pyenv/versions/3.6.6/lib/python3.6/site-packages/torch/nn/modules/upsampling.py:225: UserWarning: nn.UpsamplingBilinear2d is deprecated. Use nn.functional.interpolate instead.\n",
      "  warnings.warn(\"nn.UpsamplingBilinear2d is deprecated. Use nn.functional.interpolate instead.\")\n",
      "/home/yardima/.pyenv/versions/3.6.6/lib/python3.6/site-packages/torch/nn/modules/upsampling.py:122: UserWarning: nn.Upsampling is deprecated. Use nn.functional.interpolate instead.\n",
      "  warnings.warn(\"nn.Upsampling is deprecated. Use nn.functional.interpolate instead.\")\n"
     ]
    },
    {
     "name": "stdout",
     "output_type": "stream",
     "text": [
      "43\n"
     ]
    },
    {
     "name": "stderr",
     "output_type": "stream",
     "text": [
      "/home/yardima/.pyenv/versions/3.6.6/lib/python3.6/site-packages/torch/nn/modules/upsampling.py:225: UserWarning: nn.UpsamplingBilinear2d is deprecated. Use nn.functional.interpolate instead.\n",
      "  warnings.warn(\"nn.UpsamplingBilinear2d is deprecated. Use nn.functional.interpolate instead.\")\n",
      "/home/yardima/.pyenv/versions/3.6.6/lib/python3.6/site-packages/torch/nn/modules/upsampling.py:122: UserWarning: nn.Upsampling is deprecated. Use nn.functional.interpolate instead.\n",
      "  warnings.warn(\"nn.Upsampling is deprecated. Use nn.functional.interpolate instead.\")\n"
     ]
    },
    {
     "name": "stdout",
     "output_type": "stream",
     "text": [
      "44\n"
     ]
    },
    {
     "name": "stderr",
     "output_type": "stream",
     "text": [
      "/home/yardima/.pyenv/versions/3.6.6/lib/python3.6/site-packages/torch/nn/modules/upsampling.py:225: UserWarning: nn.UpsamplingBilinear2d is deprecated. Use nn.functional.interpolate instead.\n",
      "  warnings.warn(\"nn.UpsamplingBilinear2d is deprecated. Use nn.functional.interpolate instead.\")\n",
      "/home/yardima/.pyenv/versions/3.6.6/lib/python3.6/site-packages/torch/nn/modules/upsampling.py:122: UserWarning: nn.Upsampling is deprecated. Use nn.functional.interpolate instead.\n",
      "  warnings.warn(\"nn.Upsampling is deprecated. Use nn.functional.interpolate instead.\")\n"
     ]
    },
    {
     "name": "stdout",
     "output_type": "stream",
     "text": [
      "45\n"
     ]
    },
    {
     "name": "stderr",
     "output_type": "stream",
     "text": [
      "/home/yardima/.pyenv/versions/3.6.6/lib/python3.6/site-packages/torch/nn/modules/upsampling.py:225: UserWarning: nn.UpsamplingBilinear2d is deprecated. Use nn.functional.interpolate instead.\n",
      "  warnings.warn(\"nn.UpsamplingBilinear2d is deprecated. Use nn.functional.interpolate instead.\")\n",
      "/home/yardima/.pyenv/versions/3.6.6/lib/python3.6/site-packages/torch/nn/modules/upsampling.py:122: UserWarning: nn.Upsampling is deprecated. Use nn.functional.interpolate instead.\n",
      "  warnings.warn(\"nn.Upsampling is deprecated. Use nn.functional.interpolate instead.\")\n"
     ]
    },
    {
     "name": "stdout",
     "output_type": "stream",
     "text": [
      "46\n"
     ]
    },
    {
     "name": "stderr",
     "output_type": "stream",
     "text": [
      "/home/yardima/.pyenv/versions/3.6.6/lib/python3.6/site-packages/torch/nn/modules/upsampling.py:225: UserWarning: nn.UpsamplingBilinear2d is deprecated. Use nn.functional.interpolate instead.\n",
      "  warnings.warn(\"nn.UpsamplingBilinear2d is deprecated. Use nn.functional.interpolate instead.\")\n",
      "/home/yardima/.pyenv/versions/3.6.6/lib/python3.6/site-packages/torch/nn/modules/upsampling.py:122: UserWarning: nn.Upsampling is deprecated. Use nn.functional.interpolate instead.\n",
      "  warnings.warn(\"nn.Upsampling is deprecated. Use nn.functional.interpolate instead.\")\n"
     ]
    },
    {
     "name": "stdout",
     "output_type": "stream",
     "text": [
      "47\n"
     ]
    },
    {
     "name": "stderr",
     "output_type": "stream",
     "text": [
      "/home/yardima/.pyenv/versions/3.6.6/lib/python3.6/site-packages/torch/nn/modules/upsampling.py:225: UserWarning: nn.UpsamplingBilinear2d is deprecated. Use nn.functional.interpolate instead.\n",
      "  warnings.warn(\"nn.UpsamplingBilinear2d is deprecated. Use nn.functional.interpolate instead.\")\n",
      "/home/yardima/.pyenv/versions/3.6.6/lib/python3.6/site-packages/torch/nn/modules/upsampling.py:122: UserWarning: nn.Upsampling is deprecated. Use nn.functional.interpolate instead.\n",
      "  warnings.warn(\"nn.Upsampling is deprecated. Use nn.functional.interpolate instead.\")\n"
     ]
    },
    {
     "name": "stdout",
     "output_type": "stream",
     "text": [
      "48\n"
     ]
    },
    {
     "name": "stderr",
     "output_type": "stream",
     "text": [
      "/home/yardima/.pyenv/versions/3.6.6/lib/python3.6/site-packages/torch/nn/modules/upsampling.py:225: UserWarning: nn.UpsamplingBilinear2d is deprecated. Use nn.functional.interpolate instead.\n",
      "  warnings.warn(\"nn.UpsamplingBilinear2d is deprecated. Use nn.functional.interpolate instead.\")\n",
      "/home/yardima/.pyenv/versions/3.6.6/lib/python3.6/site-packages/torch/nn/modules/upsampling.py:122: UserWarning: nn.Upsampling is deprecated. Use nn.functional.interpolate instead.\n",
      "  warnings.warn(\"nn.Upsampling is deprecated. Use nn.functional.interpolate instead.\")\n"
     ]
    },
    {
     "name": "stdout",
     "output_type": "stream",
     "text": [
      "49\n"
     ]
    },
    {
     "name": "stderr",
     "output_type": "stream",
     "text": [
      "/home/yardima/.pyenv/versions/3.6.6/lib/python3.6/site-packages/torch/nn/modules/upsampling.py:225: UserWarning: nn.UpsamplingBilinear2d is deprecated. Use nn.functional.interpolate instead.\n",
      "  warnings.warn(\"nn.UpsamplingBilinear2d is deprecated. Use nn.functional.interpolate instead.\")\n",
      "/home/yardima/.pyenv/versions/3.6.6/lib/python3.6/site-packages/torch/nn/modules/upsampling.py:122: UserWarning: nn.Upsampling is deprecated. Use nn.functional.interpolate instead.\n",
      "  warnings.warn(\"nn.Upsampling is deprecated. Use nn.functional.interpolate instead.\")\n"
     ]
    },
    {
     "name": "stdout",
     "output_type": "stream",
     "text": [
      "50\n"
     ]
    },
    {
     "name": "stderr",
     "output_type": "stream",
     "text": [
      "/home/yardima/.pyenv/versions/3.6.6/lib/python3.6/site-packages/torch/nn/modules/upsampling.py:225: UserWarning: nn.UpsamplingBilinear2d is deprecated. Use nn.functional.interpolate instead.\n",
      "  warnings.warn(\"nn.UpsamplingBilinear2d is deprecated. Use nn.functional.interpolate instead.\")\n",
      "/home/yardima/.pyenv/versions/3.6.6/lib/python3.6/site-packages/torch/nn/modules/upsampling.py:122: UserWarning: nn.Upsampling is deprecated. Use nn.functional.interpolate instead.\n",
      "  warnings.warn(\"nn.Upsampling is deprecated. Use nn.functional.interpolate instead.\")\n"
     ]
    },
    {
     "name": "stdout",
     "output_type": "stream",
     "text": [
      "51\n"
     ]
    },
    {
     "name": "stderr",
     "output_type": "stream",
     "text": [
      "/home/yardima/.pyenv/versions/3.6.6/lib/python3.6/site-packages/torch/nn/modules/upsampling.py:225: UserWarning: nn.UpsamplingBilinear2d is deprecated. Use nn.functional.interpolate instead.\n",
      "  warnings.warn(\"nn.UpsamplingBilinear2d is deprecated. Use nn.functional.interpolate instead.\")\n",
      "/home/yardima/.pyenv/versions/3.6.6/lib/python3.6/site-packages/torch/nn/modules/upsampling.py:122: UserWarning: nn.Upsampling is deprecated. Use nn.functional.interpolate instead.\n",
      "  warnings.warn(\"nn.Upsampling is deprecated. Use nn.functional.interpolate instead.\")\n"
     ]
    },
    {
     "name": "stdout",
     "output_type": "stream",
     "text": [
      "52\n"
     ]
    },
    {
     "name": "stderr",
     "output_type": "stream",
     "text": [
      "/home/yardima/.pyenv/versions/3.6.6/lib/python3.6/site-packages/torch/nn/modules/upsampling.py:225: UserWarning: nn.UpsamplingBilinear2d is deprecated. Use nn.functional.interpolate instead.\n",
      "  warnings.warn(\"nn.UpsamplingBilinear2d is deprecated. Use nn.functional.interpolate instead.\")\n",
      "/home/yardima/.pyenv/versions/3.6.6/lib/python3.6/site-packages/torch/nn/modules/upsampling.py:122: UserWarning: nn.Upsampling is deprecated. Use nn.functional.interpolate instead.\n",
      "  warnings.warn(\"nn.Upsampling is deprecated. Use nn.functional.interpolate instead.\")\n"
     ]
    },
    {
     "name": "stdout",
     "output_type": "stream",
     "text": [
      "53\n"
     ]
    },
    {
     "name": "stderr",
     "output_type": "stream",
     "text": [
      "/home/yardima/.pyenv/versions/3.6.6/lib/python3.6/site-packages/torch/nn/modules/upsampling.py:225: UserWarning: nn.UpsamplingBilinear2d is deprecated. Use nn.functional.interpolate instead.\n",
      "  warnings.warn(\"nn.UpsamplingBilinear2d is deprecated. Use nn.functional.interpolate instead.\")\n",
      "/home/yardima/.pyenv/versions/3.6.6/lib/python3.6/site-packages/torch/nn/modules/upsampling.py:122: UserWarning: nn.Upsampling is deprecated. Use nn.functional.interpolate instead.\n",
      "  warnings.warn(\"nn.Upsampling is deprecated. Use nn.functional.interpolate instead.\")\n"
     ]
    },
    {
     "name": "stdout",
     "output_type": "stream",
     "text": [
      "54\n"
     ]
    },
    {
     "name": "stderr",
     "output_type": "stream",
     "text": [
      "/home/yardima/.pyenv/versions/3.6.6/lib/python3.6/site-packages/torch/nn/modules/upsampling.py:225: UserWarning: nn.UpsamplingBilinear2d is deprecated. Use nn.functional.interpolate instead.\n",
      "  warnings.warn(\"nn.UpsamplingBilinear2d is deprecated. Use nn.functional.interpolate instead.\")\n",
      "/home/yardima/.pyenv/versions/3.6.6/lib/python3.6/site-packages/torch/nn/modules/upsampling.py:122: UserWarning: nn.Upsampling is deprecated. Use nn.functional.interpolate instead.\n",
      "  warnings.warn(\"nn.Upsampling is deprecated. Use nn.functional.interpolate instead.\")\n"
     ]
    },
    {
     "name": "stdout",
     "output_type": "stream",
     "text": [
      "55\n"
     ]
    },
    {
     "name": "stderr",
     "output_type": "stream",
     "text": [
      "/home/yardima/.pyenv/versions/3.6.6/lib/python3.6/site-packages/torch/nn/modules/upsampling.py:225: UserWarning: nn.UpsamplingBilinear2d is deprecated. Use nn.functional.interpolate instead.\n",
      "  warnings.warn(\"nn.UpsamplingBilinear2d is deprecated. Use nn.functional.interpolate instead.\")\n",
      "/home/yardima/.pyenv/versions/3.6.6/lib/python3.6/site-packages/torch/nn/modules/upsampling.py:122: UserWarning: nn.Upsampling is deprecated. Use nn.functional.interpolate instead.\n",
      "  warnings.warn(\"nn.Upsampling is deprecated. Use nn.functional.interpolate instead.\")\n"
     ]
    },
    {
     "name": "stdout",
     "output_type": "stream",
     "text": [
      "56\n"
     ]
    },
    {
     "name": "stderr",
     "output_type": "stream",
     "text": [
      "/home/yardima/.pyenv/versions/3.6.6/lib/python3.6/site-packages/torch/nn/modules/upsampling.py:225: UserWarning: nn.UpsamplingBilinear2d is deprecated. Use nn.functional.interpolate instead.\n",
      "  warnings.warn(\"nn.UpsamplingBilinear2d is deprecated. Use nn.functional.interpolate instead.\")\n",
      "/home/yardima/.pyenv/versions/3.6.6/lib/python3.6/site-packages/torch/nn/modules/upsampling.py:122: UserWarning: nn.Upsampling is deprecated. Use nn.functional.interpolate instead.\n",
      "  warnings.warn(\"nn.Upsampling is deprecated. Use nn.functional.interpolate instead.\")\n"
     ]
    },
    {
     "name": "stdout",
     "output_type": "stream",
     "text": [
      "57\n"
     ]
    },
    {
     "name": "stderr",
     "output_type": "stream",
     "text": [
      "/home/yardima/.pyenv/versions/3.6.6/lib/python3.6/site-packages/torch/nn/modules/upsampling.py:225: UserWarning: nn.UpsamplingBilinear2d is deprecated. Use nn.functional.interpolate instead.\n",
      "  warnings.warn(\"nn.UpsamplingBilinear2d is deprecated. Use nn.functional.interpolate instead.\")\n",
      "/home/yardima/.pyenv/versions/3.6.6/lib/python3.6/site-packages/torch/nn/modules/upsampling.py:122: UserWarning: nn.Upsampling is deprecated. Use nn.functional.interpolate instead.\n",
      "  warnings.warn(\"nn.Upsampling is deprecated. Use nn.functional.interpolate instead.\")\n"
     ]
    },
    {
     "name": "stdout",
     "output_type": "stream",
     "text": [
      "58\n"
     ]
    },
    {
     "name": "stderr",
     "output_type": "stream",
     "text": [
      "/home/yardima/.pyenv/versions/3.6.6/lib/python3.6/site-packages/torch/nn/modules/upsampling.py:225: UserWarning: nn.UpsamplingBilinear2d is deprecated. Use nn.functional.interpolate instead.\n",
      "  warnings.warn(\"nn.UpsamplingBilinear2d is deprecated. Use nn.functional.interpolate instead.\")\n",
      "/home/yardima/.pyenv/versions/3.6.6/lib/python3.6/site-packages/torch/nn/modules/upsampling.py:122: UserWarning: nn.Upsampling is deprecated. Use nn.functional.interpolate instead.\n",
      "  warnings.warn(\"nn.Upsampling is deprecated. Use nn.functional.interpolate instead.\")\n"
     ]
    },
    {
     "name": "stdout",
     "output_type": "stream",
     "text": [
      "59\n"
     ]
    },
    {
     "name": "stderr",
     "output_type": "stream",
     "text": [
      "/home/yardima/.pyenv/versions/3.6.6/lib/python3.6/site-packages/torch/nn/modules/upsampling.py:225: UserWarning: nn.UpsamplingBilinear2d is deprecated. Use nn.functional.interpolate instead.\n",
      "  warnings.warn(\"nn.UpsamplingBilinear2d is deprecated. Use nn.functional.interpolate instead.\")\n",
      "/home/yardima/.pyenv/versions/3.6.6/lib/python3.6/site-packages/torch/nn/modules/upsampling.py:122: UserWarning: nn.Upsampling is deprecated. Use nn.functional.interpolate instead.\n",
      "  warnings.warn(\"nn.Upsampling is deprecated. Use nn.functional.interpolate instead.\")\n"
     ]
    },
    {
     "name": "stdout",
     "output_type": "stream",
     "text": [
      "60\n"
     ]
    },
    {
     "name": "stderr",
     "output_type": "stream",
     "text": [
      "/home/yardima/.pyenv/versions/3.6.6/lib/python3.6/site-packages/torch/nn/modules/upsampling.py:225: UserWarning: nn.UpsamplingBilinear2d is deprecated. Use nn.functional.interpolate instead.\n",
      "  warnings.warn(\"nn.UpsamplingBilinear2d is deprecated. Use nn.functional.interpolate instead.\")\n",
      "/home/yardima/.pyenv/versions/3.6.6/lib/python3.6/site-packages/torch/nn/modules/upsampling.py:122: UserWarning: nn.Upsampling is deprecated. Use nn.functional.interpolate instead.\n",
      "  warnings.warn(\"nn.Upsampling is deprecated. Use nn.functional.interpolate instead.\")\n"
     ]
    },
    {
     "name": "stdout",
     "output_type": "stream",
     "text": [
      "61\n"
     ]
    },
    {
     "name": "stderr",
     "output_type": "stream",
     "text": [
      "/home/yardima/.pyenv/versions/3.6.6/lib/python3.6/site-packages/torch/nn/modules/upsampling.py:225: UserWarning: nn.UpsamplingBilinear2d is deprecated. Use nn.functional.interpolate instead.\n",
      "  warnings.warn(\"nn.UpsamplingBilinear2d is deprecated. Use nn.functional.interpolate instead.\")\n",
      "/home/yardima/.pyenv/versions/3.6.6/lib/python3.6/site-packages/torch/nn/modules/upsampling.py:122: UserWarning: nn.Upsampling is deprecated. Use nn.functional.interpolate instead.\n",
      "  warnings.warn(\"nn.Upsampling is deprecated. Use nn.functional.interpolate instead.\")\n"
     ]
    },
    {
     "name": "stdout",
     "output_type": "stream",
     "text": [
      "62\n"
     ]
    },
    {
     "name": "stderr",
     "output_type": "stream",
     "text": [
      "/home/yardima/.pyenv/versions/3.6.6/lib/python3.6/site-packages/torch/nn/modules/upsampling.py:225: UserWarning: nn.UpsamplingBilinear2d is deprecated. Use nn.functional.interpolate instead.\n",
      "  warnings.warn(\"nn.UpsamplingBilinear2d is deprecated. Use nn.functional.interpolate instead.\")\n",
      "/home/yardima/.pyenv/versions/3.6.6/lib/python3.6/site-packages/torch/nn/modules/upsampling.py:122: UserWarning: nn.Upsampling is deprecated. Use nn.functional.interpolate instead.\n",
      "  warnings.warn(\"nn.Upsampling is deprecated. Use nn.functional.interpolate instead.\")\n"
     ]
    },
    {
     "name": "stdout",
     "output_type": "stream",
     "text": [
      "63\n"
     ]
    },
    {
     "name": "stderr",
     "output_type": "stream",
     "text": [
      "/home/yardima/.pyenv/versions/3.6.6/lib/python3.6/site-packages/torch/nn/modules/upsampling.py:225: UserWarning: nn.UpsamplingBilinear2d is deprecated. Use nn.functional.interpolate instead.\n",
      "  warnings.warn(\"nn.UpsamplingBilinear2d is deprecated. Use nn.functional.interpolate instead.\")\n",
      "/home/yardima/.pyenv/versions/3.6.6/lib/python3.6/site-packages/torch/nn/modules/upsampling.py:122: UserWarning: nn.Upsampling is deprecated. Use nn.functional.interpolate instead.\n",
      "  warnings.warn(\"nn.Upsampling is deprecated. Use nn.functional.interpolate instead.\")\n"
     ]
    },
    {
     "name": "stdout",
     "output_type": "stream",
     "text": [
      "64\n"
     ]
    },
    {
     "name": "stderr",
     "output_type": "stream",
     "text": [
      "/home/yardima/.pyenv/versions/3.6.6/lib/python3.6/site-packages/torch/nn/modules/upsampling.py:225: UserWarning: nn.UpsamplingBilinear2d is deprecated. Use nn.functional.interpolate instead.\n",
      "  warnings.warn(\"nn.UpsamplingBilinear2d is deprecated. Use nn.functional.interpolate instead.\")\n",
      "/home/yardima/.pyenv/versions/3.6.6/lib/python3.6/site-packages/torch/nn/modules/upsampling.py:122: UserWarning: nn.Upsampling is deprecated. Use nn.functional.interpolate instead.\n",
      "  warnings.warn(\"nn.Upsampling is deprecated. Use nn.functional.interpolate instead.\")\n"
     ]
    },
    {
     "name": "stdout",
     "output_type": "stream",
     "text": [
      "65\n"
     ]
    },
    {
     "name": "stderr",
     "output_type": "stream",
     "text": [
      "/home/yardima/.pyenv/versions/3.6.6/lib/python3.6/site-packages/torch/nn/modules/upsampling.py:225: UserWarning: nn.UpsamplingBilinear2d is deprecated. Use nn.functional.interpolate instead.\n",
      "  warnings.warn(\"nn.UpsamplingBilinear2d is deprecated. Use nn.functional.interpolate instead.\")\n",
      "/home/yardima/.pyenv/versions/3.6.6/lib/python3.6/site-packages/torch/nn/modules/upsampling.py:122: UserWarning: nn.Upsampling is deprecated. Use nn.functional.interpolate instead.\n",
      "  warnings.warn(\"nn.Upsampling is deprecated. Use nn.functional.interpolate instead.\")\n"
     ]
    },
    {
     "name": "stdout",
     "output_type": "stream",
     "text": [
      "66\n"
     ]
    },
    {
     "name": "stderr",
     "output_type": "stream",
     "text": [
      "/home/yardima/.pyenv/versions/3.6.6/lib/python3.6/site-packages/torch/nn/modules/upsampling.py:225: UserWarning: nn.UpsamplingBilinear2d is deprecated. Use nn.functional.interpolate instead.\n",
      "  warnings.warn(\"nn.UpsamplingBilinear2d is deprecated. Use nn.functional.interpolate instead.\")\n",
      "/home/yardima/.pyenv/versions/3.6.6/lib/python3.6/site-packages/torch/nn/modules/upsampling.py:122: UserWarning: nn.Upsampling is deprecated. Use nn.functional.interpolate instead.\n",
      "  warnings.warn(\"nn.Upsampling is deprecated. Use nn.functional.interpolate instead.\")\n"
     ]
    },
    {
     "name": "stdout",
     "output_type": "stream",
     "text": [
      "67\n"
     ]
    },
    {
     "name": "stderr",
     "output_type": "stream",
     "text": [
      "/home/yardima/.pyenv/versions/3.6.6/lib/python3.6/site-packages/torch/nn/modules/upsampling.py:225: UserWarning: nn.UpsamplingBilinear2d is deprecated. Use nn.functional.interpolate instead.\n",
      "  warnings.warn(\"nn.UpsamplingBilinear2d is deprecated. Use nn.functional.interpolate instead.\")\n",
      "/home/yardima/.pyenv/versions/3.6.6/lib/python3.6/site-packages/torch/nn/modules/upsampling.py:122: UserWarning: nn.Upsampling is deprecated. Use nn.functional.interpolate instead.\n",
      "  warnings.warn(\"nn.Upsampling is deprecated. Use nn.functional.interpolate instead.\")\n"
     ]
    },
    {
     "name": "stdout",
     "output_type": "stream",
     "text": [
      "68\n"
     ]
    },
    {
     "name": "stderr",
     "output_type": "stream",
     "text": [
      "/home/yardima/.pyenv/versions/3.6.6/lib/python3.6/site-packages/torch/nn/modules/upsampling.py:225: UserWarning: nn.UpsamplingBilinear2d is deprecated. Use nn.functional.interpolate instead.\n",
      "  warnings.warn(\"nn.UpsamplingBilinear2d is deprecated. Use nn.functional.interpolate instead.\")\n",
      "/home/yardima/.pyenv/versions/3.6.6/lib/python3.6/site-packages/torch/nn/modules/upsampling.py:122: UserWarning: nn.Upsampling is deprecated. Use nn.functional.interpolate instead.\n",
      "  warnings.warn(\"nn.Upsampling is deprecated. Use nn.functional.interpolate instead.\")\n"
     ]
    },
    {
     "name": "stdout",
     "output_type": "stream",
     "text": [
      "69\n"
     ]
    },
    {
     "name": "stderr",
     "output_type": "stream",
     "text": [
      "/home/yardima/.pyenv/versions/3.6.6/lib/python3.6/site-packages/torch/nn/modules/upsampling.py:225: UserWarning: nn.UpsamplingBilinear2d is deprecated. Use nn.functional.interpolate instead.\n",
      "  warnings.warn(\"nn.UpsamplingBilinear2d is deprecated. Use nn.functional.interpolate instead.\")\n",
      "/home/yardima/.pyenv/versions/3.6.6/lib/python3.6/site-packages/torch/nn/modules/upsampling.py:122: UserWarning: nn.Upsampling is deprecated. Use nn.functional.interpolate instead.\n",
      "  warnings.warn(\"nn.Upsampling is deprecated. Use nn.functional.interpolate instead.\")\n"
     ]
    },
    {
     "name": "stdout",
     "output_type": "stream",
     "text": [
      "70\n"
     ]
    },
    {
     "name": "stderr",
     "output_type": "stream",
     "text": [
      "/home/yardima/.pyenv/versions/3.6.6/lib/python3.6/site-packages/torch/nn/modules/upsampling.py:225: UserWarning: nn.UpsamplingBilinear2d is deprecated. Use nn.functional.interpolate instead.\n",
      "  warnings.warn(\"nn.UpsamplingBilinear2d is deprecated. Use nn.functional.interpolate instead.\")\n",
      "/home/yardima/.pyenv/versions/3.6.6/lib/python3.6/site-packages/torch/nn/modules/upsampling.py:122: UserWarning: nn.Upsampling is deprecated. Use nn.functional.interpolate instead.\n",
      "  warnings.warn(\"nn.Upsampling is deprecated. Use nn.functional.interpolate instead.\")\n"
     ]
    },
    {
     "name": "stdout",
     "output_type": "stream",
     "text": [
      "71\n"
     ]
    },
    {
     "name": "stderr",
     "output_type": "stream",
     "text": [
      "/home/yardima/.pyenv/versions/3.6.6/lib/python3.6/site-packages/torch/nn/modules/upsampling.py:225: UserWarning: nn.UpsamplingBilinear2d is deprecated. Use nn.functional.interpolate instead.\n",
      "  warnings.warn(\"nn.UpsamplingBilinear2d is deprecated. Use nn.functional.interpolate instead.\")\n",
      "/home/yardima/.pyenv/versions/3.6.6/lib/python3.6/site-packages/torch/nn/modules/upsampling.py:122: UserWarning: nn.Upsampling is deprecated. Use nn.functional.interpolate instead.\n",
      "  warnings.warn(\"nn.Upsampling is deprecated. Use nn.functional.interpolate instead.\")\n"
     ]
    },
    {
     "name": "stdout",
     "output_type": "stream",
     "text": [
      "72\n"
     ]
    },
    {
     "name": "stderr",
     "output_type": "stream",
     "text": [
      "/home/yardima/.pyenv/versions/3.6.6/lib/python3.6/site-packages/torch/nn/modules/upsampling.py:225: UserWarning: nn.UpsamplingBilinear2d is deprecated. Use nn.functional.interpolate instead.\n",
      "  warnings.warn(\"nn.UpsamplingBilinear2d is deprecated. Use nn.functional.interpolate instead.\")\n",
      "/home/yardima/.pyenv/versions/3.6.6/lib/python3.6/site-packages/torch/nn/modules/upsampling.py:122: UserWarning: nn.Upsampling is deprecated. Use nn.functional.interpolate instead.\n",
      "  warnings.warn(\"nn.Upsampling is deprecated. Use nn.functional.interpolate instead.\")\n"
     ]
    },
    {
     "name": "stdout",
     "output_type": "stream",
     "text": [
      "73\n"
     ]
    },
    {
     "name": "stderr",
     "output_type": "stream",
     "text": [
      "/home/yardima/.pyenv/versions/3.6.6/lib/python3.6/site-packages/torch/nn/modules/upsampling.py:225: UserWarning: nn.UpsamplingBilinear2d is deprecated. Use nn.functional.interpolate instead.\n",
      "  warnings.warn(\"nn.UpsamplingBilinear2d is deprecated. Use nn.functional.interpolate instead.\")\n",
      "/home/yardima/.pyenv/versions/3.6.6/lib/python3.6/site-packages/torch/nn/modules/upsampling.py:122: UserWarning: nn.Upsampling is deprecated. Use nn.functional.interpolate instead.\n",
      "  warnings.warn(\"nn.Upsampling is deprecated. Use nn.functional.interpolate instead.\")\n"
     ]
    },
    {
     "name": "stdout",
     "output_type": "stream",
     "text": [
      "74\n"
     ]
    },
    {
     "name": "stderr",
     "output_type": "stream",
     "text": [
      "/home/yardima/.pyenv/versions/3.6.6/lib/python3.6/site-packages/torch/nn/modules/upsampling.py:225: UserWarning: nn.UpsamplingBilinear2d is deprecated. Use nn.functional.interpolate instead.\n",
      "  warnings.warn(\"nn.UpsamplingBilinear2d is deprecated. Use nn.functional.interpolate instead.\")\n",
      "/home/yardima/.pyenv/versions/3.6.6/lib/python3.6/site-packages/torch/nn/modules/upsampling.py:122: UserWarning: nn.Upsampling is deprecated. Use nn.functional.interpolate instead.\n",
      "  warnings.warn(\"nn.Upsampling is deprecated. Use nn.functional.interpolate instead.\")\n"
     ]
    },
    {
     "name": "stdout",
     "output_type": "stream",
     "text": [
      "75\n"
     ]
    },
    {
     "name": "stderr",
     "output_type": "stream",
     "text": [
      "/home/yardima/.pyenv/versions/3.6.6/lib/python3.6/site-packages/torch/nn/modules/upsampling.py:225: UserWarning: nn.UpsamplingBilinear2d is deprecated. Use nn.functional.interpolate instead.\n",
      "  warnings.warn(\"nn.UpsamplingBilinear2d is deprecated. Use nn.functional.interpolate instead.\")\n",
      "/home/yardima/.pyenv/versions/3.6.6/lib/python3.6/site-packages/torch/nn/modules/upsampling.py:122: UserWarning: nn.Upsampling is deprecated. Use nn.functional.interpolate instead.\n",
      "  warnings.warn(\"nn.Upsampling is deprecated. Use nn.functional.interpolate instead.\")\n"
     ]
    },
    {
     "name": "stdout",
     "output_type": "stream",
     "text": [
      "76\n"
     ]
    },
    {
     "name": "stderr",
     "output_type": "stream",
     "text": [
      "/home/yardima/.pyenv/versions/3.6.6/lib/python3.6/site-packages/torch/nn/modules/upsampling.py:225: UserWarning: nn.UpsamplingBilinear2d is deprecated. Use nn.functional.interpolate instead.\n",
      "  warnings.warn(\"nn.UpsamplingBilinear2d is deprecated. Use nn.functional.interpolate instead.\")\n",
      "/home/yardima/.pyenv/versions/3.6.6/lib/python3.6/site-packages/torch/nn/modules/upsampling.py:122: UserWarning: nn.Upsampling is deprecated. Use nn.functional.interpolate instead.\n",
      "  warnings.warn(\"nn.Upsampling is deprecated. Use nn.functional.interpolate instead.\")\n"
     ]
    },
    {
     "name": "stdout",
     "output_type": "stream",
     "text": [
      "77\n"
     ]
    },
    {
     "name": "stderr",
     "output_type": "stream",
     "text": [
      "/home/yardima/.pyenv/versions/3.6.6/lib/python3.6/site-packages/torch/nn/modules/upsampling.py:225: UserWarning: nn.UpsamplingBilinear2d is deprecated. Use nn.functional.interpolate instead.\n",
      "  warnings.warn(\"nn.UpsamplingBilinear2d is deprecated. Use nn.functional.interpolate instead.\")\n",
      "/home/yardima/.pyenv/versions/3.6.6/lib/python3.6/site-packages/torch/nn/modules/upsampling.py:122: UserWarning: nn.Upsampling is deprecated. Use nn.functional.interpolate instead.\n",
      "  warnings.warn(\"nn.Upsampling is deprecated. Use nn.functional.interpolate instead.\")\n"
     ]
    },
    {
     "name": "stdout",
     "output_type": "stream",
     "text": [
      "78\n"
     ]
    },
    {
     "name": "stderr",
     "output_type": "stream",
     "text": [
      "/home/yardima/.pyenv/versions/3.6.6/lib/python3.6/site-packages/torch/nn/modules/upsampling.py:225: UserWarning: nn.UpsamplingBilinear2d is deprecated. Use nn.functional.interpolate instead.\n",
      "  warnings.warn(\"nn.UpsamplingBilinear2d is deprecated. Use nn.functional.interpolate instead.\")\n",
      "/home/yardima/.pyenv/versions/3.6.6/lib/python3.6/site-packages/torch/nn/modules/upsampling.py:122: UserWarning: nn.Upsampling is deprecated. Use nn.functional.interpolate instead.\n",
      "  warnings.warn(\"nn.Upsampling is deprecated. Use nn.functional.interpolate instead.\")\n"
     ]
    },
    {
     "name": "stdout",
     "output_type": "stream",
     "text": [
      "79\n"
     ]
    },
    {
     "name": "stderr",
     "output_type": "stream",
     "text": [
      "/home/yardima/.pyenv/versions/3.6.6/lib/python3.6/site-packages/torch/nn/modules/upsampling.py:225: UserWarning: nn.UpsamplingBilinear2d is deprecated. Use nn.functional.interpolate instead.\n",
      "  warnings.warn(\"nn.UpsamplingBilinear2d is deprecated. Use nn.functional.interpolate instead.\")\n",
      "/home/yardima/.pyenv/versions/3.6.6/lib/python3.6/site-packages/torch/nn/modules/upsampling.py:122: UserWarning: nn.Upsampling is deprecated. Use nn.functional.interpolate instead.\n",
      "  warnings.warn(\"nn.Upsampling is deprecated. Use nn.functional.interpolate instead.\")\n"
     ]
    },
    {
     "name": "stdout",
     "output_type": "stream",
     "text": [
      "80\n"
     ]
    },
    {
     "name": "stderr",
     "output_type": "stream",
     "text": [
      "/home/yardima/.pyenv/versions/3.6.6/lib/python3.6/site-packages/torch/nn/modules/upsampling.py:225: UserWarning: nn.UpsamplingBilinear2d is deprecated. Use nn.functional.interpolate instead.\n",
      "  warnings.warn(\"nn.UpsamplingBilinear2d is deprecated. Use nn.functional.interpolate instead.\")\n",
      "/home/yardima/.pyenv/versions/3.6.6/lib/python3.6/site-packages/torch/nn/modules/upsampling.py:122: UserWarning: nn.Upsampling is deprecated. Use nn.functional.interpolate instead.\n",
      "  warnings.warn(\"nn.Upsampling is deprecated. Use nn.functional.interpolate instead.\")\n"
     ]
    },
    {
     "name": "stdout",
     "output_type": "stream",
     "text": [
      "81\n"
     ]
    },
    {
     "name": "stderr",
     "output_type": "stream",
     "text": [
      "/home/yardima/.pyenv/versions/3.6.6/lib/python3.6/site-packages/torch/nn/modules/upsampling.py:225: UserWarning: nn.UpsamplingBilinear2d is deprecated. Use nn.functional.interpolate instead.\n",
      "  warnings.warn(\"nn.UpsamplingBilinear2d is deprecated. Use nn.functional.interpolate instead.\")\n",
      "/home/yardima/.pyenv/versions/3.6.6/lib/python3.6/site-packages/torch/nn/modules/upsampling.py:122: UserWarning: nn.Upsampling is deprecated. Use nn.functional.interpolate instead.\n",
      "  warnings.warn(\"nn.Upsampling is deprecated. Use nn.functional.interpolate instead.\")\n"
     ]
    },
    {
     "name": "stdout",
     "output_type": "stream",
     "text": [
      "82\n"
     ]
    },
    {
     "name": "stderr",
     "output_type": "stream",
     "text": [
      "/home/yardima/.pyenv/versions/3.6.6/lib/python3.6/site-packages/torch/nn/modules/upsampling.py:225: UserWarning: nn.UpsamplingBilinear2d is deprecated. Use nn.functional.interpolate instead.\n",
      "  warnings.warn(\"nn.UpsamplingBilinear2d is deprecated. Use nn.functional.interpolate instead.\")\n",
      "/home/yardima/.pyenv/versions/3.6.6/lib/python3.6/site-packages/torch/nn/modules/upsampling.py:122: UserWarning: nn.Upsampling is deprecated. Use nn.functional.interpolate instead.\n",
      "  warnings.warn(\"nn.Upsampling is deprecated. Use nn.functional.interpolate instead.\")\n"
     ]
    },
    {
     "name": "stdout",
     "output_type": "stream",
     "text": [
      "83\n"
     ]
    },
    {
     "name": "stderr",
     "output_type": "stream",
     "text": [
      "/home/yardima/.pyenv/versions/3.6.6/lib/python3.6/site-packages/torch/nn/modules/upsampling.py:225: UserWarning: nn.UpsamplingBilinear2d is deprecated. Use nn.functional.interpolate instead.\n",
      "  warnings.warn(\"nn.UpsamplingBilinear2d is deprecated. Use nn.functional.interpolate instead.\")\n",
      "/home/yardima/.pyenv/versions/3.6.6/lib/python3.6/site-packages/torch/nn/modules/upsampling.py:122: UserWarning: nn.Upsampling is deprecated. Use nn.functional.interpolate instead.\n",
      "  warnings.warn(\"nn.Upsampling is deprecated. Use nn.functional.interpolate instead.\")\n"
     ]
    },
    {
     "name": "stdout",
     "output_type": "stream",
     "text": [
      "84\n"
     ]
    },
    {
     "name": "stderr",
     "output_type": "stream",
     "text": [
      "/home/yardima/.pyenv/versions/3.6.6/lib/python3.6/site-packages/torch/nn/modules/upsampling.py:225: UserWarning: nn.UpsamplingBilinear2d is deprecated. Use nn.functional.interpolate instead.\n",
      "  warnings.warn(\"nn.UpsamplingBilinear2d is deprecated. Use nn.functional.interpolate instead.\")\n",
      "/home/yardima/.pyenv/versions/3.6.6/lib/python3.6/site-packages/torch/nn/modules/upsampling.py:122: UserWarning: nn.Upsampling is deprecated. Use nn.functional.interpolate instead.\n",
      "  warnings.warn(\"nn.Upsampling is deprecated. Use nn.functional.interpolate instead.\")\n"
     ]
    },
    {
     "name": "stdout",
     "output_type": "stream",
     "text": [
      "85\n"
     ]
    },
    {
     "name": "stderr",
     "output_type": "stream",
     "text": [
      "/home/yardima/.pyenv/versions/3.6.6/lib/python3.6/site-packages/torch/nn/modules/upsampling.py:225: UserWarning: nn.UpsamplingBilinear2d is deprecated. Use nn.functional.interpolate instead.\n",
      "  warnings.warn(\"nn.UpsamplingBilinear2d is deprecated. Use nn.functional.interpolate instead.\")\n",
      "/home/yardima/.pyenv/versions/3.6.6/lib/python3.6/site-packages/torch/nn/modules/upsampling.py:122: UserWarning: nn.Upsampling is deprecated. Use nn.functional.interpolate instead.\n",
      "  warnings.warn(\"nn.Upsampling is deprecated. Use nn.functional.interpolate instead.\")\n"
     ]
    },
    {
     "name": "stdout",
     "output_type": "stream",
     "text": [
      "86\n"
     ]
    },
    {
     "name": "stderr",
     "output_type": "stream",
     "text": [
      "/home/yardima/.pyenv/versions/3.6.6/lib/python3.6/site-packages/torch/nn/modules/upsampling.py:225: UserWarning: nn.UpsamplingBilinear2d is deprecated. Use nn.functional.interpolate instead.\n",
      "  warnings.warn(\"nn.UpsamplingBilinear2d is deprecated. Use nn.functional.interpolate instead.\")\n",
      "/home/yardima/.pyenv/versions/3.6.6/lib/python3.6/site-packages/torch/nn/modules/upsampling.py:122: UserWarning: nn.Upsampling is deprecated. Use nn.functional.interpolate instead.\n",
      "  warnings.warn(\"nn.Upsampling is deprecated. Use nn.functional.interpolate instead.\")\n"
     ]
    },
    {
     "name": "stdout",
     "output_type": "stream",
     "text": [
      "87\n"
     ]
    },
    {
     "name": "stderr",
     "output_type": "stream",
     "text": [
      "/home/yardima/.pyenv/versions/3.6.6/lib/python3.6/site-packages/torch/nn/modules/upsampling.py:225: UserWarning: nn.UpsamplingBilinear2d is deprecated. Use nn.functional.interpolate instead.\n",
      "  warnings.warn(\"nn.UpsamplingBilinear2d is deprecated. Use nn.functional.interpolate instead.\")\n",
      "/home/yardima/.pyenv/versions/3.6.6/lib/python3.6/site-packages/torch/nn/modules/upsampling.py:122: UserWarning: nn.Upsampling is deprecated. Use nn.functional.interpolate instead.\n",
      "  warnings.warn(\"nn.Upsampling is deprecated. Use nn.functional.interpolate instead.\")\n"
     ]
    },
    {
     "name": "stdout",
     "output_type": "stream",
     "text": [
      "88\n"
     ]
    },
    {
     "name": "stderr",
     "output_type": "stream",
     "text": [
      "/home/yardima/.pyenv/versions/3.6.6/lib/python3.6/site-packages/torch/nn/modules/upsampling.py:225: UserWarning: nn.UpsamplingBilinear2d is deprecated. Use nn.functional.interpolate instead.\n",
      "  warnings.warn(\"nn.UpsamplingBilinear2d is deprecated. Use nn.functional.interpolate instead.\")\n",
      "/home/yardima/.pyenv/versions/3.6.6/lib/python3.6/site-packages/torch/nn/modules/upsampling.py:122: UserWarning: nn.Upsampling is deprecated. Use nn.functional.interpolate instead.\n",
      "  warnings.warn(\"nn.Upsampling is deprecated. Use nn.functional.interpolate instead.\")\n"
     ]
    },
    {
     "name": "stdout",
     "output_type": "stream",
     "text": [
      "89\n"
     ]
    },
    {
     "name": "stderr",
     "output_type": "stream",
     "text": [
      "/home/yardima/.pyenv/versions/3.6.6/lib/python3.6/site-packages/torch/nn/modules/upsampling.py:225: UserWarning: nn.UpsamplingBilinear2d is deprecated. Use nn.functional.interpolate instead.\n",
      "  warnings.warn(\"nn.UpsamplingBilinear2d is deprecated. Use nn.functional.interpolate instead.\")\n",
      "/home/yardima/.pyenv/versions/3.6.6/lib/python3.6/site-packages/torch/nn/modules/upsampling.py:122: UserWarning: nn.Upsampling is deprecated. Use nn.functional.interpolate instead.\n",
      "  warnings.warn(\"nn.Upsampling is deprecated. Use nn.functional.interpolate instead.\")\n"
     ]
    },
    {
     "name": "stdout",
     "output_type": "stream",
     "text": [
      "90\n"
     ]
    },
    {
     "name": "stderr",
     "output_type": "stream",
     "text": [
      "/home/yardima/.pyenv/versions/3.6.6/lib/python3.6/site-packages/torch/nn/modules/upsampling.py:225: UserWarning: nn.UpsamplingBilinear2d is deprecated. Use nn.functional.interpolate instead.\n",
      "  warnings.warn(\"nn.UpsamplingBilinear2d is deprecated. Use nn.functional.interpolate instead.\")\n",
      "/home/yardima/.pyenv/versions/3.6.6/lib/python3.6/site-packages/torch/nn/modules/upsampling.py:122: UserWarning: nn.Upsampling is deprecated. Use nn.functional.interpolate instead.\n",
      "  warnings.warn(\"nn.Upsampling is deprecated. Use nn.functional.interpolate instead.\")\n"
     ]
    },
    {
     "name": "stdout",
     "output_type": "stream",
     "text": [
      "91\n"
     ]
    },
    {
     "name": "stderr",
     "output_type": "stream",
     "text": [
      "/home/yardima/.pyenv/versions/3.6.6/lib/python3.6/site-packages/torch/nn/modules/upsampling.py:225: UserWarning: nn.UpsamplingBilinear2d is deprecated. Use nn.functional.interpolate instead.\n",
      "  warnings.warn(\"nn.UpsamplingBilinear2d is deprecated. Use nn.functional.interpolate instead.\")\n",
      "/home/yardima/.pyenv/versions/3.6.6/lib/python3.6/site-packages/torch/nn/modules/upsampling.py:122: UserWarning: nn.Upsampling is deprecated. Use nn.functional.interpolate instead.\n",
      "  warnings.warn(\"nn.Upsampling is deprecated. Use nn.functional.interpolate instead.\")\n"
     ]
    },
    {
     "name": "stdout",
     "output_type": "stream",
     "text": [
      "92\n"
     ]
    },
    {
     "name": "stderr",
     "output_type": "stream",
     "text": [
      "/home/yardima/.pyenv/versions/3.6.6/lib/python3.6/site-packages/torch/nn/modules/upsampling.py:225: UserWarning: nn.UpsamplingBilinear2d is deprecated. Use nn.functional.interpolate instead.\n",
      "  warnings.warn(\"nn.UpsamplingBilinear2d is deprecated. Use nn.functional.interpolate instead.\")\n",
      "/home/yardima/.pyenv/versions/3.6.6/lib/python3.6/site-packages/torch/nn/modules/upsampling.py:122: UserWarning: nn.Upsampling is deprecated. Use nn.functional.interpolate instead.\n",
      "  warnings.warn(\"nn.Upsampling is deprecated. Use nn.functional.interpolate instead.\")\n"
     ]
    },
    {
     "name": "stdout",
     "output_type": "stream",
     "text": [
      "93\n"
     ]
    },
    {
     "name": "stderr",
     "output_type": "stream",
     "text": [
      "/home/yardima/.pyenv/versions/3.6.6/lib/python3.6/site-packages/torch/nn/modules/upsampling.py:225: UserWarning: nn.UpsamplingBilinear2d is deprecated. Use nn.functional.interpolate instead.\n",
      "  warnings.warn(\"nn.UpsamplingBilinear2d is deprecated. Use nn.functional.interpolate instead.\")\n",
      "/home/yardima/.pyenv/versions/3.6.6/lib/python3.6/site-packages/torch/nn/modules/upsampling.py:122: UserWarning: nn.Upsampling is deprecated. Use nn.functional.interpolate instead.\n",
      "  warnings.warn(\"nn.Upsampling is deprecated. Use nn.functional.interpolate instead.\")\n"
     ]
    },
    {
     "name": "stdout",
     "output_type": "stream",
     "text": [
      "94\n"
     ]
    },
    {
     "name": "stderr",
     "output_type": "stream",
     "text": [
      "/home/yardima/.pyenv/versions/3.6.6/lib/python3.6/site-packages/torch/nn/modules/upsampling.py:225: UserWarning: nn.UpsamplingBilinear2d is deprecated. Use nn.functional.interpolate instead.\n",
      "  warnings.warn(\"nn.UpsamplingBilinear2d is deprecated. Use nn.functional.interpolate instead.\")\n",
      "/home/yardima/.pyenv/versions/3.6.6/lib/python3.6/site-packages/torch/nn/modules/upsampling.py:122: UserWarning: nn.Upsampling is deprecated. Use nn.functional.interpolate instead.\n",
      "  warnings.warn(\"nn.Upsampling is deprecated. Use nn.functional.interpolate instead.\")\n"
     ]
    },
    {
     "name": "stdout",
     "output_type": "stream",
     "text": [
      "95\n"
     ]
    },
    {
     "name": "stderr",
     "output_type": "stream",
     "text": [
      "/home/yardima/.pyenv/versions/3.6.6/lib/python3.6/site-packages/torch/nn/modules/upsampling.py:225: UserWarning: nn.UpsamplingBilinear2d is deprecated. Use nn.functional.interpolate instead.\n",
      "  warnings.warn(\"nn.UpsamplingBilinear2d is deprecated. Use nn.functional.interpolate instead.\")\n",
      "/home/yardima/.pyenv/versions/3.6.6/lib/python3.6/site-packages/torch/nn/modules/upsampling.py:122: UserWarning: nn.Upsampling is deprecated. Use nn.functional.interpolate instead.\n",
      "  warnings.warn(\"nn.Upsampling is deprecated. Use nn.functional.interpolate instead.\")\n"
     ]
    },
    {
     "name": "stdout",
     "output_type": "stream",
     "text": [
      "96\n"
     ]
    },
    {
     "name": "stderr",
     "output_type": "stream",
     "text": [
      "/home/yardima/.pyenv/versions/3.6.6/lib/python3.6/site-packages/torch/nn/modules/upsampling.py:225: UserWarning: nn.UpsamplingBilinear2d is deprecated. Use nn.functional.interpolate instead.\n",
      "  warnings.warn(\"nn.UpsamplingBilinear2d is deprecated. Use nn.functional.interpolate instead.\")\n",
      "/home/yardima/.pyenv/versions/3.6.6/lib/python3.6/site-packages/torch/nn/modules/upsampling.py:122: UserWarning: nn.Upsampling is deprecated. Use nn.functional.interpolate instead.\n",
      "  warnings.warn(\"nn.Upsampling is deprecated. Use nn.functional.interpolate instead.\")\n"
     ]
    },
    {
     "name": "stdout",
     "output_type": "stream",
     "text": [
      "97\n"
     ]
    },
    {
     "name": "stderr",
     "output_type": "stream",
     "text": [
      "/home/yardima/.pyenv/versions/3.6.6/lib/python3.6/site-packages/torch/nn/modules/upsampling.py:225: UserWarning: nn.UpsamplingBilinear2d is deprecated. Use nn.functional.interpolate instead.\n",
      "  warnings.warn(\"nn.UpsamplingBilinear2d is deprecated. Use nn.functional.interpolate instead.\")\n",
      "/home/yardima/.pyenv/versions/3.6.6/lib/python3.6/site-packages/torch/nn/modules/upsampling.py:122: UserWarning: nn.Upsampling is deprecated. Use nn.functional.interpolate instead.\n",
      "  warnings.warn(\"nn.Upsampling is deprecated. Use nn.functional.interpolate instead.\")\n"
     ]
    },
    {
     "name": "stdout",
     "output_type": "stream",
     "text": [
      "98\n"
     ]
    },
    {
     "name": "stderr",
     "output_type": "stream",
     "text": [
      "/home/yardima/.pyenv/versions/3.6.6/lib/python3.6/site-packages/torch/nn/modules/upsampling.py:225: UserWarning: nn.UpsamplingBilinear2d is deprecated. Use nn.functional.interpolate instead.\n",
      "  warnings.warn(\"nn.UpsamplingBilinear2d is deprecated. Use nn.functional.interpolate instead.\")\n",
      "/home/yardima/.pyenv/versions/3.6.6/lib/python3.6/site-packages/torch/nn/modules/upsampling.py:122: UserWarning: nn.Upsampling is deprecated. Use nn.functional.interpolate instead.\n",
      "  warnings.warn(\"nn.Upsampling is deprecated. Use nn.functional.interpolate instead.\")\n"
     ]
    },
    {
     "name": "stdout",
     "output_type": "stream",
     "text": [
      "99\n"
     ]
    },
    {
     "name": "stderr",
     "output_type": "stream",
     "text": [
      "/home/yardima/.pyenv/versions/3.6.6/lib/python3.6/site-packages/torch/nn/modules/upsampling.py:225: UserWarning: nn.UpsamplingBilinear2d is deprecated. Use nn.functional.interpolate instead.\n",
      "  warnings.warn(\"nn.UpsamplingBilinear2d is deprecated. Use nn.functional.interpolate instead.\")\n",
      "/home/yardima/.pyenv/versions/3.6.6/lib/python3.6/site-packages/torch/nn/modules/upsampling.py:122: UserWarning: nn.Upsampling is deprecated. Use nn.functional.interpolate instead.\n",
      "  warnings.warn(\"nn.Upsampling is deprecated. Use nn.functional.interpolate instead.\")\n"
     ]
    },
    {
     "name": "stdout",
     "output_type": "stream",
     "text": [
      "100\n"
     ]
    },
    {
     "name": "stderr",
     "output_type": "stream",
     "text": [
      "/home/yardima/.pyenv/versions/3.6.6/lib/python3.6/site-packages/torch/nn/modules/upsampling.py:225: UserWarning: nn.UpsamplingBilinear2d is deprecated. Use nn.functional.interpolate instead.\n",
      "  warnings.warn(\"nn.UpsamplingBilinear2d is deprecated. Use nn.functional.interpolate instead.\")\n",
      "/home/yardima/.pyenv/versions/3.6.6/lib/python3.6/site-packages/torch/nn/modules/upsampling.py:122: UserWarning: nn.Upsampling is deprecated. Use nn.functional.interpolate instead.\n",
      "  warnings.warn(\"nn.Upsampling is deprecated. Use nn.functional.interpolate instead.\")\n"
     ]
    },
    {
     "name": "stdout",
     "output_type": "stream",
     "text": [
      "101\n"
     ]
    },
    {
     "name": "stderr",
     "output_type": "stream",
     "text": [
      "/home/yardima/.pyenv/versions/3.6.6/lib/python3.6/site-packages/torch/nn/modules/upsampling.py:225: UserWarning: nn.UpsamplingBilinear2d is deprecated. Use nn.functional.interpolate instead.\n",
      "  warnings.warn(\"nn.UpsamplingBilinear2d is deprecated. Use nn.functional.interpolate instead.\")\n",
      "/home/yardima/.pyenv/versions/3.6.6/lib/python3.6/site-packages/torch/nn/modules/upsampling.py:122: UserWarning: nn.Upsampling is deprecated. Use nn.functional.interpolate instead.\n",
      "  warnings.warn(\"nn.Upsampling is deprecated. Use nn.functional.interpolate instead.\")\n"
     ]
    },
    {
     "name": "stdout",
     "output_type": "stream",
     "text": [
      "102\n"
     ]
    },
    {
     "name": "stderr",
     "output_type": "stream",
     "text": [
      "/home/yardima/.pyenv/versions/3.6.6/lib/python3.6/site-packages/torch/nn/modules/upsampling.py:225: UserWarning: nn.UpsamplingBilinear2d is deprecated. Use nn.functional.interpolate instead.\n",
      "  warnings.warn(\"nn.UpsamplingBilinear2d is deprecated. Use nn.functional.interpolate instead.\")\n",
      "/home/yardima/.pyenv/versions/3.6.6/lib/python3.6/site-packages/torch/nn/modules/upsampling.py:122: UserWarning: nn.Upsampling is deprecated. Use nn.functional.interpolate instead.\n",
      "  warnings.warn(\"nn.Upsampling is deprecated. Use nn.functional.interpolate instead.\")\n"
     ]
    },
    {
     "name": "stdout",
     "output_type": "stream",
     "text": [
      "103\n"
     ]
    },
    {
     "name": "stderr",
     "output_type": "stream",
     "text": [
      "/home/yardima/.pyenv/versions/3.6.6/lib/python3.6/site-packages/torch/nn/modules/upsampling.py:225: UserWarning: nn.UpsamplingBilinear2d is deprecated. Use nn.functional.interpolate instead.\n",
      "  warnings.warn(\"nn.UpsamplingBilinear2d is deprecated. Use nn.functional.interpolate instead.\")\n",
      "/home/yardima/.pyenv/versions/3.6.6/lib/python3.6/site-packages/torch/nn/modules/upsampling.py:122: UserWarning: nn.Upsampling is deprecated. Use nn.functional.interpolate instead.\n",
      "  warnings.warn(\"nn.Upsampling is deprecated. Use nn.functional.interpolate instead.\")\n"
     ]
    },
    {
     "name": "stdout",
     "output_type": "stream",
     "text": [
      "104\n"
     ]
    },
    {
     "name": "stderr",
     "output_type": "stream",
     "text": [
      "/home/yardima/.pyenv/versions/3.6.6/lib/python3.6/site-packages/torch/nn/modules/upsampling.py:225: UserWarning: nn.UpsamplingBilinear2d is deprecated. Use nn.functional.interpolate instead.\n",
      "  warnings.warn(\"nn.UpsamplingBilinear2d is deprecated. Use nn.functional.interpolate instead.\")\n",
      "/home/yardima/.pyenv/versions/3.6.6/lib/python3.6/site-packages/torch/nn/modules/upsampling.py:122: UserWarning: nn.Upsampling is deprecated. Use nn.functional.interpolate instead.\n",
      "  warnings.warn(\"nn.Upsampling is deprecated. Use nn.functional.interpolate instead.\")\n"
     ]
    },
    {
     "name": "stdout",
     "output_type": "stream",
     "text": [
      "105\n"
     ]
    },
    {
     "name": "stderr",
     "output_type": "stream",
     "text": [
      "/home/yardima/.pyenv/versions/3.6.6/lib/python3.6/site-packages/torch/nn/modules/upsampling.py:225: UserWarning: nn.UpsamplingBilinear2d is deprecated. Use nn.functional.interpolate instead.\n",
      "  warnings.warn(\"nn.UpsamplingBilinear2d is deprecated. Use nn.functional.interpolate instead.\")\n",
      "/home/yardima/.pyenv/versions/3.6.6/lib/python3.6/site-packages/torch/nn/modules/upsampling.py:122: UserWarning: nn.Upsampling is deprecated. Use nn.functional.interpolate instead.\n",
      "  warnings.warn(\"nn.Upsampling is deprecated. Use nn.functional.interpolate instead.\")\n"
     ]
    },
    {
     "name": "stdout",
     "output_type": "stream",
     "text": [
      "106\n"
     ]
    },
    {
     "name": "stderr",
     "output_type": "stream",
     "text": [
      "/home/yardima/.pyenv/versions/3.6.6/lib/python3.6/site-packages/torch/nn/modules/upsampling.py:225: UserWarning: nn.UpsamplingBilinear2d is deprecated. Use nn.functional.interpolate instead.\n",
      "  warnings.warn(\"nn.UpsamplingBilinear2d is deprecated. Use nn.functional.interpolate instead.\")\n",
      "/home/yardima/.pyenv/versions/3.6.6/lib/python3.6/site-packages/torch/nn/modules/upsampling.py:122: UserWarning: nn.Upsampling is deprecated. Use nn.functional.interpolate instead.\n",
      "  warnings.warn(\"nn.Upsampling is deprecated. Use nn.functional.interpolate instead.\")\n"
     ]
    },
    {
     "name": "stdout",
     "output_type": "stream",
     "text": [
      "107\n"
     ]
    },
    {
     "name": "stderr",
     "output_type": "stream",
     "text": [
      "/home/yardima/.pyenv/versions/3.6.6/lib/python3.6/site-packages/torch/nn/modules/upsampling.py:225: UserWarning: nn.UpsamplingBilinear2d is deprecated. Use nn.functional.interpolate instead.\n",
      "  warnings.warn(\"nn.UpsamplingBilinear2d is deprecated. Use nn.functional.interpolate instead.\")\n",
      "/home/yardima/.pyenv/versions/3.6.6/lib/python3.6/site-packages/torch/nn/modules/upsampling.py:122: UserWarning: nn.Upsampling is deprecated. Use nn.functional.interpolate instead.\n",
      "  warnings.warn(\"nn.Upsampling is deprecated. Use nn.functional.interpolate instead.\")\n"
     ]
    },
    {
     "name": "stdout",
     "output_type": "stream",
     "text": [
      "108\n"
     ]
    },
    {
     "name": "stderr",
     "output_type": "stream",
     "text": [
      "/home/yardima/.pyenv/versions/3.6.6/lib/python3.6/site-packages/torch/nn/modules/upsampling.py:225: UserWarning: nn.UpsamplingBilinear2d is deprecated. Use nn.functional.interpolate instead.\n",
      "  warnings.warn(\"nn.UpsamplingBilinear2d is deprecated. Use nn.functional.interpolate instead.\")\n",
      "/home/yardima/.pyenv/versions/3.6.6/lib/python3.6/site-packages/torch/nn/modules/upsampling.py:122: UserWarning: nn.Upsampling is deprecated. Use nn.functional.interpolate instead.\n",
      "  warnings.warn(\"nn.Upsampling is deprecated. Use nn.functional.interpolate instead.\")\n"
     ]
    },
    {
     "name": "stdout",
     "output_type": "stream",
     "text": [
      "109\n"
     ]
    },
    {
     "name": "stderr",
     "output_type": "stream",
     "text": [
      "/home/yardima/.pyenv/versions/3.6.6/lib/python3.6/site-packages/torch/nn/modules/upsampling.py:225: UserWarning: nn.UpsamplingBilinear2d is deprecated. Use nn.functional.interpolate instead.\n",
      "  warnings.warn(\"nn.UpsamplingBilinear2d is deprecated. Use nn.functional.interpolate instead.\")\n",
      "/home/yardima/.pyenv/versions/3.6.6/lib/python3.6/site-packages/torch/nn/modules/upsampling.py:122: UserWarning: nn.Upsampling is deprecated. Use nn.functional.interpolate instead.\n",
      "  warnings.warn(\"nn.Upsampling is deprecated. Use nn.functional.interpolate instead.\")\n"
     ]
    },
    {
     "name": "stdout",
     "output_type": "stream",
     "text": [
      "110\n"
     ]
    },
    {
     "name": "stderr",
     "output_type": "stream",
     "text": [
      "/home/yardima/.pyenv/versions/3.6.6/lib/python3.6/site-packages/torch/nn/modules/upsampling.py:225: UserWarning: nn.UpsamplingBilinear2d is deprecated. Use nn.functional.interpolate instead.\n",
      "  warnings.warn(\"nn.UpsamplingBilinear2d is deprecated. Use nn.functional.interpolate instead.\")\n",
      "/home/yardima/.pyenv/versions/3.6.6/lib/python3.6/site-packages/torch/nn/modules/upsampling.py:122: UserWarning: nn.Upsampling is deprecated. Use nn.functional.interpolate instead.\n",
      "  warnings.warn(\"nn.Upsampling is deprecated. Use nn.functional.interpolate instead.\")\n"
     ]
    },
    {
     "name": "stdout",
     "output_type": "stream",
     "text": [
      "111\n"
     ]
    },
    {
     "name": "stderr",
     "output_type": "stream",
     "text": [
      "/home/yardima/.pyenv/versions/3.6.6/lib/python3.6/site-packages/torch/nn/modules/upsampling.py:225: UserWarning: nn.UpsamplingBilinear2d is deprecated. Use nn.functional.interpolate instead.\n",
      "  warnings.warn(\"nn.UpsamplingBilinear2d is deprecated. Use nn.functional.interpolate instead.\")\n",
      "/home/yardima/.pyenv/versions/3.6.6/lib/python3.6/site-packages/torch/nn/modules/upsampling.py:122: UserWarning: nn.Upsampling is deprecated. Use nn.functional.interpolate instead.\n",
      "  warnings.warn(\"nn.Upsampling is deprecated. Use nn.functional.interpolate instead.\")\n"
     ]
    },
    {
     "name": "stdout",
     "output_type": "stream",
     "text": [
      "112\n"
     ]
    },
    {
     "name": "stderr",
     "output_type": "stream",
     "text": [
      "/home/yardima/.pyenv/versions/3.6.6/lib/python3.6/site-packages/torch/nn/modules/upsampling.py:225: UserWarning: nn.UpsamplingBilinear2d is deprecated. Use nn.functional.interpolate instead.\n",
      "  warnings.warn(\"nn.UpsamplingBilinear2d is deprecated. Use nn.functional.interpolate instead.\")\n",
      "/home/yardima/.pyenv/versions/3.6.6/lib/python3.6/site-packages/torch/nn/modules/upsampling.py:122: UserWarning: nn.Upsampling is deprecated. Use nn.functional.interpolate instead.\n",
      "  warnings.warn(\"nn.Upsampling is deprecated. Use nn.functional.interpolate instead.\")\n"
     ]
    },
    {
     "name": "stdout",
     "output_type": "stream",
     "text": [
      "113\n"
     ]
    },
    {
     "name": "stderr",
     "output_type": "stream",
     "text": [
      "/home/yardima/.pyenv/versions/3.6.6/lib/python3.6/site-packages/torch/nn/modules/upsampling.py:225: UserWarning: nn.UpsamplingBilinear2d is deprecated. Use nn.functional.interpolate instead.\n",
      "  warnings.warn(\"nn.UpsamplingBilinear2d is deprecated. Use nn.functional.interpolate instead.\")\n",
      "/home/yardima/.pyenv/versions/3.6.6/lib/python3.6/site-packages/torch/nn/modules/upsampling.py:122: UserWarning: nn.Upsampling is deprecated. Use nn.functional.interpolate instead.\n",
      "  warnings.warn(\"nn.Upsampling is deprecated. Use nn.functional.interpolate instead.\")\n"
     ]
    },
    {
     "name": "stdout",
     "output_type": "stream",
     "text": [
      "114\n"
     ]
    },
    {
     "name": "stderr",
     "output_type": "stream",
     "text": [
      "/home/yardima/.pyenv/versions/3.6.6/lib/python3.6/site-packages/torch/nn/modules/upsampling.py:225: UserWarning: nn.UpsamplingBilinear2d is deprecated. Use nn.functional.interpolate instead.\n",
      "  warnings.warn(\"nn.UpsamplingBilinear2d is deprecated. Use nn.functional.interpolate instead.\")\n",
      "/home/yardima/.pyenv/versions/3.6.6/lib/python3.6/site-packages/torch/nn/modules/upsampling.py:122: UserWarning: nn.Upsampling is deprecated. Use nn.functional.interpolate instead.\n",
      "  warnings.warn(\"nn.Upsampling is deprecated. Use nn.functional.interpolate instead.\")\n"
     ]
    },
    {
     "name": "stdout",
     "output_type": "stream",
     "text": [
      "115\n"
     ]
    },
    {
     "name": "stderr",
     "output_type": "stream",
     "text": [
      "/home/yardima/.pyenv/versions/3.6.6/lib/python3.6/site-packages/torch/nn/modules/upsampling.py:225: UserWarning: nn.UpsamplingBilinear2d is deprecated. Use nn.functional.interpolate instead.\n",
      "  warnings.warn(\"nn.UpsamplingBilinear2d is deprecated. Use nn.functional.interpolate instead.\")\n",
      "/home/yardima/.pyenv/versions/3.6.6/lib/python3.6/site-packages/torch/nn/modules/upsampling.py:122: UserWarning: nn.Upsampling is deprecated. Use nn.functional.interpolate instead.\n",
      "  warnings.warn(\"nn.Upsampling is deprecated. Use nn.functional.interpolate instead.\")\n"
     ]
    },
    {
     "name": "stdout",
     "output_type": "stream",
     "text": [
      "116\n"
     ]
    },
    {
     "name": "stderr",
     "output_type": "stream",
     "text": [
      "/home/yardima/.pyenv/versions/3.6.6/lib/python3.6/site-packages/torch/nn/modules/upsampling.py:225: UserWarning: nn.UpsamplingBilinear2d is deprecated. Use nn.functional.interpolate instead.\n",
      "  warnings.warn(\"nn.UpsamplingBilinear2d is deprecated. Use nn.functional.interpolate instead.\")\n",
      "/home/yardima/.pyenv/versions/3.6.6/lib/python3.6/site-packages/torch/nn/modules/upsampling.py:122: UserWarning: nn.Upsampling is deprecated. Use nn.functional.interpolate instead.\n",
      "  warnings.warn(\"nn.Upsampling is deprecated. Use nn.functional.interpolate instead.\")\n"
     ]
    },
    {
     "name": "stdout",
     "output_type": "stream",
     "text": [
      "117\n"
     ]
    },
    {
     "name": "stderr",
     "output_type": "stream",
     "text": [
      "/home/yardima/.pyenv/versions/3.6.6/lib/python3.6/site-packages/torch/nn/modules/upsampling.py:225: UserWarning: nn.UpsamplingBilinear2d is deprecated. Use nn.functional.interpolate instead.\n",
      "  warnings.warn(\"nn.UpsamplingBilinear2d is deprecated. Use nn.functional.interpolate instead.\")\n",
      "/home/yardima/.pyenv/versions/3.6.6/lib/python3.6/site-packages/torch/nn/modules/upsampling.py:122: UserWarning: nn.Upsampling is deprecated. Use nn.functional.interpolate instead.\n",
      "  warnings.warn(\"nn.Upsampling is deprecated. Use nn.functional.interpolate instead.\")\n"
     ]
    },
    {
     "name": "stdout",
     "output_type": "stream",
     "text": [
      "118\n"
     ]
    },
    {
     "name": "stderr",
     "output_type": "stream",
     "text": [
      "/home/yardima/.pyenv/versions/3.6.6/lib/python3.6/site-packages/torch/nn/modules/upsampling.py:225: UserWarning: nn.UpsamplingBilinear2d is deprecated. Use nn.functional.interpolate instead.\n",
      "  warnings.warn(\"nn.UpsamplingBilinear2d is deprecated. Use nn.functional.interpolate instead.\")\n",
      "/home/yardima/.pyenv/versions/3.6.6/lib/python3.6/site-packages/torch/nn/modules/upsampling.py:122: UserWarning: nn.Upsampling is deprecated. Use nn.functional.interpolate instead.\n",
      "  warnings.warn(\"nn.Upsampling is deprecated. Use nn.functional.interpolate instead.\")\n"
     ]
    },
    {
     "name": "stdout",
     "output_type": "stream",
     "text": [
      "119\n"
     ]
    },
    {
     "name": "stderr",
     "output_type": "stream",
     "text": [
      "/home/yardima/.pyenv/versions/3.6.6/lib/python3.6/site-packages/torch/nn/modules/upsampling.py:225: UserWarning: nn.UpsamplingBilinear2d is deprecated. Use nn.functional.interpolate instead.\n",
      "  warnings.warn(\"nn.UpsamplingBilinear2d is deprecated. Use nn.functional.interpolate instead.\")\n",
      "/home/yardima/.pyenv/versions/3.6.6/lib/python3.6/site-packages/torch/nn/modules/upsampling.py:122: UserWarning: nn.Upsampling is deprecated. Use nn.functional.interpolate instead.\n",
      "  warnings.warn(\"nn.Upsampling is deprecated. Use nn.functional.interpolate instead.\")\n"
     ]
    },
    {
     "name": "stdout",
     "output_type": "stream",
     "text": [
      "120\n"
     ]
    },
    {
     "name": "stderr",
     "output_type": "stream",
     "text": [
      "/home/yardima/.pyenv/versions/3.6.6/lib/python3.6/site-packages/torch/nn/modules/upsampling.py:225: UserWarning: nn.UpsamplingBilinear2d is deprecated. Use nn.functional.interpolate instead.\n",
      "  warnings.warn(\"nn.UpsamplingBilinear2d is deprecated. Use nn.functional.interpolate instead.\")\n",
      "/home/yardima/.pyenv/versions/3.6.6/lib/python3.6/site-packages/torch/nn/modules/upsampling.py:122: UserWarning: nn.Upsampling is deprecated. Use nn.functional.interpolate instead.\n",
      "  warnings.warn(\"nn.Upsampling is deprecated. Use nn.functional.interpolate instead.\")\n"
     ]
    },
    {
     "name": "stdout",
     "output_type": "stream",
     "text": [
      "121\n"
     ]
    },
    {
     "name": "stderr",
     "output_type": "stream",
     "text": [
      "/home/yardima/.pyenv/versions/3.6.6/lib/python3.6/site-packages/torch/nn/modules/upsampling.py:225: UserWarning: nn.UpsamplingBilinear2d is deprecated. Use nn.functional.interpolate instead.\n",
      "  warnings.warn(\"nn.UpsamplingBilinear2d is deprecated. Use nn.functional.interpolate instead.\")\n",
      "/home/yardima/.pyenv/versions/3.6.6/lib/python3.6/site-packages/torch/nn/modules/upsampling.py:122: UserWarning: nn.Upsampling is deprecated. Use nn.functional.interpolate instead.\n",
      "  warnings.warn(\"nn.Upsampling is deprecated. Use nn.functional.interpolate instead.\")\n"
     ]
    },
    {
     "name": "stdout",
     "output_type": "stream",
     "text": [
      "122\n"
     ]
    },
    {
     "name": "stderr",
     "output_type": "stream",
     "text": [
      "/home/yardima/.pyenv/versions/3.6.6/lib/python3.6/site-packages/torch/nn/modules/upsampling.py:225: UserWarning: nn.UpsamplingBilinear2d is deprecated. Use nn.functional.interpolate instead.\n",
      "  warnings.warn(\"nn.UpsamplingBilinear2d is deprecated. Use nn.functional.interpolate instead.\")\n",
      "/home/yardima/.pyenv/versions/3.6.6/lib/python3.6/site-packages/torch/nn/modules/upsampling.py:122: UserWarning: nn.Upsampling is deprecated. Use nn.functional.interpolate instead.\n",
      "  warnings.warn(\"nn.Upsampling is deprecated. Use nn.functional.interpolate instead.\")\n"
     ]
    },
    {
     "name": "stdout",
     "output_type": "stream",
     "text": [
      "123\n"
     ]
    },
    {
     "name": "stderr",
     "output_type": "stream",
     "text": [
      "/home/yardima/.pyenv/versions/3.6.6/lib/python3.6/site-packages/torch/nn/modules/upsampling.py:225: UserWarning: nn.UpsamplingBilinear2d is deprecated. Use nn.functional.interpolate instead.\n",
      "  warnings.warn(\"nn.UpsamplingBilinear2d is deprecated. Use nn.functional.interpolate instead.\")\n",
      "/home/yardima/.pyenv/versions/3.6.6/lib/python3.6/site-packages/torch/nn/modules/upsampling.py:122: UserWarning: nn.Upsampling is deprecated. Use nn.functional.interpolate instead.\n",
      "  warnings.warn(\"nn.Upsampling is deprecated. Use nn.functional.interpolate instead.\")\n"
     ]
    },
    {
     "name": "stdout",
     "output_type": "stream",
     "text": [
      "124\n"
     ]
    },
    {
     "name": "stderr",
     "output_type": "stream",
     "text": [
      "/home/yardima/.pyenv/versions/3.6.6/lib/python3.6/site-packages/torch/nn/modules/upsampling.py:225: UserWarning: nn.UpsamplingBilinear2d is deprecated. Use nn.functional.interpolate instead.\n",
      "  warnings.warn(\"nn.UpsamplingBilinear2d is deprecated. Use nn.functional.interpolate instead.\")\n",
      "/home/yardima/.pyenv/versions/3.6.6/lib/python3.6/site-packages/torch/nn/modules/upsampling.py:122: UserWarning: nn.Upsampling is deprecated. Use nn.functional.interpolate instead.\n",
      "  warnings.warn(\"nn.Upsampling is deprecated. Use nn.functional.interpolate instead.\")\n"
     ]
    },
    {
     "name": "stdout",
     "output_type": "stream",
     "text": [
      "125\n"
     ]
    },
    {
     "name": "stderr",
     "output_type": "stream",
     "text": [
      "/home/yardima/.pyenv/versions/3.6.6/lib/python3.6/site-packages/torch/nn/modules/upsampling.py:225: UserWarning: nn.UpsamplingBilinear2d is deprecated. Use nn.functional.interpolate instead.\n",
      "  warnings.warn(\"nn.UpsamplingBilinear2d is deprecated. Use nn.functional.interpolate instead.\")\n",
      "/home/yardima/.pyenv/versions/3.6.6/lib/python3.6/site-packages/torch/nn/modules/upsampling.py:122: UserWarning: nn.Upsampling is deprecated. Use nn.functional.interpolate instead.\n",
      "  warnings.warn(\"nn.Upsampling is deprecated. Use nn.functional.interpolate instead.\")\n"
     ]
    },
    {
     "name": "stdout",
     "output_type": "stream",
     "text": [
      "126\n"
     ]
    },
    {
     "name": "stderr",
     "output_type": "stream",
     "text": [
      "/home/yardima/.pyenv/versions/3.6.6/lib/python3.6/site-packages/torch/nn/modules/upsampling.py:225: UserWarning: nn.UpsamplingBilinear2d is deprecated. Use nn.functional.interpolate instead.\n",
      "  warnings.warn(\"nn.UpsamplingBilinear2d is deprecated. Use nn.functional.interpolate instead.\")\n",
      "/home/yardima/.pyenv/versions/3.6.6/lib/python3.6/site-packages/torch/nn/modules/upsampling.py:122: UserWarning: nn.Upsampling is deprecated. Use nn.functional.interpolate instead.\n",
      "  warnings.warn(\"nn.Upsampling is deprecated. Use nn.functional.interpolate instead.\")\n"
     ]
    },
    {
     "name": "stdout",
     "output_type": "stream",
     "text": [
      "127\n"
     ]
    },
    {
     "name": "stderr",
     "output_type": "stream",
     "text": [
      "/home/yardima/.pyenv/versions/3.6.6/lib/python3.6/site-packages/torch/nn/modules/upsampling.py:225: UserWarning: nn.UpsamplingBilinear2d is deprecated. Use nn.functional.interpolate instead.\n",
      "  warnings.warn(\"nn.UpsamplingBilinear2d is deprecated. Use nn.functional.interpolate instead.\")\n",
      "/home/yardima/.pyenv/versions/3.6.6/lib/python3.6/site-packages/torch/nn/modules/upsampling.py:122: UserWarning: nn.Upsampling is deprecated. Use nn.functional.interpolate instead.\n",
      "  warnings.warn(\"nn.Upsampling is deprecated. Use nn.functional.interpolate instead.\")\n"
     ]
    },
    {
     "name": "stdout",
     "output_type": "stream",
     "text": [
      "128\n"
     ]
    },
    {
     "name": "stderr",
     "output_type": "stream",
     "text": [
      "/home/yardima/.pyenv/versions/3.6.6/lib/python3.6/site-packages/torch/nn/modules/upsampling.py:225: UserWarning: nn.UpsamplingBilinear2d is deprecated. Use nn.functional.interpolate instead.\n",
      "  warnings.warn(\"nn.UpsamplingBilinear2d is deprecated. Use nn.functional.interpolate instead.\")\n",
      "/home/yardima/.pyenv/versions/3.6.6/lib/python3.6/site-packages/torch/nn/modules/upsampling.py:122: UserWarning: nn.Upsampling is deprecated. Use nn.functional.interpolate instead.\n",
      "  warnings.warn(\"nn.Upsampling is deprecated. Use nn.functional.interpolate instead.\")\n"
     ]
    },
    {
     "name": "stdout",
     "output_type": "stream",
     "text": [
      "129\n"
     ]
    },
    {
     "name": "stderr",
     "output_type": "stream",
     "text": [
      "/home/yardima/.pyenv/versions/3.6.6/lib/python3.6/site-packages/torch/nn/modules/upsampling.py:225: UserWarning: nn.UpsamplingBilinear2d is deprecated. Use nn.functional.interpolate instead.\n",
      "  warnings.warn(\"nn.UpsamplingBilinear2d is deprecated. Use nn.functional.interpolate instead.\")\n",
      "/home/yardima/.pyenv/versions/3.6.6/lib/python3.6/site-packages/torch/nn/modules/upsampling.py:122: UserWarning: nn.Upsampling is deprecated. Use nn.functional.interpolate instead.\n",
      "  warnings.warn(\"nn.Upsampling is deprecated. Use nn.functional.interpolate instead.\")\n"
     ]
    },
    {
     "name": "stdout",
     "output_type": "stream",
     "text": [
      "130\n"
     ]
    },
    {
     "name": "stderr",
     "output_type": "stream",
     "text": [
      "/home/yardima/.pyenv/versions/3.6.6/lib/python3.6/site-packages/torch/nn/modules/upsampling.py:225: UserWarning: nn.UpsamplingBilinear2d is deprecated. Use nn.functional.interpolate instead.\n",
      "  warnings.warn(\"nn.UpsamplingBilinear2d is deprecated. Use nn.functional.interpolate instead.\")\n",
      "/home/yardima/.pyenv/versions/3.6.6/lib/python3.6/site-packages/torch/nn/modules/upsampling.py:122: UserWarning: nn.Upsampling is deprecated. Use nn.functional.interpolate instead.\n",
      "  warnings.warn(\"nn.Upsampling is deprecated. Use nn.functional.interpolate instead.\")\n"
     ]
    },
    {
     "name": "stdout",
     "output_type": "stream",
     "text": [
      "131\n"
     ]
    },
    {
     "name": "stderr",
     "output_type": "stream",
     "text": [
      "/home/yardima/.pyenv/versions/3.6.6/lib/python3.6/site-packages/torch/nn/modules/upsampling.py:225: UserWarning: nn.UpsamplingBilinear2d is deprecated. Use nn.functional.interpolate instead.\n",
      "  warnings.warn(\"nn.UpsamplingBilinear2d is deprecated. Use nn.functional.interpolate instead.\")\n",
      "/home/yardima/.pyenv/versions/3.6.6/lib/python3.6/site-packages/torch/nn/modules/upsampling.py:122: UserWarning: nn.Upsampling is deprecated. Use nn.functional.interpolate instead.\n",
      "  warnings.warn(\"nn.Upsampling is deprecated. Use nn.functional.interpolate instead.\")\n"
     ]
    },
    {
     "name": "stdout",
     "output_type": "stream",
     "text": [
      "132\n"
     ]
    },
    {
     "name": "stderr",
     "output_type": "stream",
     "text": [
      "/home/yardima/.pyenv/versions/3.6.6/lib/python3.6/site-packages/torch/nn/modules/upsampling.py:225: UserWarning: nn.UpsamplingBilinear2d is deprecated. Use nn.functional.interpolate instead.\n",
      "  warnings.warn(\"nn.UpsamplingBilinear2d is deprecated. Use nn.functional.interpolate instead.\")\n",
      "/home/yardima/.pyenv/versions/3.6.6/lib/python3.6/site-packages/torch/nn/modules/upsampling.py:122: UserWarning: nn.Upsampling is deprecated. Use nn.functional.interpolate instead.\n",
      "  warnings.warn(\"nn.Upsampling is deprecated. Use nn.functional.interpolate instead.\")\n"
     ]
    },
    {
     "name": "stdout",
     "output_type": "stream",
     "text": [
      "133\n"
     ]
    },
    {
     "name": "stderr",
     "output_type": "stream",
     "text": [
      "/home/yardima/.pyenv/versions/3.6.6/lib/python3.6/site-packages/torch/nn/modules/upsampling.py:225: UserWarning: nn.UpsamplingBilinear2d is deprecated. Use nn.functional.interpolate instead.\n",
      "  warnings.warn(\"nn.UpsamplingBilinear2d is deprecated. Use nn.functional.interpolate instead.\")\n",
      "/home/yardima/.pyenv/versions/3.6.6/lib/python3.6/site-packages/torch/nn/modules/upsampling.py:122: UserWarning: nn.Upsampling is deprecated. Use nn.functional.interpolate instead.\n",
      "  warnings.warn(\"nn.Upsampling is deprecated. Use nn.functional.interpolate instead.\")\n"
     ]
    },
    {
     "name": "stdout",
     "output_type": "stream",
     "text": [
      "134\n"
     ]
    },
    {
     "name": "stderr",
     "output_type": "stream",
     "text": [
      "/home/yardima/.pyenv/versions/3.6.6/lib/python3.6/site-packages/torch/nn/modules/upsampling.py:225: UserWarning: nn.UpsamplingBilinear2d is deprecated. Use nn.functional.interpolate instead.\n",
      "  warnings.warn(\"nn.UpsamplingBilinear2d is deprecated. Use nn.functional.interpolate instead.\")\n",
      "/home/yardima/.pyenv/versions/3.6.6/lib/python3.6/site-packages/torch/nn/modules/upsampling.py:122: UserWarning: nn.Upsampling is deprecated. Use nn.functional.interpolate instead.\n",
      "  warnings.warn(\"nn.Upsampling is deprecated. Use nn.functional.interpolate instead.\")\n"
     ]
    },
    {
     "name": "stdout",
     "output_type": "stream",
     "text": [
      "135\n"
     ]
    },
    {
     "name": "stderr",
     "output_type": "stream",
     "text": [
      "/home/yardima/.pyenv/versions/3.6.6/lib/python3.6/site-packages/torch/nn/modules/upsampling.py:225: UserWarning: nn.UpsamplingBilinear2d is deprecated. Use nn.functional.interpolate instead.\n",
      "  warnings.warn(\"nn.UpsamplingBilinear2d is deprecated. Use nn.functional.interpolate instead.\")\n",
      "/home/yardima/.pyenv/versions/3.6.6/lib/python3.6/site-packages/torch/nn/modules/upsampling.py:122: UserWarning: nn.Upsampling is deprecated. Use nn.functional.interpolate instead.\n",
      "  warnings.warn(\"nn.Upsampling is deprecated. Use nn.functional.interpolate instead.\")\n"
     ]
    },
    {
     "name": "stdout",
     "output_type": "stream",
     "text": [
      "136\n"
     ]
    },
    {
     "name": "stderr",
     "output_type": "stream",
     "text": [
      "/home/yardima/.pyenv/versions/3.6.6/lib/python3.6/site-packages/torch/nn/modules/upsampling.py:225: UserWarning: nn.UpsamplingBilinear2d is deprecated. Use nn.functional.interpolate instead.\n",
      "  warnings.warn(\"nn.UpsamplingBilinear2d is deprecated. Use nn.functional.interpolate instead.\")\n",
      "/home/yardima/.pyenv/versions/3.6.6/lib/python3.6/site-packages/torch/nn/modules/upsampling.py:122: UserWarning: nn.Upsampling is deprecated. Use nn.functional.interpolate instead.\n",
      "  warnings.warn(\"nn.Upsampling is deprecated. Use nn.functional.interpolate instead.\")\n"
     ]
    },
    {
     "name": "stdout",
     "output_type": "stream",
     "text": [
      "137\n"
     ]
    },
    {
     "name": "stderr",
     "output_type": "stream",
     "text": [
      "/home/yardima/.pyenv/versions/3.6.6/lib/python3.6/site-packages/torch/nn/modules/upsampling.py:225: UserWarning: nn.UpsamplingBilinear2d is deprecated. Use nn.functional.interpolate instead.\n",
      "  warnings.warn(\"nn.UpsamplingBilinear2d is deprecated. Use nn.functional.interpolate instead.\")\n",
      "/home/yardima/.pyenv/versions/3.6.6/lib/python3.6/site-packages/torch/nn/modules/upsampling.py:122: UserWarning: nn.Upsampling is deprecated. Use nn.functional.interpolate instead.\n",
      "  warnings.warn(\"nn.Upsampling is deprecated. Use nn.functional.interpolate instead.\")\n"
     ]
    },
    {
     "name": "stdout",
     "output_type": "stream",
     "text": [
      "138\n"
     ]
    },
    {
     "name": "stderr",
     "output_type": "stream",
     "text": [
      "/home/yardima/.pyenv/versions/3.6.6/lib/python3.6/site-packages/torch/nn/modules/upsampling.py:225: UserWarning: nn.UpsamplingBilinear2d is deprecated. Use nn.functional.interpolate instead.\n",
      "  warnings.warn(\"nn.UpsamplingBilinear2d is deprecated. Use nn.functional.interpolate instead.\")\n",
      "/home/yardima/.pyenv/versions/3.6.6/lib/python3.6/site-packages/torch/nn/modules/upsampling.py:122: UserWarning: nn.Upsampling is deprecated. Use nn.functional.interpolate instead.\n",
      "  warnings.warn(\"nn.Upsampling is deprecated. Use nn.functional.interpolate instead.\")\n"
     ]
    },
    {
     "name": "stdout",
     "output_type": "stream",
     "text": [
      "139\n"
     ]
    },
    {
     "name": "stderr",
     "output_type": "stream",
     "text": [
      "/home/yardima/.pyenv/versions/3.6.6/lib/python3.6/site-packages/torch/nn/modules/upsampling.py:225: UserWarning: nn.UpsamplingBilinear2d is deprecated. Use nn.functional.interpolate instead.\n",
      "  warnings.warn(\"nn.UpsamplingBilinear2d is deprecated. Use nn.functional.interpolate instead.\")\n",
      "/home/yardima/.pyenv/versions/3.6.6/lib/python3.6/site-packages/torch/nn/modules/upsampling.py:122: UserWarning: nn.Upsampling is deprecated. Use nn.functional.interpolate instead.\n",
      "  warnings.warn(\"nn.Upsampling is deprecated. Use nn.functional.interpolate instead.\")\n"
     ]
    },
    {
     "name": "stdout",
     "output_type": "stream",
     "text": [
      "140\n"
     ]
    },
    {
     "name": "stderr",
     "output_type": "stream",
     "text": [
      "/home/yardima/.pyenv/versions/3.6.6/lib/python3.6/site-packages/torch/nn/modules/upsampling.py:225: UserWarning: nn.UpsamplingBilinear2d is deprecated. Use nn.functional.interpolate instead.\n",
      "  warnings.warn(\"nn.UpsamplingBilinear2d is deprecated. Use nn.functional.interpolate instead.\")\n",
      "/home/yardima/.pyenv/versions/3.6.6/lib/python3.6/site-packages/torch/nn/modules/upsampling.py:122: UserWarning: nn.Upsampling is deprecated. Use nn.functional.interpolate instead.\n",
      "  warnings.warn(\"nn.Upsampling is deprecated. Use nn.functional.interpolate instead.\")\n"
     ]
    },
    {
     "name": "stdout",
     "output_type": "stream",
     "text": [
      "141\n"
     ]
    },
    {
     "name": "stderr",
     "output_type": "stream",
     "text": [
      "/home/yardima/.pyenv/versions/3.6.6/lib/python3.6/site-packages/torch/nn/modules/upsampling.py:225: UserWarning: nn.UpsamplingBilinear2d is deprecated. Use nn.functional.interpolate instead.\n",
      "  warnings.warn(\"nn.UpsamplingBilinear2d is deprecated. Use nn.functional.interpolate instead.\")\n",
      "/home/yardima/.pyenv/versions/3.6.6/lib/python3.6/site-packages/torch/nn/modules/upsampling.py:122: UserWarning: nn.Upsampling is deprecated. Use nn.functional.interpolate instead.\n",
      "  warnings.warn(\"nn.Upsampling is deprecated. Use nn.functional.interpolate instead.\")\n"
     ]
    },
    {
     "name": "stdout",
     "output_type": "stream",
     "text": [
      "142\n"
     ]
    },
    {
     "name": "stderr",
     "output_type": "stream",
     "text": [
      "/home/yardima/.pyenv/versions/3.6.6/lib/python3.6/site-packages/torch/nn/modules/upsampling.py:225: UserWarning: nn.UpsamplingBilinear2d is deprecated. Use nn.functional.interpolate instead.\n",
      "  warnings.warn(\"nn.UpsamplingBilinear2d is deprecated. Use nn.functional.interpolate instead.\")\n",
      "/home/yardima/.pyenv/versions/3.6.6/lib/python3.6/site-packages/torch/nn/modules/upsampling.py:122: UserWarning: nn.Upsampling is deprecated. Use nn.functional.interpolate instead.\n",
      "  warnings.warn(\"nn.Upsampling is deprecated. Use nn.functional.interpolate instead.\")\n"
     ]
    },
    {
     "name": "stdout",
     "output_type": "stream",
     "text": [
      "143\n"
     ]
    },
    {
     "name": "stderr",
     "output_type": "stream",
     "text": [
      "/home/yardima/.pyenv/versions/3.6.6/lib/python3.6/site-packages/torch/nn/modules/upsampling.py:225: UserWarning: nn.UpsamplingBilinear2d is deprecated. Use nn.functional.interpolate instead.\n",
      "  warnings.warn(\"nn.UpsamplingBilinear2d is deprecated. Use nn.functional.interpolate instead.\")\n",
      "/home/yardima/.pyenv/versions/3.6.6/lib/python3.6/site-packages/torch/nn/modules/upsampling.py:122: UserWarning: nn.Upsampling is deprecated. Use nn.functional.interpolate instead.\n",
      "  warnings.warn(\"nn.Upsampling is deprecated. Use nn.functional.interpolate instead.\")\n"
     ]
    },
    {
     "name": "stdout",
     "output_type": "stream",
     "text": [
      "144\n"
     ]
    },
    {
     "name": "stderr",
     "output_type": "stream",
     "text": [
      "/home/yardima/.pyenv/versions/3.6.6/lib/python3.6/site-packages/torch/nn/modules/upsampling.py:225: UserWarning: nn.UpsamplingBilinear2d is deprecated. Use nn.functional.interpolate instead.\n",
      "  warnings.warn(\"nn.UpsamplingBilinear2d is deprecated. Use nn.functional.interpolate instead.\")\n",
      "/home/yardima/.pyenv/versions/3.6.6/lib/python3.6/site-packages/torch/nn/modules/upsampling.py:122: UserWarning: nn.Upsampling is deprecated. Use nn.functional.interpolate instead.\n",
      "  warnings.warn(\"nn.Upsampling is deprecated. Use nn.functional.interpolate instead.\")\n"
     ]
    },
    {
     "name": "stdout",
     "output_type": "stream",
     "text": [
      "145\n"
     ]
    },
    {
     "name": "stderr",
     "output_type": "stream",
     "text": [
      "/home/yardima/.pyenv/versions/3.6.6/lib/python3.6/site-packages/torch/nn/modules/upsampling.py:225: UserWarning: nn.UpsamplingBilinear2d is deprecated. Use nn.functional.interpolate instead.\n",
      "  warnings.warn(\"nn.UpsamplingBilinear2d is deprecated. Use nn.functional.interpolate instead.\")\n",
      "/home/yardima/.pyenv/versions/3.6.6/lib/python3.6/site-packages/torch/nn/modules/upsampling.py:122: UserWarning: nn.Upsampling is deprecated. Use nn.functional.interpolate instead.\n",
      "  warnings.warn(\"nn.Upsampling is deprecated. Use nn.functional.interpolate instead.\")\n"
     ]
    },
    {
     "name": "stdout",
     "output_type": "stream",
     "text": [
      "146\n"
     ]
    },
    {
     "name": "stderr",
     "output_type": "stream",
     "text": [
      "/home/yardima/.pyenv/versions/3.6.6/lib/python3.6/site-packages/torch/nn/modules/upsampling.py:225: UserWarning: nn.UpsamplingBilinear2d is deprecated. Use nn.functional.interpolate instead.\n",
      "  warnings.warn(\"nn.UpsamplingBilinear2d is deprecated. Use nn.functional.interpolate instead.\")\n",
      "/home/yardima/.pyenv/versions/3.6.6/lib/python3.6/site-packages/torch/nn/modules/upsampling.py:122: UserWarning: nn.Upsampling is deprecated. Use nn.functional.interpolate instead.\n",
      "  warnings.warn(\"nn.Upsampling is deprecated. Use nn.functional.interpolate instead.\")\n"
     ]
    },
    {
     "name": "stdout",
     "output_type": "stream",
     "text": [
      "147\n"
     ]
    },
    {
     "name": "stderr",
     "output_type": "stream",
     "text": [
      "/home/yardima/.pyenv/versions/3.6.6/lib/python3.6/site-packages/torch/nn/modules/upsampling.py:225: UserWarning: nn.UpsamplingBilinear2d is deprecated. Use nn.functional.interpolate instead.\n",
      "  warnings.warn(\"nn.UpsamplingBilinear2d is deprecated. Use nn.functional.interpolate instead.\")\n",
      "/home/yardima/.pyenv/versions/3.6.6/lib/python3.6/site-packages/torch/nn/modules/upsampling.py:122: UserWarning: nn.Upsampling is deprecated. Use nn.functional.interpolate instead.\n",
      "  warnings.warn(\"nn.Upsampling is deprecated. Use nn.functional.interpolate instead.\")\n"
     ]
    },
    {
     "name": "stdout",
     "output_type": "stream",
     "text": [
      "148\n"
     ]
    },
    {
     "name": "stderr",
     "output_type": "stream",
     "text": [
      "/home/yardima/.pyenv/versions/3.6.6/lib/python3.6/site-packages/torch/nn/modules/upsampling.py:225: UserWarning: nn.UpsamplingBilinear2d is deprecated. Use nn.functional.interpolate instead.\n",
      "  warnings.warn(\"nn.UpsamplingBilinear2d is deprecated. Use nn.functional.interpolate instead.\")\n",
      "/home/yardima/.pyenv/versions/3.6.6/lib/python3.6/site-packages/torch/nn/modules/upsampling.py:122: UserWarning: nn.Upsampling is deprecated. Use nn.functional.interpolate instead.\n",
      "  warnings.warn(\"nn.Upsampling is deprecated. Use nn.functional.interpolate instead.\")\n"
     ]
    },
    {
     "name": "stdout",
     "output_type": "stream",
     "text": [
      "149\n"
     ]
    },
    {
     "name": "stderr",
     "output_type": "stream",
     "text": [
      "/home/yardima/.pyenv/versions/3.6.6/lib/python3.6/site-packages/torch/nn/modules/upsampling.py:225: UserWarning: nn.UpsamplingBilinear2d is deprecated. Use nn.functional.interpolate instead.\n",
      "  warnings.warn(\"nn.UpsamplingBilinear2d is deprecated. Use nn.functional.interpolate instead.\")\n",
      "/home/yardima/.pyenv/versions/3.6.6/lib/python3.6/site-packages/torch/nn/modules/upsampling.py:122: UserWarning: nn.Upsampling is deprecated. Use nn.functional.interpolate instead.\n",
      "  warnings.warn(\"nn.Upsampling is deprecated. Use nn.functional.interpolate instead.\")\n"
     ]
    },
    {
     "name": "stdout",
     "output_type": "stream",
     "text": [
      "150\n"
     ]
    },
    {
     "name": "stderr",
     "output_type": "stream",
     "text": [
      "/home/yardima/.pyenv/versions/3.6.6/lib/python3.6/site-packages/torch/nn/modules/upsampling.py:225: UserWarning: nn.UpsamplingBilinear2d is deprecated. Use nn.functional.interpolate instead.\n",
      "  warnings.warn(\"nn.UpsamplingBilinear2d is deprecated. Use nn.functional.interpolate instead.\")\n",
      "/home/yardima/.pyenv/versions/3.6.6/lib/python3.6/site-packages/torch/nn/modules/upsampling.py:122: UserWarning: nn.Upsampling is deprecated. Use nn.functional.interpolate instead.\n",
      "  warnings.warn(\"nn.Upsampling is deprecated. Use nn.functional.interpolate instead.\")\n"
     ]
    },
    {
     "name": "stdout",
     "output_type": "stream",
     "text": [
      "151\n"
     ]
    },
    {
     "name": "stderr",
     "output_type": "stream",
     "text": [
      "/home/yardima/.pyenv/versions/3.6.6/lib/python3.6/site-packages/torch/nn/modules/upsampling.py:225: UserWarning: nn.UpsamplingBilinear2d is deprecated. Use nn.functional.interpolate instead.\n",
      "  warnings.warn(\"nn.UpsamplingBilinear2d is deprecated. Use nn.functional.interpolate instead.\")\n",
      "/home/yardima/.pyenv/versions/3.6.6/lib/python3.6/site-packages/torch/nn/modules/upsampling.py:122: UserWarning: nn.Upsampling is deprecated. Use nn.functional.interpolate instead.\n",
      "  warnings.warn(\"nn.Upsampling is deprecated. Use nn.functional.interpolate instead.\")\n"
     ]
    },
    {
     "name": "stdout",
     "output_type": "stream",
     "text": [
      "152\n"
     ]
    },
    {
     "name": "stderr",
     "output_type": "stream",
     "text": [
      "/home/yardima/.pyenv/versions/3.6.6/lib/python3.6/site-packages/torch/nn/modules/upsampling.py:225: UserWarning: nn.UpsamplingBilinear2d is deprecated. Use nn.functional.interpolate instead.\n",
      "  warnings.warn(\"nn.UpsamplingBilinear2d is deprecated. Use nn.functional.interpolate instead.\")\n",
      "/home/yardima/.pyenv/versions/3.6.6/lib/python3.6/site-packages/torch/nn/modules/upsampling.py:122: UserWarning: nn.Upsampling is deprecated. Use nn.functional.interpolate instead.\n",
      "  warnings.warn(\"nn.Upsampling is deprecated. Use nn.functional.interpolate instead.\")\n"
     ]
    },
    {
     "name": "stdout",
     "output_type": "stream",
     "text": [
      "153\n"
     ]
    },
    {
     "name": "stderr",
     "output_type": "stream",
     "text": [
      "/home/yardima/.pyenv/versions/3.6.6/lib/python3.6/site-packages/torch/nn/modules/upsampling.py:225: UserWarning: nn.UpsamplingBilinear2d is deprecated. Use nn.functional.interpolate instead.\n",
      "  warnings.warn(\"nn.UpsamplingBilinear2d is deprecated. Use nn.functional.interpolate instead.\")\n",
      "/home/yardima/.pyenv/versions/3.6.6/lib/python3.6/site-packages/torch/nn/modules/upsampling.py:122: UserWarning: nn.Upsampling is deprecated. Use nn.functional.interpolate instead.\n",
      "  warnings.warn(\"nn.Upsampling is deprecated. Use nn.functional.interpolate instead.\")\n"
     ]
    },
    {
     "name": "stdout",
     "output_type": "stream",
     "text": [
      "154\n"
     ]
    },
    {
     "name": "stderr",
     "output_type": "stream",
     "text": [
      "/home/yardima/.pyenv/versions/3.6.6/lib/python3.6/site-packages/torch/nn/modules/upsampling.py:225: UserWarning: nn.UpsamplingBilinear2d is deprecated. Use nn.functional.interpolate instead.\n",
      "  warnings.warn(\"nn.UpsamplingBilinear2d is deprecated. Use nn.functional.interpolate instead.\")\n",
      "/home/yardima/.pyenv/versions/3.6.6/lib/python3.6/site-packages/torch/nn/modules/upsampling.py:122: UserWarning: nn.Upsampling is deprecated. Use nn.functional.interpolate instead.\n",
      "  warnings.warn(\"nn.Upsampling is deprecated. Use nn.functional.interpolate instead.\")\n"
     ]
    },
    {
     "name": "stdout",
     "output_type": "stream",
     "text": [
      "155\n"
     ]
    },
    {
     "name": "stderr",
     "output_type": "stream",
     "text": [
      "/home/yardima/.pyenv/versions/3.6.6/lib/python3.6/site-packages/torch/nn/modules/upsampling.py:225: UserWarning: nn.UpsamplingBilinear2d is deprecated. Use nn.functional.interpolate instead.\n",
      "  warnings.warn(\"nn.UpsamplingBilinear2d is deprecated. Use nn.functional.interpolate instead.\")\n",
      "/home/yardima/.pyenv/versions/3.6.6/lib/python3.6/site-packages/torch/nn/modules/upsampling.py:122: UserWarning: nn.Upsampling is deprecated. Use nn.functional.interpolate instead.\n",
      "  warnings.warn(\"nn.Upsampling is deprecated. Use nn.functional.interpolate instead.\")\n"
     ]
    },
    {
     "name": "stdout",
     "output_type": "stream",
     "text": [
      "156\n"
     ]
    },
    {
     "name": "stderr",
     "output_type": "stream",
     "text": [
      "/home/yardima/.pyenv/versions/3.6.6/lib/python3.6/site-packages/torch/nn/modules/upsampling.py:225: UserWarning: nn.UpsamplingBilinear2d is deprecated. Use nn.functional.interpolate instead.\n",
      "  warnings.warn(\"nn.UpsamplingBilinear2d is deprecated. Use nn.functional.interpolate instead.\")\n",
      "/home/yardima/.pyenv/versions/3.6.6/lib/python3.6/site-packages/torch/nn/modules/upsampling.py:122: UserWarning: nn.Upsampling is deprecated. Use nn.functional.interpolate instead.\n",
      "  warnings.warn(\"nn.Upsampling is deprecated. Use nn.functional.interpolate instead.\")\n"
     ]
    },
    {
     "name": "stdout",
     "output_type": "stream",
     "text": [
      "157\n"
     ]
    },
    {
     "name": "stderr",
     "output_type": "stream",
     "text": [
      "/home/yardima/.pyenv/versions/3.6.6/lib/python3.6/site-packages/torch/nn/modules/upsampling.py:225: UserWarning: nn.UpsamplingBilinear2d is deprecated. Use nn.functional.interpolate instead.\n",
      "  warnings.warn(\"nn.UpsamplingBilinear2d is deprecated. Use nn.functional.interpolate instead.\")\n",
      "/home/yardima/.pyenv/versions/3.6.6/lib/python3.6/site-packages/torch/nn/modules/upsampling.py:122: UserWarning: nn.Upsampling is deprecated. Use nn.functional.interpolate instead.\n",
      "  warnings.warn(\"nn.Upsampling is deprecated. Use nn.functional.interpolate instead.\")\n"
     ]
    },
    {
     "name": "stdout",
     "output_type": "stream",
     "text": [
      "158\n"
     ]
    },
    {
     "name": "stderr",
     "output_type": "stream",
     "text": [
      "/home/yardima/.pyenv/versions/3.6.6/lib/python3.6/site-packages/torch/nn/modules/upsampling.py:225: UserWarning: nn.UpsamplingBilinear2d is deprecated. Use nn.functional.interpolate instead.\n",
      "  warnings.warn(\"nn.UpsamplingBilinear2d is deprecated. Use nn.functional.interpolate instead.\")\n",
      "/home/yardima/.pyenv/versions/3.6.6/lib/python3.6/site-packages/torch/nn/modules/upsampling.py:122: UserWarning: nn.Upsampling is deprecated. Use nn.functional.interpolate instead.\n",
      "  warnings.warn(\"nn.Upsampling is deprecated. Use nn.functional.interpolate instead.\")\n"
     ]
    },
    {
     "name": "stdout",
     "output_type": "stream",
     "text": [
      "159\n"
     ]
    },
    {
     "name": "stderr",
     "output_type": "stream",
     "text": [
      "/home/yardima/.pyenv/versions/3.6.6/lib/python3.6/site-packages/torch/nn/modules/upsampling.py:225: UserWarning: nn.UpsamplingBilinear2d is deprecated. Use nn.functional.interpolate instead.\n",
      "  warnings.warn(\"nn.UpsamplingBilinear2d is deprecated. Use nn.functional.interpolate instead.\")\n",
      "/home/yardima/.pyenv/versions/3.6.6/lib/python3.6/site-packages/torch/nn/modules/upsampling.py:122: UserWarning: nn.Upsampling is deprecated. Use nn.functional.interpolate instead.\n",
      "  warnings.warn(\"nn.Upsampling is deprecated. Use nn.functional.interpolate instead.\")\n"
     ]
    },
    {
     "name": "stdout",
     "output_type": "stream",
     "text": [
      "160\n"
     ]
    },
    {
     "name": "stderr",
     "output_type": "stream",
     "text": [
      "/home/yardima/.pyenv/versions/3.6.6/lib/python3.6/site-packages/torch/nn/modules/upsampling.py:225: UserWarning: nn.UpsamplingBilinear2d is deprecated. Use nn.functional.interpolate instead.\n",
      "  warnings.warn(\"nn.UpsamplingBilinear2d is deprecated. Use nn.functional.interpolate instead.\")\n",
      "/home/yardima/.pyenv/versions/3.6.6/lib/python3.6/site-packages/torch/nn/modules/upsampling.py:122: UserWarning: nn.Upsampling is deprecated. Use nn.functional.interpolate instead.\n",
      "  warnings.warn(\"nn.Upsampling is deprecated. Use nn.functional.interpolate instead.\")\n"
     ]
    },
    {
     "name": "stdout",
     "output_type": "stream",
     "text": [
      "161\n"
     ]
    },
    {
     "name": "stderr",
     "output_type": "stream",
     "text": [
      "/home/yardima/.pyenv/versions/3.6.6/lib/python3.6/site-packages/torch/nn/modules/upsampling.py:225: UserWarning: nn.UpsamplingBilinear2d is deprecated. Use nn.functional.interpolate instead.\n",
      "  warnings.warn(\"nn.UpsamplingBilinear2d is deprecated. Use nn.functional.interpolate instead.\")\n",
      "/home/yardima/.pyenv/versions/3.6.6/lib/python3.6/site-packages/torch/nn/modules/upsampling.py:122: UserWarning: nn.Upsampling is deprecated. Use nn.functional.interpolate instead.\n",
      "  warnings.warn(\"nn.Upsampling is deprecated. Use nn.functional.interpolate instead.\")\n"
     ]
    },
    {
     "name": "stdout",
     "output_type": "stream",
     "text": [
      "162\n"
     ]
    },
    {
     "name": "stderr",
     "output_type": "stream",
     "text": [
      "/home/yardima/.pyenv/versions/3.6.6/lib/python3.6/site-packages/torch/nn/modules/upsampling.py:225: UserWarning: nn.UpsamplingBilinear2d is deprecated. Use nn.functional.interpolate instead.\n",
      "  warnings.warn(\"nn.UpsamplingBilinear2d is deprecated. Use nn.functional.interpolate instead.\")\n",
      "/home/yardima/.pyenv/versions/3.6.6/lib/python3.6/site-packages/torch/nn/modules/upsampling.py:122: UserWarning: nn.Upsampling is deprecated. Use nn.functional.interpolate instead.\n",
      "  warnings.warn(\"nn.Upsampling is deprecated. Use nn.functional.interpolate instead.\")\n"
     ]
    },
    {
     "name": "stdout",
     "output_type": "stream",
     "text": [
      "163\n"
     ]
    },
    {
     "name": "stderr",
     "output_type": "stream",
     "text": [
      "/home/yardima/.pyenv/versions/3.6.6/lib/python3.6/site-packages/torch/nn/modules/upsampling.py:225: UserWarning: nn.UpsamplingBilinear2d is deprecated. Use nn.functional.interpolate instead.\n",
      "  warnings.warn(\"nn.UpsamplingBilinear2d is deprecated. Use nn.functional.interpolate instead.\")\n",
      "/home/yardima/.pyenv/versions/3.6.6/lib/python3.6/site-packages/torch/nn/modules/upsampling.py:122: UserWarning: nn.Upsampling is deprecated. Use nn.functional.interpolate instead.\n",
      "  warnings.warn(\"nn.Upsampling is deprecated. Use nn.functional.interpolate instead.\")\n"
     ]
    },
    {
     "name": "stdout",
     "output_type": "stream",
     "text": [
      "164\n"
     ]
    },
    {
     "name": "stderr",
     "output_type": "stream",
     "text": [
      "/home/yardima/.pyenv/versions/3.6.6/lib/python3.6/site-packages/torch/nn/modules/upsampling.py:225: UserWarning: nn.UpsamplingBilinear2d is deprecated. Use nn.functional.interpolate instead.\n",
      "  warnings.warn(\"nn.UpsamplingBilinear2d is deprecated. Use nn.functional.interpolate instead.\")\n",
      "/home/yardima/.pyenv/versions/3.6.6/lib/python3.6/site-packages/torch/nn/modules/upsampling.py:122: UserWarning: nn.Upsampling is deprecated. Use nn.functional.interpolate instead.\n",
      "  warnings.warn(\"nn.Upsampling is deprecated. Use nn.functional.interpolate instead.\")\n"
     ]
    },
    {
     "name": "stdout",
     "output_type": "stream",
     "text": [
      "165\n"
     ]
    },
    {
     "name": "stderr",
     "output_type": "stream",
     "text": [
      "/home/yardima/.pyenv/versions/3.6.6/lib/python3.6/site-packages/torch/nn/modules/upsampling.py:225: UserWarning: nn.UpsamplingBilinear2d is deprecated. Use nn.functional.interpolate instead.\n",
      "  warnings.warn(\"nn.UpsamplingBilinear2d is deprecated. Use nn.functional.interpolate instead.\")\n",
      "/home/yardima/.pyenv/versions/3.6.6/lib/python3.6/site-packages/torch/nn/modules/upsampling.py:122: UserWarning: nn.Upsampling is deprecated. Use nn.functional.interpolate instead.\n",
      "  warnings.warn(\"nn.Upsampling is deprecated. Use nn.functional.interpolate instead.\")\n"
     ]
    },
    {
     "name": "stdout",
     "output_type": "stream",
     "text": [
      "166\n"
     ]
    },
    {
     "name": "stderr",
     "output_type": "stream",
     "text": [
      "/home/yardima/.pyenv/versions/3.6.6/lib/python3.6/site-packages/torch/nn/modules/upsampling.py:225: UserWarning: nn.UpsamplingBilinear2d is deprecated. Use nn.functional.interpolate instead.\n",
      "  warnings.warn(\"nn.UpsamplingBilinear2d is deprecated. Use nn.functional.interpolate instead.\")\n",
      "/home/yardima/.pyenv/versions/3.6.6/lib/python3.6/site-packages/torch/nn/modules/upsampling.py:122: UserWarning: nn.Upsampling is deprecated. Use nn.functional.interpolate instead.\n",
      "  warnings.warn(\"nn.Upsampling is deprecated. Use nn.functional.interpolate instead.\")\n"
     ]
    },
    {
     "name": "stdout",
     "output_type": "stream",
     "text": [
      "167\n"
     ]
    },
    {
     "name": "stderr",
     "output_type": "stream",
     "text": [
      "/home/yardima/.pyenv/versions/3.6.6/lib/python3.6/site-packages/torch/nn/modules/upsampling.py:225: UserWarning: nn.UpsamplingBilinear2d is deprecated. Use nn.functional.interpolate instead.\n",
      "  warnings.warn(\"nn.UpsamplingBilinear2d is deprecated. Use nn.functional.interpolate instead.\")\n",
      "/home/yardima/.pyenv/versions/3.6.6/lib/python3.6/site-packages/torch/nn/modules/upsampling.py:122: UserWarning: nn.Upsampling is deprecated. Use nn.functional.interpolate instead.\n",
      "  warnings.warn(\"nn.Upsampling is deprecated. Use nn.functional.interpolate instead.\")\n"
     ]
    },
    {
     "name": "stdout",
     "output_type": "stream",
     "text": [
      "168\n"
     ]
    },
    {
     "name": "stderr",
     "output_type": "stream",
     "text": [
      "/home/yardima/.pyenv/versions/3.6.6/lib/python3.6/site-packages/torch/nn/modules/upsampling.py:225: UserWarning: nn.UpsamplingBilinear2d is deprecated. Use nn.functional.interpolate instead.\n",
      "  warnings.warn(\"nn.UpsamplingBilinear2d is deprecated. Use nn.functional.interpolate instead.\")\n",
      "/home/yardima/.pyenv/versions/3.6.6/lib/python3.6/site-packages/torch/nn/modules/upsampling.py:122: UserWarning: nn.Upsampling is deprecated. Use nn.functional.interpolate instead.\n",
      "  warnings.warn(\"nn.Upsampling is deprecated. Use nn.functional.interpolate instead.\")\n"
     ]
    },
    {
     "name": "stdout",
     "output_type": "stream",
     "text": [
      "169\n"
     ]
    },
    {
     "name": "stderr",
     "output_type": "stream",
     "text": [
      "/home/yardima/.pyenv/versions/3.6.6/lib/python3.6/site-packages/torch/nn/modules/upsampling.py:225: UserWarning: nn.UpsamplingBilinear2d is deprecated. Use nn.functional.interpolate instead.\n",
      "  warnings.warn(\"nn.UpsamplingBilinear2d is deprecated. Use nn.functional.interpolate instead.\")\n",
      "/home/yardima/.pyenv/versions/3.6.6/lib/python3.6/site-packages/torch/nn/modules/upsampling.py:122: UserWarning: nn.Upsampling is deprecated. Use nn.functional.interpolate instead.\n",
      "  warnings.warn(\"nn.Upsampling is deprecated. Use nn.functional.interpolate instead.\")\n"
     ]
    },
    {
     "name": "stdout",
     "output_type": "stream",
     "text": [
      "170\n"
     ]
    },
    {
     "name": "stderr",
     "output_type": "stream",
     "text": [
      "/home/yardima/.pyenv/versions/3.6.6/lib/python3.6/site-packages/torch/nn/modules/upsampling.py:225: UserWarning: nn.UpsamplingBilinear2d is deprecated. Use nn.functional.interpolate instead.\n",
      "  warnings.warn(\"nn.UpsamplingBilinear2d is deprecated. Use nn.functional.interpolate instead.\")\n",
      "/home/yardima/.pyenv/versions/3.6.6/lib/python3.6/site-packages/torch/nn/modules/upsampling.py:122: UserWarning: nn.Upsampling is deprecated. Use nn.functional.interpolate instead.\n",
      "  warnings.warn(\"nn.Upsampling is deprecated. Use nn.functional.interpolate instead.\")\n"
     ]
    },
    {
     "name": "stdout",
     "output_type": "stream",
     "text": [
      "171\n"
     ]
    },
    {
     "name": "stderr",
     "output_type": "stream",
     "text": [
      "/home/yardima/.pyenv/versions/3.6.6/lib/python3.6/site-packages/torch/nn/modules/upsampling.py:225: UserWarning: nn.UpsamplingBilinear2d is deprecated. Use nn.functional.interpolate instead.\n",
      "  warnings.warn(\"nn.UpsamplingBilinear2d is deprecated. Use nn.functional.interpolate instead.\")\n",
      "/home/yardima/.pyenv/versions/3.6.6/lib/python3.6/site-packages/torch/nn/modules/upsampling.py:122: UserWarning: nn.Upsampling is deprecated. Use nn.functional.interpolate instead.\n",
      "  warnings.warn(\"nn.Upsampling is deprecated. Use nn.functional.interpolate instead.\")\n"
     ]
    },
    {
     "name": "stdout",
     "output_type": "stream",
     "text": [
      "172\n"
     ]
    },
    {
     "name": "stderr",
     "output_type": "stream",
     "text": [
      "/home/yardima/.pyenv/versions/3.6.6/lib/python3.6/site-packages/torch/nn/modules/upsampling.py:225: UserWarning: nn.UpsamplingBilinear2d is deprecated. Use nn.functional.interpolate instead.\n",
      "  warnings.warn(\"nn.UpsamplingBilinear2d is deprecated. Use nn.functional.interpolate instead.\")\n",
      "/home/yardima/.pyenv/versions/3.6.6/lib/python3.6/site-packages/torch/nn/modules/upsampling.py:122: UserWarning: nn.Upsampling is deprecated. Use nn.functional.interpolate instead.\n",
      "  warnings.warn(\"nn.Upsampling is deprecated. Use nn.functional.interpolate instead.\")\n"
     ]
    },
    {
     "name": "stdout",
     "output_type": "stream",
     "text": [
      "173\n"
     ]
    },
    {
     "name": "stderr",
     "output_type": "stream",
     "text": [
      "/home/yardima/.pyenv/versions/3.6.6/lib/python3.6/site-packages/torch/nn/modules/upsampling.py:225: UserWarning: nn.UpsamplingBilinear2d is deprecated. Use nn.functional.interpolate instead.\n",
      "  warnings.warn(\"nn.UpsamplingBilinear2d is deprecated. Use nn.functional.interpolate instead.\")\n",
      "/home/yardima/.pyenv/versions/3.6.6/lib/python3.6/site-packages/torch/nn/modules/upsampling.py:122: UserWarning: nn.Upsampling is deprecated. Use nn.functional.interpolate instead.\n",
      "  warnings.warn(\"nn.Upsampling is deprecated. Use nn.functional.interpolate instead.\")\n"
     ]
    },
    {
     "name": "stdout",
     "output_type": "stream",
     "text": [
      "174\n"
     ]
    },
    {
     "name": "stderr",
     "output_type": "stream",
     "text": [
      "/home/yardima/.pyenv/versions/3.6.6/lib/python3.6/site-packages/torch/nn/modules/upsampling.py:225: UserWarning: nn.UpsamplingBilinear2d is deprecated. Use nn.functional.interpolate instead.\n",
      "  warnings.warn(\"nn.UpsamplingBilinear2d is deprecated. Use nn.functional.interpolate instead.\")\n",
      "/home/yardima/.pyenv/versions/3.6.6/lib/python3.6/site-packages/torch/nn/modules/upsampling.py:122: UserWarning: nn.Upsampling is deprecated. Use nn.functional.interpolate instead.\n",
      "  warnings.warn(\"nn.Upsampling is deprecated. Use nn.functional.interpolate instead.\")\n"
     ]
    },
    {
     "name": "stdout",
     "output_type": "stream",
     "text": [
      "175\n"
     ]
    },
    {
     "name": "stderr",
     "output_type": "stream",
     "text": [
      "/home/yardima/.pyenv/versions/3.6.6/lib/python3.6/site-packages/torch/nn/modules/upsampling.py:225: UserWarning: nn.UpsamplingBilinear2d is deprecated. Use nn.functional.interpolate instead.\n",
      "  warnings.warn(\"nn.UpsamplingBilinear2d is deprecated. Use nn.functional.interpolate instead.\")\n",
      "/home/yardima/.pyenv/versions/3.6.6/lib/python3.6/site-packages/torch/nn/modules/upsampling.py:122: UserWarning: nn.Upsampling is deprecated. Use nn.functional.interpolate instead.\n",
      "  warnings.warn(\"nn.Upsampling is deprecated. Use nn.functional.interpolate instead.\")\n"
     ]
    },
    {
     "name": "stdout",
     "output_type": "stream",
     "text": [
      "176\n"
     ]
    },
    {
     "name": "stderr",
     "output_type": "stream",
     "text": [
      "/home/yardima/.pyenv/versions/3.6.6/lib/python3.6/site-packages/torch/nn/modules/upsampling.py:225: UserWarning: nn.UpsamplingBilinear2d is deprecated. Use nn.functional.interpolate instead.\n",
      "  warnings.warn(\"nn.UpsamplingBilinear2d is deprecated. Use nn.functional.interpolate instead.\")\n",
      "/home/yardima/.pyenv/versions/3.6.6/lib/python3.6/site-packages/torch/nn/modules/upsampling.py:122: UserWarning: nn.Upsampling is deprecated. Use nn.functional.interpolate instead.\n",
      "  warnings.warn(\"nn.Upsampling is deprecated. Use nn.functional.interpolate instead.\")\n"
     ]
    },
    {
     "name": "stdout",
     "output_type": "stream",
     "text": [
      "177\n"
     ]
    },
    {
     "name": "stderr",
     "output_type": "stream",
     "text": [
      "/home/yardima/.pyenv/versions/3.6.6/lib/python3.6/site-packages/torch/nn/modules/upsampling.py:225: UserWarning: nn.UpsamplingBilinear2d is deprecated. Use nn.functional.interpolate instead.\n",
      "  warnings.warn(\"nn.UpsamplingBilinear2d is deprecated. Use nn.functional.interpolate instead.\")\n",
      "/home/yardima/.pyenv/versions/3.6.6/lib/python3.6/site-packages/torch/nn/modules/upsampling.py:122: UserWarning: nn.Upsampling is deprecated. Use nn.functional.interpolate instead.\n",
      "  warnings.warn(\"nn.Upsampling is deprecated. Use nn.functional.interpolate instead.\")\n"
     ]
    },
    {
     "name": "stdout",
     "output_type": "stream",
     "text": [
      "178\n",
      "CPU times: user 19min 28s, sys: 2min 58s, total: 22min 27s\n",
      "Wall time: 59min 24s\n"
     ]
    }
   ],
   "source": [
    "%%time\n",
    "valiter = iter(valloader)\n",
    "trials = 0\n",
    "\n",
    "n_clicks = 20\n",
    "mean_acc = np.zeros(n_clicks - 1)\n",
    "mean_iou = np.zeros(n_clicks - 1)\n",
    "\n",
    "for i in range(200):\n",
    "    image, label = next(valiter)\n",
    "    \n",
    "    result = simulate_clicks_v2(net, image, label, n_clicks)\n",
    "\n",
    "    if len(result) == n_clicks - 1:\n",
    "        trials += 1\n",
    "\n",
    "        mean_acc += np.array([r[\"acc\"] for r in result])\n",
    "        mean_iou += np.array([r[\"iou\"] for r in result])\n",
    "        \n",
    "        print(trials)\n",
    "\n",
    "mean_acc /= trials\n",
    "mean_iou /= trials"
   ]
  },
  {
   "cell_type": "code",
   "execution_count": 326,
   "metadata": {
    "scrolled": false
   },
   "outputs": [
    {
     "data": {
      "application/javascript": [
       "/* Put everything inside the global mpl namespace */\n",
       "window.mpl = {};\n",
       "\n",
       "\n",
       "mpl.get_websocket_type = function() {\n",
       "    if (typeof(WebSocket) !== 'undefined') {\n",
       "        return WebSocket;\n",
       "    } else if (typeof(MozWebSocket) !== 'undefined') {\n",
       "        return MozWebSocket;\n",
       "    } else {\n",
       "        alert('Your browser does not have WebSocket support.' +\n",
       "              'Please try Chrome, Safari or Firefox ≥ 6. ' +\n",
       "              'Firefox 4 and 5 are also supported but you ' +\n",
       "              'have to enable WebSockets in about:config.');\n",
       "    };\n",
       "}\n",
       "\n",
       "mpl.figure = function(figure_id, websocket, ondownload, parent_element) {\n",
       "    this.id = figure_id;\n",
       "\n",
       "    this.ws = websocket;\n",
       "\n",
       "    this.supports_binary = (this.ws.binaryType != undefined);\n",
       "\n",
       "    if (!this.supports_binary) {\n",
       "        var warnings = document.getElementById(\"mpl-warnings\");\n",
       "        if (warnings) {\n",
       "            warnings.style.display = 'block';\n",
       "            warnings.textContent = (\n",
       "                \"This browser does not support binary websocket messages. \" +\n",
       "                    \"Performance may be slow.\");\n",
       "        }\n",
       "    }\n",
       "\n",
       "    this.imageObj = new Image();\n",
       "\n",
       "    this.context = undefined;\n",
       "    this.message = undefined;\n",
       "    this.canvas = undefined;\n",
       "    this.rubberband_canvas = undefined;\n",
       "    this.rubberband_context = undefined;\n",
       "    this.format_dropdown = undefined;\n",
       "\n",
       "    this.image_mode = 'full';\n",
       "\n",
       "    this.root = $('<div/>');\n",
       "    this._root_extra_style(this.root)\n",
       "    this.root.attr('style', 'display: inline-block');\n",
       "\n",
       "    $(parent_element).append(this.root);\n",
       "\n",
       "    this._init_header(this);\n",
       "    this._init_canvas(this);\n",
       "    this._init_toolbar(this);\n",
       "\n",
       "    var fig = this;\n",
       "\n",
       "    this.waiting = false;\n",
       "\n",
       "    this.ws.onopen =  function () {\n",
       "            fig.send_message(\"supports_binary\", {value: fig.supports_binary});\n",
       "            fig.send_message(\"send_image_mode\", {});\n",
       "            if (mpl.ratio != 1) {\n",
       "                fig.send_message(\"set_dpi_ratio\", {'dpi_ratio': mpl.ratio});\n",
       "            }\n",
       "            fig.send_message(\"refresh\", {});\n",
       "        }\n",
       "\n",
       "    this.imageObj.onload = function() {\n",
       "            if (fig.image_mode == 'full') {\n",
       "                // Full images could contain transparency (where diff images\n",
       "                // almost always do), so we need to clear the canvas so that\n",
       "                // there is no ghosting.\n",
       "                fig.context.clearRect(0, 0, fig.canvas.width, fig.canvas.height);\n",
       "            }\n",
       "            fig.context.drawImage(fig.imageObj, 0, 0);\n",
       "        };\n",
       "\n",
       "    this.imageObj.onunload = function() {\n",
       "        fig.ws.close();\n",
       "    }\n",
       "\n",
       "    this.ws.onmessage = this._make_on_message_function(this);\n",
       "\n",
       "    this.ondownload = ondownload;\n",
       "}\n",
       "\n",
       "mpl.figure.prototype._init_header = function() {\n",
       "    var titlebar = $(\n",
       "        '<div class=\"ui-dialog-titlebar ui-widget-header ui-corner-all ' +\n",
       "        'ui-helper-clearfix\"/>');\n",
       "    var titletext = $(\n",
       "        '<div class=\"ui-dialog-title\" style=\"width: 100%; ' +\n",
       "        'text-align: center; padding: 3px;\"/>');\n",
       "    titlebar.append(titletext)\n",
       "    this.root.append(titlebar);\n",
       "    this.header = titletext[0];\n",
       "}\n",
       "\n",
       "\n",
       "\n",
       "mpl.figure.prototype._canvas_extra_style = function(canvas_div) {\n",
       "\n",
       "}\n",
       "\n",
       "\n",
       "mpl.figure.prototype._root_extra_style = function(canvas_div) {\n",
       "\n",
       "}\n",
       "\n",
       "mpl.figure.prototype._init_canvas = function() {\n",
       "    var fig = this;\n",
       "\n",
       "    var canvas_div = $('<div/>');\n",
       "\n",
       "    canvas_div.attr('style', 'position: relative; clear: both; outline: 0');\n",
       "\n",
       "    function canvas_keyboard_event(event) {\n",
       "        return fig.key_event(event, event['data']);\n",
       "    }\n",
       "\n",
       "    canvas_div.keydown('key_press', canvas_keyboard_event);\n",
       "    canvas_div.keyup('key_release', canvas_keyboard_event);\n",
       "    this.canvas_div = canvas_div\n",
       "    this._canvas_extra_style(canvas_div)\n",
       "    this.root.append(canvas_div);\n",
       "\n",
       "    var canvas = $('<canvas/>');\n",
       "    canvas.addClass('mpl-canvas');\n",
       "    canvas.attr('style', \"left: 0; top: 0; z-index: 0; outline: 0\")\n",
       "\n",
       "    this.canvas = canvas[0];\n",
       "    this.context = canvas[0].getContext(\"2d\");\n",
       "\n",
       "    var backingStore = this.context.backingStorePixelRatio ||\n",
       "\tthis.context.webkitBackingStorePixelRatio ||\n",
       "\tthis.context.mozBackingStorePixelRatio ||\n",
       "\tthis.context.msBackingStorePixelRatio ||\n",
       "\tthis.context.oBackingStorePixelRatio ||\n",
       "\tthis.context.backingStorePixelRatio || 1;\n",
       "\n",
       "    mpl.ratio = (window.devicePixelRatio || 1) / backingStore;\n",
       "\n",
       "    var rubberband = $('<canvas/>');\n",
       "    rubberband.attr('style', \"position: absolute; left: 0; top: 0; z-index: 1;\")\n",
       "\n",
       "    var pass_mouse_events = true;\n",
       "\n",
       "    canvas_div.resizable({\n",
       "        start: function(event, ui) {\n",
       "            pass_mouse_events = false;\n",
       "        },\n",
       "        resize: function(event, ui) {\n",
       "            fig.request_resize(ui.size.width, ui.size.height);\n",
       "        },\n",
       "        stop: function(event, ui) {\n",
       "            pass_mouse_events = true;\n",
       "            fig.request_resize(ui.size.width, ui.size.height);\n",
       "        },\n",
       "    });\n",
       "\n",
       "    function mouse_event_fn(event) {\n",
       "        if (pass_mouse_events)\n",
       "            return fig.mouse_event(event, event['data']);\n",
       "    }\n",
       "\n",
       "    rubberband.mousedown('button_press', mouse_event_fn);\n",
       "    rubberband.mouseup('button_release', mouse_event_fn);\n",
       "    // Throttle sequential mouse events to 1 every 20ms.\n",
       "    rubberband.mousemove('motion_notify', mouse_event_fn);\n",
       "\n",
       "    rubberband.mouseenter('figure_enter', mouse_event_fn);\n",
       "    rubberband.mouseleave('figure_leave', mouse_event_fn);\n",
       "\n",
       "    canvas_div.on(\"wheel\", function (event) {\n",
       "        event = event.originalEvent;\n",
       "        event['data'] = 'scroll'\n",
       "        if (event.deltaY < 0) {\n",
       "            event.step = 1;\n",
       "        } else {\n",
       "            event.step = -1;\n",
       "        }\n",
       "        mouse_event_fn(event);\n",
       "    });\n",
       "\n",
       "    canvas_div.append(canvas);\n",
       "    canvas_div.append(rubberband);\n",
       "\n",
       "    this.rubberband = rubberband;\n",
       "    this.rubberband_canvas = rubberband[0];\n",
       "    this.rubberband_context = rubberband[0].getContext(\"2d\");\n",
       "    this.rubberband_context.strokeStyle = \"#000000\";\n",
       "\n",
       "    this._resize_canvas = function(width, height) {\n",
       "        // Keep the size of the canvas, canvas container, and rubber band\n",
       "        // canvas in synch.\n",
       "        canvas_div.css('width', width)\n",
       "        canvas_div.css('height', height)\n",
       "\n",
       "        canvas.attr('width', width * mpl.ratio);\n",
       "        canvas.attr('height', height * mpl.ratio);\n",
       "        canvas.attr('style', 'width: ' + width + 'px; height: ' + height + 'px;');\n",
       "\n",
       "        rubberband.attr('width', width);\n",
       "        rubberband.attr('height', height);\n",
       "    }\n",
       "\n",
       "    // Set the figure to an initial 600x600px, this will subsequently be updated\n",
       "    // upon first draw.\n",
       "    this._resize_canvas(600, 600);\n",
       "\n",
       "    // Disable right mouse context menu.\n",
       "    $(this.rubberband_canvas).bind(\"contextmenu\",function(e){\n",
       "        return false;\n",
       "    });\n",
       "\n",
       "    function set_focus () {\n",
       "        canvas.focus();\n",
       "        canvas_div.focus();\n",
       "    }\n",
       "\n",
       "    window.setTimeout(set_focus, 100);\n",
       "}\n",
       "\n",
       "mpl.figure.prototype._init_toolbar = function() {\n",
       "    var fig = this;\n",
       "\n",
       "    var nav_element = $('<div/>')\n",
       "    nav_element.attr('style', 'width: 100%');\n",
       "    this.root.append(nav_element);\n",
       "\n",
       "    // Define a callback function for later on.\n",
       "    function toolbar_event(event) {\n",
       "        return fig.toolbar_button_onclick(event['data']);\n",
       "    }\n",
       "    function toolbar_mouse_event(event) {\n",
       "        return fig.toolbar_button_onmouseover(event['data']);\n",
       "    }\n",
       "\n",
       "    for(var toolbar_ind in mpl.toolbar_items) {\n",
       "        var name = mpl.toolbar_items[toolbar_ind][0];\n",
       "        var tooltip = mpl.toolbar_items[toolbar_ind][1];\n",
       "        var image = mpl.toolbar_items[toolbar_ind][2];\n",
       "        var method_name = mpl.toolbar_items[toolbar_ind][3];\n",
       "\n",
       "        if (!name) {\n",
       "            // put a spacer in here.\n",
       "            continue;\n",
       "        }\n",
       "        var button = $('<button/>');\n",
       "        button.addClass('ui-button ui-widget ui-state-default ui-corner-all ' +\n",
       "                        'ui-button-icon-only');\n",
       "        button.attr('role', 'button');\n",
       "        button.attr('aria-disabled', 'false');\n",
       "        button.click(method_name, toolbar_event);\n",
       "        button.mouseover(tooltip, toolbar_mouse_event);\n",
       "\n",
       "        var icon_img = $('<span/>');\n",
       "        icon_img.addClass('ui-button-icon-primary ui-icon');\n",
       "        icon_img.addClass(image);\n",
       "        icon_img.addClass('ui-corner-all');\n",
       "\n",
       "        var tooltip_span = $('<span/>');\n",
       "        tooltip_span.addClass('ui-button-text');\n",
       "        tooltip_span.html(tooltip);\n",
       "\n",
       "        button.append(icon_img);\n",
       "        button.append(tooltip_span);\n",
       "\n",
       "        nav_element.append(button);\n",
       "    }\n",
       "\n",
       "    var fmt_picker_span = $('<span/>');\n",
       "\n",
       "    var fmt_picker = $('<select/>');\n",
       "    fmt_picker.addClass('mpl-toolbar-option ui-widget ui-widget-content');\n",
       "    fmt_picker_span.append(fmt_picker);\n",
       "    nav_element.append(fmt_picker_span);\n",
       "    this.format_dropdown = fmt_picker[0];\n",
       "\n",
       "    for (var ind in mpl.extensions) {\n",
       "        var fmt = mpl.extensions[ind];\n",
       "        var option = $(\n",
       "            '<option/>', {selected: fmt === mpl.default_extension}).html(fmt);\n",
       "        fmt_picker.append(option)\n",
       "    }\n",
       "\n",
       "    // Add hover states to the ui-buttons\n",
       "    $( \".ui-button\" ).hover(\n",
       "        function() { $(this).addClass(\"ui-state-hover\");},\n",
       "        function() { $(this).removeClass(\"ui-state-hover\");}\n",
       "    );\n",
       "\n",
       "    var status_bar = $('<span class=\"mpl-message\"/>');\n",
       "    nav_element.append(status_bar);\n",
       "    this.message = status_bar[0];\n",
       "}\n",
       "\n",
       "mpl.figure.prototype.request_resize = function(x_pixels, y_pixels) {\n",
       "    // Request matplotlib to resize the figure. Matplotlib will then trigger a resize in the client,\n",
       "    // which will in turn request a refresh of the image.\n",
       "    this.send_message('resize', {'width': x_pixels, 'height': y_pixels});\n",
       "}\n",
       "\n",
       "mpl.figure.prototype.send_message = function(type, properties) {\n",
       "    properties['type'] = type;\n",
       "    properties['figure_id'] = this.id;\n",
       "    this.ws.send(JSON.stringify(properties));\n",
       "}\n",
       "\n",
       "mpl.figure.prototype.send_draw_message = function() {\n",
       "    if (!this.waiting) {\n",
       "        this.waiting = true;\n",
       "        this.ws.send(JSON.stringify({type: \"draw\", figure_id: this.id}));\n",
       "    }\n",
       "}\n",
       "\n",
       "\n",
       "mpl.figure.prototype.handle_save = function(fig, msg) {\n",
       "    var format_dropdown = fig.format_dropdown;\n",
       "    var format = format_dropdown.options[format_dropdown.selectedIndex].value;\n",
       "    fig.ondownload(fig, format);\n",
       "}\n",
       "\n",
       "\n",
       "mpl.figure.prototype.handle_resize = function(fig, msg) {\n",
       "    var size = msg['size'];\n",
       "    if (size[0] != fig.canvas.width || size[1] != fig.canvas.height) {\n",
       "        fig._resize_canvas(size[0], size[1]);\n",
       "        fig.send_message(\"refresh\", {});\n",
       "    };\n",
       "}\n",
       "\n",
       "mpl.figure.prototype.handle_rubberband = function(fig, msg) {\n",
       "    var x0 = msg['x0'] / mpl.ratio;\n",
       "    var y0 = (fig.canvas.height - msg['y0']) / mpl.ratio;\n",
       "    var x1 = msg['x1'] / mpl.ratio;\n",
       "    var y1 = (fig.canvas.height - msg['y1']) / mpl.ratio;\n",
       "    x0 = Math.floor(x0) + 0.5;\n",
       "    y0 = Math.floor(y0) + 0.5;\n",
       "    x1 = Math.floor(x1) + 0.5;\n",
       "    y1 = Math.floor(y1) + 0.5;\n",
       "    var min_x = Math.min(x0, x1);\n",
       "    var min_y = Math.min(y0, y1);\n",
       "    var width = Math.abs(x1 - x0);\n",
       "    var height = Math.abs(y1 - y0);\n",
       "\n",
       "    fig.rubberband_context.clearRect(\n",
       "        0, 0, fig.canvas.width, fig.canvas.height);\n",
       "\n",
       "    fig.rubberband_context.strokeRect(min_x, min_y, width, height);\n",
       "}\n",
       "\n",
       "mpl.figure.prototype.handle_figure_label = function(fig, msg) {\n",
       "    // Updates the figure title.\n",
       "    fig.header.textContent = msg['label'];\n",
       "}\n",
       "\n",
       "mpl.figure.prototype.handle_cursor = function(fig, msg) {\n",
       "    var cursor = msg['cursor'];\n",
       "    switch(cursor)\n",
       "    {\n",
       "    case 0:\n",
       "        cursor = 'pointer';\n",
       "        break;\n",
       "    case 1:\n",
       "        cursor = 'default';\n",
       "        break;\n",
       "    case 2:\n",
       "        cursor = 'crosshair';\n",
       "        break;\n",
       "    case 3:\n",
       "        cursor = 'move';\n",
       "        break;\n",
       "    }\n",
       "    fig.rubberband_canvas.style.cursor = cursor;\n",
       "}\n",
       "\n",
       "mpl.figure.prototype.handle_message = function(fig, msg) {\n",
       "    fig.message.textContent = msg['message'];\n",
       "}\n",
       "\n",
       "mpl.figure.prototype.handle_draw = function(fig, msg) {\n",
       "    // Request the server to send over a new figure.\n",
       "    fig.send_draw_message();\n",
       "}\n",
       "\n",
       "mpl.figure.prototype.handle_image_mode = function(fig, msg) {\n",
       "    fig.image_mode = msg['mode'];\n",
       "}\n",
       "\n",
       "mpl.figure.prototype.updated_canvas_event = function() {\n",
       "    // Called whenever the canvas gets updated.\n",
       "    this.send_message(\"ack\", {});\n",
       "}\n",
       "\n",
       "// A function to construct a web socket function for onmessage handling.\n",
       "// Called in the figure constructor.\n",
       "mpl.figure.prototype._make_on_message_function = function(fig) {\n",
       "    return function socket_on_message(evt) {\n",
       "        if (evt.data instanceof Blob) {\n",
       "            /* FIXME: We get \"Resource interpreted as Image but\n",
       "             * transferred with MIME type text/plain:\" errors on\n",
       "             * Chrome.  But how to set the MIME type?  It doesn't seem\n",
       "             * to be part of the websocket stream */\n",
       "            evt.data.type = \"image/png\";\n",
       "\n",
       "            /* Free the memory for the previous frames */\n",
       "            if (fig.imageObj.src) {\n",
       "                (window.URL || window.webkitURL).revokeObjectURL(\n",
       "                    fig.imageObj.src);\n",
       "            }\n",
       "\n",
       "            fig.imageObj.src = (window.URL || window.webkitURL).createObjectURL(\n",
       "                evt.data);\n",
       "            fig.updated_canvas_event();\n",
       "            fig.waiting = false;\n",
       "            return;\n",
       "        }\n",
       "        else if (typeof evt.data === 'string' && evt.data.slice(0, 21) == \"data:image/png;base64\") {\n",
       "            fig.imageObj.src = evt.data;\n",
       "            fig.updated_canvas_event();\n",
       "            fig.waiting = false;\n",
       "            return;\n",
       "        }\n",
       "\n",
       "        var msg = JSON.parse(evt.data);\n",
       "        var msg_type = msg['type'];\n",
       "\n",
       "        // Call the  \"handle_{type}\" callback, which takes\n",
       "        // the figure and JSON message as its only arguments.\n",
       "        try {\n",
       "            var callback = fig[\"handle_\" + msg_type];\n",
       "        } catch (e) {\n",
       "            console.log(\"No handler for the '\" + msg_type + \"' message type: \", msg);\n",
       "            return;\n",
       "        }\n",
       "\n",
       "        if (callback) {\n",
       "            try {\n",
       "                // console.log(\"Handling '\" + msg_type + \"' message: \", msg);\n",
       "                callback(fig, msg);\n",
       "            } catch (e) {\n",
       "                console.log(\"Exception inside the 'handler_\" + msg_type + \"' callback:\", e, e.stack, msg);\n",
       "            }\n",
       "        }\n",
       "    };\n",
       "}\n",
       "\n",
       "// from http://stackoverflow.com/questions/1114465/getting-mouse-location-in-canvas\n",
       "mpl.findpos = function(e) {\n",
       "    //this section is from http://www.quirksmode.org/js/events_properties.html\n",
       "    var targ;\n",
       "    if (!e)\n",
       "        e = window.event;\n",
       "    if (e.target)\n",
       "        targ = e.target;\n",
       "    else if (e.srcElement)\n",
       "        targ = e.srcElement;\n",
       "    if (targ.nodeType == 3) // defeat Safari bug\n",
       "        targ = targ.parentNode;\n",
       "\n",
       "    // jQuery normalizes the pageX and pageY\n",
       "    // pageX,Y are the mouse positions relative to the document\n",
       "    // offset() returns the position of the element relative to the document\n",
       "    var x = e.pageX - $(targ).offset().left;\n",
       "    var y = e.pageY - $(targ).offset().top;\n",
       "\n",
       "    return {\"x\": x, \"y\": y};\n",
       "};\n",
       "\n",
       "/*\n",
       " * return a copy of an object with only non-object keys\n",
       " * we need this to avoid circular references\n",
       " * http://stackoverflow.com/a/24161582/3208463\n",
       " */\n",
       "function simpleKeys (original) {\n",
       "  return Object.keys(original).reduce(function (obj, key) {\n",
       "    if (typeof original[key] !== 'object')\n",
       "        obj[key] = original[key]\n",
       "    return obj;\n",
       "  }, {});\n",
       "}\n",
       "\n",
       "mpl.figure.prototype.mouse_event = function(event, name) {\n",
       "    var canvas_pos = mpl.findpos(event)\n",
       "\n",
       "    if (name === 'button_press')\n",
       "    {\n",
       "        this.canvas.focus();\n",
       "        this.canvas_div.focus();\n",
       "    }\n",
       "\n",
       "    var x = canvas_pos.x * mpl.ratio;\n",
       "    var y = canvas_pos.y * mpl.ratio;\n",
       "\n",
       "    this.send_message(name, {x: x, y: y, button: event.button,\n",
       "                             step: event.step,\n",
       "                             guiEvent: simpleKeys(event)});\n",
       "\n",
       "    /* This prevents the web browser from automatically changing to\n",
       "     * the text insertion cursor when the button is pressed.  We want\n",
       "     * to control all of the cursor setting manually through the\n",
       "     * 'cursor' event from matplotlib */\n",
       "    event.preventDefault();\n",
       "    return false;\n",
       "}\n",
       "\n",
       "mpl.figure.prototype._key_event_extra = function(event, name) {\n",
       "    // Handle any extra behaviour associated with a key event\n",
       "}\n",
       "\n",
       "mpl.figure.prototype.key_event = function(event, name) {\n",
       "\n",
       "    // Prevent repeat events\n",
       "    if (name == 'key_press')\n",
       "    {\n",
       "        if (event.which === this._key)\n",
       "            return;\n",
       "        else\n",
       "            this._key = event.which;\n",
       "    }\n",
       "    if (name == 'key_release')\n",
       "        this._key = null;\n",
       "\n",
       "    var value = '';\n",
       "    if (event.ctrlKey && event.which != 17)\n",
       "        value += \"ctrl+\";\n",
       "    if (event.altKey && event.which != 18)\n",
       "        value += \"alt+\";\n",
       "    if (event.shiftKey && event.which != 16)\n",
       "        value += \"shift+\";\n",
       "\n",
       "    value += 'k';\n",
       "    value += event.which.toString();\n",
       "\n",
       "    this._key_event_extra(event, name);\n",
       "\n",
       "    this.send_message(name, {key: value,\n",
       "                             guiEvent: simpleKeys(event)});\n",
       "    return false;\n",
       "}\n",
       "\n",
       "mpl.figure.prototype.toolbar_button_onclick = function(name) {\n",
       "    if (name == 'download') {\n",
       "        this.handle_save(this, null);\n",
       "    } else {\n",
       "        this.send_message(\"toolbar_button\", {name: name});\n",
       "    }\n",
       "};\n",
       "\n",
       "mpl.figure.prototype.toolbar_button_onmouseover = function(tooltip) {\n",
       "    this.message.textContent = tooltip;\n",
       "};\n",
       "mpl.toolbar_items = [[\"Home\", \"Reset original view\", \"fa fa-home icon-home\", \"home\"], [\"Back\", \"Back to previous view\", \"fa fa-arrow-left icon-arrow-left\", \"back\"], [\"Forward\", \"Forward to next view\", \"fa fa-arrow-right icon-arrow-right\", \"forward\"], [\"\", \"\", \"\", \"\"], [\"Pan\", \"Pan axes with left mouse, zoom with right\", \"fa fa-arrows icon-move\", \"pan\"], [\"Zoom\", \"Zoom to rectangle\", \"fa fa-square-o icon-check-empty\", \"zoom\"], [\"\", \"\", \"\", \"\"], [\"Download\", \"Download plot\", \"fa fa-floppy-o icon-save\", \"download\"]];\n",
       "\n",
       "mpl.extensions = [\"eps\", \"jpeg\", \"pdf\", \"png\", \"ps\", \"raw\", \"svg\", \"tif\"];\n",
       "\n",
       "mpl.default_extension = \"png\";var comm_websocket_adapter = function(comm) {\n",
       "    // Create a \"websocket\"-like object which calls the given IPython comm\n",
       "    // object with the appropriate methods. Currently this is a non binary\n",
       "    // socket, so there is still some room for performance tuning.\n",
       "    var ws = {};\n",
       "\n",
       "    ws.close = function() {\n",
       "        comm.close()\n",
       "    };\n",
       "    ws.send = function(m) {\n",
       "        //console.log('sending', m);\n",
       "        comm.send(m);\n",
       "    };\n",
       "    // Register the callback with on_msg.\n",
       "    comm.on_msg(function(msg) {\n",
       "        //console.log('receiving', msg['content']['data'], msg);\n",
       "        // Pass the mpl event to the overridden (by mpl) onmessage function.\n",
       "        ws.onmessage(msg['content']['data'])\n",
       "    });\n",
       "    return ws;\n",
       "}\n",
       "\n",
       "mpl.mpl_figure_comm = function(comm, msg) {\n",
       "    // This is the function which gets called when the mpl process\n",
       "    // starts-up an IPython Comm through the \"matplotlib\" channel.\n",
       "\n",
       "    var id = msg.content.data.id;\n",
       "    // Get hold of the div created by the display call when the Comm\n",
       "    // socket was opened in Python.\n",
       "    var element = $(\"#\" + id);\n",
       "    var ws_proxy = comm_websocket_adapter(comm)\n",
       "\n",
       "    function ondownload(figure, format) {\n",
       "        window.open(figure.imageObj.src);\n",
       "    }\n",
       "\n",
       "    var fig = new mpl.figure(id, ws_proxy,\n",
       "                           ondownload,\n",
       "                           element.get(0));\n",
       "\n",
       "    // Call onopen now - mpl needs it, as it is assuming we've passed it a real\n",
       "    // web socket which is closed, not our websocket->open comm proxy.\n",
       "    ws_proxy.onopen();\n",
       "\n",
       "    fig.parent_element = element.get(0);\n",
       "    fig.cell_info = mpl.find_output_cell(\"<div id='\" + id + \"'></div>\");\n",
       "    if (!fig.cell_info) {\n",
       "        console.error(\"Failed to find cell for figure\", id, fig);\n",
       "        return;\n",
       "    }\n",
       "\n",
       "    var output_index = fig.cell_info[2]\n",
       "    var cell = fig.cell_info[0];\n",
       "\n",
       "};\n",
       "\n",
       "mpl.figure.prototype.handle_close = function(fig, msg) {\n",
       "    var width = fig.canvas.width/mpl.ratio\n",
       "    fig.root.unbind('remove')\n",
       "\n",
       "    // Update the output cell to use the data from the current canvas.\n",
       "    fig.push_to_output();\n",
       "    var dataURL = fig.canvas.toDataURL();\n",
       "    // Re-enable the keyboard manager in IPython - without this line, in FF,\n",
       "    // the notebook keyboard shortcuts fail.\n",
       "    IPython.keyboard_manager.enable()\n",
       "    $(fig.parent_element).html('<img src=\"' + dataURL + '\" width=\"' + width + '\">');\n",
       "    fig.close_ws(fig, msg);\n",
       "}\n",
       "\n",
       "mpl.figure.prototype.close_ws = function(fig, msg){\n",
       "    fig.send_message('closing', msg);\n",
       "    // fig.ws.close()\n",
       "}\n",
       "\n",
       "mpl.figure.prototype.push_to_output = function(remove_interactive) {\n",
       "    // Turn the data on the canvas into data in the output cell.\n",
       "    var width = this.canvas.width/mpl.ratio\n",
       "    var dataURL = this.canvas.toDataURL();\n",
       "    this.cell_info[1]['text/html'] = '<img src=\"' + dataURL + '\" width=\"' + width + '\">';\n",
       "}\n",
       "\n",
       "mpl.figure.prototype.updated_canvas_event = function() {\n",
       "    // Tell IPython that the notebook contents must change.\n",
       "    IPython.notebook.set_dirty(true);\n",
       "    this.send_message(\"ack\", {});\n",
       "    var fig = this;\n",
       "    // Wait a second, then push the new image to the DOM so\n",
       "    // that it is saved nicely (might be nice to debounce this).\n",
       "    setTimeout(function () { fig.push_to_output() }, 1000);\n",
       "}\n",
       "\n",
       "mpl.figure.prototype._init_toolbar = function() {\n",
       "    var fig = this;\n",
       "\n",
       "    var nav_element = $('<div/>')\n",
       "    nav_element.attr('style', 'width: 100%');\n",
       "    this.root.append(nav_element);\n",
       "\n",
       "    // Define a callback function for later on.\n",
       "    function toolbar_event(event) {\n",
       "        return fig.toolbar_button_onclick(event['data']);\n",
       "    }\n",
       "    function toolbar_mouse_event(event) {\n",
       "        return fig.toolbar_button_onmouseover(event['data']);\n",
       "    }\n",
       "\n",
       "    for(var toolbar_ind in mpl.toolbar_items){\n",
       "        var name = mpl.toolbar_items[toolbar_ind][0];\n",
       "        var tooltip = mpl.toolbar_items[toolbar_ind][1];\n",
       "        var image = mpl.toolbar_items[toolbar_ind][2];\n",
       "        var method_name = mpl.toolbar_items[toolbar_ind][3];\n",
       "\n",
       "        if (!name) { continue; };\n",
       "\n",
       "        var button = $('<button class=\"btn btn-default\" href=\"#\" title=\"' + name + '\"><i class=\"fa ' + image + ' fa-lg\"></i></button>');\n",
       "        button.click(method_name, toolbar_event);\n",
       "        button.mouseover(tooltip, toolbar_mouse_event);\n",
       "        nav_element.append(button);\n",
       "    }\n",
       "\n",
       "    // Add the status bar.\n",
       "    var status_bar = $('<span class=\"mpl-message\" style=\"text-align:right; float: right;\"/>');\n",
       "    nav_element.append(status_bar);\n",
       "    this.message = status_bar[0];\n",
       "\n",
       "    // Add the close button to the window.\n",
       "    var buttongrp = $('<div class=\"btn-group inline pull-right\"></div>');\n",
       "    var button = $('<button class=\"btn btn-mini btn-primary\" href=\"#\" title=\"Stop Interaction\"><i class=\"fa fa-power-off icon-remove icon-large\"></i></button>');\n",
       "    button.click(function (evt) { fig.handle_close(fig, {}); } );\n",
       "    button.mouseover('Stop Interaction', toolbar_mouse_event);\n",
       "    buttongrp.append(button);\n",
       "    var titlebar = this.root.find($('.ui-dialog-titlebar'));\n",
       "    titlebar.prepend(buttongrp);\n",
       "}\n",
       "\n",
       "mpl.figure.prototype._root_extra_style = function(el){\n",
       "    var fig = this\n",
       "    el.on(\"remove\", function(){\n",
       "\tfig.close_ws(fig, {});\n",
       "    });\n",
       "}\n",
       "\n",
       "mpl.figure.prototype._canvas_extra_style = function(el){\n",
       "    // this is important to make the div 'focusable\n",
       "    el.attr('tabindex', 0)\n",
       "    // reach out to IPython and tell the keyboard manager to turn it's self\n",
       "    // off when our div gets focus\n",
       "\n",
       "    // location in version 3\n",
       "    if (IPython.notebook.keyboard_manager) {\n",
       "        IPython.notebook.keyboard_manager.register_events(el);\n",
       "    }\n",
       "    else {\n",
       "        // location in version 2\n",
       "        IPython.keyboard_manager.register_events(el);\n",
       "    }\n",
       "\n",
       "}\n",
       "\n",
       "mpl.figure.prototype._key_event_extra = function(event, name) {\n",
       "    var manager = IPython.notebook.keyboard_manager;\n",
       "    if (!manager)\n",
       "        manager = IPython.keyboard_manager;\n",
       "\n",
       "    // Check for shift+enter\n",
       "    if (event.shiftKey && event.which == 13) {\n",
       "        this.canvas_div.blur();\n",
       "        event.shiftKey = false;\n",
       "        // Send a \"J\" for go to next cell\n",
       "        event.which = 74;\n",
       "        event.keyCode = 74;\n",
       "        manager.command_mode();\n",
       "        manager.handle_keydown(event);\n",
       "    }\n",
       "}\n",
       "\n",
       "mpl.figure.prototype.handle_save = function(fig, msg) {\n",
       "    fig.ondownload(fig, null);\n",
       "}\n",
       "\n",
       "\n",
       "mpl.find_output_cell = function(html_output) {\n",
       "    // Return the cell and output element which can be found *uniquely* in the notebook.\n",
       "    // Note - this is a bit hacky, but it is done because the \"notebook_saving.Notebook\"\n",
       "    // IPython event is triggered only after the cells have been serialised, which for\n",
       "    // our purposes (turning an active figure into a static one), is too late.\n",
       "    var cells = IPython.notebook.get_cells();\n",
       "    var ncells = cells.length;\n",
       "    for (var i=0; i<ncells; i++) {\n",
       "        var cell = cells[i];\n",
       "        if (cell.cell_type === 'code'){\n",
       "            for (var j=0; j<cell.output_area.outputs.length; j++) {\n",
       "                var data = cell.output_area.outputs[j];\n",
       "                if (data.data) {\n",
       "                    // IPython >= 3 moved mimebundle to data attribute of output\n",
       "                    data = data.data;\n",
       "                }\n",
       "                if (data['text/html'] == html_output) {\n",
       "                    return [cell, data, j];\n",
       "                }\n",
       "            }\n",
       "        }\n",
       "    }\n",
       "}\n",
       "\n",
       "// Register the function which deals with the matplotlib target/channel.\n",
       "// The kernel may be null if the page has been refreshed.\n",
       "if (IPython.notebook.kernel != null) {\n",
       "    IPython.notebook.kernel.comm_manager.register_target('matplotlib', mpl.mpl_figure_comm);\n",
       "}\n"
      ],
      "text/plain": [
       "<IPython.core.display.Javascript object>"
      ]
     },
     "metadata": {},
     "output_type": "display_data"
    },
    {
     "data": {
      "text/html": [
       "<img src=\"data:image/png;base64,iVBORw0KGgoAAAANSUhEUgAABQAAAAPACAYAAABq3NR5AAAgAElEQVR4XuzdCZRlVX0/+l9N3dVzM3Q3swgNEgU0DiAgGP4KIQ5oAmh8C4LGKEbU+PwLiP5lSJRBXPHvkIDDSlB8hhhwCCIBff4NoPIARUGCERoZ1KYHoOfu6u6qemufGrq6u6q6bve5dc4953PX6lXTuWfv/flttmt/Peeetv7+/v7wIkCAAAECBAgQIECAAAECBAgQIECgkgJtAsBK1tWgCBAgQIAAAQIECBAgQIAAAQIECGQCAkATgQABAgQIECBAgAABAgQIECBAgECFBQSAFS6uoREgQIAAAQIECBAgQIAAAQIECBAQAJoDBAgQIECAAAECBAgQIECAAAECBCosIACscHENjQABAgQIECBAgAABAgQIECBAgIAA0BwgQIAAAQIECBAgQIAAAQIECBAgUGEBAWCFi2toBAgQIECAAAECBAgQIECAAAECBASA5gABAgQIECBAgAABAgQIECBAgACBCgsIACtcXEMjQIAAAQIECBAgQIAAAQIECBAgIAA0BwgQIECAAAECBAgQIECAAAECBAhUWEAAWOHiGhoBAgQIECBAgAABAgQIECBAgAABAaA5QIAAAQIECBAgQIAAAQIECBAgQKDCAgLAChfX0AgQIECAAAECBAgQIECAAAECBAgIAM0BAgQIECBAgAABAgQIECBAgAABAhUWEABWuLiGRoAAAQIECBAgQIAAAQIECBAgQEAAaA4QIECAAAECBAgQIECAAAECBAgQqLCAALDCxTU0AgQIECBAgAABAgQIECBAgAABAgJAc4AAAQIECBAgQIAAAQIECBAgQIBAhQUEgBUurqERIECAAAECBAgQIECAAAECBAgQEACaAwQIECBAgAABAgQIECBAgAABAgQqLCAArHBxDY0AAQIECBAgQIAAAQIECBAgQICAANAcIECAAAECBAgQIECAAAECBAgQIFBhAQFghYtraAQIECBAgAABAgQIECBAgAABAgQEgOYAAQIECBAgQIAAAQIECBAgQIAAgQoLCAArXFxDI0CAAAECBAgQIECAAAECBAgQICAANAcIECBAgAABAgQIECBAgAABAgQIVFhAAFjh4hoaAQIECBAgQIAAAQIECBAgQIAAAQGgOUCAAAECBAgQIECAAAECBAgQIECgwgICwAoX19AIECBAgAABAgQIECBAgAABAgQICADNAQIECBAgQIAAAQIECBAgQIAAAQIVFhAAVri4hkaAAAECBAgQIECAAAECBAgQIEBAAGgOECBAgAABAgQIECBAgAABAgQIEKiwgACwwsU1NAIECBAgQIAAAQIECBAgQIAAAQICQHOAAAECBAgQIECAAAECBAgQIECAQIUFBIAVLq6hESBAgAABAgQIECBAgAABAgQIEBAAmgMECBAgQIAAAQIECBAgQIAAAQIEKiwgAKxwcQ2NAAECBAgQIECAAAECBAgQIECAgADQHCBAgAABAgQIECBAgAABAgQIECBQYQEBYIWLa2gECBAgQIAAAQIECBAgQIAAAQIEBIDmAAECBAgQIECAAAECBAgQIECAAIEKCwgAK1xcQyNAgAABAgQIECBAgAABAgQIECAgADQHCBAgQIAAAQIECBAgQIAAAQIECFRYQABY4eIaGgECBAgQIECAAAECBAgQIECAAAEBoDlAgAABAgQIECBAgAABAgQIECBAoMICAsAKF9fQCBAgQIAAAQIECBAgQIAAAQIECAgAzQECBAgQIECAAAECBAgQIECAAAECFRYQAFa4uIZGgAABAgQIECBAgAABAgQIECBAQABoDhAgQIAAAQIECBAgQIAAAQIECBCosIAAsMLFNTQCBAgQIECAAAECBAgQIECAAAECAkBzgAABAgQIECBAgAABAgQIECBAgECFBQSAFS6uoREgQIAAAQIECBAgQIAAAQIECBAQAJoDBAgQIECAAAECBAgQIECAAAECBCosIACscHENjQABAgQIECBAgAABAgQIECBAgIAA0BwgQIAAAQIECBAgQIAAAQIECBAgUGEBAWCFi2toBAgQIECAAAECBAgQIECAAAECBASA5gABAgQIECBAgAABAgQIECBAgACBCgsIACtcXEMjQIAAAQIECBAgQIAAAQIECBAgIAA0BwgQIECAAAECBAgQIECAAAECBAhUWEAAWOHiGhoBAgQIECBAgAABAgQIECBAgAABAaA5QIAAAQIECBAgQIAAAQIECBAgQKDCAgLAChfX0AgQIECAAAECBAgQIECAAAECBAgIAM0BAgQIECBAgAABAgQIECBAgAABAhUWEABWuLiGRoAAAQIECBAgQIAAAQIECBAgQEAAaA4QIECAAAECBAgQIECAAAECBAgQqLCAALDCxTU0AgQIECBAgAABAgQIECBAgAABAgJAc4AAAQIECBAgQIAAAQIECBAgQIBAhQUEgBUurqERIECAAAECBAgQIECAAAECBAgQEACaAwQIECBAgAABAgQIECBAgAABAgQqLCAArHBxDY0AAQIECBAgQIAAAQIECBAgQICAANAcIECAAAECBAgQIECAAAECBAgQIFBhAQFghYtraAQIECBAgAABAgQIECBAgAABAgQEgOYAAQIECBAgQIAAAQIECBAgQIAAgQoLCAArXFxDI0CAAAECBAgQIECAAAECBAgQICAANAcIECBAgAABAgQIECBAgAABAgQIVFhAAFjh4hoaAQIECBAgQIAAAQIECBAgQIAAAQGgOUCAAAECBAgQIECAAAECBAgQIECgwgICwAoX19AIECBAgAABAgQIECBAgAABAgQICADNAQIECBAgQIAAAQIECBAgQIAAAQIVFhAAVri4hkaAAAECBAgQIECAAAECBAgQIEBAAGgOECBAgAABAgQIECBAgAABAgQIEKiwgACwwsU1NAIECBAgQIAAAQIECBAgQIAAAQICQHOAAAECBAgQIECAAAECBAgQIECAQIUFBIAVLq6hESBAgAABAgQIECBAgAABAgQIEBAAmgMECBAgQIAAAQIECBAgQIAAAQIEKiwgAKxwcQ2NAAECBAgQIECAAAECBAgQIECAgADQHCBAgAABAgQIECBAgAABAgQIECBQYQEBYIWLa2gECBAgQIAAAQIECBAgQIAAAQIEBIDmAAECBAgQIECAAAECBAgQIECAAIEKCwgAK1xcQyNAgAABAgQIECBAgAABAgQIECAgADQHCBAgQIAAAQIECBAgQIAAAQIECFRYQABY4eIaGgECBAgQIECAAAECBAgQIECAAAEBoDlAgAABAgQIECBAgAABAgQIECBAoMICAsAKF9fQCBAgQIAAAQIECBAgQIAAAQIECAgAzQECBAgQIECAAAECBAgQIECAAAECFRYQAFa4uIZGgAABAgQIECBAgAABAgQIECBAQABoDhAgQIAAAQIECBAgQIAAAQIECBCosIAAsMLFNTQCBAgQIECAAAECBAgQIECAAAECAkBzgAABAgQIECBAgAABAgQIECBAgECFBQSAFS6uoREgQIAAAQIECBAgQIAAAQIECBAQAJoDBAgQIECAAAECBAgQIECAAAECBCosIACscHENjQABAgQIECBAgAABAgQIECBAgIAA0BwgQIAAAQIECBAgQIAAAQIECBAgUGEBAWCFi2toBAgQIECAAAECBAgQIECAAAECBASA5gABAgQIECBAgAABAgQIECBAgACBCgsIAEtU3KVLl8bdd9+d/bvnnnuyf08//XTWw7PPPjuuvfba3Hv7L//yL/HP//zPcf/998eKFStiwYIFcfzxx8e5554bxxxzTO7tOSEBAgQIECBAgAABAgQIECBAgMDkCggAJ9d73Nba2trG/HveAeD69evj9NNPj+9+97ujttne3h4XXXRRXHzxxSUS0hUCBAgQIECAAAECBAgQIECAAIFGBQSAjYo18fiRAeABBxwQhx12WNx2221Zi3kHgG95y1vi+uuvz8594oknxt/8zd/EPvvsEw888EBcdtllsWjRouxvn//85+Od73xnE0ft1AQIECBAgAABAgQIECBAgAABAs0UEAA2U7fBc6er7V72spdl/9KtuI899lg897nPzT0A/MEPfhCvetWrsvO+/vWvj29+85vR0dEx3Nvly5fHS17yknjiiSdi7ty58eijj8Zuu+3W4GgcToAAAQIECBAgQIAAAQIECBAgUAYBAWAZqjBGH5oVAL7mNa+JW265JTo7O+M3v/lN7Lffftv1IF0dmK4STK9PfOITcd5555VYStcIECBAgAABAgQIECBAgAABAgTGEhAAlnhuNCMAXL16dey5556xcePGOOWUU7IgcLRX+vu8efNi1apV2cNAfvzjH5dYStcIECBAgAABAgQIECBAgAABAgQEgC04B5oRAI68/ffyyy+PD33oQ2PK/PEf/3H2GYTpSsF169ZFV1dXCyrqMgECBAgQIECAAAECBAgQIECg3gKuACxx/ZsRAH7uc5+L9773vdmo02f/vfGNbxxTID0Y5DOf+Uz29wcffDCe//znl1hL1wgQIECAAAECBAgQIECAAAECBEYTEACWeF40IwBMV/xdeeWV2ajvueeeeOlLXzqmwCc/+cnhz/77j//4j0hXBE709dvf/nbcQzds2BC/+tWvsoedpFuN01WGXgQIECBAgAABAgQIECBAgEC+Aps3b45ly5ZlJz3iiCOiu7s73wacrSUEBIAlLlMzAsBzzz03/vEf/zEb9UMPPRSHHXbYmAJXX311vPvd787+fsMNN8Rpp502Ya22trYJH+tAAgQIECBAgAABAgQIECBAoPkCd999d7zsZS9rfkNaKJ2AALB0JdnSoWYEgG9/+9vjn/7pn7JGFi1aFAcddNCYAum4dHx6XXfddXHmmWdOWEsAOGEqBxIgQIAAAQIECBAgQIAAgUkREABOCnMpGxEAlrIsA51qRgA4WVcA7ugW4CeffDKOPfbYbJxpAdp7771LXAldI0CAAAECBAgQIECAAAECrSmwePHiOOqoo7LO/+Y3v4kDDzywNQei17skIADcJb7mvrkZAeBkfQbgjmRSQLj//vtnh6UwcL/99tvRW/ydAAECBAgQIECAAAECBAgQaFDA/rtBsIoeLgAscWGbEQCW5SnAFqASTzxdI0CAAAECBAgQIECAAIHKCNh/V6aUuzQQAeAu8TX3zc0IAH/wgx/Eq171qqzjl19+eaQrAsd6paf+3nbbbdkTetetWxddXV25DdgClBulExEgQIAAAQIECBAgQIAAgTEF7L9NjiQgACzxPGhGALh69erYc889Y+PGjXHKKafELbfcMqpA+vu8efNi1apVccwxx8SPf/zjXKUsQLlyOhkBAgQIECBAgAABAgQIEBhVwP7bxBAAlnwONCMATEN+zWtekwV/6cq+9AGgo33+3vXXXx9vectbMqFPfOITcd555+WqZQHKldPJCBAgQIAAAQIECBAgQICAANAcGFPAFYAlnhw7EwBee+218ba3vS0b1cUXXxyXXHLJdiMceRvwqaeeGt/4xjeio6Nj+Ljly5fHS17yknjiiSdi7ty58eijj8Zuu+2Wq5QAMFdOJyNAgAABAgQIECBAgAABAgJAc0AA2Apz4M4774xHHnlkqyBu6Mq74447Lv7qr/5qq2G89a1v3W5YEwkA05vS1X3pKr/0OvHEE+P9739/7LPPPvHAAw/Exz/+8Vi0aFH2t89//vPxzne+M3c+AWDupE5IgAABAgQIECBAgAABAgS2E7D/NimSgCsASzQPUqD35S9/ecI96u/v3+kAcP369XH66afHd7/73VHba29vj49+9KOjXkE44Q6Oc6AFKA9F5yBAgAABAgQIECBAgAABAuML2H+bIQLAks2ByQwAh4b+ta99LdJVg7/4xS9ixYoVsWDBgjj++OPjPe95T/bwj2a9LEDNknVeAgQIECBAgAABAgQIECCwRcD+22wQAJoDhQlYgAqj1zABAgQIECBAgAABAgQI1EjA/rtGxR5nqG4BNg8KEbAAFcKuUQIECBAgQIAAAQIECBComYD9d80KPsZwBYDmQSECFqBC2DVKgAABAgQIECBAgAABAjUTsP+uWcEFgApeJgELUJmqoS8ECBAgQIAAAQIECBAgUFUB+++qVraxcbkCsDEvR+ckYAHKCdJpCBAgQIAAAQIECBAgQIDAOAL236ZHEhAAmgeFCFiACmHXKAECBAgQIECAAAECBAjUTMD+u2YFH2O4AkDzoBABC1Ah7BolQIAAAQIECBAgQIAAgZoJ2H/XrOACQAUvk4AFqEzV0BcCBAgQIECAAAECBAgQqKqA/XdVK9vYuFwB2JiXo3MSsADlBOk0BAgQIECAAAECBAgQIEBgHAH7b9MjCQgAzYNCBCxAhbBrlAABAgQIECBAgAABAgRqJmD/XbOCjzFcAaB5UIiABagQdo0SIECAAAECBAgQIECAQM0E7L9rVnABoIKXScACVKZq6AsBAgQIECBAgAABAgQIVFXA/ruqlW1sXK4AbMzL0TkJWIBygnQaAgQIECBAgAABAgQIECAwjoD9t+mRBASA5kEhAhagQtg1SoAAAQIECBAgQIAAAQI1E7D/rlnBxxiuANA8KETAAlQIu0YJECBAgAABAgQIECBAoGYC9t81K7gAUMHLJGABKlM19IUAAQIECBAgQIAAAQIEqipg/13VyjY2LlcANubl6JwELEA5QToNAQIECBAgQIAAAQIECBAYR8D+2/RIAgJA86AQAQtQIewaJUCAAAECBAgQIECAAIGaCdh/16zgYwxXAGgeFCJgASqEXaMECBAgQIAAAQIECBAgUDMB+++aFVwAqOBlErAAlaka+kKAAAECBAgQIECAAAECVRWw/65qZRsblysAG/NydE4CFqCcIJ2GAAECBAgQIECAAAECBAiMI2D/bXokAQGgeVCIgAWoEHaNEiBAgAABAgQIECBAgEDNBOy/a1bwMYYrADQPChGwABXCrlECBAgQIECAAAECBAgQqJmA/XfNCi4AVPAyCViAylQNfSFAgAABAgQIECBAgACBqgrYf1e1so2NyxWAjXk5OicBC1BOkE5DgAABAgQIECBAgAABAgTGEbD/Nj2SgADQPChEwAJUCLtGCRAgQIAAAQIECBAgQKBmAvbfNSv4GMMVAJoHhQhYgAph1ygBAgQIECBAgAABAgQI1EzA/rtmBRcAKniZBCxAZaqGvhAgQIAAAQIECBAgQIBAVQXsv6ta2cbG5QrAxrwcnZOABSgnSKchQIAAAQIECBAgQIAAAQLjCNh/mx5JQABoHhQiYAEqhF2jBAgQIECAAAECBAgQIFAzAfvvmhV8jOEKAM2DQgQsQIWwa5QAAQIECBAgQIAAAQIEaiZg/12zggsAFbxMAhagMlVDXwgQIECAAAECBAgQIECgqgL231WtbGPjcgVgY16OzknAApQTpNMQIECAAAECBAgQIECAAIFxBOy/TY8kIAA0DwoRsAAVwq5RAgQIECBAgAABAgQIEKiZgP13zQo+xnAFgOZBIQIWoELYNUqAAAECBAgQIECAAAECNROw/65ZwQWACl4mAQtQmaqhLwQIECBAgAABAgQIECBQVQH776pWtrFxuQKwMS9H5yRgAcoJ0mkIECBAgAABAgQIECBAgMA4AvbfpkcSEACaB4UIWIAKYdcoAQIECBAgQIAAAQIECNRMwP67ZgUfY7gCQPOgEAELUCHsGiVAgAABAgQIECBAgACBmgnYf9es4AJABS+TgAWoTNXQFwIECBAgQIAAAQIECBCoqoD9d1Ur29i4XAHYmJejcxKwAOUE6TQECBAgQIAAAQIECBAgQGAcAftv0yMJCADNg0IELECFsGuUAAECBAgQIECAAAECBGomYP9ds4KPMVwBoHlQiIAFqBB2jRIgQIAAAQIECBAgQIBAzQTsv2tWcAGggpdJwAJUpmroCwECBAgQIECAAAECBAhUVcD+u6qVbWxcrgBszMvROQlYgHKCdBoCBAgQIECAAAECBAgQIDCOgP236ZEEBIDmQSECFqBC2DVKgAABAgQIECBAgAABAjUTsP+uWcHHGK4A0DwoRMACVAi7RgkQIECAAAECBAgQIECgZgL23zUruABQwcskYAEqUzX0hQABAgQIECBAgAABAgSqKmD/XdXKNjYuVwA25uXonAQsQDlBOg0BAgQIECBAgAABAgQIEBhHwP7b9EgCAkDzoBABC1Ah7BolQIAAAQIECBAgQIAAgZoJ2H/XrOBjDFcAaB4UImABKoRdowQIECBAgAABAgQIECBQMwH775oVXACo4GUSsACVqRr6QoAAAQIECBAgQIAAAQJVFbD/rmplGxuXKwAb83J0TgIWoJwgnYYAAQIECBAgQIAAAQIECIwjYP9teiQBAaB5UIiABagQdo0SIECAAAECBAgQIECAQM0E7L9rVvAxhisANA8KEbAAFcKuUQIECBAgQIAAAQIECBComYD9d80KLgBU8DIJWIDKVA19IUCAAAECBAgQIECAAIGqCth/V7WyjY3LFYCNeTk6JwELUE6QTkOAAAECBAgQIECAAAECBMYRsP82PZKAANA8KETAAlQIu0YJECBAgAABAgQIECBAoGYC9t81K/gYwxUAmgeFCFiACmHXKAECBAgQIECAAAECBAjUTMD+u2YFFwAqeJkELEBlqoa+ECBAgAABAgQIECBAgEBVBey/q1rZxsblCsDGvBydk4AFKCdIpyFAgAABAgQIECBAgAABAuMI2H+bHklAAGgeFCJgASqEXaMECBAgQIAAAQIECBAgUDMB+++aFXyM4QoAzYNCBCxAhbBrlAABAgQIECBAgAABAgRqJmD/XbOCCwAVvEwCFqAyVUNfCBAgQIAAAQIECBAgQKCqAvbfVa1sY+NyBWBjXo7OScAClBOk0xAgQIAAAQIECBAgQIAAgXEE7L9NjyQgADQPChGwABXCrlECBAgQIECAAAECBAgQqJmA/XfNCj7GcAWA5kEhAhagQtg1SoAAAQIECBAgQIAAAQI1E7D/rlnBBYAKXiYBC1CZqqEvBAgQIECAAAECBAgQIFBVAfvvqla2sXG5ArAxL0fnJGABygnSaQgQIECAAAECBAgQIECAwDgC9t+mRxIQAJoHhQhYgAph1ygBAgQIECBAgAABAgQI1EzA/rtmBR9juAJA86AQAQtQIewaJUCAAAECBAgQIECAAIGaCdh/16zgAkAFL5OABahM1dAXAgQIECBAgAABAgQIEKiqgP13VSvb2LhcAdiYl6NzErAA5QTpNAQIECBAgAABAgQIECBAYBwB+2/TIwkIAM2DQgQsQIWwa5QAAQIECBAgQIAAAQIEaiZg/12zgo8xXAGgeVCIgAWoEHaNEiBAgAABAgQIECBAgEDNBOy/a1ZwAaCCl0nAAlSmaugLAQIECBAgQIAAAQIECFRVwP67qpVtbFyuAGzMy9E5CViAcoJ0GgIECBAgQIAAAQIECBAgMI6A/bfpkQQEgOZBIQIWoELYNUqAAAECBAgQIECAAAECNROw/65ZwccYrgDQPChEwAJUCLtGCRAgQIAAAQIECBAgQKBmAvbfNSu4AFDByyRgASpTNfSFAAECBAgQIECAAAECBKoqYP9d1co2Ni5XADbm5eicBCxAOUE6DQECBAgQIECAAAECBAgQGEfA/tv0SAICQPOgEAELUCHsGiVAgAABAgQIECBAgACBmgnYf9es4GMMVwBoHhQiYAEqhF2jBAgQIECAAAECBAgQIFAzAfvvmhVcAKjgZRKwAJWpGvpCgAABAgQIECBAgAABAlUVsP+uamUbG5crABvzcnROAhagnCCdhgABAgQIECBAgAABAgQIjCNg/216JAEBoHlQiIAFqBB2jRIgQIAAAQIECBAgQIBAzQTsv2tW8DGGKwA0DwoRsAAVwq5RAgQIECBAgAABAgQIEKiZgP13zQouAFTwMglYgMpUDX0hQIAAAQIECBAgQIAAgaoK2H9XtbKNjcsVgI15OTonAQtQTpBOQ4AAAQIECBAgQIAAAQIExhGw/zY9koAA0DwoRMACVAi7RgkQIECAAAECBAgQIECgZgL23zUr+BjDFQCaB4UIWIAKYdcoAQIECBAgQIAAAQIECNRMwP67ZgUXACp4mQQsQGWqhr4QIECAAAECBAgQIECAQFUF7L+rWtnGxuUKwMa8HJ2TgAUoJ0inIUCAAAECBAgQIECAAAEC4wjYf5seSUAAaB4UImABKoRdowQIECBAgAABAgQIECBQMwH775oVfIzhCgDNg0IELECFsGuUAAECBAgQIECAAAECBGomYP9ds4ILABW8TAIWoDJVQ18IECBAgAABAgQIECBAoKoC9t9VrWxj43IFYGNejs5JwAKUE6TTECBAgAABAgQIECBAgACBcQTsv02PJCAANA8KEbAAFcKuUQIECBAgQIAAAQIECBComYD9d80KPsZwBYDmQSECFqBC2DVKgAABAgQIECBAgAABAjUTsP+uWcEFgApeJgELUJmqoS8ECBAgQIAAAQIECBAgUFUB+++qVraxcbkCsDEvR+ckYAHKCdJpCBAgQIAAAQIECBAgQIDAOAL236ZHEhAAmgeFCFiACmHXKAECBAgQIECAAAECBAjUTMD+u2YFH2O4AkDzoBABC1Ah7BolQIAAAQIECBAgQIAAgZoJ2H/XrOACQAUvk4AFqEzV0BcCBAgQIECAAAECBAgQqKqA/XdVK9vYuFwB2JiXo3MSsADlBOk0BAgQIECAAAECBAgQIEBgHAH7b9MjCQgAzYNCBCxAhbBrlAABAgQIECBAgAABAgRqJmD/XbOCjzFcAaB5UIiABagQdo0SIECAAAECBAgQIECAQM0E7L9rVnABoIKXScACVKZq6AsBAgQIECBAgAABAgQIVFXA/ruqlW1sXK4AbMzL0TkJWIByghSHZxYAACAASURBVHQaAgQIECBAgAABAgQIECAwjoD9t+mRBASA5kEhAhagQtg1SoAAAQIECBAgQIAAAQI1E7D/rlnBxxiuANA8KETAAlQIu0YJECBAgAABAgQIECBAoGYC9t81K7gAUMHLJGABKlM19IUAAQIECBAgQIAAAQIEqipg/13VyjY2LlcANubl6JwELEA5QToNAQIECBAgQIAAAQIECBAYR8D+2/RIAgJA86AQAQtQIewaJUCAAAECBAgQIECAAIGaCdh/16zgYwxXAGgeFCJgASqEXaMECBAgQIAAAQIECBAgUDMB+++aFVwAqOBlErAAlaka+kKAAAECBAgQIECAAAECVRWw/65qZRsblysAG/NydE4CFqCcIJ2GAAECBAgQIECAAAECBAiMI2D/bXokAQGgeVCIgAWoEHaNEiBAgAABAgQIECBAgEDNBOy/a1bwMYYrADQPChGwABXCrlECBAgQIECAAAECBAgQqJmA/XfNCi4AVPAyCViAylQNfSFAgAABAgQIECBAgEB1BPr7+6Nnc1/0bOqLDZt7Y8Om9K8verLv+wZ/7s2Oyf6WHTvi51GOH+3Yro62uO3/fmXp4ey/S1+iSemgKwAnhVkj2wpYgMwJAgQIECBAgAABAgQItL5ACtv6+iN6+9LXgX/Z930x8H36Xfa3yL7fOBS6bROyDYRzI0O4gXBuOHgbEeDt6Nj0nsl4Telsj19/7E8mo6ldasP+e5f4KvNmAWBlStlaA7EAtVa99JYAAQIECBAgQKDaAinE2dzXH5t6+2LT5v7Y1NeXhTfRPzDu9GXgx/7Br4O/7x/4OTtmxN+3vCe9Y+BvQycbOu12x2/7/uG2t7SZ+jn46+FzjjzfQD+2tJl915+CqIEwKr03+zrY7+Hfb/NzNvbBY1OQNfJ96T3pz8PnSccNBlxbvW+b40Z932B4NmQ9EKBtff7s50ih2lA7W0K13sF+pPa3BHCjh3FZEDcYxg2EcoMBXXrv4PjTOdK/5JN+l7W5Vai3JcjL2hxR/2r/FzL26B697DXR3t5W6uHbf5e6PJPWOQHgpFFraKSABch8IECAAAECBAgQqINAClNSqLYxC9b6YlPviJ8Hw7bsbyP+bUwB3Mif03uy9w782zh4jqHfDf889PcdvD/1YbjNwT6ln70IEGhc4Fd/d0p0d3U0/sZJfIf99yRil7gpAWCJi1PlrlmAqlxdYyNAgAABAgQItI5AutJp/abeWNvTG+s2bs6+rt808HXo5/R13cbeWLuxN9b1bB74Osax6VwpmBsK2NLVW14ECJRDIN2yO7WzPQvsurvS9wNfu7OvHcN/m5p+N+Lngb+PfO+WY48/ZM/o7GgvxwDH6IX9d6nLM2mdEwBOGrWGRgpYgMwHAgQIECBAgACBRgRSUJdCtXU9KYgbCOSyf9sEclvCus1bjk1h3qZRwrt0nk29w7ewNtIfxxIgsGsCWfCWgrjOjsgCt6GQbWTwlv29fcTftw7upo567BihXmd76W/V3TXRsd9t/90s2dY6rwCwtepVmd5agCpTSgMhQIAAAQIEaiCw7efDpSBuyy2t6cmaQ7enDt7eOuIKuPSB/8O3rQ79fsTvhv6ePtQ/XVm3Pl1p1zN0xd2WEC/9Pn1GnVe1BNraItKnp7Wlb9LX7Pv0deAPQ5+sNvS70Y4fOi6dY/A0w+ccOnf6iLb0t/a2tuxferW3D/ycfsq+Dv59y9fBv404LrUxcK5tvkbb8Pmyc+/guKyv2xw33O7Q79sH2hky6UjnbG+Loa+pjXThWfo5HdeR/tY+MI70u/T9UD+y7wd/Hj7P4LgGzjMwni3fj2xrm9+n8w+da/jrFtuhtrJ20jmH+pz1PyJdhTelo3245tWa0eUcjf13Oesy2b0SAE62uPYyAQuQiUCAAAECBAgQ2DmBzb19sXzNxliyakM8tWpDrFy/KXuq5pbPjOvfEshtFcRtCeeGPpNuy/vGCu62fFbc0IMedq7X3jWWQApCujraoqszfR0IRrKfs6/t2e+njPw5HdM58Pfs2MEwZeR7UsCy1c/ZcVvOOdDGlna3+jk7f3t0DgY7w2HcYDo3MoAbLZzLDhv8Q4qutj1++G9D35gaBAg0XcD+u+nELdGAALCkZXr88cfjM5/5TNx8883x5JNPxtSpU+Pggw+ON73pTXHuuefG9OnTd7nnjz32WFx99dXx/e9/PxYtWhRr166NWbNmxWGHHRannHJKvOtd74r58+fvcjujncAC1BRWJyVAgAABAgRaWCBdZbdi3aZYsnpDLFnVE0tWpq8DIV/2c/Z1Qyxf05M9JdSrOQIpl5oxpTOmT+kY/NcZM6am7we+Tusa8fOUjpg2pSNmTB04Pr0v/Zw+Y2wowBsK64Z/HhHGpZBt6Mq35ozGWQkQIOACHHNgQEAAWMKZcNNNN8WZZ54Zq1atGrV3hx56aBYMLly4cKd7f91118U555wT69evH/Mcu+++e1x//fVx0kkn7XQ7Y71RAJg7qRMSIECAAAECJRZIt68OBHkj//Vkv1s6IuRLV+R5TVwgfYZYFtZN3RK+DYV3Q6HcQJA3Toi3zXvTOYVyE6+BIwkQKL+A/Xf5azQZPRQAToZyA23cd999cdxxx2XB3MyZM+PCCy+ME088Mfs5hXFf/OIXs7OlEPDee+/Nrthr9PWjH/0oTjjhhOjr64v29vY4++yz4w1veEPss88+8cQTT8SXv/zlSCFkek2bNi1++ctfxkEHHdRoM+MebwHKldPJCBAgQIAAgYIE0q206Yq8p7Kr9bZcpTcQ7A38nL5fvWFzQT2cnGbTlWwDt50O/Bu4Am7ELadDt6l2tg3e4rrl1tWB21jT79OVdINX1A1egbclxBu8wm5qZ8xIgd7UzpjW1ZF9DpkXAQIECIwvYP9thiQBAWDJ5kEK5u64447o7OyM22+/PY455pitenjVVVfF+eefn/3u4osvjksuuaThEbzuda/LriBMr3/4h3+Id7/73dud43/+z/8Zf//3f5/9Pt1y/LnPfa7hdsZ7gwUoV04nI0CAAAECBHIWSLfjPrtu00Cwt3rwKr2VPQO35w7+7qmVPfH02p7CniCbArb5s7pjj5lTtrrldNsAbiiYG/pcuBS0DQRuA5/1NvxZcx1t251n6MP6h47PPndu6LPqhkK+9vo+WTPnaed0BAgQaIqA/XdTWFvupALAEpXs7rvvjqOPPjrrUbo995prrtmud+mqvcMPPzweeuihmDt3bixdujS6uroaGkW6tffZZ5+NPfbYI5YvXz7qe1euXJmdP71e/OIXx09/+tOG2tjRwRagHQn5OwECBAgQINAMgRTsre7ZHMtWD1ydl67SG7o1d9vv01Nui3rtOXNKFu7tNac7FsyeGgtmp69bf7/79CnZ0zW9CBAgQIDAeAL23+ZHEhAAlmgefPjDH47LL78869Fdd901HAZu28UrrrgiuzU4vW699dY4+eSTGxpFurU4PfDjpS99adxzzz1jvnfevHlZQJgCxwceeKChNnZ0sAVoR0L+ToAAAQIECDQikD47L92Ku3R1TxbuDf9bs2H4+6G/9RT4OXszp3YOB3p7ze6O+bO7Y6/BgC/7fk53zJs5NbvKzosAAQIECOQhYP+dh2Lrn0MAWKIaDt3+O2PGjFixYkV2G/Bor5/85Cdx7LHHZn+66KKL4tJLL21oFC95yUviZz/72bhXAKYHkMyZMyc772mnnRY33HBDQ23s6GAL0I6E/J0AAQIECBDo6+uPFes3bRfmpSv1lq0ZGfL1ZE/PLfI1dDvutlfsDYR8W67gSwGgFwECBAgQmEwB++/J1C5vWwLAEtVm6Iq7F77whfHzn/98zJ6l23fTbbzpdcYZZ8TXv/71hkaRHiTyzne+M3vP1VdfHe9617u2e/95550Xn/zkJ7Pff+9734tXv/rVDbWxo4MtQDsS8ncCBAgQIFBdgfRE3OwKvTUDt+BuFeZlvx8I99IVfZt6+wuFaGuL2GNGCvCmxpYr9gZvxU235w7eprvb9C5Pji20UhonQIAAgbEE7L/NjSQgACzJPNiwYUP2xN30eu1rXxvf+c53xu3Z0G28L3/5yyNdEdjIq7e3N/7yL/8yvvKVr2RPAU7fn3rqqbH33ntnTwG+7rrr4lvf+lZ2yo985CPxsY99rJHTZ8emBWa81+LFi+Ooo47KDnnyySdjv/32a7gNbyBAgAABAgTKI9Db1x9PD92CO/LqvKFAb0TQt6anHE/EnZVux93mM/ZSyDfyM/fmzZqaPSTDiwABAgQItKqAALBVK5dvvwWA+Xru9NmWLVsW8+fPz97/5je/Oa6//vpxz7VgwYLsASC78vl86bbeyy67LO67777t2jrxxBMjfSbhzl7515b+7/IJvgSAE4RyGAECBAgQmCSBdOttelDGqvWbYtWGTbEyfV2/5eflazYOXsG35TbcZ9b2RF+xF+tlOulW3PQZeim4G/43/HN39rv5s6bGnjOnxrQpHZMkqhkCBAgQIFCcgACwOPsytSwALEk1Ugh2wAEHZL0566yzsqvzxnulY9N7Dj744HjkkUcaHkV6ivAFF1wQt9xyS2zevP3/C9/d3R1vfOMbs9uA991334bPLwBsmMwbCBAgQIBArgIbNvVmAV4W3m0YCPCGvl+5bptgbyjkS1/XbcrCv/4ShHkjQdIttiMDvfTAjNGCvrluxc11HjkZAQIECLS+gACw9WuYxwgEgHko5nCOybwC8I477ojXv/71sXLlynjOc56T3eJ70kknZZ8ruGTJkvj3f//3+OhHPxrPPPNM7LPPPnHbbbfFC17wgoZG6RbghrgcTIAAAQIEthNIt9SuHnn13fD3W0K94Svztvrb5izwS0/FLfuru6t98Iq80cO89PCMFPqlz+DzVNyyV1P/CBAgQKCsAgLAslZmcvslAJxc7zFbm6zPAOzp6cmuGvzd734Xe+21V3b7b/q67evBBx+Ml770pZH6lZ4afO+99+YqZQHKldPJCBAgQCAngf7+/uw21hS+9fX3D3/t64voHfnz0Pcjfp/eO3zMtr/vG/jbup7erW6pHb4iL7vFNl2VN3ib7fqBq/Ba8dWeHpqRbrnd5jbcdNttdgXfiN+nJ+I2ctdAK3roMwECBAgQKFrA/rvoCpSjfQFgOeqQ9WLPPfeMp59+Opr5FOBvf/vb2a296fXxj388+5y/sV7veMc74ktf+lL25/RU4tSvvF4WoLwknYcAAQKtJZBCsp7NfbF6w+ZID4JYs2FzrO7ZlH3Nfu7ZvNXfhn7e1Ns3HMilcC7dnjoykBsI7CLSZ9el3w9/zb4fCPS2+v3g8SN/nwK/MnyGXdkqmgK92dO6Ys60rpjd3RWzp3XG3OlTss/R2zbQG7paryO9yYsAAQIECBAohYD9dynKUHgnBICFl2BLB0444YRIt+fOmDEjVqxYEZ2dnaP2Lj3199hjj83+dtFFF8Wll1464VFcccUVceGFF2bHp8//O+WUU8Z87zXXXBN//dd/nf09PZQkPZwkr5cFKC9J5yFAgMDkCKRAbd2m3sGgbtM2Ad5AkLd9gLdp60BvMPDbLGWbnKKNaGX6lI7hAC8L8qZ1ZqHeQKA3FO51Dhwz+Ps509PfO8NVepNeLg0SIECAAIFcBey/c+Vs2ZMJAEtUunQ13uWXX5716K677oqjjz561N6NDPFuvfXWOPnkkyc8ivRQj/POOy87/qabborXve51Y773s5/9bLzvfe/L/p6eGHzaaadNuJ0dHWgB2pGQvxMgQCAfgc29fbG2p3fgKrvhK+5GBHbZFXhDP28T2I24Sm/NxvI9FCIfodY4S2d7WxbOpX+zsoBuS1g3dGXecLDXPRjoDR3f3RldHe2tMVC9JECAAAECBHIXsP/OnbQlTygALFHZ7r777uHQ75xzzol0Bd62r76+vjj88MMjPcV37ty5sXTp0ujq6prwKG688cY4/fTTs+PPP//8uPLKK8d8bzouHZ9eP/3pT+PFL37xhNvZ0YEWoB0J+TsBAgTGF1jbszmWrNoQS1b1xNLV6euGWLqqJ5as7hn8fkMsXd0T6zb2opxEgba2iI62tmhvb4t0F+zQ9+mW2PR9d1fH4BV3ndnVd1tdcTd4Vd7Q70becjutq8Nn5U1iHTVFgAABAgSqJGD/XaVq7vxYBIA7b9eUdw7dBpxu/7399tvjmGOO2aqdq666Kgvu0uviiy+OSy65ZKu///CHP4wTTzwx+93ZZ58d11577VZ/T7cW77vvvrFu3bqYNWtW/OhHP4ojjjhiu7Gk24PT1YEpcEzHP/HEE9Hent/VAxagpkwfJyVAoAIC6zf2DgZ7AwFeFuwNfh0K+dLP6Wq+Kry6OtpiVndXdptp9q+7M2YNfh36eeaUzpja1R7tbW2RgrT0NQVsKVBLF7ZlPw/9bcTv08MlBo7Zcnz6n7KR5xkK5rLgLr138PwDX7ccu93vh9sZ7M/g+z3Qogqz0hgIECBAgEC1BOy/q1XPnR2NAHBn5Zr0vvRU3uOOOy7Wr18fM2fOzB7SkQK99HP6HL4vfOELWcuHHnpo9mTeFOKNfO0oAEzH/t3f/V322YHpldp473vfGyeddFLstttusWTJkkgPCvniF78YmzcPbC6vu+66OPPMM3MdsQUoV04nI0CgBQQ2bOqNZcNB3kCwt2T1wFV7A1fwDfwuPRyjFV7pirTtwrrtAryuLceMCPVmDX6uXHr/1M6OVhiuPhIgQIAAAQIEWlbA/rtlS5drxwWAuXLmc7L02XwpcFu1atWoJ0zh38033xwLFy7c7u8TCQDTExg/8IEPxKc//elI34/1SrcWX3bZZfHBD34wn4GNOIsFKHdSJyRAoCCBns1DwV5PLM1uyU3BXvp+y625KdxbuX5TQT3c0my6yi1dTZeCt+Gr66Z2xnAgN3VEYDfimJFX5M2a2hUzpnZEp8+UK7yeOkCAAAECBAgQmIiA/fdElKp/jACwpDV+/PHHs4AuBX3pP9YpU6Zkgd8ZZ5wR73nPe2L69Omj9nwiAeDQG9Pn+n3pS1+KO++8M1J76bbgdEVgaueVr3xlpM8hTGFjM14WoGaoOicBAnkKbOrt2+qKvWUjrtIbCPgGwr5n1xUb7KVwbv7sqbFgdnf2L/t+1sDX+bO6Y7fpg6Fed1dM7+rIbp31IkCAAAECBAgQqI+A/Xd9aj3eSAWA5kEhAhagQtg1SoDACIF0S+5vn10fv312XTw5+DX7+Zl18bsV6+PptRtjnIukm245fUpH7DUU6KWvswZCvvkp6Bv+fmpMn9LZ9L5ogAABAgQIECBAoHUF7L9bt3Z59lwAmKemc01YwAI0YSoHEiCwkwLp1tzfr9gwEPA9MxD0pYDvycGv6fP4inh1d7UPBntbQr0Fg1fwpSv2hq7mS7foehEgQIAAAQIECBDYVQH7710VrMb7BYDVqGPLjcIC1HIl02ECpRNIt+guHgr4BkO9LOB7ZiDoSw/YmMwr+KZ0tkcW5M0acStudlvuwK242dfZ3dkTbj0ptnTTSYcIECBAgAABApUVsP+ubGkbGpgAsCEuB+clYAHKS9J5CFRXoLevPxavTFfuDfwbCvbSFXy/e3Z99re+sZ9jlBtMV0fbcIA39Dl78wZvwR26ci+FfrOnCfZyQ3ciAgQIECBAgACB3ATsv3OjbOkTCQBbunyt23kLUOvWTs8J5CXQ19cfS1f3DN6Su/1tuunqvs2TkPDtPmNK7LfbtNh/t+nZ14F/02Pvuemz9rpj7vQuV+zlVXTnIUCAAAECBAgQmHQB++9JJy9lgwLAUpal+p2yAFW/xkZIoL+/P5at6dnq8/eGP4fvmXXZ5/Nt7O1rOtScaV3bBXz7757Cvumx727TwmftNb0EGiBAgAABAgQIEChQwP67QPwSNS0ALFEx6tQVC1Cdqm2sVRZIIV+6iu/XS1bHw0vWxKJla4YftJFu0+3Z3PyALwV4Q1ft7b/7wNV7+w9exbff7tNidndXlUtgbAQIECBAgAABAgTGFbD/NkGSgADQPChEwAJUCLtGCey0wMig79dL1sQjS1dH+vrwktWxasPmnT7vRN44rasjtg32hn5OwV+6ws9DNSYi6RgCBAgQIECAAIE6Cth/17Hq249ZAGgeFCJgASqEXaMEdihQRNA3tbN9lCv4tnweX/qMPgHfDkvnAAIECBAgQIAAAQKjCth/mxhJQABoHhQiYAEqhF2jBIYFJjPom9LRnn3W3tBtutkDN7LP4Bv43byZUwV85iYBAgQIECBAgACBJgnYfzcJtsVOKwBssYJVpbsWoKpU0jjKLpCCviWreuLhEbfsPrw0/1t3p0/piEPmz4yF82fFgXtMj/TZewNP1Z0e82dNjfb2trJT6R8BAgQIECBAgACBSgrYf1eyrA0PSgDYMJk35CFgAcpD0TkIbBEYK+hLD+dYneNn9A0FfYcsmJUFfoemrwtmxj5zpgn5TEgCBAgQIECAAAECJRSw/y5hUQrokgCwAHRNRliAzAICOycg6Ns5N+8iQIAAAQIECBAgUFcB+++6Vn7rcQsAzYNCBCxAhbBrtIUEhoK+dAXf0C27Q9+7oq+FCqmrBAgQIECAAAECBAoWsP8uuAAlaV4AWJJC1K0bFqC6Vdx4xxJIQd9TqzbEw0vWCPpMEwIECBAgQIAAAQIEchew/86dtCVPKABsybK1fqctQK1fQyNoTGDj5r54/Om1sWjZmli0bG08sjR9XROLlq6JtRt7GzvZOEf7jL7cKJ2IAAECBAgQIECAQCUE7L8rUcZdHoQAcJcJnWBnBCxAO6PmPa0gsGrDpizU2zbke/yZddHb15/bEAR9uVE6EQECBAgQIECAAIFKC9h/V7q8Ex6cAHDCVA7MU8AClKemc022wNBtu4uWpiv5Vm8V9i1d3ZNrdwR9uXI6GQECBAgQIECAAIHaCdh/167kow5YAGgeFCJgASqEXaMNCqTbdp94Zuh23ebdtpu6JehrsDgOJ0CAAAECBAgQIEBgQgL23xNiqvxBAsDKl7icA7QAlbMude3VZN22m3znz5oaB8+bGQvnz4yD582Ig+cPfL/X7O5oa2urawmMmwABAgQIECBAgACBJgnYfzcJtsVOKwBssYJVpbsWoKpUsnXGMZm37Xa0t8Vzdp+ehXsp7EtBXwr5Dpo3M+ZM62odND0lQIAAAQIECBAgQKDlBey/W76EuQxAAJgLo5M0KmABalTM8RMVmMzbdmdM6dgu5EuB33P2mBFTOtsn2mXHESBAgAABAgQIECBAoGkC9t9No22pEwsAW6pc1emsBag6tSxqJOmKvl8vWRMP/G5lPJI9dXdN9vTdvJ+2m8Y3dNvuwfNnxMJ0RZ/bdosqu3YJECBAgAABAgQIEGhQwP67QbCKHi4ArGhhyz4sC1DZK1TO/i1dvSHufHj5wL9HlkeeT9x12245a65XBAgQIECAAAECBAjsmoD99675VeXdAsCqVLLFxmEBarGCFdTd9Rt74+7Hnok7H14Wdzy8PH711Opd7onbdneZ0AkIECBAgAABAgQIEGghAfvvFipWE7sqAGwirlOPLWABMjtGE+jr64//WrwqC/vufGRZ3PPYs5E+029nXm7b3Rk17yFAgAABAgQIECBAoGoC9t9Vq+jOjUcAuHNu3rWLAhagXQSs0NsXr1yfBX7p348fWR5Pr93Y0Oj2nTst/mDv2dlTdj1ttyE6BxMgQIAAAQIECBAgUAMB++8aFHkCQxQATgDJIfkLWIDyN22VM67t2Rx3Pfr04FV+y7MHeDTymjW1M15+8B5xwiF7xisOmRcH7jE92traGjmFYwkQIECAAAECBAgQIFAbAfvv2pR63IEKAM2DQgQsQIWwF9Job19/9qTe9Dl+tz+8PO574tnY1Ns/4b6kh3O8aP+58YqFe8bxh+wZL9x/bnR1tE/4/Q4kQIAAAQIECBAgQIBAnQXsv+tc/S1jFwCaB4UIWIAKYZ+0Rp98Zt3w5/j96JGnY+X6TQ21na7qe8UhKfCbF8ccvEfM7u5q6P0OJkCAAAECBAgQIECAAIEBAftvMyEJCADNg0IELECFsDet0VUbNsVPFqXbepfFnQ8vj8eeXtdQW7O7O7PA7xUL52VX+e2/+/SG3u9gAgQIECBAgAABAgQIEBhdwP7bzBAAmgOFCViACqPPpeHNvX3x8ydXDH+OX/o+3eo70Vdne1u8+Dm7DX+O3xH7zol0q68XAQIECBAgQIAAAQIECOQrYP+dr2erns0VgK1auRbvtwWotQrY39+fXdU39Dl+dy16Olb3bG5oEOkpvUOf43f0QXvEzKmdDb3fwQQIECBAgAABAgQIECDQuID9d+NmVXyHALCKVW2BMVmAyl+kFes2Rvr8vjsfWZZd6ffbZ9c31OndZ0yJ4wYf3JFu6917zrSG3u9gAgQIECBAgAABAgQIENh1AfvvXTeswhkEgFWoYguOwQJUvqJt3NwXP3vi2ewz/NJn+d3/u5XRP/G7emNKZ3u87MDdhj/H7/l7z452t/WWr9B6RIAAAQIECBAgQIBArQTsv2tV7jEHKwA0DwoRsAAVwr5Vo+m23kXL1sTtv14edz6yPO569OlYt7G3oY4dttes7KEdrzhkXhx14O4xbUpHQ+93MAECBAgQIECAAAECBAg0V8D+u7m+rXJ2AWCrVKpi/bQAFVfQpas2xGd/8Eh877+WxFOrNjTUkXmzpsbxC1Pgl57Yu2fMn93d0PsdTIAAAQIECBAgQIAAAQKTK2D/PbneZW1NAFjWylS8XxagyS9wuuLvxp/9Lv72pgdj1YaJPcCju6s9jn7uHoNX+e0Zz1swK9raPK138qunRQIECBAgQIAAAQIECOycgP33zrlV7V0CwKpVtEXGYwGa3EL9fsX6+PA3H4gf/veyHTZ8+L6zs8/xO+GQPePFz9kt6EcMrwAAIABJREFUurvc1rtDNAcQIECAAAECBAgQIECgpAL23yUtzCR3SwA4yeCaGxCwAE3OTEhX/V1/z5Px8ZsfijU9o1/1t/ec7uHP8Tvu4D1ij5lTJ6dzWiFAgAABAgQIECBAgACBpgvYfzeduCUaEAC2RJmq10kLUPNr+uQz6+JD37g/fvTI06M29oYX7RPv/R8L4+B5M93W2/xyaIEAAQIECBAgQIAAAQKFCNh/F8JeukYFgKUrST06ZAFqXp37+vrjq//f43HFLb8a9am+82dNjY//6RFx0vMXNK8TzkyAAAECBAgQIECAAAECpRCw/y5FGQrvhACw8BLUswMWoObU/bHla+P8G++Pu3/zzKgNnPGS/eJ/vfb5MWd6V3M64KwECBAgQIAAAQIECBAgUCoB++9SlaOwzggAC6Ovd8MWoHzr39vXH//8o9/EJ2/779iwqW+7k6fP+bv8z46IP3re/HwbdjYCBAgQIECAAAECBAgQKLWA/XepyzNpnRMAThq1hkYKWIDymw+PLF0T59/wi/jZEytGPen/dfQBceGfHBazul31l5+6MxEgQIAAAQIECBAgQKA1BOy/W6NOze6lALDZws4/qoAFaNcnxubevvjCHY/G//7+w7Fx8/ZX/e2327S48rQj47iFe+56Y85AgAABAgQIECBAgAABAi0pYP/dkmXLvdMCwNxJnXAiAhagiSiNfcyvnloV599wf9z/25WjHvTWYw+M8/74eTFjaueuNeTdBAgQIECAAAECBAgQINDSAvbfLV2+3DovAMyN0okaEbAANaK15dhNvX3xj/9nUXzu/zwcm3r7tzvJgXtMj0+c/sI46rm771wD3kWAAAECBAgQIECAAAEClRKw/65UOXd6MALAnabzxl0RsAA1rvfL362M8264Px5avGq7N7e3Rbz9Fc+ND5z0vJg2paPxk3sHAQIECBAgQIAAAQIECFRSwP67kmVteFACwIbJvCEPAQvQxBV7NvfGZ//fR+Lq/1wU6Wm/274Wzp8Znzj9yHjxAbtN/KSOJECAAAECBAgQIECAAIFaCNh/16LMOxykAHCHRA5ohoAFaGKqP39yRZz3b7+Ih5eu2e4NHe1tcc4JB8X7XnVIdHe56m9ioo4iQIAAAQIECBAgQIBAvQTsv+tV77FGKwA0DwoRsACNz75hU2986nu/ji/e8WiMctFfHLbXrLjq9BfGEfvNKaR+GiVAgAABAgQIECBAgACB1hCw/26NOjW7lwLAZgs7/6gCFqCxJ8a9jz2TPeH30eVrtzuos70t3vM/Fsa7/2hhTOlsN7sIECBAgAABAgQIECBAgMC4AvbfJkgSEACaB4UIWIC2Z1+3cXNcdet/x7U/fiz6t/+ovzh839nZVX9/sPfsQmqmUQIECBAgQIAAAQIECBBoPQH779arWTN6LABshqpz7lDAArQ10U8WPR0X3Hh/PPHMuu3spnS0x9+8+pB45wkHRVeHq/52OLkcQIAAAQIECBAgQIAAAQLDAvbfJkMSEACaB4UIWIAG2Nf0bI4rbnkovnrXE6PW4UX7z42rTj8yDlkwq5A6aZQAAQIECBAgQIAAAQIEWlvA/ru165dX7wWAeUk6T0MCFqCI23+9LC78xgPxuxXrt7Ob2tkeHzz5efGXr3hupKf9ehEgQIAAAQIECBAgQIAAgZ0RsP/eGbXqvUcAWL2atsSI6rwArVy/KS67+aH413ufHLVWLztwt7jytCPjoHkzW6KWOkmAAAECBAgQIECAAAEC5RWo8/67vFWZ/J4JACffXIsRUdcF6Ae/WhIf/sYv46lVG7abB9O6OuKCU54Xf3HMgdHuqj//nRAgQIAAAQIECBAgQIBADgJ13X/nQFepUwgAK1XO1hlM3RagFes2xqU3/Vd8877fjVqkYw7aI7vq74A9prdOEfWUAAECBAgQIECAAAECBEovULf9d+kLUlAHBYAFwde92TotQP/xy6fif33rl7F8Tc92ZZ85tTMufM1h8ZaXHeCqv7r/R2H8BAgQIECAAAECBAgQaIJAnfbfTeCrzCkFgJUpZWsNpA4L0NNreuKif38wbr5/8ajFOeHQeXH5nx0R+86d1lrF01sCBAgQIECAAAECBAgQaBmBOuy/W6YYBXZUAFggfp2brvIC1N/fH9+5f3Fc/O8PxjNrN25X5lndnfHR1z0/znjJftHW5gm/df7vwNgJECBAgAABAgQIECDQbIEq77+bbVel8wsAq1TNFhpLVRegpas3xEe/9cu49cElo1bjVYfNj4//6RGx15zuFqqWrhIgQIAAAQIECBAgQIBAqwpUdf/dqvUoqt8CwKLka95u1RagdNVfesBHetDHyvWbtqvu3OldccnrXxBveNE+rvqr+dw3fAIECBAgQIAAAQIECEymQNX235NpV6W2BIBVqmYLjaVKC9DilevjI9/8ZfzgV0tHrcCfHL5X/O0bDo95s6a2UIV0lQABAgQIECBAgAABAgSqIFCl/XcV6lHUGASARcnXvN0qLEDpqr+v3/tkfOw7D8Xqns3bVXSPGVOy4O+1R+5d82obPgECBAgQIECAAAECBAgUJVCF/XdRdlVqVwBYpWq20FhafQH67bPr4sJvPBB3PLx8VPVTX7hPXHLqC2L3GVNaqCq6SoAAAQIECBAgQIAAAQJVE2j1/XfV6lHUeASARcnXvN1WXYD6+vrj/7n7ibjiuw/F2o2921Ux3eb78TceHie/YK+aV9jwCRAgQIAAAQIECBAgQKAMAq26/y6DXZX6IACsUjVbaCytuAA9/vTauODG++OuR58ZVfq0F+8XF73u+TFnelcLVUJXCRAgQIAAAQIECBAgQKDKAq24/65yPYoamwCwKPmat9tqC1D6rL+Lv/1grN+0/VV/e8/pjsv+7Ig48Xnza15VwydAgAABAgQIECBAgACBsgm02v67bH5V6Y8AsCqVbLFxtNoCdNuDT8U7r/vpdspvOeqAuPA1h8Xsblf9tdgU1F0CBAgQIECAAAECBAjUQqDV9t+1KEoBgxQAFoCuyYhWXIDe+y/3xU2/+H1Wvv12mxZXnnZkHLdwT+UkQIAAAQIECBAgQIAAAQKlFWjF/XdpMVu4YwLAFi5eK3e9FRegZ9ZujJM/9Z/x2iP2jvNPOSxmTO1s5RLoOwECBAgQIECAAAECBAjUQKAV9981KMukD1EAOOnkGkwCrboArVy/KeZMc7uvWUyAAAECBAgQIECAAAECrSHQqvvv1tBtnV4KAFunVpXqqQWoUuU0GAIECBAgQIAAAQIECBAoqYD9d0kLM8ndEgBOMrjmBgQsQGYCAQIECBAgQIAAAQIECBBovoD9d/ONW6EFAWArVKmCfbQAVbCohkSAAAECBAgQIECAAAECpROw/y5dSQrpkACwEHaNWoDMAQIECBAgQIAAAQIECBAg0HwB++/mG7dCCwLAVqhSBftoAapgUQ2JAAECBAgQIECAAAECBEonYP9dupIU0iEBYCHsGrUAmQMECBAgQIAAAQIECBAgQKD5AvbfzTduhRYEgK1QpQr20QJUwaIaEgECBAgQIECAAAECBAiUTsD+u3QlKaRDAsBC2DVqATIHCBAgQIAAAQIECBAgQIBA8wXsv5tv3AotCABboUoV7KMFqIJFNSQCBAgQIECAAAECBAgQKJ2A/XfpSlJIhwSAhbBr1AJkDhAgQIAAAQIECBAgQIAAgeYL2H8337gVWhAAtkKVKthHC1AFi2pIBAgQIECAAAECBAgQIFA6Afvv0pWkkA4JAAth16gFyBwgQIAAAQIECBAgQIAAAQLNF7D/br5xK7QgAGyFKlWwjxagChbVkAgQIECAAAECBAgQIECgdAL236UrSSEdEgAWwq5RC5A5QIAAAQIECBAgQIAAAQIEmi9g/91841ZoQQDYClWqYB8tQBUsqiERIECAAAECBAgQIECAQOkE7L9LV5JCOiQALIRdoxYgc4AAAQIECBAgQIAAAQIECDRfwP67+cat0IIAsBWqVME+WoAqWFRDIkCAAAECBAgQIECAAIHSCdh/l64khXRIAFgIu0YtQOYAAQIECBAgQIAAAQIECBBovoD9d/ONW6EFAWArVKmCfbQAVbCohkSAAAECBAgQIECAAAECpROw/y5dSQrpkACwEHaNWoDMAQIECBAgQIAAAQIECBAg0HwB++/mG7dCCwLAVqhSBftoAapgUQ2JAAECBAgQIECAAAECBEonYP9dupIU0iEBYCHsGrUAmQMECBAgQIAAAQIECBAgQKD5AvbfzTduhRYEgK1QpQr20QJUwaIaEgECBAgQIECAAAECBAiUTsD+u3QlKaRDAsBC2DVqATIHCBAgQIAAAQIECBAgQIBA8wXsv5tv3AotCABboUoV7KMFqIJFNSQCBAgQIECAAAECBAgQKJ2A/XfpSlJIhwSAhbBr1AJkDhAgQIAAAQIECBAgQIAAgeYL2H8337gVWhAAtkKVKthHC1AFi2pIBAgQIECAAAECBAgQIFA6Afvv0pWkkA4JAAth16gFyBwgQIAAAQIECBAgQIAAAQLNF7D/br5xK7QgAGyFKlWwjxagChbVkAgQIECAAAECBAgQIECgdAL236UrSSEdEgAWwq5RC5A5QIAAAQIECBAgQIAAAQIEmi9g/91841ZoQQDYClWqYB8tQBUsqiERIECAAAECBAgQIECAQOkE7L9LV5JCOiQALIRdoxYgc4AAAQIECBAgQIAAAQIECDRfwP67+cat0IIAsBWqVME+WoAqWFRDIkCAAAECBAgQIECAAIHSCdh/l64khXRIAFgIu0YtQOYAAQIECBAgQIAAAQIECBBovoD9d/ONW6EFAWArVKmCfbQAVbCohkSAAAECBAgQIECAAAECpROw/y5dSQrpkACwEHaNWoDMAQIECBAgQIAAAQIECBAg0HwB++/mG7dCCwLAVqhSBftoAapgUQ2JAAECBAgQIECAAAECBEonYP9dupIU0iEBYCHsGrUAmQMECBAgQIAAAQIECBAgQKD5AvbfzTduhRYEgK1QpQr20QJUwaIaEgECBAgQIECAAAECBAiUTsD+u3QlKaRDAsBC2DVqATIHCBAgQIAAAQIECBAgQIBA8wXsv5tv3AotCABboUoV7KMFqIJFNSQCBAgQIECAAAECBAgQKJ2A/XfpSlJIhwSAhbBr1AJkDhAgQIAAAQIECBAgQIAAgeYL2H8337gVWhAAtkKVKthHC1AFi2pIBAgQIECAAAECBAgQIFA6Afvv0pWkkA4JAAth16gFyBwgQIAAAQIECBAgQIAAAQLNF7D/br5xK7QgAGyFKlWwjxagChbVkAgQIECAAAECBAgQIECgdAL236UrSSEdEgAWwq5RC5A5QIAAAQIECBAgQIAAAQIEmi9g/91841ZoQQDYClWqYB8tQBUsqiERIECAAAECBAgQIECAQOkE7L9LV5JCOiQALIRdoxYgc4AAAQIECBAgQIAAAQIECDRfwP67+cat0IIAsBWqVME+WoAqWFRDIkCAAAECBAgQIECAAIHSCdh/l64khXRIAFgIu0YtQOYAAQIECBAgQIAAAQIECBBovoD9d/ONW6EFAWArVKmCfbQAVbCohkSAAAECBAgQIECAAAECpROw/y5dSQrpkACwEHaNWoDMAQIECBAgQIAAAQIECBAg0HwB++/mG7dCCwLAklbp8ccfj8985jNx8803x5NPPhlTp06Ngw8+ON70pjfFueeeG9OnT8+t59///vfjq1/9atx5552xePHi6OzsjAULFsSRRx4Zr3rVq+Kss86KmTNn5tZeOpEFKFdOJyNAgAABAgQIECBAgAABAqMK2H+bGElAAFjCeXDTTTfFmWeeGatWrRq1d4ceemgWDC5cuHCXev/ss8/G2972tvj2t7897nnuu+++eNGLXrRLbW37ZgtQrpxORoAAAQIECBAgQIAAAQIEBIDmwJgCAsCSTY4Uth133HGxfv367Kq7Cy+8ME488cTs5+uvvz6++MUvZj1OIeC9994bs2bN2qkRrFy5Mru676c//Wn2/j/90z+N008/PbvKsKOjI7vq8D//8z/jxhtvjBRICgB3itmbCBAgQIAAAQIECBAgQIBAoQIuwCmUvzSNCwBLU4qBjpxwwglxxx13ZLfh3n777XHMMcds1cOrrroqzj///Ox3F198cVxyySU7NYK/+Iu/iOuuuy67tfjrX/96nHrqqaOep7+/P3p7e7P+5PmyAOWp6VwECBAgQIAAAQIECBAgQGB0AftvMyMJCABLNA/uvvvuOProo7MenXPOOXHNNdds17u+vr44/PDD46GHHoq5c+fG0qVLo6urq6FRpM/6O/7447P3pEDxgx/8YEPvz+NgC1Aeis5BgAABAgQIECBAgAABAgTGF7D/NkMEgCWbAx/+8Ifj8ssvz3p11113DYeB23bziiuuyG4NTq9bb701Tj755IZG8ud//ufxr//6rzFnzpx46qmnoru7u6H353GwBSgPRecgQIAAAQIECBAgQIAAAQICQHNgxwKuANyx0aQdMXT774wZM2LFihVj3nb7k5/8JI499tisXxdddFFceumlE+7jxo0bs+Bvw4YN2Wf+/du//Vv23nSb7+9///vs61577dX0UFAAOOGSOZAAAQIECBAgQIAAAQIECOy0gP33TtNV6o0CwBKVc968ebF8+fJ44QtfGD//+c/H7Fl6eu/uu++e/f2MM87IPsNvoq977rknjjrqqOzwFBy+//3vz0LEL3/5y1nomF5TpkzJPovwIx/5SPzRH/3RRE/d0HEWoIa4HEyAAAECBAgQIECAAAECBHZKwP57p9gq9yYBYElKmq7ImzZtWtab1772tfGd73xn3J6lJwSvXbs2Xv7yl0e6InCirxT0vfWtb80OTw8R+drXvhYPP/zwqG9va2vLbkm+4IILJnr64ePSAjPea/HixcNBZHri8H777ddwG95AgAABAgQIECBAgAABAgQIjC8gADRDkoAAsCTzYNmyZTF//vysN29+85vj+uuvH7dnCxYsyB4Akh4I8sADD0x4FJ/61KfiAx/4QHZ8+uy/FDyecsop8bd/+7dx5JFHxqpVq+LGG2+MD33oQ7Fy5crsuG9961vxhje8YcJtZBOrrW3CxwsAJ0zlQAIECBAgQIAAAQIECBAg0JCAALAhrsoeLAAsSWlTCHbAAQdkvTnrrLPiK1/5yrg9S8em9xx88MHxyCOPTHgUH/vYx+KjH/3o8PEnnXRS3HLLLdHR0bHVOdKTgl/5yldGeurwH/zBH8SDDz7YUKgnAJxwSRxIgAABAgQIECBAgAABAgSaJiAAbBptS51YAFiSck3WFYCf/OQn47zzzhse9c9+9rP4wz/8w1EV0ucL3nDDDdnffvGLX2RXCE705RbgiUo5jgABAgQIECBAgAABAgQINE9AANg821Y6swCwJNWarM8A/PznPx/vete7slGnh46k24jHen3pS1+Kd7zjHdmf0/dvf/vbc9OyAOVG6UQECBAgQIAAAQIECBAgQGBMAftvkyMJCABLNA/23HPPePrpp5v6FODvfve72UNG0itd+ZeuABzrdeutt2afD5he6WEg6XMB83pZgPKSdB4CBAgQIECAAAECBAgQIDC2gP232SEALNkcOOGEE+KOO+6IGTNmxIoVK6Kzs3PUHqan/h577LHZ3y666KK49NJLJzySxx9/PA488MDs+HRLb7q1d6zXyLDwqquuig9+8IMTbmdHB1qAdiTk7wQIECBAgAABAgQIECBAYNcF7L933bAKZ3AFYImq+OEPfzi70i697rrrrjj66KNH7d0VV1wRF154Yfa3dJXeySef3NAonvOc58QTTzwRs2fPzoLGsR7Y8dnPfjbe9773Zef+2te+Fm95y1saame8gy1AuVE6EQECBAgQIECAAAECBAgQGFPA/tvkSAICwBLNg7vvvns49DvnnHPimmuu2a536am8hx9+eDz00EMxd+7c7DP8urq6GhrFBz7wgfjUpz6Vved73/tevPrVrx71/SeeeGL88Ic/zP6WAsP999+/oXYEgLlxOREBAgQIECBAgAABAgQIENgpAQHgTrFV7k0CwJKVdOg24HT77+233x7HHHPMVj1Mt+Kef/752e8uvvjiuOSSS7b6ewrsUnCXXmeffXZce+21240whXnPe97zIj145Igjjog777wzuxpw5OurX/1qnHXWWdmv0mcGfuc738lVygKUK6eTESBAgAABAgQIECBAgACBUQXsv02MJCAALNk8uO++++K4446L9evXx8yZMyPdFpwCvfTz9ddfH1/4wheyHh966KFx7733xqxZsxoOANMbRgaJKQy84IILss8EXLVqVXzjG9+Iq6++Onp7e7NgMLVzyCGH5CplAcqV08kIECBAgAABAgQIECBAgIAA0BwYU0AAWMLJcdNNN8WZZ56ZhXGjvVL4d/PNN8fChQu3+/NErgAcelP6HMErr7wy+vv7R21n/vz58a1vfWu7qxDzIBMA5qHoHAQIECBAgAABAgQIECBAYHwB+28zJAkIAEs6D9LTej/96U9nQV/6j3XKlClZ4HfGGWfEe97znpg+ffqoPW8kAEwnSE8UTlf7pacPL168OLq7u7OrC0899dR473vfG3PmzGmKkAWoKaxOSoAAAQIECBAgQIAAAQIEthKw/zYhBIDmQGECFqDC6DVMgAABAgQIECBAgAABAjUSsP+uUbHHGaorAM2DQgQsQIWwa5QAAQIECBAgQIAAAQIEaiZg/12zgo8xXAGgeVCIgAWoEHaNEiBAgAABAgQIECBAgEDNBOy/a1ZwAaCCl0nAAlSmaugLAQIECBAgQIAAAQIECFRVwP67qpVtbFyuAGzMy9E5CViAcoJ0GgIECBAgQIAAAQIECBAgMI6A/bfpkQQEgOZBIQIWoELYNUqAAAECBAgQIECAAAECNROw/65ZwccYrgDQPChEwAJUCLtGCRAgQIAAAQIECBAgQKBmAvbfNSu4AFDByyRgASpTNfSFAAECBAgQIECAAAECBKoqYP9d1co2Ni5XADbm5eicBCxAOUE6DQECBAgQIECAAAECBAgQGEfA/tv0SAICQPOgEAELUCHsGiVAgAABAgQIECBAgACBmgnYf9es4GMMVwBoHhQiYAEqhF2jBAgQIECAAAECBAgQIFAzAfvvmhVcAKjgZRKwAJWpGvpCgAABAgQIECBAgAABAlUVsP+uamUbG5crABvzcnROAhagnCCdhgABAgQIECBAgAABAgQIjCNg/216JAEBoHlQiIAFqBB2jRIgQIAAAQIECBAgQIBAzQTsv2tW8DGGKwA0DwoRsAAVwq5RAgQIECBAgAABAgQIEKiZgP13zQouAFTwMglYgMpUDX0hQIAAAQIECBAgQIAAgaoK2H9XtbKNjcsVgI15OTonAQtQTpBOQ4AAAQIECBAgQIAAAQIExhGw/zY9koAA0DwoRMACVAi7RgkQIECAAAECBAgQIECgZgL23zUr+BjDFQCaB4UIWIAKYdcoAQIECBAgQIAAAQIECNRMwP67ZgUXACp4mQQsQGWqhr4QIECAAAECBAgQIECAQFUF7L+rWtnGxuUKwMa8HJ2TgAUoJ0inIUCAAAECBAgQIECAAAEC4wjYf5seSUAAaB4UImABKoRdowQIECBAgAABAgQIECBQMwH775oVfIzhCgDNg0IELECFsGuUAAECBAgQIECAAAECBGomYP9ds4ILABW8TAIWoDJVQ18IECBAgAABAgQIECBAoKoC9t9VrWxj43IFYGNejs5JwAKUE6TTECBAgAABAgQIECBAgACBcQTsv02PJCAANA8KEbAAFcKuUQIECBAgQIAAAQIECBComYD9d80KPsZwBYDmQSECFqBC2DVKgAABAgQIECBAgAABAjUTsP+uWcEFgApeJgELUJmqoS8ECBAgQIAAAQIECBAgUFUB+++qVraxcbkCsDEvR+ckYAHKCdJpCBAgQIAAAQIECBAgQIDAOAL236ZHEhAAmgeFCFiACmHXKAECBAgQIECAAAECBAjUTMD+u2YFH2O4AkDzoBABC1Ah7BolQIAAAQIECBAgQIAAgZoJ2H/XrOACQAUvk4AFqEzV0BcCBAgQIECAAAECBAgQqKqA/XdVK9vYuFwB2JiXo3MSsADlBOk0BAgQIECAAAECBAgQIEBgHAH7b9MjCQgAzYNCBCxAhbBrlAABAgQIECBAgAABAgRqJmD/XbOCjzFcAaB5UIiABagQdo0SIECAAAECBAgQIECAQM0E7L9rVnABoIKXScACVKZq6AsBAgQIECBAgAABAgQIVFXA/ruqlW1sXK4AbMzL0TkJWIBygnQaAgQIECBAgAABAgQIECAwjoD9t+mRBASA5kEhAhagQtg1SoAAAQIECBAgQIAAAQI1E7D/rlnBxxiuANA8KETAAlQIu0YJECBAgAABAgQIECBAoGYC9t81K7gAUMHLJGABKlM19IUAAQIECBAgQIAAAQIEqipg/13VyjY2LlcANubl6JwELEA5QToNAQIECBAgQIAAAQIECBAYR8D+2/RIAgJA86AQAQtQIewaJUCAAAECBAgQIECAAIGaCdh/16zgYwxXAGgeFCJgASqEXaMECBAgQIAAAQIECBAgUDMB+++aFVwAqOBlErAAlaka+kKAAAECBAgQIECAAAECVRWw/65qZRsblysAG/NydE4CFqCcIJ2GAAECBAgQIECAAAECBAiMI2D/bXokAQGgeVCIgAWoEHaNEiBAgAABAgQIECBAgEDNBOy/a1bwMYYrADQPChGwABXCrlECBAgQIECAAAECBAgQqJmA/XfNCi4AVPAyCViAylQNfSFAgAABAgQIECBAgACBqgrYf1e1so2NyxWAjXk5OicBC1BOkE5DgAABAgQIECBAgAABAgTGEbDJbs+YAAAgAElEQVT/Nj2SgADQPChEwAJUCLtGCRAgQIAAAQIECBAgQKBmAvbfNSv4GMMVAJoHhQhYgAph1ygBAgQIECBAgAABAgQI1EzA/rtmBRcAKniZBCxAZaqGvhAgQIAAAQIECBAgQIBAVQXsv6ta2cbG5QrAxrwcnZOABSgnSKchQIAAAQIECBAgQIAAAQLjCNh/mx5JQABoHhQiYAEqhF2jBAgQIECAAAECBAgQIFAzAfvvmhV8jOEKAM2DQgQsQIWwa5QAAQIECBAgQIAAAQIEaiZg/12zggsAFbxMAhagMlVDXwgQIECAAAECBAgQIECgqgL231WtbGPjcgVgY16OzknAApQTpNMQIECAAAECBAgQIECAAIFxBOy/TY8kIAA0DwoRsAAVwq5RAgQIECBAgAABAv8/e3cCLmdV3w/8gCyyRJFVyl4wsoQishNBoxZFxJWAtqFI2RRwqWhsqJJELaCICEplEUuxagqKSwClVsEEASE0CK0IghqpUFkKjULAsvyf39tO/hdyl5m5c+85d87nfR6fltyZ95zz+b733Dm/eRcCBAhUJmD9XVngQwxXAdBxkEXABJSFXaMECBAgQIAAAQIECBAgUJmA9XdlgSsACrwkARNQSWnoCwECBAgQIECAAAECBAj0q4D1d78m29m4nAHYmZdX90jABNQjSLshQIAAAQIECBAgQIAAAQLDCFh/OzxCQAHQcZBFwASUhV2jBAgQIECAAAECBAgQIFCZgPV3ZYEPMVwFQMdBFgETUBZ2jRIgQIAAAQIECBAgQIBAZQLW35UFrgAo8JIETEAlpaEvBAgQIECAAAECBAgQINCvAtbf/ZpsZ+NyBmBnXl7dIwETUI8g7YYAAQIECBAgQIAAAQIECAwjYP3t8AgBBUDHQRYBE1AWdo0SIECAAAECBAgQIECAQGUC1t+VBT7EcBUAHQdZBExAWdg1SoAAAQIECBAgQIAAAQKVCVh/Vxa4AqDASxIwAZWUhr4QIECAAAECBAgQIECAQL8KWH/3a7KdjcsZgJ15eXWPBExAPYK0GwIECBAgQIAAAQIECBAgMIyA9bfDIwQUAB0HWQRMQFnYNUqAAAECBAgQIECAAAEClQlYf1cW+BDDVQB0HGQRMAFlYdcoAQIECBAgQIAAAQIECFQmYP1dWeAKgAIvScAEVFIa+kKAAAECBAgQIECAAAEC/Spg/d2vyXY2LmcAdubl1T0SMAH1CNJuCBAgQIAAAQIECBAgQIDAMALW3w6PEFAAdBxkETABZWHXKAECBAgQIECAAAECBAhUJmD9XVngQwxXAdBxkEXABJSFXaMECBAgQIAAAQIECBAgUJmA9XdlgSsACrwkARNQSWnoCwECBAgQIECAAAECBAj0q4D1d78m29m4nAHYmZdX90jABNQjSLshQIAAAQIECBAgQIAAAQLDCFh/OzxCQAHQcZBFwASUhV2jBAgQIECAAAECBAgQIFCZgPV3ZYEPMVwFQMdBFgETUBZ2jRIgQIAAAQIECBAgQIBAZQLW35UFrgAo8JIETEAlpaEvBAgQIECAAAECBAgQINCvAtbf/ZpsZ+NyBmBnXl7dIwETUI8g7YYAAQIECBAgQIAAAQIECAwjYP3t8AgBBUDHQRYBE1AWdo0SIECAAAECBAgQIECAQGUC1t+VBT7EcBUAHQdZBExAWdg1SoAAAQIECBAgQIAAAQKVCVh/Vxa4AqDASxIwAZWUhr4QIECAAAECBAgQIECAQL8KWH/3a7KdjcsZgJ15eXWPBExAPYK0GwIECBAgQIAAAQIECBAgMIyA9bfDIwQUAB0HWQRMQFnYNUqAAAECBAgQIECAAAEClQlYf1cW+BDDVQB0HGQRMAFlYdcoAQIECBAgQIAAAQIECFQmYP1dWeAKgAIvScAEVFIa+kKAAAECBAgQIECAAAEC/Spg/d2vyXY2LmcAdubl1T0SMAH1CNJuCBAgQIAAAQIECBAgQIDAMALW3w6PEFAAdBxkETABZWHXKAECBAgQIECAAAECBAhUJmD9XVngQwxXAdBxkEXABJSFXaMECBAgQIAAAQIECBAgUJmA9XdlgSsACrwkARNQSWnoCwECBAgQIECAAAECBAj0q4D1d78m29m4nAHYmZdX90jABNQjSLshQIAAAQIECBAgQIAAAQLDCFh/OzxCQAHQcZBFwASUhV2jBAgQIECAAAECBAgQIFCZgPV3ZYEPMVwFQMdBFgETUBZ2jRIgQIAAAQIECBAgQIBAZQLW35UFrgAo8JIETEAlpaEvBAgQIECAAAECBAgQINCvAtbf/ZpsZ+NyBmBnXl7dIwETUI8g7YYAAQIECBAgQIAAAQIECAwjYP3t8AgBBUDHQRYBE1AWdo0SIECAAAECBAgQIECAQGUC1t+VBT7EcBUAHQdZBExAWdg1SoAAAQIECBAgQIAAAQKVCVh/Vxa4AqDASxIwAZWUhr4QIECAAAECBAgQIECAQL8KWH/3a7KdjcsZgJ15eXWPBExAPYK0GwIECBAgQIAAAQIECBAgMIyA9bfDIwQUAB0HWQRMQFnYNUqAAAECBAgQIECAAAEClQlYf1cW+BDDVQB0HGQRMAFlYdcoAQIECBAgQIAAAQIECFQmYP1dWeAKgAIvScAEVFIa+kKAAAECBAgQIECAAAEC/Spg/d2vyXY2LmcAdubl1T0SMAH1CNJuCBAgQIAAAQIECBAgQIDAMALW3w6PEFAAdBxkETABZWHXKAECBAgQIECAAAECBAhUJmD9XVngQwxXAdBxkEXABJSFXaMECBAgQIAAAQIECBAgUJmA9XdlgSsACrwkARNQSWnoCwECBAgQIECAAAECBAj0q4D1d78m29m4nAHYmZdX90jABNQjSLshQIAAAQIECBAgQIAAAQLDCFh/OzxCQAHQcZBFwASUhV2jBAgQIECAAAECBAgQIFCZgPV3ZYEPMVwFQMdBFgETUBZ2jRIgQIAAAQIECBAgQIBAZQLW35UFrgAo8JIETEAlpaEvBAgQIECAAAECBAgQINCvAtbf/ZpsZ+NyBmBnXl7dIwETUI8g7YYAAQIECBAgQIAAAQIECAwjYP3t8AgBBUDHQRYBE1AWdo0SIECAAAECBAgQIECAQGUC1t+VBT7EcBUAHQdZBExAWdg1SoAAAQIECBAgQIAAAQKVCVh/Vxa4AqDASxIwAZWUhr4QIECAAAECBAgQIECAQL8KWH/3a7KdjcsZgJ15eXWPBExAPYK0GwIECBAgQIAAAQIECBAgMIyA9bfDIwQUAB0HWQRMQFnYNUqAAAECBAgQIECAAAEClQlYf1cW+BDDVQB0HGQRMAFlYdcoAQIECBAgQIAAAQIECFQmYP1dWeAKgAIvScAEVFIa+kKAAAECBAgQIECAAAEC/Spg/d2vyXY2LmcAdubl1T0SMAH1CNJuCBAgQIAAAQIECBAgQIDAMALW3w6PEFAAdBxkETABZWHXKAECBAgQIECAAAECBAhUJmD9XVngQwxXAdBxkEXABJSFXaMECBAgQIAAAQIECBAgUJmA9XdlgSsACrwkARNQSWnoCwECBAgQIECAAAECBAj0q4D1d78m29m4nAHYmZdX90jABNQjSLshQIAAAQIECBAgQIAAAQLDCFh/OzxCQAHQcZBFwASUhV2jBAgQIECAAAECBAgQIFCZgPV3ZYEPMVwFQMdBFgETUBZ2jRIgQIAAAQIECBAgQIBAZQLW35UFrgA4sQJfsmRJOuuss9Lll1+e7r777rT66qunrbfeOh188MHpuOOOS2uuuWbPB/Too4+mKVOmpF/+8pfNvrfYYov0q1/9quftxA5NQGPCaqcECBAgQIAAAQIECBAgQOAZAtbfDogQcAZggcfB/Pnz04wZM9LSpUsH7d3kyZObwuA222zT095/4AMfSKeffvryfSoA9pTXzggQIECAAAECBAgQIECAwLgLKACOO3mRDSoAFhbL4sWL09SpU9OyZcvS2muvnWbNmpWmTZvW/Pe8efPS+eef3/Q4ioCLFi1KkyZN6skIot3ddtstrbrqqs3/fve73zkDsCeydkKAAAECBAgQIECAAAECBPIJKADmsy+pZQXAktJIKe27775p4cKFaZVVVkkLFixIe+211zN6eNppp6WZM2c2/zZ79uw0Z86cUY/gySefTHvssUe66aab0kc/+tF0wQUXpLgE2RmAo6a1AwIECBAgQIAAAQIECBAgkFVAATArfzGNKwAWE0VKN9xwQ1OIi+2YY45J55xzzgq9e+qpp5r79N12221pnXXWSffdd19zxt5otk9/+tPphBNOSC9+8YvTLbfc0pxdqAA4GlHvJUCAAAECBAgQIECAAAECZQgoAJaRQ+5eKADmTmBA+yeeeGI65ZRTmn+5/vrrlxcDn93FU089tbk0OLYrr7wy7bfffl2PIgp9O+ywQ3rkkUfSVVddlV7xilekLbfcUgGwa1FvJECAAAECBAgQIECAAAEC5QgoAJaTRc6eKADm1H9W263Lf9daa6308MMPN5cBD7Zdd911ae+9925+dNJJJ6W5c+d2PYoDDjggXXHFFenQQw9NF110UbMfBcCuOb2RAAECBAgQIECAAAECBAgUJaAAWFQc2TqjAJiNfsWGN9hgg/TAAw+knXbaKd18881D9uyhhx5K6667bvPz6dOnp4svvrirUcRDRd7+9renF7zgBen2229P0b4CYFeU3kSAAAECBAgQIECAAAECBIoUUAAsMpZx75QC4LiTD97gY489ltZYY43mh3FW3mWXXTZsz+IJwXHZ7p577pnijMBOtygibrfddum3v/1tOvfcc9PRRx+9fBe9OAMwJpjhtnvvvTftvvvuzUvuvvvutOmmm3Y6BK8nQIAAAQIECBAgQIAAAQIERhBQAHSIhIACYCHHwf3335823HDDpjeHHHJIirPzhts22mij5gEg8UCQW2+9teNRHHnkkc3TfuMpwz/60Y/SSiut1NMC4MD9jdQ5BcCRhPycAAECBAgQIECAAAECBAh0J6AA2J1bv71LAbCQRKMItvnmmze9GXg/vqG6F6+N92y99dbpzjvv7GgUCxYsaB728ZznPCfddNNN6U/+5E+e8f5enAGoANhRJF5MgAABAgQIECBAgAABAgTGREABcExYJ9xOFQALiWy8zgB8/PHHm3sMxj3/TjjhhPSpT31qBYFeFABdAlzIgaUbBAgQIECAAAECBAgQIFC1gAJg1fEvH7wCYCHHwXjdAzCeGvyxj30sbbbZZum2225L8cThZ2+9KACOxGoCGknIzwkQIECAAAECBAgQIECAwOgFrL9Hb9gPe1AALCjF9ddfPz344INj+hTg1VdfPf3hD39Ihx9+eNpvv/0GHf273/3u5mnE0Z/PfvazzWvi/oSvfOUre6ZlAuoZpR0RIECAAAECBAgQIECAAIEhBay/HRwhoABY0HGw7777poULFzZn5T388MNplVVWGbR38dTfvffeu/lZnNE3d+7ctkfRyb35Bu705S9/ebr66qvbbmekF5qARhLycwIECBAgQIAAAQIECBAgMHoB6+/RG/bDHhQAC0rxxBNPTKecckrTo+uvvz7tscceg/bu1FNPTbNmzWp+duWVVw55Jt9gb1YALChwXSFAgAABAgQIECBAgAABAmMsoAA4xsATZPcKgAUFdcMNNywv+h1zzDHpnHPOWaF3Tz31VJoyZUpz/7511lkn3XfffWnVVVft6SjcA7CnnHZGgAABAgQIECBAgAABAgSyCSgAZqMvqmEFwKLiSKl1GXBc/rtgwYK01157PaOHp512Wpo5c2bzb7Nnz05z5sx5xs/jMt1p06Y1/3bYYYelCy+8sOMRKgB2TOYNBAgQIECAAAECBAgQIECgSAEFwCJjGfdOKQCOO/nwDS5evDhNnTo1LVu2LK299topLguOgl7897x589J5553X7GDy5Mlp0aJFadKkSQqAhWWoOwQIECBAgAABAgQIECBAoBQBBcBSksjbDwXAvP6Dtj5//vw0Y8aMtHTp0kF/HsW/yy+/PG2zzTYr/NwZgAUGqksECBAgQIAAAQIECBAgQCCTgAJgJvjCmlUALCyQVneWLFmSzjzzzKbQF7+sq622WlPwmz59ejr++OPTmmuuOWjPFQALDVS3CBAgQIAAAQIECBAgQIBABgEFwAzoBTapAFhgKDV0yQRUQ8rGSIAAAQIECBAgQIAAAQK5Bay/cydQRvsKgGXkUF0vTEDVRW7ABAgQIECAAAECBAgQIJBBwPo7A3qBTSoAFhhKDV0yAdWQsjESIECAAAECBAgQIECAQG4B6+/cCZTRvgJgGTlU1wsTUHWRGzABAgQIECBAgAABAgQIZBCw/s6AXmCTCoAFhlJDl0xANaRsjAQIECBAgAABAgQIECCQW8D6O3cCZbSvAFhGDtX1wgRUXeQGTIAAAQIECBAgQIAAAQIZBKy/M6AX2KQCYIGh1NAlE1ANKRsjAQIECBAgQIAAAQIECOQWsP7OnUAZ7SsAlpFDdb0wAVUXuQETIECAAAECBAgQIECAQAYB6+8M6AU2qQBYYCg1dMkEVEPKxkiAAAECBAgQIECAAAECuQWsv3MnUEb7CoBl5FBdL0xA1UVuwAQIECBAgAABAgQIECCQQcD6OwN6gU0qABYYSg1dMgHVkLIxEiBAgAABAgQIECBAgEBuAevv3AmU0b4CYBk5VNcLE1B1kRswAQIECBAgQIAAAQIECGQQsP7OgF5gkwqABYZSQ5dMQDWkbIwECBAgQIAAAQIECBAgkFvA+jt3AmW0rwBYRg7V9cIEVF3kBkyAAAECBAgQIECAAAECGQSsvzOgF9ikAmCBodTQJRNQDSkbIwECBAgQIECAAAECBAjkFrD+zp1AGe0rAJaRQ3W9MAFVF7kBEyBAgAABAgQIECBAgEAGAevvDOgFNqkAWGAoNXTJBFRDysZIgAABAgQIECBAgAABArkFrL9zJ1BG+wqAZeRQXS9MQNVFbsAECBAgQIAAAQIECBAgkEHA+jsDeoFNKgAWGEoNXTIB1ZCyMRIgQIAAAQIECBAgQIBAbgHr79wJlNG+AmAZOVTXCxNQdZEbMAECBAgQIECAAAECBAhkELD+zoBeYJMKgAWGUkOXTEA1pGyMBAgQIECAAAECBAgQIJBbwPo7dwJltK8AWEYO1fXCBFRd5AZMgAABAgQIECBAgAABAhkErL8zoBfYpAJggaHU0CUTUA0pGyMBAgQIECBAgAABAgQI5Baw/s6dQBntKwCWkUN1vTABVRe5ARMgQIAAAQIECBAgQIBABgHr7wzoBTapAFhgKDV0yQRUQ8rGSIAAAQIECBAgQIAAAQK5Bay/cydQRvsKgGXkUF0vTEDVRW7ABAgQIECAAAECBAgQIJBBwPo7A3qBTSoAFhhKDV0yAdWQsjESIECAAAECBAgQIECAQG4B6+/cCZTRvgJgGTlU1wsTUHWRGzABAgQIECBAgAABAgQIZBCw/s6AXmCTCoAFhlJDl0xANaRsjAQIECBAgAABAgQIECCQW8D6O3cCZbSvAFhGDtX1wgRUXeQGTIAAAQIECBAgQIAAAQIZBKy/M6AX2KQCYIGh1NAlE1ANKRsjAQIECBAgQIAAAQIECOQWsP7OnUAZ7SsAlpFDdb0wAVUXuQETIECAAAECBAgQIECAQAYB6+8M6AU2qQBYYCg1dMkEVEPKxkiAAAECBAgQIECAAAECuQWsv3MnUEb7CoBl5FBdL0xA1UVuwAQIECBAgAABAgQIECCQQcD6OwN6gU0qABYYSg1dMgHVkLIxEiBAgAABAgQIECBAgEBuAevv3AmU0b4CYBk5VNcLE1B1kRswAQIECBAgQIAAAQIECGQQsP7OgF5gkwqABYZSQ5dMQDWkbIwECBAgQIAAAQIECBAgkFvA+jt3AmW0rwBYRg7V9cIEVF3kBkyAAAECBAgQIECAAAECGQSsvzOgF9ikAmCBodTQJRNQDSkbIwECBAgQIECAAAECBAjkFrD+zp1AGe0rAJaRQ3W9MAFVF7kBEyBAgAABAgQIECBAgEAGAevvDOgFNqkAWGAoNXTJBFRDysZIgAABAgQIECBAgAABArkFrL9zJ1BG+wqAZeRQXS9MQNVFbsAECBAgQIAAAQIECBAgkEHA+jsDeoFNKgAWGEoNXTIB1ZCyMRIgQIAAAQIECBAgQIBAbgHr79wJlNG+AmAZOVTXCxNQdZEbMAECBAgQIECAAAECBAhkELD+zoBeYJMKgAWGUkOXTEA1pGyMBAgQIECAAAECBAgQIJBbwPo7dwJltK8AWEYO1fXCBFRd5AZMgAABAgQIECBAgAABAhkErL8zoBfYpAJggaHU0CUTUA0pGyMBAgQIECBAgAABAgQI5Baw/s6dQBntKwCWkUN1vTABVRe5ARMgQIAAAQIECBAgQIBABgHr7wzoBTapAFhgKDV0yQRUQ8rGSIAAAQIECBAgQIAAAQK5Bay/cydQRvsKgGXkUF0vTEDVRW7ABAgQIECAAAECBAgQIJBBwPo7A3qBTSoAFhhKDV0yAdWQsjESIECAAAECBAgQIECAQG4B6+/cCZTRvgJgGTlU1wsTUHWRGzABAgQIECBAgAABAgQIZBCw/s6AXmCTCoAFhlJDl0xANaRsjAQIECBAgAABAgQIECCQW8D6O3cCZbSvAFhGDtX1wgRUXeQGTIAAAQIECBAgQIAAAQIZBKy/M6AX2KQCYIGh1NAlE1ANKRsjAQIECBAgQIAAAQIECOQWsP7OnUAZ7SsAlpFDdb0wAVUXuQETIECAAAECBAgQIECAQAYB6+8M6AU2qQBYYCg1dMkEVEPKxkiAAAECBAgQIECAAAECuQWsv3MnUEb7CoBl5FBdL0xA1UVuwAQIECBAgAABAgQIECCQQcD6OwN6gU0qABYYSg1dMgHVkLIxEiBAgAABAgQIECBAgEBuAevv3AmU0b4CYBk5VNcLE1B1kRswAQIECBAgQIAAAQIECGQQsP7OgF5gkwqABYZSQ5dMQDWkbIwECBAgQIAAAQIECBAgkFvA+jt3AmW0rwBYRg7V9cIEVF3kBkyAAAECBAgQIECAAAECGQSsvzOgF9ikAmCBodTQJRNQDSkbIwECBAgQIECAAAECBAjkFrD+zp1AGe0rAJaRQ3W9MAFVF7kBEyBAgAABAgQIECBAgEAGAevvDOgFNqkAWGAoNXTJBFRDysZIgAABAgQIECBAgAABArkFrL9zJ1BG+wqAZeRQXS9MQNVFbsAECBAgQIAAAQIECBAgkEHA+jsDeoFNKgAWGEoNXTIB1ZCyMRIgQIAAAQIECBAgQIBAbgHr79wJlNG+AmAZOVTXCxNQdZEbMAECBAgQIECAAAECBAhkELD+zoBeYJMKgAWGUkOXTEA1pGyMBAgQIECAAAECBAgQIJBbwPo7dwJltK8AWEYO1fXCBFRd5AZMgAABAgQIECBAgAABAhkErL8zoBfYpAJggaHU0CUTUA0pGyMBAgQIECBAgAABAgQI5Baw/s6dQBntKwCWkUN1vTABVRe5ARMgQIAAAQIECBAgQIBABgHr7wzoBTapAFhgKDV0yQRUQ8rGSIAAAQIECBAgQIAAAQK5Bay/cydQRvsKgGXkUF0vTEDVRW7ABAgQIECAAAECBAgQIJBBwPo7A3qBTSoAFhhKDV0yAdWQsjESIECAAAECBAgQIECAQG4B6+/cCZTRvgJgGTlU1wsTUHWRGzABAgQIECBAgAABAgQIZBCw/s6AXmCTCoAFhlJDl0xANaRsjAQIECBAgAABAgQIECCQW8D6O3cCZbSvAFhGDtX1wgRUXeQGTIAAAQIECBAgQIAAAQIZBKy/M6AX2KQCYIGh1NAlE1ANKRsjAQIECBAgQIAAAQIECOQWsP7OnUAZ7SsAlpFDdb0wAVUXuQETIECAAAECBAgQIECAQAYB6+8M6AU2qQBYYCg1dMkEVEPKxkiAAAECBAgQIECAAAECuQWsv3MnUEb7CoBl5FBdL0xA1UVuwAQIECBAgAABAgQIECCQQcD6OwN6gU0qABYYSg1dMgHVkLIxEiBAgAABAgQIECBAgEBuAevv3AmU0b4CYBk5VNcLE1B1kRswAQIECBAgQIAAAQIECGQQsP7OgF5gkwqABYZSQ5dMQDWkbIwECBAgQIAAAQIECBAgkFvA+jt3AmW0rwBYRg7V9cIEVF3kBkyAAAECBAgQIECAAAECGQSsvzOgF9ikAmCBodTQJRNQDSkbIwECBAgQIECAAAECBAjkFrD+zp1AGe0rAJaRQ3W9MAFVF7kBEyBAgAABAgQIECBAgEAGAevvDOgFNqkAWGAoNXTJBFRDysZIgAABAgQIECBAgAABArkFrL9zJ1BG+wqAZeRQXS9MQNVFbsAECBAgQIAAAQIECBAgkEHA+jsDeoFNKgAWGEoNXTIB1ZCyMRIgQIAAAQIECBAgQIBAbgHr79wJlNG+AmAZOVTXCxNQdZEbMAECBAgQIECAAAECBAhkELD+zoBeYJMKgAWGUkOXTEA1pGyMBAgQIECAAAECBAgQIJBbwPo7dwJltK8AWEYO1fXCBFRd5AZMgAABAgQIECBAgAABAhkErL8zoBfYpAJggaHU0CUTUA0pGyMBAgQIECBAgAABAgQI5Baw/s6dQBntKwCWkUN1vTABVRe5ARMgQIAAAQIECBAgQIBABgHr7wzoBTapAFhgKDV0yQRUQ8rGSIAAAQIECBAgQIAAAQK5Bay/cydQRvsKgGXkUF0vTEDVRW7ABAgQIECAAAECBAgQIJBBwPo7A3qBTSoAFhhKDV0yAdWQsjESIECAAAECBAgQIECAQG4B6+/cCZTRvgJgGTlU1wsTUHWRGzABAgQIECBAgAABAgQIZBCw/s6AXmCTCoAFhlJDl0xANaRsjAQIECBAgAABAgQIEMUv5hgAACAASURBVCCQW8D6O3cCZbSvAFhGDtX1wgRUXeQGTIAAAQIECBAgQIAAAQIZBKy/M6AX2KQCYIGh1NAlE1ANKRsjAQIECBAgQIAAAQIECOQWsP7OnUAZ7SsAlpFDdb0wAVUXuQETIECAAAECBAgQIECAQAYB6+8M6AU2qQBYYCg1dMkEVEPKxkiAAAECBAgQIECAAAECuQWsv3MnUEb7CoBl5FBdL0xA1UVuwAQIECBAgAABAgQIECCQQcD6OwN6gU0qABYYSg1dMgHVkLIxEiBAgAABAgQIECBAgEBuAevv3AmU0b4CYBk5VNcLE1B1kRswAQIECBAgQIAAAQIECGQQsP7OgF5gkwqABYZSQ5dMQDWkbIwECBAgQIAAAQIECBAgkFvA+jt3AmW0rwBYRg7V9cIEVF3kBkyAAAECBAgQIECAAAECGQSsvzOgF9ikAmCBodTQJRNQDSkbIwECBAgQIECAAAECBAjkFrD+zp1AGe0rAJaRQ3W9MAFVF7kBEyBAgAABAgQIECBAgEAGAevvDOgFNqkAWGAoNXTJBFRDysZIgAABAgQIECBAgAABArkFrL9zJ1BG+wqAZeRQXS9MQNVFbsAECBAgQIAAAQIECBAgkEHA+jsDeoFNKgAWGEoNXTIB1ZCyMRIgQIAAAQIECBAgQIBAbgHr79wJlNG+AmAZOVTXCxNQdZEbMAECBAgQIECAAAECBAhkELD+zoBeYJMKgAWGUkOXTEA1pGyMBAgQIECAAAECBAgQIJBbwPo7dwJltK8AWEYO1fXCBFRd5AZMgAABAgQIECBAgAABAhkErL8zoBfYpAJggaHU0CUTUA0pGyMBAgQIECBAgAABAgQI5Baw/s6dQBntKwCWkUN1vTABVRe5ARMgQIAAAQIECBAgQIBABgHr7wzoBTapAFhgKDV0yQRUQ8rGSIAAAQIECBAgQIAAAQK5Bay/cydQRvsKgGXkUF0vTEDVRW7ABAgQIECAAAECBAgQIJBBwPo7A3qBTSoAFhhKDV0yAdWQsjESIECAAAECBAgQIECAQG4B6+/cCZTRvgJgGTlU1wsTUHWRGzABAgQIECBAgAABAgQIZBCw/s6AXmCTCoAFhlJDl0xANaRsjAQIECBAgAABAgQIECCQW8D6O3cCZbSvAFhGDtX1wgRUXeQGTIAAAQIECBAgQIAAAQIZBKy/M6AX2KQCYIGh1NAlE1ANKRsjAQIECBAgQIAAAQIECOQWsP7OnUAZ7SsAlpHDCr1YsmRJOuuss9Lll1+e7r777rT66qunrbfeOh188MHpuOOOS2uuuWbXPX/00UfTd7/73fS9730vLVq0KN15553p97//fXre856XJk+enF7zmtekd77znemFL3xh122M9EYT0EhCfk6AAAECBAgQIECAAAECBEYvYP09esN+2IMCYIEpzp8/P82YMSMtXbp00N5FkS4Kg9tss03Hvb/lllvS1KlTm4LfcFsUA88777x0yCGHdNxGO28wAbWj5DUECBAgQIAAAQIECBAgQGB0Atbfo/Prl3crABaW5OLFi5sC3bJly9Laa6+dZs2alaZNm9b897x589L555/f9DiKgHH23qRJkzoawTXXXJP22Wef5j3Rzutf//q06667pvXWWy/df//96dJLL23aeOqpp9JznvOcFMXI/fffv6M22nmxCagdJa8hQIAAAQIECBAgQIAAAQKjE7D+Hp1fv7xbAbCwJPfdd9+0cOHCtMoqq6QFCxakvfba6xk9PO2009LMmTObf5s9e3aaM2dORyO49tpr05lnntm8d/vttx/0vd/61rfSm9/85vT00083lx3//Oc/TyuttFJH7Yz0YhPQSEJ+ToAAAQIECBAgQIAAAQIERi9g/T16w37YgwJgQSnecMMNaY899mh6dMwxx6Rzzjlnhd7FmXlTpkxJt912W1pnnXXSfffdl1ZdddWej+Kggw5KX//615v93nTTTemlL31pT9swAfWU084IECBAgAABAgQIECBAgMCgAtbfDowQUAAs6Dg48cQT0ymnnNL06Prrr19eDHx2F0899dTm0uDYrrzyyrTffvv1fBRnn312Ov7445v9XnzxxWn69Ok9bcME1FNOOyNAgAABAgQIECBAgAABAgqAjoEhBRQACzo4Wpf/rrXWWunhhx9uLgMebLvuuuvS3nvv3fzopJNOSnPnzu35KD796U+nE044odlvnAn4lre8padtKAD2lNPOCBAgQIAAAQIECBAgQICAAqBjQAFwIhwDG2ywQXrggQfSTjvtlG6++eYhu/zQQw+lddddt/l5nJkXZ+j1envjG9+Yvv3tbze7/elPf5q22267njahANhTTjsjQIAAAQIECBAgQIAAAQIKgI4BBcDSj4HHHnssrbHGGk03DzjggHTZZZcN2+V4QvAjjzyS9txzzxRnBPZy+8lPfpJ22WWX9OSTT6Ydd9wx3XLLLR3vPgp8w2333ntv2n333ZuX3H333WnTTTftuA1vIECAAAECBAgQIECAAAECBIYXcAKOIyQEXAJcyHFw//33pw033LDpzSGHHJLmzZs3bM822mij5gEg8UCQW2+9tWejePzxx9PLXvaytGjRomafcRbggQce2PH+O3lqsAJgx7zeQIAAAQIECBAgQIAAAQIE2hJQAGyLqe9fpABYSMRRBNt8882b3hx66KHpoosuGrZn8dp4z9Zbb53uvPPOno3iqKOOSl/4whea/R122GHpwgsv7GrfCoBdsXkTAQIECBAgQIAAAQIECBDoqYACYE85J+zOFAALia6EMwDjCcTxJOLYdtttt3TVVVeleCBJN5tLgLtR8x4CBAgQIECAAAECBAgQINBbAQXA3npO1L0pABaSXO57AJ577rnpne98Z6Ox7bbbpoULF6b1119/zHRMQGNGa8cECBAgQIAAAQIECBAgQGC5gPW3gyEEFAALOg6i4Pbggw+O+1OAv/rVr6YZM2akp556Km2xxRbpmmuuGfOHcpiACjrwdIUAAQIECBAgQIAAAQIE+lbA+rtvo+1oYAqAHXGN7Yv33Xff5sy7uOz24YcfTqusssqgDcZTf/fee+/mZyeddFKaO3du1x2Lh3y89a1vTU888UTaeOONm/bjvoJjvZmAxlrY/gkQIECAAAECBAgQIECAQErW346CEFAALOg4iPvvxX34Yrv++uvTHnvsMWjvTj311DRr1qzmZ1deeWXab7/9uhrF97///XTAAQekePLveuutl374wx+mHXbYoat9dfomE1CnYl5PgAABAgQIECBAgAABAgQ6F7D+7tysH9+hAFhQqjfccMPyot8xxxyTzjnnnBV6F5fpTpkyJd12221pnXXWSffdd19addVVOx7Ftdde2xQOH3nkkfT85z8/RTFwl1126Xg/3b7BBNStnPcRIECAAAECBAgQIECAAIH2Bay/27fq51cqABaWbusy4Lj8d8GCBWmvvfZ6Rg9PO+20NHPmzObfZs+enebMmfOMn1999dVp2rRpzb8ddthh6cILL1xhhDfffHPzmrjMOC43jrMIp06dOq4SJqBx5dYYAQIECBAgQIAAAQIECFQqYP1dafDPGrYCYGHHweLFi5ti3LJly9Laa6+d4rLgKNbFf8+bNy+dd955TY8nT56cFi1alCZNmtRRAfCuu+5q7h8YZw7GdsYZZ6RXv/rVwypsuOGGKf7Xy80E1EtN+yJAgAABAgQIECBAgAABAoMLWH87MkJAAbDA42D+/PnNU3mXLl06aO+i+Hf55ZenbbbZZoWfj3QGYJwRePjhh3c06sHONOxoB4O82AQ0WkHvJ0CAAAECBAgQIECAAAECIwtYf49sVMMrFAALTXnJkiXpzDPPbAp98cu62mqrNQW/6dOnp+OPPz6tueaag/ZcAbDQQHWLAAECBAgQIECAAAECBAhkEFAAzIBeYJMKgAWGUkOXTEA1pGyMBAgQIECAAAECBAgQIJBbwPo7dwJltK8AWEYO1fXCBFRd5AZMgAABAgQIECBAgAABAhkErL8zoBfYpAJggaHU0CUTUA0pGyMBAgQIECBAgAABAgQI5Baw/s6dQBntKwCWkUN1vTABVRe5ARMgQIAAAQIECBAgQIBABgHr7wzoBTapAFhgKDV0yQRUQ8rGSIAAAQIECBAgQIAAAQK5Bay/cydQRvsKgGXkUF0vTEDVRW7ABAgQIECAAAECBAgQIJBBwPo7A3qBTSoAFhhKDV0yAdWQsjESIECAAAECBAgQIECAQG4B6+/cCZTRvgJgGTlU1wsTUHWRGzABAgQIECBAgAABAgQIZBCw/s6AXmCTCoAFhlJDl0xANaRsjAQIECBAgAABAgQIECCQW8D6O3cCZbSvAFhGDtX1wgRUXeQGTIAAAQIECBAgQIAAAQIZBKy/M6AX2KQCYIGh1NAlE1ANKRsjAQIECBAgQIAAAQIECOQWsP7OnUAZ7SsAlpFDdb0wAVUXuQETIECAAAECBAgQIECAQAYB6+8M6AU2qQBYYCg1dMkEVEPKxkiAAAECBAgQIECAAAECuQWsv3MnUEb7CoBl5FBdL0xA1UVuwAQIECBAgAABAgQIECCQQcD6OwN6gU0qABYYSg1dMgHVkLIxEiBAgAABAgQIECBAgEBuAevv3AmU0b4CYBk5VNcLE1B1kRswAQIECBAgQIAAAQIECGQQsP7OgF5gkwqABYZSQ5dMQDWkbIwECBAgQIAAAQIECBAgkFvA+jt3AmW0rwBYRg7V9cIEVF3kBkyAAAECBAgQIECAAAECGQSsvzOgF9ikAmCBodTQJRNQDSkbIwECBAgQIECAAAECBAjkFrD+zp1AGe0rAJaRQ3W9MAFVF7kBEyBAgAABAgQIECBAgEAGAevvDOgFNqkAWGAoNXTJBFRDysZIgAABAgQIECBAgAABArkFrL9zJ1BG+wqAZeRQXS9MQNVFbsAECBAgQIAAAQIECBAgkEHA+jsDeoFNKgAWGEoNXTIB1ZCyMRIgQIAAAQIECBAgQIBAbgHr79wJlNG+AmAZOVTXCxNQdZEbMAECBAgQIECAAAECBAhkELD+zoBeYJMKgAWGUkOXTEA1pGyMBAgQIECAAAECBAgQIJBbwPo7dwJltK8AWEYO1fXCBFRd5AZMgAABAgQIECBAgAABAhkErL8zoBfYpAJggaHU0CUTUA0pGyMBAgQIECBAgAABAgQI5Baw/s6dQBntKwCWkUN1vTABVRe5ARMgQIAAAQIECBAgQIBABgHr7wzoBTapAFhgKDV0yQRUQ8rGSIAAAQIECBAgQIAAAQK5Bay/cydQRvsKgGXkUF0vTEDVRW7ABAgQIECAAAECBAgQIJBBwPo7A3qBTSoAFhhKDV0yAdWQsjESIECAAAECBAgQIECAQG4B6+/cCZTRvgJgGTlU1wsTUHWRGzABAgQIECBAgAABAgQIZBCw/s6AXmCTCoAFhlJDl0xANaRsjAQIECBAgAABAgQIECCQW8D6O3cCZbSvAFhGDtX1wgRUXeQGTIAAAQIECBAgQIAAAQIZBKy/M6AX2KQCYIGh1NAlE1ANKRsjAQIECBAgQIAAAQIECOQWsP7OnUAZ7SsAlpFDdb0wAVUXuQETIECAAAECBAgQIECAQAYB6+8M6AU2qQBYYCg1dMkEVEPKxkiAAAECBAgQIECAAAECuQWsv3MnUEb7CoBl5FBdL0xA1UVuwAQIECBAgAABAgQIECCQQcD6OwN6gU0qABYYSg1dMgHVkLIxEiBAgAABAgQIECBAgEBuAevv3AmU0b4CYBk5VNcLE1B1kRswAQIECBAgQIAAAQIECGQQsP7OgF5gkwqABYZSQ5dMQDWkbIwECBAgQIAAAQIECBAgkFvA+jt3AmW0rwBYRg7V9cIEVF3kBkyAAAECBAgQIECAAAECGQSsvzOgF9ikAmCBodTQJRNQDSkbIwECBAgQIECAAAECBAjkFrD+zp1AGe0rAJaRQ3W9MAFVF7kBEyBAgAABAgQIECBAgEAGAevvDOgFNqkAWGAoNXTJBFRDysZIgAABAgQIECBAgAABArkFrL9zJ1BG+wqAZeRQXS9MQNVFbsAECBAgQIAAAQIECBAgkEHA+jsDeoFNKgAWGEoNXTIB1ZCyMRIgQIAAAQIECBAgQIBAbgHr79wJlNG+AmAZOVTXCxNQdZEbMAECBAgQIECAAAECBAhkELD+zoBeYJMKgAWGUkOXTEA1pGyMBAgQIECAAAECBAgQIJBbwPo7dwJltK8AWEYO1fXCBFRd5AZMgAABAgQIECBAgAABAhkErL8zoBfYpAJggaHU0CUTUA0pGyMBAgQIECBAgAABAgQI5Baw/s6dQBntKwCWkUN1vTABVRe5ARMgQIAAAQIECBAgQIBABgHr7wzoBTapAFhgKDV0yQRUQ8rGSIAAAQIECBAgQIAAAQK5Bay/cydQRvsKgGXkUF0vTEDVRW7ABAgQIECAAAECBAgQIJBBwPo7A3qBTSoAFhhKDV0yAdWQsjESIECAAAECBAgQIECAQG4B6+/cCZTRvgJgGTlU1wsTUHWRGzABAgQIECBAgAABAgQIZBCw/s6AXmCTCoAFhlJDl0xANaRsjAQIECBAgAABAgQIECCQW8D6O3cCZbSvAFhGDtX1wgRUXeQGTIAAAQIECBAgQIAAAQIZBKy/M6AX2KQCYIGh1NAlE1ANKRsjAQIECBAgQIAAAQIECOQWsP7OnUAZ7SsAlpFDdb0wAVUXuQETIECAAAECBAgQIECAQAYB6+8M6AU2qQBYYCg1dMkEVEPKxkiAAAECBAgQIECAAAECuQWsv3MnUEb7CoBl5FBdL0xA1UVuwAQIECBAgAABAgQIECCQQcD6OwN6gU0qABYYSg1dMgHVkLIxEiBAgAABAgQIECBAgEBuAevv3AmU0b4CYBk5VNcLE1B1kRswAQIECBAgQIAAAQIECGQQsP7OgF5gkwqABYZSQ5dMQDWkbIwECBAgQIAAAQIECBAgkFvA+jt3AmW0rwBYRg7V9cIEVF3kBkyAAAECBAgQIECAAAECGQSsvzOgF9ikAmCBodTQJRNQDSkbIwECBAgQIECAAAECBAjkFrD+zp1AGe0rAJaRQ3W9MAFVF7kBEyBAgAABAgQIECBAgEAGAevvDOgFNqkAWGAoNXTJBFRDysZIgAABAgQIECBAgAABArkFrL9zJ1BG+wqAZeRQXS9MQNVFbsAECBAgQIAAAQIECBAgkEHA+jsDeoFNKgAWGEoNXTIB1ZCyMRIgQIAAAQIECBAgQIBAbgHr79wJlNG+AmAZOVTXCxNQdZEbMAECBAgQIECAAAECBAhkELD+zoBeYJMKgAWGUkOXTEA1pGyMBAgQIECAAAECBAgQIJBbwPo7dwJltK8AWEYO1fXCBFRd5AZMgAABAgQIECBAgAABAhkErL8zoBfYpAJggaHU0CUTUA0pGyMBAgQIECBAgAABAgQI5Baw/s6dQBntKwCWkUN1vTABVRe5ARMgQIAAAQIECBAgQIBABgHr7wzoBTapAFhgKDV0yQRUQ8rGSIAAAQIECBAgQIAAAQK5Bay/cydQRvsKgGXkUF0vTEDVRW7ABAgQIECAAAECBAgQIJBBwPo7A3qBTSoAFhhKDV0yAdWQsjESIECAAAECBAgQIECAQG4B6+/cCZTRvgJgGTlU1wsTUHWRGzABAgQIECBAgAABAgQIZBCw/s6AXmCTCoAFhlJDl0xANaRsjAQIECBAgAABAgQIECCQW8D6O3cCZbSvAFhGDtX1wgRUXeQGTIAAAQIECBAgQIAAAQIZBKy/M6AX2KQCYIGh1NAlE1ANKRsjAQIECBAgQIAAAQIECOQWsP7OnUAZ7SsAlpFDdb0wAVUXuQETIECAAAECBAgQIECAQAYB6+8M6AU2qQBYYCg1dMkEVEPKxkiAAAECBAgQIECAAAECuQWsv3MnUEb7CoBl5FBdL0xA1UVuwAQIECBAgAABAgQIECCQQcD6OwN6gU0qABYYSg1dMgHVkLIxEiBAgAABAgQIECBAgEBuAevv3AmU0b4CYBk5VNcLE1B1kRswAQIECBAgQIAAAQIECGQQsP7OgF5gkwqABYZSQ5dMQDWkbIwECBAgQIAAAQIECBAgkFvA+jt3AmW0rwBYRg7V9cIEVF3kBkyAAAECBAgQIECAAAECGQSsvzOgF9ikAmCBodTQJRNQDSkbIwECBAgQIECAAAECBAjkFrD+zp1AGe0rAJaRQ3W9MAFVF7kBEyBAgAABAgQIECBAgEAGAevvDOgFNqkAWGAoNXTJBFRDysZIgAABAgQIECBAgAABArkFrL9zJ1BG+wqAZeRQXS9MQNVFbsAECBAgQIAAAQIECBAgkEHA+jsDeoFNKgAWGEoNXTIB1ZCyMRIgQIAAAQIECBAgQIBAbgHr79wJlNG+AmAZOVTXCxNQdZEbMAECBAgQIECAAAECBAhkELD+zoBeYJMKgAWGUkOXTEA1pGyMBAgQIECAAAECBAgQIJBbwPo7dwJltK8AWEYO1fXCBFRd5AZMgAABAgQIECBAgAABAhkErL8zoBfYpAJggaHU0CUTUA0pGyMBAgQIECBAgAABAgQI5Baw/s6dQBntKwCWkUN1vTABVRe5ARMgQIAAAQIECBAgQIBABgHr7wzoBTapAFhgKDV0yQRUQ8rGSIAAAQIECBAgQIAAAQK5Bay/cydQRvsKgGXkUF0vTEDVRW7ABAgQIECAAAECBAgQIJBBwPo7A3qBTSoAFhhKDV0yAdWQsjESIECAAAECBAgQIECAQG4B6+/cCZTRvgJgGTlU1wsTUHWRGzABAgQIECBAgAABAgQIZBCw/s6AXmCTCoAFhlJDl0xANaRsjAQIECBAgAABAgQIECCQW8D6O3cCZbSvAFhGDtX1wgRUXeQGTIAAAQIECBAgQIAAAQIZBKy/M6AX2KQCYIGh1NAlE1ANKRsjAQIECBAgQIAAAQIECOQWsP7OnUAZ7SsAlpFDdb0wAVUXuQETIECAAAECBAgQIECAQAYB6+8M6AU2qQBYYCg1dMkEVEPKxkiAAAECBAgQIECAAAECuQWsv3MnUEb7CoBl5FBdL0xA1UVuwAQIECBAgAABAgQIECCQQcD6OwN6gU0qABYYSg1dMgHVkLIxEiBAgAABAgQIECBAgEBuAevv3AmU0b4CYBk5VNcLE1B1kRswAQIECBAgQIAAAQIECGQQsP7OgF5gkwqABYZSQ5dMQDWkbIwECBAgQIAAAQIECBAgkFvA+jt3AmW0rwBYRg7V9cIEVF3kBkyAAAECBAgQIECAAAECGQSsvzOgF9ikAmCBodTQJRNQDSkbIwECBAgQIECAAAECBAjkFrD+zp1AGe0rAJaRQ3W9MAFVF7kBEyBAgAABAgQIECBAgEAGAevvDOgFNqkAWGAoNXTJBFRDysZIgAABAgQIECBAgAABArkFrL9zJ1BG+wqAZeRQXS9MQNVFbsAECBAgQIAAAQIECBAgkEHA+jsDeoFNKgAWGEoNXTIB1ZCyMRIgQIAAAQIECBAgQIBAbgHr79wJlNG+AmAZOVTXCxNQdZEbMAECBAgQIECAAAECBAhkELD+zoBeYJMKgAWGUkOXTEA1pGyMBAgQIECAAAECBAgQIJBbwPo7dwJltK8AWEYO1fXCBFRd5AZMgAABAgQIECBAgAABAhkErL8zoBfYpAJggaHU0CUTUA0pGyMBAgQIECBAgAABAgQI5Baw/s6dQBntKwCWkUN1vTABVRe5ARMgQIAAAQIECBAgQIBABgHr7wzoBTapAFhgKDV0yQRUQ8rGSIAAAQIECBAgQIAAAQK5Bay/cydQRvsKgGXkUF0vTEDVRW7ABAgQIECAAAECBAgQIJBBwPo7A3qBTSoAFhhKdGnJkiXprLPOSpdffnm6++670+qrr5623nrrdPDBB6fjjjsurbnmmj3p+Xe+85103nnnpRtvvDHdf//9aYMNNki77bZbOvroo9P+++/fkzYG24kJaMxo7ZgAAQIECBAgQIAAAQIECCwXsP52MISAAmCBx8H8+fPTjBkz0tKlSwft3eTJk5vC4DbbbNN175966qmmyHfBBRcMuY8jjzwynXvuuWnllVfuup2h3mgC6jmpHRIgQIAAAQIECBAgQIAAgRUErL8dFAqABR4DixcvTlOnTk3Lli1La6+9dpo1a1aaNm1a89/z5s1L559/ftPrKAIuWrQoTZo0qatRxH5PPfXU5r0777xzmjlzZnOG4V133ZU++clPpuhHbPG6k08+uas2hnuTCajnpHZIgAABAgQIECBAgAABAgQUAB0Dgwo4A7CwA2PfffdNCxcuTKusskpasGBB2muvvZ7Rw9NOO60p1sU2e/bsNGfOnI5HcMcdd6QddtghPfHEE2nXXXdt2lljjTWW7+fRRx9NL3/5y5sCY/TjtttuG9XZhoN1UAGw49i8gQABAgQIECBAgAABAgQIdCxg/d0xWV++QQGwoFhvuOGGtMceezQ9OuaYY9I555yzQu/i0t0pU6Y0Rbl11lkn3XfffWnVVVftaBTHHnts+vznP9+857rrrkt77rnnCu+//vrrlxcf4/Vnn312R22M9GIT0EhCfk6AAAECBAgQIECAAAECBEYvYP09esN+2IMCYEEpnnjiiemUU05pehQFuFYx8NldjEt349Lc2K688sq03377tT2Kp59+Om266abpnnvuSdtuu21TSBxqi5/ffvvtaZNNNmkeRLLSSiu13c5ILzQBjSTk5wQIECBAgAABAgQIECBAYPQC1t+jN+yHPSgAFpRi6/LftdZaKz388MPN5beDbXHW3t5779386KSTTkpz585texS/+MUvmnv9xTbUWYatncXP4wnBscX7ttpqq7bbGemFJqCRhPycAAECBAgQIECAAAECBAiMXsD6e/SG/bAHBcCCUtxg+cNZ1AAAIABJREFUgw3SAw88kHbaaad08803D9mzhx56KK277rrNz6dPn54uvvjitkdx2WWXpQMPPLB5/RlnnJHe9773Dfne+Pn73//+5ufx1OHXve51bbcz0gtNQCMJ+TkBAgQIECBAgAABAgQIEBi9gPX36A37YQ8KgIWk+Nhjjy1/EMcBBxyQolA33BZPCH7kkUea+/fFGYHtbnFfwXe9613Nyy+55JJ00EEHDfnWr33ta02BMbZ4X5wR2O4WE8xwW1xS3DqLMe59uPHGG7e7a68jQIAAAQIECBAgQIAAAQIE2hS499570+677968+pe//GXacsst23ynl/WTgAJgIWnef//9acMNN2x6c8ghh6R58+YN27ONNtqoeQBIPBDk1ltvbXsUA58i/J3vfCe99rWvHfK98fPWWX+f+tSn0gknnNB2O728X2DbjXohAQIECBAgQIAAAQIECBAgMKRAnICz2267EapQQAGwkNDjjLjNN9+86c2hhx6aLrroomF7Fq+N98T9/O688862R/Gxj32suW9gbN///vfTK1/5yiHf+4Mf/CC96lWvan4e7/vwhz/cdjsKgG1TeSEBAgQIECBAgAABAgQIEBgXAQXAcWEushEFwEJi6bczAEe6BDguef7Zz36W4kzGuPfhUA88KSSephsDT5t22XJJyYxdX2Q+drYl71nuJaczNn2T+di4lrxXmZecztj0TeZj41r6XuVeekK975/MBzd94oknUtQcYttxxx3Tc5/73N7j22PxAgqAhUTUb/cALIS1p91w49Seck6Incl8QsTU807Kveekxe9Q5sVH1PMOyrznpMXvUObFRzQmHZT7mLAWvVOZFx2PzmUWUADMHMDA5tdff/304IMPVvEU4ILY2+6KPyZtU/XNC2XeN1F2NBC5d8TVFy+WeV/E2NEgZN4RV1+8WOZ9EWPHg5B7x2QT/g0yn/ARGsAYCigAjiFup7ved99908KFC9Naa62VHn744SEvi42n/raeoBv385s7d27bTf3iF79o7hsYWzzVN57uO9QWPz/vvPOaH8f7ttpqq7bb6ccX+mPSj6kOPyaZ15d5jFju9eUuc5lvuumm9SFUNmK/55UF/n/DlXt9ucu8vsyNuH0BBcD2rcb8lSeeeGI65ZRTmnauv/76tMceewza5qmnnppmzZrV/OzKK69M++23X9t9e/rpp1N8yL3nnnvStttum2677bYh37vddts19+nbZJNNmgeO1P5gD39M2j7M+uaFMu+bKDsaiNw74uqLF8u8L2LsaBAy74irL14s876IseNByL1jsgn/BplP+AgNYAwFFADHELfTXceDJVpFv6HOznvqqafSlClTmsLdOuusk+6777606qqrdtTUsccemz7/+c8374mzCffcc88V3h8FyL322qv593j92Wef3VEb/fhif0z6MdXhxyTz+jKPEcu9vtxlLnNnAPb/MeD3vP8zHmyEcq8vd5nXl7kRty+gANi+1bi8snUZcDwVd8GCBcuLcK3GTzvttDRz5szmP2fPnp3mzJnzjH5dffXVadq0ac2/HXbYYenCCy9cod933HFH2n777dOTTz6Zdt1116adNdZYY/nrli1blqIfixYtai5D/ulPf5pe9KIXjcv4S27EH5OS0xmbvsl8bFxL36vcS0+o9/2Tee9NS9+jzEtPqPf9k3nvTSfCHuU+EVLqbR9l3ltPe+svAQXAwvJcvHhxmjp1aooi3Nprr53isuAo6MV/z5s3b/k9+SZPntwU6CZNmtRxATDeEJcQx6XEse28887pQx/6UHNvwLvuuit94hOfSNGP1utOPvnkwpTydMcfkzzuOVuVeU79fG3LPZ99rpZlnks+X7syz2efq2WZ55LP267c8/rnaF3mOdS1OVEEFAALTGr+/PlpxowZaenSpYP2Lop/l19+edpmm21W+Hk7ZwDGm+JS4qOOOip98YtfHFLgiCOOaAqOK6+8coFK498lf0zG3zx3izLPnUCe9uWexz1nqzLPqZ+nbZnncc/Zqsxz6udrW+757HO1LPNc8tqdCAIKgIWmtGTJknTmmWc2hb6YxFZbbbWm4Dd9+vR0/PHHpzXXXHPQnrdbAGy9+YorrmiKfDfeeGN64IEH0vrrr59222235gnB+++/f6E6ukWAAAECBAgQIECAAAECBAgQINCugAJgu1JeR4AAAQIECBAgQIAAAQIECBAgQGACCigATsDQdJkAAQIECBAgQIAAAQIECBAgQIBAuwIKgO1KeR0BAgQIECBAgAABAgQIECBAgACBCSigADgBQ9NlAgQIECBAgAABAgQIECBAgAABAu0KKAC2K+V1BAgQIECAAAECBAgQIECAAAECBCaggALgBAxNlwkQIECAAAECBAgQIECAAAECBAi0K6AA2K6U1xEgQIAAAQIECBAgQIAAAQIECBCYgAIKgBMwNF0mQIAAAQIECBAgQIAAAQIECBAg0K6AAmC7Ul5HgAABAgQIECBAgAABAgQIECBAYAIKKABOwNB0mQABAgQIECBAgAABAgQIECBAgEC7AgqA7Up5Xd8ILFmyJJ111lnp8ssvT3fffXdaffXV09Zbb50OPvjgdNxxx6U111yzJ2P9zne+k84777x04403pvvvvz9tsMEGabfddktHH3102n///XvShp0MLbBo0aJ0xRVXpGuuuSb99Kc/bTJYddVV0x/90R+lqVOnpiOOOCK97GUvGzXhnDlz0ty5c9vaz1VXXZVe8YpXtPVaL+pOYKWVVmrrjS9/+cvT1Vdf3dZrh3vRV7/61fT3f//36ZZbbkkPP/xw2mijjdI+++zTzCV77bXXqPdvB8MLxO/TD3/4w46Yuvk99HveEfGoXnzfffelG264oflf/P2M/z344IPNPg877LB04YUXdrT/8fpb/Oijj6bPfe5z6ZJLLkl33XVXevzxx9Nmm22WDjjggPSe97wnbbHFFh31u6YX9yLz8P/ud7+bvve976X4+3/nnXem3//+9+l5z3temjx5cnrNa16T3vnOd6YXvvCFo6bdcsstU3yWHGmLzH/1q1+N9LJqf96L3GM+OPzww9syjL/V73jHO9p67XAveuCBB5p1xDe/+c3l+cYx8aY3vSm9973vTeutt96o2+jXHYw28/h92mqrrTriGc3vod/1jqi9eIIIKABOkKB0szcC8+fPTzNmzEhLly4ddIfxITEKg9tss03XDT711FNNke+CCy4Ych9HHnlkOvfcc9PKK6/cdTveOLTAvvvumxYuXDgi0V/8xV+k888/P6222mojvnaoFygMdE03Jm8crwLgsmXL0kEHHdQUmQfb4nf7pJNOSrNnzx6Tcdrp/wp0WgCMXH7961+nTTbZpCNCv+cdcY3qxcP9DndSABzPv8VRbHrd616Xfv7znw869ihCffnLX06vf/3rR2XTr28ebebxBUx8sRcFv+G2yCG+mD3kkENGRakoMCq+5W8ebe6xo/EuAP74xz9uCn3/+Z//OSjCxhtv3BQGd999994g9dleRpt5NwXA/fbbL1155ZVdSfpd74rNmwoXUAAsPCDd653A4sWLmw+IsXBfe+2106xZs9K0adOa/543b15TCIotioDx7fGkSZO6ajz2e+qppzbv3XnnndPMmTObMwzjjIBPfvKTKfoRW7zu5JNP7qoNbxpeIAq44R1n+02fPr05I2vzzTdPTz75ZLruuuvS6aefnn7zm980O3n729+evvKVr3RNOrAwcOuttw67n/jWcq211uq6LW8cWaD14fJd73pXOvbYY4d8Q+TQ6bfIA3cWx03MG7HFPBLf+sfxFsdA/F7H8RdbFPrjCwHb2Aj88pe/TI888siwO48zgFsL/j/90z9N//zP/9xxZ/yed0zW9RsGLhBj3t52222XZ9ZJAXC8/hb/7ne/S7vuumu64447mjEfddRR6W1ve1taY401UpxtesoppzSFqbi64Ec/+lF6yUte0rVNv75xtJnHmf7xdz62+JwXhdbIJM7EirP/L7300uYzXhSFn/Oc56T4Mng0V2K0igJvfOMb08c//vEhY4kvF+MzpW1wgdHmHnsdWACMIk/8HR5q23TTTdM666zTdRxx1dAuu+zSHFOrrLJKev/737+8qH/ZZZelT3/60+mJJ55IG264YbrppptStGd7psBoM/+f//mfdPvtt4/IGvNu67N9fPnyZ3/2ZyO+Z7AX+F3vis2bChdQACw8IN3rnUDrrLD4o71gwYIVLs877bTTmmJdbHHWTiz4Ot1iAbDDDjs0HwDiw2e0E4uA1haXqMSlh1FgjH7cdtttozrbsNP+1fL6+PAfZ/e99a1vbT7sP3uLyzdikdBasMUlhHF8dLMNLAw8/fTT3ezCe3oo0Ppw2e3vcDtd+cEPfpBe9apXNS898MAD0ze+8Y1nHGdxfMUiIc40i8XGL37xi/SCF7ygnV17zRgIfOhDH2q+fIntS1/6UnMWeKeb3/NOxbp/ffzuxu0y4n9xSf3AMz7aLQCO59/iONP3Yx/7WDPgOM4++MEPPmPw1157bfN3Pz4X9OrWA93rlvnO0WYexmeeeWbz2W377bcfdJDf+ta30pvf/OYUf6fjS9k4W7PdM8afvcNWUaDd47FM9fy9Gm3uMYKBBcD4QiiyGastPlfG35DYLr744uYL5oFb/FvryybHxuAp9CLzkfKNL/vjy6N77rmnOZnjt7/97TPWYiO9f+DP/a53ouW1E0VAAXCiJKWfoxKIewntsccezT6OOeaYdM4556ywv/hmeMqUKU1RLhbtcZ+KuGdcJ1uccfT5z3++eUucabbnnnuu8Pbrr79+efExXn/22Wd30oTX9kggvq2N4k1s7373u5v7uXSzKQx0ozZ27xmPAmBc6hf3FYsifiw4BvuWP84OjLMEYxusKDB2AvY8UCDm9VgIxBm/ceZ3LAS6uc+r3/N8x1U3BcDx+lscZ6PE/X3/+7//O2233Xbp3/7t3wa9tUfcey7OBo4tPo9EcdM2tEA3mbfjGbdt+PrXv968NM7QeulLX9rO21Z4jaJAV2wjvqmb3MerABiX/MatI+JvStxPMu43Odj22te+trncNG43EX93enHPyRHhJvALusl8pOGGf+QQW9wf8otf/OJIbxny537Xu6bzxoIFFAALDkfXeidw4oknNpfhxBYFuFYx8NktxKW7cdlQbPEHJO4b0e4W3ypHISC+cYpLlqKQONQWP49T2OPDRFxS0O230O32zetWFIjLBqMgEFsUdOLej91sCgPdqI3de8a6ABiX+62//vrpD3/4Q/MBMwqBg23x8ygMxP1G42EgcYaKbfwF4oEArXk8bv4eN4HvZvN73o1ab97T6QJxPP8Wx+XkUQyILT4/xNmmg20Dv/hz+4+Rj4tOMx95j//7ivjC9fjjj2/+/8HO4Gp3P4oC7Up19rpuch+vAmDcOzJOIIgtvuAb6j6SA7/8cwuQkfPvJvOR9vrnf/7nyy//jYe9xZnX3W5+17uV876SBRQAS05H33om0Lr8N+77FU/qjDN3BtvirL299967+VFc1tPu013j9XGZX1xWEttQZxm22oyfx4eJ1vtGcy+yniFVtqP/+q//Wv6ktjgT8Nvf/nZXAgoDXbGN2ZvGugA48PLf+FLhr//6r4ccSxQGokAQ801c/t/pGcVjhlTRjg899ND0j//4j82II7u4X2M3m9/zbtR6855OF4jj+bd44OW/Q531Hwpx+e/zn//8Zh6IzyOdPrm6N5ITZy+dZt7uyOIebSeccELz8jgT8C1veUu7b33G6xQFumIb8U3d5D5eBcCBl//ee++9Q57ZFz9r3Ycw3vMP//API4675hd0k/lwXvElbZx1GXNt/J7G34PRnGThd73mo7N/x64A2L/ZGtkAgTgTJ+7LtdNOO6Wbb755SJuHHnoorbvuus3P494e8Q1xu9vAS0rPOOOM9L73vW/It8bP4+bBscWZZ3EGmm18BeK+ba0P/3Hvx0984hNddWBgYSAeMBDHVxSZ4zLyuBdRnCUWBV/3gOuKt+M3tT7ohX2cCRQfLuM+kPGBMIr7cRZYt0Wg6MznPve55pLx2OIYiqcBDrXFg0Fal5b/+7//+5D3pup4kN7QlkA8eCFyj7N9t9hii+Zy7W4XAn7P2yIfkxd1ukAcz7/FAy8pjc8Pwz1gID5/xNNq4/NI3GLENrRAp5m3axkP7Wh92RcPB4rLtrvZWkWB+PI2niwcD32K+47FPSvj6a9x+4doq9v5pps+9cN7usl9YAEwngofV9fE5/3IJR4I9+pXvzrFQ8E6ffL7sz3jvt5x2XgU8uMz3nBbvCbO/o9L/eOSf9v4/a7HWf5/+Zd/2TT4kY98JH30ox8dFb/f9VHxeXOhAgqAhQajW70TeOyxx5bf/PWAAw5IsTgYbovLQmPBGPfvi2/0293ivoLxISO2Sy65JMXCYKjta1/72vKbB8f7WpcVtNuW141OIO7hEpdltj6YxUNZ4qEN3WwDCwNDvT8WhfEhNRYEtrEVaGfBFUW7yCM+pHe6xRl/rWLxjTfe2DzsZ6jtU5/61PIHAsT9glqXCnbaptd3JxBnXkTBN7a/+Zu/GfZpnSO14Pd8JKGx+3mnRYHx/FscnxN+/OMfN093j4LzcFs8nKp1q4n4XLL66quPHdoE33Onmbcz3J/85CfN3/ko1O24445NMbbbrVUUGO798aCxf/qnfxp14anbPk7E93WT+8AC4FBjfu5zn5s+85nPjOqzdnyZFPeQjQf9xb0+h9vifuLxpV+8J84ItA0t0E3mw3nGF7xx2W9s8aCfKAKPZvO7Pho97y1VQAGw1GT0q2cC999/f9pwww2b/cU9O+L+HMNt8Q1ufDsff8BvvfXWtvsx8CnCcV+w1g1oB9tB/Lx11l8UCVqXpLTdmBeOSuD0009PH/jAB5p9xFmArZuCd7PTKAxceumlzZlg8c1/XPoRN4aPb6G//OUvN5eAxhZnoc2fPz/tv//+3TTjPW0KxEL8DW94Q/OU3rjXZhT0Yw6IS+6iMPDggw82e4p7wsT94Tq9LPe4445Lf/d3f9fsI+7zGW0MtcUDgeJhBLFF0T+eSm0bP4E4BuKy39ji93Hy5MldN+73vGu6Ub+x0wXieP4tjmJAnEkWnxviIQHDbfH5o3VVQZyhtN56643apl930GnmIzk8/vjj6WUve1mKL/tii7MAWw8BG+m9g/085pI4ezDuLxqfFVtnhcWXxjHvx72dY4vXxL9182VTN/2a6O/pJvcoAMZTuOOzXHyxu9lmmzUMcelnfLaLv71xNUBso7knX3y2iMtK4x7icU/P4bZ4TXzBHJ8/4pJU29AC3WQ+1N5+/etfN5f9Rt5xxcePfvSjUdP7XR81oR0UKKAAWGAoutRbgfggFk+BjC3uB3XRRRcN20C8Nt4T9/O788472+5MfACJ+wHF9v3vfz+98pWvHPK9A+8jFu/78Ic/3HY7Xjg6gSgExSUhcU+mKAxHkbdVIO5mz63LfYd6b3zgjCdAxhbFwbhUKL6Nto2NwHB5xLf3UYBdvHhx0/iZZ56Z3vOe93TUkSOOOGL5E+Uiyz/+4z8e8v3x5Ll4fWxf+tKX0owZMzpqy4u7F/iP//iP5rLfONu307O5B2vV73n3WYz2nZ0uEMfzb3F8TohCQxQdYvE53DbwHmLxGWOwp4eP1qpf3t9p5iON+6ijjkpf+MIXmpcddthhzRngo9mGmw+i4BNXgLS+/Purv/qrFPcetI0s0E3u8QTuuNx3qLP/46qfKA7GF7PxBPj4u93Nk3njS9z4e7LPPvukBQsWDDuY1n3H4z3xWdM2tEA3mQ+1t5NPPrk52z+2Xl1d5Xfd0duPAgqA/ZiqMT1DwBmADoiWQFySER/e4l5NUYSLJz3HB7Wx3o488sh0wQUXNM3EAwniCWW2PAKxWI+z9mIxEJeGxCUinWzOAOxEK99rBz7RPc7IaRXhx7JHfs/HRrfTBaIzAMcmh/Hca6eZD9e3eFjTiSee2Lwk7sl21VVXNZdsj+UWRan4cigeNhZtxf9dbbXVxrLJvth3L3MfCPLxj3+8uR9cbPH/t4pEnaA5A7ATrfZf28vM44zbn/3sZ83tFeKM7OHuydp+D4d/pd/1Xknaz3gKKACOp7a2sgi4B2AW9uIajQcAxCVA99xzT3M5blwaMl735It7xcXlwbHFmQitJ0AXh1RJh+JeoFdccUUz2t/85jfLn9jXzvDdA7AdpfyvaV2aGQuBuAfTeDyEx+/52OTe6QLRPQDHJofx3GunmQ/Vt4Fn4McXPwsXLkzrr7/+uAxl4JdFcSliXJJoG16gV7k/u5W4rU+c9ReXhsbD2lpnZ3aSh3sAdqLV/mt7lXlcch2XXsfW6UMc2+/t4K/0uz5aQe8fbwEFwPEW114WgfjAF/f+8hTgLPzZG42iX5z5F2d/xWUicflPXI41Xls8VCbuBRNb3PuxdSP48WpfO88U+OAHP5ji3puxxYfGOCuk3c1TgNuVyve6uM9XK9O472LcA2o8Nr/nY6Pc6QLRU4DHJofx3GunmQ/Wt69+9avNbRfiss24HcA111wzrpddn3322en4449vuhb3foyihG14gV7kPlQL8fTtuPfm9ttv3zygo9PNU4A7FWvv9b3KPH7X4ncutrjfdjx0abw2v+vjJa2dXgkoAPZK0n6KFmjdjyNO4Y/7OayyyiqD9jdu1tz6ljbu5zd37ty2xxXFpbgfUGzxVN84C2GoLX7eOgss3rfVVlu13Y4XdiYQH/jigQ9xo/bYooAT39aN5xY3jm5dcqQAOJ7yg7c1c+bMFJcJxtZpAXDg/Tvj0rI4I3CoLZ76G2caxHwTx0CnDxzJLzUxexD3dfzsZz/bdH60N/vvRMDveSda7b+20wXieP4tjs8Jcc/B2OLzQ9xvcrAt7gMWl6NFkTg+j8S9aG1DC3Sa+bP3FL/3UfwP94033rg586/1+Wy83ONhUa3PGgqA7amPNvfhWol7PcctgbotAA68h2ecVT7UfQTjZ3G/59jiPfE0etvY/a7HnuOWLvF7Hid6RM5xZcdQ67yxyMLv+lio2udYCigAjqWufRcjEPd/icV6bPH0rtZp4s/u4MD7RsX94eIJb+1ucWlB3NQ7zjaLS03iCaFDba37VGyyySbNA0eGunlxu2173eACcW+OeBjLv/7rvzYviHw/9KEPjTvXwDOS4j5h559//rj3QYP/XyC+GW6dhRkPi4jfw3a3uMF7nFH8hz/8oXnSdzzRe7Atfh5nHCxdurR5MuG1117bbhNeNwqBWAhEnrHQC/+Yj8drIeD3fBTBDfPWTosC4/m3OAr8Uegf6e9LfO6IeSC2WbNmpbhZvW1ogU4zH7ineAhb3OYhnvwbT1qOYmvcEmC8t4FnJMXZh1OnTh3vLky49kaT+3CDjb8H8aTumBviIXDf+973OraJL+3jy/vY5s2bl+Kp3oNt8bO3v/3tzY9G89Thjjs4Qd/Qi8y/+c1vpje/+c2NwPve9750xhlnjKuG3/Vx5dZYDwQUAHuAaBflCwy8N8RQZ+fFZSJTpkxpCnfxTX3cM6TTM3aOPfbYFDecj22oswEGLgTi9a1T1stXnFg9jLNxooAb996JLW76HDd/zrENfAKhp8HmSOD/txn3gowCfRToOn3Sd2svcRZnFP6isBT7G+xpngMXAZ/85CdTXHZsG3uBOPOndW/P9773vekzn/nM2Df6fy34PR8b6m4WiOP1tzjmkTjjJL5sii/24tLCwb7Qi4fQRDEgtk7POh4b1bL32k3mMaL4oiX+7seZls9//vNTFAN32WWXcR9sHA/x9yXOSIonz8ZDQOJ+pLbhBbrNfSTXv/3bv00f/vCHm5fFGbut/3+k9w38eTxUIr5cirVCFP2/+93vDvr2+GIwTiBYeeWVmzPRunnicCf9muiv7UXm8ZTnb3zjGw3F4sWL00te8pJxY/G7Pm7UGuqhgAJgDzHtqmyB1mXAsWhfsGDB8m/jW70e+OTA2bNnpzlz5jxjQFdffXWaNm1a82+HHXZYcx+5Z2933HFHc3nBk08+meJ+IdHOGmussfxly5Ytay7/iTNFoh9xWeqLXvSisuEmYO9iUXbggQcuv9Fzt4WAyPjwww9vBAY7Jm699dYm33ia7FDbwG+N44PgnXfeOeZPIJyAkfWky3Hfl/3333/IM75++9vfNj+PD4ixnX766en973//M9oeKfN48cDLgN/whjekSy+9tHmwTGuLy85j0fnrX/+6+TIhLkkcj4dQ9ARxgu/koIMOah7wE9tNN92UXvrSl444opEy93s+IuGYvqCbBWKv/ha/4x3vWH4JXzw99hWveMUKYx14GfBgxf74MjD+7sflqHE7ivgsYRteoJvMb7755uYzWtzmJW65EUWYbs66i4xbl2jHFzxbbrnlMzobhZ/IceBnu4Ev+P3vf99cftx60MS73/3udNZZZ4m8DYFOc4/XP/TQQ2nnnXcecu9xT9DIIz4XRmY///nPBz3rf6Tco4GBlwFfcsklKf7eDNzi3w4++ODmn4ZaJ7TBUNVLOs382ThRXI/LfyPfHXfcMd1yyy1t+42Uud/1tim9cIIJKABOsMB0t3uBWPTHh8EowsUDGeKy4PiwGP8dZ+u07sk3efLkpkA3adKkZzTWTgEw3hCX98SlprHFh5K45DS+Cb7rrrvSJz7xieXFB5cBdZ/lSO+MD3tRlIktLgGOs4CGu8x6tdVWS5H7s7eRCgPx87ikN46jKCzFh4+45CgWej/72c/Sl7/85eWLgCgQxTeUUZi0jY1ALNTiEtDIPy63i/+OD/xRkIvf3zgDJ/7/2OKJ0P/yL/+ywlkZI2Xe6nlc4hPzRmyRf1x2Evf9iWJRnG0Qv++xuQRobLIebK+xEIyFQFz6F2dzRxbtbCNl7ve8HcXevSYul4zrYM/PAAAKIklEQVQvSlpb/M62zqCNv+Ex5w7cokg32NaLv8XtFADjtgDxhV8UHWM7+uij09ve9rZm7omiYVzuG0Wh+O84Q208z07pXSpju6fRZh7zbdy/Oa7ciC0uAYxLPYfb4szN+N+zt5GKAvHzmFvirKP4OxKf7+IzZZwJFPnG/Z/jy5/YXvziFzf/tu66644t4ATd+2hzb30uj7/38dkqHvTXyjS+eIsHQMX/4tLf2OKKmzg7eLBtpNzjPXHLnvhyLy4pji/xTzjhhOUPm4hCY3ypGJ//4vYTceuZwa4OmKBR9azbo8382R0ZeP+9eLhbZNLuNlLmftfblfS6iSagADjREtPfUQnEGULxVLi4L9dgWxSB4t5gg53R1W4BMC4PiEvBvvjFLw7Z1yOOOKIpOMYlArbeC3R6T8V4QmB8C/nsrZ3CQOsMweFGEUXBCy64YPmlib0fsT2GQBT8lixZMiJGFAi/8IUvNGfndZp56/XxxUF8+3/FFVcM2l78bn/kIx9Z4UziETvnBV0LxML7Xe96V/P+Ti679nveNfmYvHFg0a2dBlqL+2e/thd/i9spAEa7UbCMWwPE2UWDbc973vOaL4TG88mU7diV8prRZj7wd7jdMQ12Vn+8t52iQDsPcYmzBCPzTu4x227f++V1o8194Ofy4UziMuwoCkdxfqhtpNxb7/vxj3+c3vSmN6W4JHiwLa70iHvSDXWv8X7JrttxjDbzZ7cbD16KTOJL9rincyeXXI+U+cCfDzdev+vdHg3el0tAATCXvHazCUSB4Mwzz2wKffHHIs7+ioLf9OnTU9zINT4oDLa1WwBsvTcKA1Hku/HGG5uzjuLBAbvttltzE+E4W8w2dgLjVQCMsw3iW9+4xCvOMI1LTOOeP7EgjW/849vouB9MfOCJBaBtbAViURb/izzi2//4vYtif5ydsdlmmzVniMRlOa2b8Q/Wm5GKQc9+z1e+8pXmdgA/+clPmkvP4kbj++yzTzOXDNfO2ErUufc4OyzOtomFQJyB03oS40gaI2Xu93wkwd7+vNcLxNH8LW63ABgCcd+5OMMoLgOMgmBckhbzThQG4zYU8UWTbXCB0WY+ngXAuEIk7i0Yf2duv/325u9MzP3x2THmnCj8xBnicS/CTj+L1HZ8jDb3OPs27vsaWUQu8QTeyCPOwovbbsTDX171qlc1Zw0PdrbnQO+RikEDXxttxDoiCn2tL4+32mqr5kveuBogvvS1jc3v+sC9xhcurat3hnso21BZjJS533VHcb8KKAD2a7LGRYAAAQIECBAgQIAAAQIECBAgQCClpADoMCBAgAABAgQIECBAgAABAgQIECDQxwIKgH0crqERIECAAAECBAgQIECAAAECBAgQUAB0DBAgQIAAAQIECBAgQIAAAQIECBDoYwEFwD4O19AIECBAgAABAgQIECBAgAABAgQIKAA6BggQIECAAAECBAgQIECAAAECBAj0sYACYB+Ha2gECBAgQIAAAQIECBAgQIAAAQIEFAAdAwQIECBAgAABAgQIECBAgAABAgT6WEABsI/DNTQCBAgQIECAAAECBAgQIECAAAECCoCOAQIECBAgQIAAAQIECBAgQIAAAQJ9LKAA2MfhGhoBAgQIECBAgAABAgQIECBAgAABBUDHAAECBAgQIECAAAECBAgQIECAAIE+FlAA7ONwDY0AAQIECBAgQIAAAQIECBAgQICAAqBjgAABAgQIECBAgAABAgQIECBAgEAfCygA9nG4hkaAAAECBAgQIECAAAECBAgQIEBAAdAxQIAAAQIECBAgQIAAAQIECBAgQKCPBRQA+zhcQyNAgAABAgQIECBAgAABAgQIECCgAOgYIECAAAECBAgQIECAAAECBAgQINDHAgqAfRyuoREgQIAAAQIECBAgQIAAAQIECBBQAHQMECBAgAABAgQIECBAgAABAgQIEOhjAQXAPg7X0AgQIECAAAECBAgQIECAAAECBAgoADoGCBAgQIAAAQIECBAgQIAAAQIECPSxgAJgH4draAQIECBAgAABAgQIECBAgAABAgQUAB0DBAgQIECAAAECBAgQIECAAAECBPpYQAGwj8M1NAIECBAgQIAAAQIECBAgQIAAAQIKgI4BAgQIECBAgAABAgQIECBAgAABAn0soADYx+EaGgECBAgQIECAAAECBAgQIECAAAEFQMcAAQIECBAgQIAAAQIECBAgQIAAgT4WUADs43ANjQABAgQIECBAgAABAgQIECBAgIACoGOAAAECBAgQIECAAAECBAgQIECAQB8LKAD2cbiGRoAAAQIECBAgQIAAAQIECBAgQEAB0DFAgAABAgQIECBAgAABAgQIECBAoI8FFAD7OFxDI0CAAAECBAgQIECAAAECBAgQIKAA6BggQIAAAQIECBAgQIAAAQIECBAg0McCCoB9HK6hESBAgAABAgQIECBAgAABAgQIEFAAdAwQIECAAAECBAgQIECAAAECBAgQ6GMBBcA+DtfQCBAgQIAAAQIECBAgQIAAAQIECCgAOgYIECBAgAABAgQIECBAgAABAgQI9LGAAmAfh2toBAgQIECAAAECBAgQIECAAAECBBQAHQMECBAgQIAAAQIECBAgQIAAAQIE+lhAAbCPwzU0AgQIECBAgAABAgQIECBAgAABAgqAjgECBAgQIECAAAECBAgQIECAAAECfSygANjH4RoaAQIECBAgQIAAAQIECBAgQIAAAQVAxwABAgQIECBAgAABAgQIECBAgACBPhZQAOzjcA2NAAECBAgQIECAAAECBAgQIECAgAKgY4AAAQIECBAgQIAAAQIECBAgQIBAHwsoAPZxuIZGgAABAgQIECBAgAABAgQIECBAQAHQMUCAAAECBAgQIECAAAECBAgQIECgjwUUAPs4XEMjQIAAAQIECBAgQIAAAQIECBAgoADoGCBAgAABAgQIECBAgAABAgQIECDQxwIKgH0crqERIECAAAECBAgQIECAAAECBAgQUAB0DBAgQIAAAQIECBAgQIAAAQIECBDoYwEFwD4O19AIECBAgAABAgQIECBAgAABAgQIKAA6BggQIECAAAECBAgQIECAAAECBAj0sYACYB+Ha2gECBAgQIAAAQIECBAgQIAAAQIEFAAdAwQIECBAgAABAgQIECBAgAABAgT6WEABsI/DNTQCBAgQIECAAAECBAgQIECAAAECCoCOAQIECBAgQIAAAQIECBAgQIAAAQJ9LKAA2MfhGhoBAgQIECBAgAABAgQIECBAgAABBUDHAAECBAgQIECAAAECBAgQIECAAIE+FlAA7ONwDY0AAQIECBAgQIAAAQIECBAgQICAAqBjgAABAgQIECBAgAABAgQIECBAgEAfCygA9nG4hkaAAAECBAgQIECAAAECBAgQIEBAAdAxQIAAAQIECBAgQIAAAQL/b6MhMBoCoyEwGgKjITCMQwAANWO1Fg0XC8EAAAAASUVORK5CYII=\" width=\"640\">"
      ],
      "text/plain": [
       "<IPython.core.display.HTML object>"
      ]
     },
     "metadata": {},
     "output_type": "display_data"
    },
    {
     "data": {
      "text/plain": [
       "(0, 1)"
      ]
     },
     "execution_count": 326,
     "metadata": {},
     "output_type": "execute_result"
    }
   ],
   "source": [
    "plt.figure()\n",
    "plt.plot(mean_iou)\n",
    "plt.ylim(0,1)"
   ]
  },
  {
   "cell_type": "code",
   "execution_count": 266,
   "metadata": {},
   "outputs": [
    {
     "data": {
      "text/plain": [
       "array([0.73767135, 0.7631721 , 0.777656  , 0.79200661, 0.79661856,\n",
       "       0.8015463 , 0.80793648, 0.8128886 , 0.82395793, 0.82946955,\n",
       "       0.832834  , 0.83678062, 0.84023911, 0.84060427, 0.84257754,\n",
       "       0.84235443, 0.84625579, 0.847451  , 0.84902684])"
      ]
     },
     "execution_count": 266,
     "metadata": {},
     "output_type": "execute_result"
    }
   ],
   "source": [
    "image, label = valset[1]\n",
    "image = image.unsqueeze(0)\n",
    "label = label.unsqueeze(0)\n",
    "with torch.no_grad():\n",
    "    image = image.cuda()\n",
    "    out = net.forward(image)\n",
    "    print(image.shape)\n",
    "    fc8_interp_test = nn.UpsamplingBilinear2d(size=(label.shape[1], label.shape[2]))\n",
    "    out = fc8_interp_test(out)\n",
    "    \n",
    "    embeddings = out.cpu().data.numpy()\n",
    "    embeddings = np.transpose(embeddings.squeeze(), axes=[1, 2, 0]).reshape(-1, net.n_classes)\n",
    "    label = label.data.numpy()\n",
    "\n",
    "\n",
    "plt.figure(figsize=(18, 18))\n",
    "plt.subplot(2,3,1)\n",
    "plt.imshow(np.transpose(image.squeeze().data.cpu().numpy(), axes=[1, 2, 0]) / 4 + 0.5)\n",
    "plt.subplot(2,3,2)\n",
    "label2 = label.copy()\n",
    "label2[label2 == 255] = 0\n",
    "plt.imshow(label2.reshape(image.shape[2], image.shape[3]))\n",
    "\n",
    "plt.subplot(2,3,3)\n",
    "\n",
    "label = label.squeeze()\n",
    "border = label == 255\n",
    "border = morph.binary_dilation(border, iterations=d_margin)\n",
    "plt.imshow(border)\n",
    "\n",
    "o = np.random.choice(np.sort(np.unique(label * (1 - border)))[1:])\n",
    "\n",
    "label = (label == o).astype(np.int32)\n",
    "\n",
    "click_map = np.zeros(shape=border.shape, dtype=np.int32)\n",
    "\n",
    "def pick_click(mask):\n",
    "    candidates = np.transpose(np.nonzero(mask))\n",
    "    return candidates[np.random.randint(low=0, high=candidates.shape[0]), :]\n",
    "    \n",
    "p1 = pick_click((label) * (1 - border))\n",
    "n1 = pick_click((1 - label) * (1 - border))\n",
    "\n",
    "d_margin = 20\n",
    "d_clicks = 35\n",
    "\n",
    "click_map[max(p1[0]-d_clicks, 0):p1[0]+d_clicks, max(p1[1]-d_clicks,0):p1[1]+d_clicks] = 1\n",
    "click_map[max(n1[0]-d_clicks, 0):n1[0]+d_clicks, max(n1[1]-d_clicks,0):n1[1]+d_clicks] = 1\n",
    "\n",
    "plt.subplot(2,3,4)\n",
    "plt.imshow(click_map)\n",
    "\n",
    "result = run_clicks(embeddings, label, [p1, n1], flat=False)\n",
    "\n",
    "plt.subplot(2,3,5)\n",
    "plt.imshow(pred)\n",
    "\n"
   ]
  },
  {
   "cell_type": "code",
   "execution_count": 219,
   "metadata": {},
   "outputs": [],
   "source": [
    "import skimage.transform"
   ]
  },
  {
   "cell_type": "code",
   "execution_count": null,
   "metadata": {},
   "outputs": [],
   "source": []
  }
 ],
 "metadata": {
  "kernelspec": {
   "display_name": "Python 3",
   "language": "python",
   "name": "python3"
  },
  "language_info": {
   "codemirror_mode": {
    "name": "ipython",
    "version": 3
   },
   "file_extension": ".py",
   "mimetype": "text/x-python",
   "name": "python",
   "nbconvert_exporter": "python",
   "pygments_lexer": "ipython3",
   "version": "3.6.6"
  }
 },
 "nbformat": 4,
 "nbformat_minor": 2
}
