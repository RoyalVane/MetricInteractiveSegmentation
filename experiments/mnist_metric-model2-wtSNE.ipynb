{
 "cells": [
  {
   "cell_type": "code",
   "execution_count": 1,
   "metadata": {},
   "outputs": [],
   "source": [
    "import numpy as np\n",
    "import matplotlib.pyplot as plt"
   ]
  },
  {
   "cell_type": "code",
   "execution_count": 2,
   "metadata": {},
   "outputs": [],
   "source": [
    "import torch\n",
    "import torch.nn as nn\n",
    "import torch.nn.functional as F\n",
    "import torch.optim as optim\n",
    "\n",
    "import torchvision\n",
    "from torchvision import transforms, datasets"
   ]
  },
  {
   "cell_type": "code",
   "execution_count": 3,
   "metadata": {},
   "outputs": [
    {
     "name": "stdout",
     "output_type": "stream",
     "text": [
      "True\n",
      "1\n"
     ]
    }
   ],
   "source": [
    "print(torch.cuda.is_available())\n",
    "print(torch.cuda.device_count())\n",
    "device = torch.device(\"cuda:0\" if torch.cuda.is_available() else \"cpu\")"
   ]
  },
  {
   "cell_type": "code",
   "execution_count": 4,
   "metadata": {},
   "outputs": [],
   "source": [
    "transform = transforms.Compose([transforms.ToTensor(),\n",
    "                                transforms.Normalize((0.5, 0.5, 0.5), (0.5, 0.5, 0.5))])"
   ]
  },
  {
   "cell_type": "code",
   "execution_count": 5,
   "metadata": {},
   "outputs": [],
   "source": [
    "trainset = datasets.MNIST(root='/scratch/yardima/data/', download=True, train=True, transform=transform)\n",
    "trainloader = torch.utils.data.DataLoader(trainset, batch_size=32,\n",
    "                                          shuffle=True, num_workers=2)\n",
    "\n",
    "testset = datasets.MNIST(root='/scratch/yardima/data/', download=True, train=False, transform=transform)\n",
    "testloader = torch.utils.data.DataLoader(testset, batch_size=32,\n",
    "                                          shuffle=False, num_workers=2)"
   ]
  },
  {
   "cell_type": "code",
   "execution_count": 6,
   "metadata": {
    "scrolled": true
   },
   "outputs": [
    {
     "name": "stdout",
     "output_type": "stream",
     "text": [
      "tensor([1, 7, 2, 3, 7, 4, 1, 7, 2, 2, 6, 6, 7, 9, 2, 9, 1, 6, 0, 1, 6, 7, 8, 6,\n",
      "        6, 4, 3, 7, 9, 1, 1, 9])\n"
     ]
    },
    {
     "data": {
      "image/png": "[encoded data removed]",
      "text/plain": [
       "<Figure size 432x288 with 1 Axes>"
      ]
     },
     "metadata": {
      "needs_background": "light"
     },
     "output_type": "display_data"
    },
    {
     "name": "stderr",
     "output_type": "stream",
     "text": [
      "Process Process-1:\n",
      "Process Process-2:\n",
      "Traceback (most recent call last):\n",
      "  File \"/home/yardima/.pyenv/versions/3.6.6/lib/python3.6/multiprocessing/process.py\", line 258, in _bootstrap\n",
      "    self.run()\n",
      "Traceback (most recent call last):\n",
      "  File \"/home/yardima/.pyenv/versions/3.6.6/lib/python3.6/multiprocessing/process.py\", line 93, in run\n",
      "    self._target(*self._args, **self._kwargs)\n",
      "  File \"/home/yardima/.pyenv/versions/3.6.6/lib/python3.6/multiprocessing/process.py\", line 258, in _bootstrap\n",
      "    self.run()\n",
      "  File \"/home/yardima/.pyenv/versions/3.6.6/lib/python3.6/site-packages/torch/utils/data/dataloader.py\", line 96, in _worker_loop\n",
      "    r = index_queue.get(timeout=MANAGER_STATUS_CHECK_INTERVAL)\n",
      "  File \"/home/yardima/.pyenv/versions/3.6.6/lib/python3.6/multiprocessing/process.py\", line 93, in run\n",
      "    self._target(*self._args, **self._kwargs)\n",
      "  File \"/home/yardima/.pyenv/versions/3.6.6/lib/python3.6/multiprocessing/queues.py\", line 104, in get\n",
      "    if not self._poll(timeout):\n",
      "  File \"/home/yardima/.pyenv/versions/3.6.6/lib/python3.6/site-packages/torch/utils/data/dataloader.py\", line 96, in _worker_loop\n",
      "    r = index_queue.get(timeout=MANAGER_STATUS_CHECK_INTERVAL)\n",
      "  File \"/home/yardima/.pyenv/versions/3.6.6/lib/python3.6/multiprocessing/connection.py\", line 257, in poll\n",
      "    return self._poll(timeout)\n",
      "  File \"/home/yardima/.pyenv/versions/3.6.6/lib/python3.6/multiprocessing/queues.py\", line 104, in get\n",
      "    if not self._poll(timeout):\n",
      "  File \"/home/yardima/.pyenv/versions/3.6.6/lib/python3.6/multiprocessing/connection.py\", line 414, in _poll\n",
      "    r = wait([self], timeout)\n",
      "  File \"/home/yardima/.pyenv/versions/3.6.6/lib/python3.6/multiprocessing/connection.py\", line 257, in poll\n",
      "    return self._poll(timeout)\n",
      "  File \"/home/yardima/.pyenv/versions/3.6.6/lib/python3.6/multiprocessing/connection.py\", line 911, in wait\n",
      "    ready = selector.select(timeout)\n",
      "  File \"/home/yardima/.pyenv/versions/3.6.6/lib/python3.6/multiprocessing/connection.py\", line 414, in _poll\n",
      "    r = wait([self], timeout)\n",
      "  File \"/home/yardima/.pyenv/versions/3.6.6/lib/python3.6/selectors.py\", line 376, in select\n",
      "    fd_event_list = self._poll.poll(timeout)\n",
      "  File \"/home/yardima/.pyenv/versions/3.6.6/lib/python3.6/multiprocessing/connection.py\", line 911, in wait\n",
      "    ready = selector.select(timeout)\n",
      "KeyboardInterrupt\n",
      "  File \"/home/yardima/.pyenv/versions/3.6.6/lib/python3.6/selectors.py\", line 376, in select\n",
      "    fd_event_list = self._poll.poll(timeout)\n",
      "KeyboardInterrupt\n"
     ]
    }
   ],
   "source": [
    "dataiter = iter(trainloader)\n",
    "i, l = dataiter.next()\n",
    "\n",
    "g = torchvision.utils.make_grid(i, nrow=4)\n",
    "\n",
    "g = g / 2 + 0.5     # unnormalize\n",
    "npimg = g.numpy()\n",
    "plt.imshow(np.transpose(npimg, (1, 2, 0)))\n",
    "\n",
    "print(l)"
   ]
  },
  {
   "cell_type": "code",
   "execution_count": null,
   "metadata": {},
   "outputs": [],
   "source": []
  },
  {
   "cell_type": "markdown",
   "metadata": {},
   "source": [
    "## Test metric learning/CNN"
   ]
  },
  {
   "cell_type": "code",
   "execution_count": 7,
   "metadata": {},
   "outputs": [],
   "source": [
    "class CNN(nn.Module):\n",
    "    \n",
    "    def __init__(self, *, embed_dim):\n",
    "        super(CNN, self).__init__()\n",
    "        \n",
    "        self.c1 = nn.Conv2d(1, 16, kernel_size=5)\n",
    "        self.c2 = nn.Conv2d(16, 32, kernel_size=5)\n",
    "        self.c3 = nn.Conv2d(32, 16, kernel_size=5)\n",
    "        self.c4 = nn.Conv2d(16, 16, kernel_size=5)\n",
    "        self.c5 = nn.Conv2d(16, embed_dim, kernel_size=12)\n",
    "        \n",
    "        self.EMBED_DIM = embed_dim\n",
    "    \n",
    "    def forward(self, x):\n",
    "        \n",
    "        x = F.relu(self.c1(x))\n",
    "        x = F.relu(self.c2(x))\n",
    "        x = F.relu(self.c3(x))\n",
    "        x = F.relu(self.c4(x))\n",
    "        x = self.c5(x)\n",
    "        \n",
    "        x = x.view(-1, self.EMBED_DIM)\n",
    "        \n",
    "        return x"
   ]
  },
  {
   "cell_type": "code",
   "execution_count": 8,
   "metadata": {},
   "outputs": [
    {
     "name": "stdout",
     "output_type": "stream",
     "text": [
      "Total trainable parameter count: 55530\n"
     ]
    }
   ],
   "source": [
    "cnn = CNN(embed_dim=10)\n",
    "\n",
    "## print number of parameters in network:\n",
    "pcount = 0\n",
    "for p in cnn.parameters():\n",
    "    pcount += p.numel()\n",
    "    \n",
    "print(\"Total trainable parameter count: {}\".format(pcount))"
   ]
  },
  {
   "cell_type": "markdown",
   "metadata": {},
   "source": [
    "## Prepare dataset for triplet loss"
   ]
  },
  {
   "cell_type": "code",
   "execution_count": null,
   "metadata": {},
   "outputs": [],
   "source": [
    "classindices = []\n",
    "trainy = trainset.train_labels.data.numpy()\n",
    "for i in range(10):\n",
    "    classindices.append(np.nonzero(trainy == i)[0])"
   ]
  },
  {
   "cell_type": "code",
   "execution_count": null,
   "metadata": {},
   "outputs": [
    {
     "data": {
      "text/plain": [
       "<matplotlib.image.AxesImage at 0x2b946fe01978>"
      ]
     },
     "execution_count": 10,
     "metadata": {},
     "output_type": "execute_result"
    },
    {
     "data": {
      "image/png": "[encoded data removed]",
      "text/plain": [
       "<Figure size 432x288 with 1 Axes>"
      ]
     },
     "metadata": {
      "needs_background": "light"
     },
     "output_type": "display_data"
    }
   ],
   "source": [
    "sample = trainset[classindices[3][447]][0]\n",
    "g = torchvision.utils.make_grid(sample, nrow=1)\n",
    "\n",
    "g = g / 2 + 0.5     # unnormalize\n",
    "npimg = g.numpy()\n",
    "plt.imshow(np.transpose(npimg, (1, 2, 0)))"
   ]
  },
  {
   "cell_type": "code",
   "execution_count": 9,
   "metadata": {},
   "outputs": [],
   "source": [
    "def gen_triplet(dataset, classindices, n_samples):\n",
    "    X = []\n",
    "    y = []\n",
    "    for i in range(n_samples):\n",
    "        c = np.random.choice(10, size=2, replace=False)\n",
    "        \n",
    "        p_samples = np.random.choice(classindices[c[0]], size=2, replace=False)\n",
    "        n_sample = np.random.choice(classindices[c[1]], size=1)\n",
    "        \n",
    "        X.append(dataset[p_samples[0]][0])\n",
    "        X.append(dataset[p_samples[1]][0])\n",
    "        X.append(dataset[n_sample[0]][0])\n",
    "        \n",
    "        y.append(dataset[p_samples[0]][1])\n",
    "        y.append(dataset[p_samples[1]][1])\n",
    "        y.append(dataset[n_sample[0]][1])\n",
    "        \n",
    "    return (torch.stack(X), \n",
    "            torch.stack(y))"
   ]
  },
  {
   "cell_type": "markdown",
   "metadata": {},
   "source": [
    "## Train model with different hyper-parameters"
   ]
  },
  {
   "cell_type": "code",
   "execution_count": 10,
   "metadata": {},
   "outputs": [],
   "source": [
    "def triplet_loss(loss_fun, output, n_samples, target, reg):\n",
    "    ix = np.arange(n_samples, dtype=np.int32) * 3\n",
    "    \n",
    "    distp = (output[ix] - output[ix + 1]).pow(2).sum(dim=1)\n",
    "    distn = (output[ix] - output[ix + 2]).pow(2).sum(dim=1)\n",
    "    \n",
    "    norm_loss = output.pow(2).sum() / n_samples\n",
    "    loss_dist = loss_fun(distn, distp, target) / n_samples\n",
    "    \n",
    "    return reg * norm_loss + loss_dist"
   ]
  },
  {
   "cell_type": "code",
   "execution_count": null,
   "metadata": {},
   "outputs": [],
   "source": [
    "cnn = CNN(embed_dim=10)\n",
    "optimizer = optim.SGD(cnn.parameters(), lr = 1e-3, momentum=0.9)\n",
    "lr_update = lambda epoch: 0.95 ** epoch\n",
    "cnn = cnn.to(device)\n",
    "scheduler = torch.optim.lr_scheduler.LambdaLR(optimizer, lr_lambda=lr_update)"
   ]
  },
  {
   "cell_type": "code",
   "execution_count": null,
   "metadata": {
    "scrolled": true
   },
   "outputs": [
    {
     "name": "stdout",
     "output_type": "stream",
     "text": [
      "[1,  1250] loss: 3.328\n",
      "[1,  2500] loss: 2.041\n",
      "[1,  3750] loss: 1.103\n",
      "[1,  5000] loss: 0.827\n",
      "[1,  6250] loss: 0.732\n",
      "[1,  7500] loss: 0.651\n",
      "[1,  8750] loss: 0.616\n",
      "[2,  1250] loss: 0.574\n",
      "[2,  2500] loss: 0.530\n",
      "[2,  3750] loss: 0.540\n",
      "[2,  5000] loss: 0.515\n",
      "[2,  6250] loss: 0.490\n",
      "[2,  7500] loss: 0.524\n",
      "[2,  8750] loss: 0.490\n",
      "[3,  1250] loss: 0.465\n",
      "[3,  2500] loss: 0.466\n",
      "[3,  3750] loss: 0.445\n",
      "[3,  5000] loss: 0.429\n",
      "[3,  6250] loss: 0.447\n",
      "[3,  7500] loss: 0.456\n",
      "[3,  8750] loss: 0.446\n",
      "[4,  1250] loss: 0.420\n",
      "[4,  2500] loss: 0.432\n",
      "[4,  3750] loss: 0.417\n",
      "[4,  5000] loss: 0.425\n",
      "[4,  6250] loss: 0.396\n",
      "[4,  7500] loss: 0.388\n",
      "[4,  8750] loss: 0.407\n"
     ]
    }
   ],
   "source": [
    "%%time\n",
    "reg = 1e-2\n",
    "margin = 10\n",
    "loss_fun = nn.MarginRankingLoss(margin=margin)\n",
    "n_samples = 3\n",
    "\n",
    "epoch_size = 10000\n",
    "\n",
    "for e in range(100):\n",
    "    running_loss = 0.\n",
    "    scheduler.step()\n",
    "    \n",
    "    for i in range(1, 10000):\n",
    "        x, label = gen_triplet(trainset, classindices, n_samples)\n",
    "        x = x.to(device)\n",
    "        target = torch.FloatTensor(n_samples).fill_(1).to(device)\n",
    "        \n",
    "        optimizer.zero_grad()\n",
    "        out = cnn.forward(x)\n",
    "        loss = triplet_loss(loss_fun, out, n_samples, target, reg)\n",
    "        loss.backward()\n",
    "        \n",
    "        optimizer.step()\n",
    "        \n",
    "        running_loss += loss.item()\n",
    "        \n",
    "        if i % 1250 == 0:\n",
    "            print('[%d, %5d] loss: %.3f' %\n",
    "                  (e + 1, i, running_loss / 1250))\n",
    "            running_loss = 0."
   ]
  },
  {
   "cell_type": "code",
   "execution_count": null,
   "metadata": {},
   "outputs": [],
   "source": [
    "torch.save(cnn, '/home/yardima/Python/models/model2')"
   ]
  },
  {
   "cell_type": "markdown",
   "metadata": {},
   "source": [
    "## Evaluate model"
   ]
  },
  {
   "cell_type": "code",
   "execution_count": 11,
   "metadata": {},
   "outputs": [
    {
     "data": {
      "text/plain": [
       "CNN(\n",
       "  (c1): Conv2d(1, 16, kernel_size=(5, 5), stride=(1, 1))\n",
       "  (c2): Conv2d(16, 32, kernel_size=(5, 5), stride=(1, 1))\n",
       "  (c3): Conv2d(32, 16, kernel_size=(5, 5), stride=(1, 1))\n",
       "  (c4): Conv2d(16, 16, kernel_size=(5, 5), stride=(1, 1))\n",
       "  (c5): Conv2d(16, 10, kernel_size=(12, 12), stride=(1, 1))\n",
       ")"
      ]
     },
     "execution_count": 11,
     "metadata": {},
     "output_type": "execute_result"
    }
   ],
   "source": [
    "# load model\n",
    "embed_model = torch.load('/home/yardima/Python/models/model2')\n",
    "embed_model.to(device)"
   ]
  },
  {
   "cell_type": "code",
   "execution_count": 37,
   "metadata": {},
   "outputs": [
    {
     "name": "stdout",
     "output_type": "stream",
     "text": [
      "CPU times: user 1min 11s, sys: 9.1 s, total: 1min 20s\n",
      "Wall time: 1min 20s\n"
     ]
    }
   ],
   "source": [
    "%%time\n",
    "train_embed = []\n",
    "train_label = []\n",
    "with torch.autograd.no_grad():\n",
    "    for x, label in trainset:\n",
    "        x = x.to(device).view(1, 1, 28, 28)\n",
    "        y = embed_model.forward(x).cpu().data.numpy()\n",
    "        train_embed.append(y)\n",
    "        train_label.append(label.item())\n",
    "        \n",
    "train_embed = np.array(train_embed)\n",
    "train_label = np.array(train_label, dtype=np.int32)"
   ]
  },
  {
   "cell_type": "code",
   "execution_count": 38,
   "metadata": {},
   "outputs": [],
   "source": [
    "train_embed = train_embed.reshape((-1, embed_model.EMBED_DIM))"
   ]
  },
  {
   "cell_type": "code",
   "execution_count": 14,
   "metadata": {},
   "outputs": [],
   "source": [
    "test_embed = []\n",
    "test_label = []\n",
    "with torch.autograd.no_grad():\n",
    "    for x, label in testset:\n",
    "        x = x.to(device).view(1, 1, 28, 28)\n",
    "        y = embed_model.forward(x).cpu().data.numpy()\n",
    "        test_embed.append(y)\n",
    "        test_label.append(label.item())\n",
    "        \n",
    "test_embed = np.array(test_embed)\n",
    "test_label = np.array(test_label, dtype=np.int32)"
   ]
  },
  {
   "cell_type": "code",
   "execution_count": 15,
   "metadata": {},
   "outputs": [],
   "source": [
    "test_embed = test_embed.reshape((-1, embed_model.EMBED_DIM))"
   ]
  },
  {
   "cell_type": "markdown",
   "metadata": {},
   "source": [
    "### k-NN classification on learned embeddings"
   ]
  },
  {
   "cell_type": "code",
   "execution_count": 16,
   "metadata": {},
   "outputs": [],
   "source": [
    "from sklearn.neighbors import KNeighborsClassifier\n",
    "\n",
    "nn1_classifier = KNeighborsClassifier(n_neighbors=1, n_jobs=8)\n",
    "nn3_classifier = KNeighborsClassifier(n_neighbors=3, n_jobs=8)\n",
    "nn5_classifier = KNeighborsClassifier(n_neighbors=5, n_jobs=8)"
   ]
  },
  {
   "cell_type": "code",
   "execution_count": 17,
   "metadata": {},
   "outputs": [
    {
     "data": {
      "text/plain": [
       "KNeighborsClassifier(algorithm='auto', leaf_size=30, metric='minkowski',\n",
       "           metric_params=None, n_jobs=8, n_neighbors=5, p=2,\n",
       "           weights='uniform')"
      ]
     },
     "execution_count": 17,
     "metadata": {},
     "output_type": "execute_result"
    }
   ],
   "source": [
    "nn1_classifier.fit(train_embed, train_label)\n",
    "nn3_classifier.fit(train_embed, train_label)\n",
    "nn5_classifier.fit(train_embed, train_label)"
   ]
  },
  {
   "cell_type": "code",
   "execution_count": 18,
   "metadata": {},
   "outputs": [
    {
     "name": "stdout",
     "output_type": "stream",
     "text": [
      "CPU times: user 992 ms, sys: 4 ms, total: 996 ms\n",
      "Wall time: 1.04 s\n"
     ]
    }
   ],
   "source": [
    "%%time\n",
    "pred1 = nn1_classifier.predict(test_embed)"
   ]
  },
  {
   "cell_type": "code",
   "execution_count": 19,
   "metadata": {},
   "outputs": [
    {
     "name": "stdout",
     "output_type": "stream",
     "text": [
      "CPU times: user 1.23 s, sys: 4 ms, total: 1.24 s\n",
      "Wall time: 1.33 s\n"
     ]
    }
   ],
   "source": [
    "%%time\n",
    "pred3 = nn3_classifier.predict(test_embed)"
   ]
  },
  {
   "cell_type": "code",
   "execution_count": 20,
   "metadata": {},
   "outputs": [
    {
     "name": "stdout",
     "output_type": "stream",
     "text": [
      "CPU times: user 1.36 s, sys: 4 ms, total: 1.36 s\n",
      "Wall time: 1.44 s\n"
     ]
    }
   ],
   "source": [
    "%%time\n",
    "pred5 = nn5_classifier.predict(test_embed)"
   ]
  },
  {
   "cell_type": "code",
   "execution_count": 21,
   "metadata": {},
   "outputs": [
    {
     "name": "stdout",
     "output_type": "stream",
     "text": [
      "k-NN classification on MNIST embeddings (k=1)\n",
      "0.9907\n",
      "k-NN classification on MNIST embeddings (k=3)\n",
      "0.9914\n",
      "k-NN classification on MNIST embeddings (k=5)\n",
      "0.9921\n"
     ]
    }
   ],
   "source": [
    "print(\"k-NN classification on MNIST embeddings (k=1)\")\n",
    "print(np.mean(pred1 == test_label))\n",
    "print(\"k-NN classification on MNIST embeddings (k=3)\")\n",
    "print(np.mean(pred3 == test_label))\n",
    "print(\"k-NN classification on MNIST embeddings (k=5)\")\n",
    "print(np.mean(pred5 == test_label))"
   ]
  },
  {
   "cell_type": "code",
   "execution_count": 22,
   "metadata": {},
   "outputs": [
    {
     "name": "stdout",
     "output_type": "stream",
     "text": [
      "k-NN classification on MNIST embeddings (k=7)\n",
      "0.9921\n",
      "CPU times: user 1.46 s, sys: 8 ms, total: 1.47 s\n",
      "Wall time: 1.53 s\n"
     ]
    }
   ],
   "source": [
    "%%time\n",
    "nn7_classifier = KNeighborsClassifier(n_neighbors=7, n_jobs=8)\n",
    "nn7_classifier.fit(train_embed, train_label)\n",
    "pred7 = nn7_classifier.predict(test_embed)\n",
    "print(\"k-NN classification on MNIST embeddings (k=7)\")\n",
    "print(np.mean(pred7 == test_label))"
   ]
  },
  {
   "cell_type": "code",
   "execution_count": 23,
   "metadata": {},
   "outputs": [
    {
     "name": "stdout",
     "output_type": "stream",
     "text": [
      "k-NN classification on MNIST embeddings (k=15)\n",
      "0.9922\n",
      "CPU times: user 1.46 s, sys: 4 ms, total: 1.47 s\n",
      "Wall time: 1.51 s\n"
     ]
    }
   ],
   "source": [
    "%%time\n",
    "nn15_classifier = KNeighborsClassifier(n_neighbors=15, n_jobs=8)\n",
    "nn15_classifier.fit(train_embed, train_label)\n",
    "pred15 = nn15_classifier.predict(test_embed)\n",
    "print(\"k-NN classification on MNIST embeddings (k=15)\")\n",
    "print(np.mean(pred15 == test_label))"
   ]
  },
  {
   "cell_type": "markdown",
   "metadata": {},
   "source": [
    "## Test t-SNE plots"
   ]
  },
  {
   "cell_type": "code",
   "execution_count": 34,
   "metadata": {
    "scrolled": true
   },
   "outputs": [],
   "source": [
    "from sklearn.manifold import TSNE\n",
    "\n",
    "ix = np.random.choice(np.arange(test_embed.shape[0]), size=2000, replace=False)\n",
    "test_embed_subsample = test_embed[ix]\n",
    "test_label_subsample = test_label[ix]\n",
    "tsne_embedding = TSNE(n_components=2).fit_transform(test_embed_subsample)"
   ]
  },
  {
   "cell_type": "code",
   "execution_count": 36,
   "metadata": {},
   "outputs": [
    {
     "data": {
      "text/plain": [
       "<matplotlib.collections.PathCollection at 0x2ba061615828>"
      ]
     },
     "execution_count": 36,
     "metadata": {},
     "output_type": "execute_result"
    },
    {
     "data": {
      "image/png": "[encoded data removed]",
      "text/plain": [
       "<Figure size 432x288 with 1 Axes>"
      ]
     },
     "metadata": {
      "needs_background": "light"
     },
     "output_type": "display_data"
    }
   ],
   "source": [
    "plt.scatter(tsne_embedding[:, 0], tsne_embedding[:, 1], c=test_label_subsample)"
   ]
  }
 ],
 "metadata": {
  "kernelspec": {
   "display_name": "Python 3",
   "language": "python",
   "name": "python3"
  },
  "language_info": {
   "codemirror_mode": {
    "name": "ipython",
    "version": 3
   },
   "file_extension": ".py",
   "mimetype": "text/x-python",
   "name": "python",
   "nbconvert_exporter": "python",
   "pygments_lexer": "ipython3",
   "version": "3.6.6"
  }
 },
 "nbformat": 4,
 "nbformat_minor": 2
}
