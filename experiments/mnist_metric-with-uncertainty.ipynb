{
 "cells": [
  {
   "cell_type": "code",
   "execution_count": 14,
   "metadata": {},
   "outputs": [],
   "source": [
    "import numpy as np\n",
    "import matplotlib.pyplot as plt"
   ]
  },
  {
   "cell_type": "code",
   "execution_count": 15,
   "metadata": {},
   "outputs": [],
   "source": [
    "import torch\n",
    "import torch.nn as nn\n",
    "import torch.nn.functional as F\n",
    "import torch.optim as optim\n",
    "\n",
    "import torchvision\n",
    "from torchvision import transforms, datasets"
   ]
  },
  {
   "cell_type": "code",
   "execution_count": 16,
   "metadata": {},
   "outputs": [
    {
     "name": "stdout",
     "output_type": "stream",
     "text": [
      "True\n",
      "1\n"
     ]
    }
   ],
   "source": [
    "print(torch.cuda.is_available())\n",
    "print(torch.cuda.device_count())\n",
    "device = torch.device(\"cuda:0\" if torch.cuda.is_available() else \"cpu\")"
   ]
  },
  {
   "cell_type": "code",
   "execution_count": 17,
   "metadata": {},
   "outputs": [],
   "source": [
    "transform = transforms.Compose([transforms.ToTensor(),\n",
    "                                transforms.Normalize((0.5, 0.5, 0.5), (0.5, 0.5, 0.5))])"
   ]
  },
  {
   "cell_type": "code",
   "execution_count": 18,
   "metadata": {},
   "outputs": [],
   "source": [
    "trainset = datasets.MNIST(root='/scratch/yardima/data/', download=True, train=True, transform=transform)\n",
    "trainloader = torch.utils.data.DataLoader(trainset, batch_size=32,\n",
    "                                          shuffle=True, num_workers=2)\n",
    "\n",
    "testset = datasets.MNIST(root='/scratch/yardima/data/', download=True, train=False, transform=transform)\n",
    "testloader = torch.utils.data.DataLoader(testset, batch_size=32,\n",
    "                                          shuffle=False, num_workers=2)"
   ]
  },
  {
   "cell_type": "code",
   "execution_count": 19,
   "metadata": {
    "scrolled": true
   },
   "outputs": [
    {
     "name": "stdout",
     "output_type": "stream",
     "text": [
      "tensor([1, 1, 4, 9, 7, 8, 5, 5, 5, 3, 1, 4, 0, 9, 2, 9, 3, 1, 3, 7, 7, 7, 4, 7,\n",
      "        0, 9, 9, 3, 1, 8, 4, 7])\n"
     ]
    },
    {
     "data": {
      "image/png": "[encoded data removed]",
      "text/plain": [
       "<Figure size 432x288 with 1 Axes>"
      ]
     },
     "metadata": {
      "needs_background": "light"
     },
     "output_type": "display_data"
    }
   ],
   "source": [
    "dataiter = iter(trainloader)\n",
    "i, l = dataiter.next()\n",
    "\n",
    "g = torchvision.utils.make_grid(i, nrow=4)\n",
    "\n",
    "g = g / 2 + 0.5     # unnormalize\n",
    "npimg = g.numpy()\n",
    "plt.imshow(np.transpose(npimg, (1, 2, 0)))\n",
    "\n",
    "print(l)"
   ]
  },
  {
   "cell_type": "markdown",
   "metadata": {},
   "source": [
    "## Test metric learning/CNN"
   ]
  },
  {
   "cell_type": "code",
   "execution_count": 20,
   "metadata": {},
   "outputs": [],
   "source": [
    "class CNN(nn.Module):\n",
    "    \n",
    "    def __init__(self, *, embed_dim):\n",
    "        super(CNN, self).__init__()\n",
    "        \n",
    "        self.c1 = nn.Conv2d(1, 16, kernel_size=5)\n",
    "        self.c2 = nn.Conv2d(16, 32, kernel_size=5)\n",
    "        self.c3 = nn.Conv2d(32, 16, kernel_size=5)\n",
    "        self.c4 = nn.Conv2d(16, 16, kernel_size=5)\n",
    "        self.c5 = nn.Conv2d(16, embed_dim, kernel_size=12)\n",
    "        \n",
    "        self.EMBED_DIM = embed_dim\n",
    "    \n",
    "    def forward(self, x):\n",
    "        \n",
    "        x = F.relu(self.c1(x))\n",
    "        x = F.relu(self.c2(x))\n",
    "        x = F.relu(self.c3(x))\n",
    "        x = F.relu(self.c4(x))\n",
    "        x = self.c5(x)\n",
    "        \n",
    "        x = x.view(-1, self.EMBED_DIM)\n",
    "        \n",
    "        return x"
   ]
  },
  {
   "cell_type": "code",
   "execution_count": 21,
   "metadata": {},
   "outputs": [
    {
     "name": "stdout",
     "output_type": "stream",
     "text": [
      "Total trainable parameter count: 55530\n"
     ]
    }
   ],
   "source": [
    "cnn = CNN(embed_dim=10)\n",
    "\n",
    "## print number of parameters in network:\n",
    "pcount = 0\n",
    "for p in cnn.parameters():\n",
    "    pcount += p.numel()\n",
    "    \n",
    "print(\"Total trainable parameter count: {}\".format(pcount))"
   ]
  },
  {
   "cell_type": "markdown",
   "metadata": {},
   "source": [
    "## Prepare dataset for triplet loss"
   ]
  },
  {
   "cell_type": "code",
   "execution_count": 22,
   "metadata": {},
   "outputs": [],
   "source": [
    "classindices = []\n",
    "trainy = trainset.train_labels.data.numpy()\n",
    "for i in range(10):\n",
    "    classindices.append(np.nonzero(trainy == i)[0])"
   ]
  },
  {
   "cell_type": "code",
   "execution_count": 23,
   "metadata": {},
   "outputs": [
    {
     "data": {
      "text/plain": [
       "<matplotlib.image.AxesImage at 0x2ac28e97f0f0>"
      ]
     },
     "execution_count": 23,
     "metadata": {},
     "output_type": "execute_result"
    },
    {
     "data": {
      "image/png": "[encoded data removed]",
      "text/plain": [
       "<Figure size 432x288 with 1 Axes>"
      ]
     },
     "metadata": {
      "needs_background": "light"
     },
     "output_type": "display_data"
    }
   ],
   "source": [
    "sample = trainset[classindices[3][447]][0]\n",
    "g = torchvision.utils.make_grid(sample, nrow=1)\n",
    "\n",
    "g = g / 2 + 0.5     # unnormalize\n",
    "npimg = g.numpy()\n",
    "plt.imshow(np.transpose(npimg, (1, 2, 0)))"
   ]
  },
  {
   "cell_type": "code",
   "execution_count": 24,
   "metadata": {},
   "outputs": [],
   "source": [
    "def gen_triplet(dataset, classindices, n_samples):\n",
    "    X = []\n",
    "    y = []\n",
    "    for i in range(n_samples):\n",
    "        c = np.random.choice(10, size=2, replace=False)\n",
    "        \n",
    "        p_samples = np.random.choice(classindices[c[0]], size=2, replace=False)\n",
    "        n_sample = np.random.choice(classindices[c[1]], size=1)\n",
    "        \n",
    "        X.append(dataset[p_samples[0]][0])\n",
    "        X.append(dataset[p_samples[1]][0])\n",
    "        X.append(dataset[n_sample[0]][0])\n",
    "        \n",
    "        y.append(dataset[p_samples[0]][1])\n",
    "        y.append(dataset[p_samples[1]][1])\n",
    "        y.append(dataset[n_sample[0]][1])\n",
    "        \n",
    "    return (torch.stack(X), \n",
    "            torch.stack(y))"
   ]
  },
  {
   "cell_type": "markdown",
   "metadata": {},
   "source": [
    "## Train model with different hyper-parameters"
   ]
  },
  {
   "cell_type": "code",
   "execution_count": null,
   "metadata": {},
   "outputs": [],
   "source": [
    "def triplet_loss(loss_fun, output, n_samples, target, reg):\n",
    "    ix = np.arange(n_samples, dtype=np.int32) * 3\n",
    "    \n",
    "    distp = (output[ix] - output[ix + 1]).pow(2).sum(dim=1)\n",
    "    distn = (output[ix] - output[ix + 2]).pow(2).sum(dim=1)\n",
    "    \n",
    "    norm_loss = output.pow(2).sum() / n_samples\n",
    "    loss_dist = loss_fun(distn, distp, target) / n_samples\n",
    "    \n",
    "    return reg * norm_loss + loss_dist"
   ]
  },
  {
   "cell_type": "code",
   "execution_count": null,
   "metadata": {
    "scrolled": true
   },
   "outputs": [],
   "source": [
    "cnn = CNN(embed_dim=10)\n",
    "optimizer = optim.SGD(cnn.parameters(), lr = 1e-3, momentum=0.9)\n",
    "lr_update = lambda epoch: 0.9 ** epoch\n",
    "cnn = cnn.to(device)\n",
    "scheduler = torch.optim.lr_scheduler.LambdaLR(optimizer, lr_lambda=lr_update)"
   ]
  },
  {
   "cell_type": "code",
   "execution_count": null,
   "metadata": {
    "scrolled": true
   },
   "outputs": [
    {
     "name": "stdout",
     "output_type": "stream",
     "text": [
      "[1,  1250] loss: 0.237\n",
      "[1,  2500] loss: 0.087\n",
      "[1,  3750] loss: 0.059\n",
      "[1,  5000] loss: 0.046\n",
      "[1,  6250] loss: 0.039\n",
      "[1,  7500] loss: 0.035\n",
      "[1,  8750] loss: 0.035\n",
      "[2,  1250] loss: 0.030\n",
      "[2,  2500] loss: 0.028\n",
      "[2,  3750] loss: 0.026\n",
      "[2,  5000] loss: 0.026\n",
      "[2,  6250] loss: 0.027\n",
      "[2,  7500] loss: 0.026\n",
      "[2,  8750] loss: 0.024\n",
      "[3,  1250] loss: 0.022\n",
      "[3,  2500] loss: 0.024\n"
     ]
    }
   ],
   "source": [
    "%%time\n",
    "reg = 3e-3\n",
    "margin = 1\n",
    "loss_fun = nn.MarginRankingLoss(margin=margin)\n",
    "n_samples = 3\n",
    "\n",
    "epoch_size = 10000\n",
    "\n",
    "for e in range(100):\n",
    "    running_loss = 0.\n",
    "    scheduler.step()\n",
    "    \n",
    "    for i in range(1, 10000):\n",
    "        x, label = gen_triplet(trainset, classindices, n_samples)\n",
    "        x = x.to(device)\n",
    "        target = torch.FloatTensor(n_samples).fill_(1).to(device)\n",
    "        \n",
    "        optimizer.zero_grad()\n",
    "        out = cnn.forward(x)\n",
    "        loss = triplet_loss(loss_fun, out, n_samples, target, reg)\n",
    "        loss.backward()\n",
    "        \n",
    "        optimizer.step()\n",
    "        \n",
    "        running_loss += loss.item()\n",
    "        \n",
    "        if i % 1250 == 0:\n",
    "            print('[%d, %5d] loss: %.3f' %\n",
    "                  (e + 1, i, running_loss / 1250))\n",
    "            running_loss = 0."
   ]
  },
  {
   "cell_type": "code",
   "execution_count": null,
   "metadata": {},
   "outputs": [],
   "source": [
    "torch.save(cnn, '/home/yardima/Python/models/model1')"
   ]
  },
  {
   "cell_type": "markdown",
   "metadata": {},
   "source": [
    "## Evaluate model"
   ]
  }
 ],
 "metadata": {
  "kernelspec": {
   "display_name": "Python 3",
   "language": "python",
   "name": "python3"
  },
  "language_info": {
   "codemirror_mode": {
    "name": "ipython",
    "version": 3
   },
   "file_extension": ".py",
   "mimetype": "text/x-python",
   "name": "python",
   "nbconvert_exporter": "python",
   "pygments_lexer": "ipython3",
   "version": "3.6.6"
  }
 },
 "nbformat": 4,
 "nbformat_minor": 2
}
