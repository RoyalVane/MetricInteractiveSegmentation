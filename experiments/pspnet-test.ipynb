{
 "cells": [
  {
   "cell_type": "code",
   "execution_count": 1,
   "metadata": {},
   "outputs": [],
   "source": [
    "import numpy as np\n",
    "import matplotlib.pyplot as plt"
   ]
  },
  {
   "cell_type": "code",
   "execution_count": 2,
   "metadata": {},
   "outputs": [],
   "source": [
    "import torch\n",
    "import torch.nn as nn\n",
    "import torch.nn.functional as F\n",
    "import torch.optim as optim\n",
    "\n",
    "import torchvision\n",
    "from torchvision import transforms, datasets\n",
    "import torch.utils.data as data"
   ]
  },
  {
   "cell_type": "code",
   "execution_count": 3,
   "metadata": {},
   "outputs": [
    {
     "name": "stdout",
     "output_type": "stream",
     "text": [
      "True\n",
      "1\n"
     ]
    }
   ],
   "source": [
    "print(torch.cuda.is_available())\n",
    "print(torch.cuda.device_count())\n",
    "device = torch.device(\"cuda:0\" if torch.cuda.is_available() else \"cpu\")"
   ]
  },
  {
   "cell_type": "markdown",
   "metadata": {},
   "source": [
    "# Load the VOC2012 dataset"
   ]
  },
  {
   "cell_type": "code",
   "execution_count": 4,
   "metadata": {},
   "outputs": [],
   "source": [
    "import requests\n",
    "from tqdm import tqdm"
   ]
  },
  {
   "cell_type": "code",
   "execution_count": 5,
   "metadata": {},
   "outputs": [],
   "source": [
    "def download_file(url, local_filename):\n",
    "    # NOTE the stream=True parameter\n",
    "    r = requests.get(url, stream=True)\n",
    "    with open(local_filename, 'wb') as f:\n",
    "        for chunk in tqdm(r.iter_content(chunk_size=1024)): \n",
    "            if chunk: # filter out keep-alive new chunks\n",
    "                f.write(chunk)\n",
    "                #f.flush() commented by recommendation from J.F.Sebastian\n",
    "    return local_filename"
   ]
  },
  {
   "cell_type": "code",
   "execution_count": 6,
   "metadata": {},
   "outputs": [],
   "source": [
    "import os\n",
    "\n",
    "if not os.path.isdir(\"/scratch/yardima/datasets/\"):\n",
    "    os.mkdir(\"/scratch/yardima/datasets/\")\n",
    "    \n",
    "if not os.path.isdir(\"/scratch/yardima/datasets/voc12\"):\n",
    "    os.mkdir(\"/scratch/yardima/datasets/voc12\")"
   ]
  },
  {
   "cell_type": "code",
   "execution_count": 21,
   "metadata": {},
   "outputs": [
    {
     "name": "stderr",
     "output_type": "stream",
     "text": [
      "1952773it [00:44, 43486.89it/s]\n"
     ]
    },
    {
     "data": {
      "text/plain": [
       "'/scratch/yardima/datasets/voc2012.tar'"
      ]
     },
     "execution_count": 21,
     "metadata": {},
     "output_type": "execute_result"
    }
   ],
   "source": [
    "download_file(\"http://host.robots.ox.ac.uk/pascal/VOC/voc2012/VOCtrainval_11-May-2012.tar\",\n",
    "              \"/scratch/yardima/datasets/voc2012.tar\")"
   ]
  },
  {
   "cell_type": "code",
   "execution_count": 7,
   "metadata": {},
   "outputs": [],
   "source": [
    "import tarfile"
   ]
  },
  {
   "cell_type": "code",
   "execution_count": 8,
   "metadata": {},
   "outputs": [],
   "source": [
    "def extract_tar_file(fname, path):\n",
    "    with tarfile.open(fname) as f:\n",
    "        f.extractall(path=path)    "
   ]
  },
  {
   "cell_type": "code",
   "execution_count": 26,
   "metadata": {},
   "outputs": [],
   "source": [
    "extract_tar_file(\"/scratch/yardima/datasets/voc2012.tar\", \"/scratch/yardima/datasets/voc12/\")"
   ]
  },
  {
   "cell_type": "code",
   "execution_count": 18,
   "metadata": {},
   "outputs": [
    {
     "name": "stderr",
     "output_type": "stream",
     "text": [
      "1386270it [01:22, 16904.29it/s]\n"
     ]
    },
    {
     "data": {
      "text/plain": [
       "'/scratch/yardima/datasets/bsd_bench.tar'"
      ]
     },
     "execution_count": 18,
     "metadata": {},
     "output_type": "execute_result"
    }
   ],
   "source": [
    "download_file(\"http://www.eecs.berkeley.edu/Research/Projects/CS/vision/grouping/semantic_contours/benchmark.tgz\",\n",
    "              \"/scratch/yardima/datasets/bsd_bench.tar\")"
   ]
  },
  {
   "cell_type": "code",
   "execution_count": 19,
   "metadata": {},
   "outputs": [],
   "source": [
    "extract_tar_file(\"/scratch/yardima/datasets/bsd_bench.tar\", \"/scratch/yardima/datasets/\")"
   ]
  },
  {
   "cell_type": "code",
   "execution_count": 4,
   "metadata": {},
   "outputs": [],
   "source": [
    "import ptsemseg\n",
    "import ptsemseg.loader"
   ]
  },
  {
   "cell_type": "code",
   "execution_count": 146,
   "metadata": {},
   "outputs": [],
   "source": [
    "data_loader = ptsemseg.loader.get_loader(\"pascal\")\n",
    "\n",
    "data_aug = None\n",
    "\n",
    "t_loader = data_loader(\n",
    "        \"/srv/glusterfs/yardima/datasets/voc12/VOCdevkit/VOC2012\",\n",
    "        is_transform=True,\n",
    "        split=\"train_aug\",\n",
    "        img_size=('same', 'same'),\n",
    "        augmentations=data_aug)\n",
    "\n",
    "\n",
    "v_loader = data_loader(\"/srv/glusterfs/yardima/datasets/voc12/VOCdevkit/VOC2012\",\n",
    "                        is_transform=True,\n",
    "                        split=\"val\",\n",
    "                        img_size=('same', 'same'),\n",
    "                        img_norm=False)\n",
    "\n",
    "trainloader = data.DataLoader(t_loader,\n",
    "                                  batch_size=1,\n",
    "                                  num_workers=2,\n",
    "                                  shuffle=True)\n",
    "\n",
    "valloader = data.DataLoader(v_loader,\n",
    "                                batch_size=1,\n",
    "                                num_workers=2)"
   ]
  },
  {
   "cell_type": "markdown",
   "metadata": {},
   "source": [
    "# Load the PSPNet model"
   ]
  },
  {
   "cell_type": "code",
   "execution_count": 147,
   "metadata": {},
   "outputs": [],
   "source": [
    "import ptsemseg.models"
   ]
  },
  {
   "cell_type": "code",
   "execution_count": 148,
   "metadata": {},
   "outputs": [],
   "source": [
    "pspnet = ptsemseg.models.get_model({\"arch\": \"pspnet\"}, n_classes=21)"
   ]
  },
  {
   "cell_type": "code",
   "execution_count": 149,
   "metadata": {},
   "outputs": [
    {
     "name": "stdout",
     "output_type": "stream",
     "text": [
      "Number of parameters: 68073706\n"
     ]
    }
   ],
   "source": [
    "parameters = 0\n",
    "for p in pspnet.parameters():\n",
    "    parameters += p.numel()\n",
    "\n",
    "print(\"Number of parameters: {}\".format(parameters))"
   ]
  },
  {
   "cell_type": "code",
   "execution_count": 150,
   "metadata": {
    "scrolled": true
   },
   "outputs": [
    {
     "name": "stdout",
     "output_type": "stream",
     "text": [
      "Processing layer conv1_1_3x3_s2\n",
      "Processing layer conv1_1_3x3_s2/bn\n",
      "Processing layer conv1_2_3x3\n",
      "Processing layer conv1_2_3x3/bn\n",
      "Processing layer conv1_3_3x3\n",
      "Processing layer conv1_3_3x3/bn\n",
      "Processing layer conv2_1_1x1_reduce\n",
      "Processing layer conv2_1_1x1_reduce/bn\n",
      "Processing layer conv2_1_3x3\n",
      "Processing layer conv2_1_3x3/bn\n",
      "Processing layer conv2_1_1x1_increase\n",
      "Processing layer conv2_1_1x1_increase/bn\n",
      "Processing layer conv2_1_1x1_proj\n",
      "Processing layer conv2_1_1x1_proj/bn\n",
      "Processing layer conv2_2_1x1_reduce\n",
      "Processing layer conv2_2_1x1_reduce/bn\n",
      "Processing layer conv2_2_3x3\n",
      "Processing layer conv2_2_3x3/bn\n",
      "Processing layer conv2_2_1x1_increase\n",
      "Processing layer conv2_2_1x1_increase/bn\n",
      "Processing layer conv2_3_1x1_reduce\n",
      "Processing layer conv2_3_1x1_reduce/bn\n",
      "Processing layer conv2_3_3x3\n",
      "Processing layer conv2_3_3x3/bn\n",
      "Processing layer conv2_3_1x1_increase\n",
      "Processing layer conv2_3_1x1_increase/bn\n",
      "Processing layer conv3_1_1x1_reduce\n",
      "Processing layer conv3_1_1x1_reduce/bn\n",
      "Processing layer conv3_1_3x3\n",
      "Processing layer conv3_1_3x3/bn\n",
      "Processing layer conv3_1_1x1_increase\n",
      "Processing layer conv3_1_1x1_increase/bn\n",
      "Processing layer conv3_1_1x1_proj\n",
      "Processing layer conv3_1_1x1_proj/bn\n",
      "Processing layer conv3_2_1x1_reduce\n",
      "Processing layer conv3_2_1x1_reduce/bn\n",
      "Processing layer conv3_2_3x3\n",
      "Processing layer conv3_2_3x3/bn\n",
      "Processing layer conv3_2_1x1_increase\n",
      "Processing layer conv3_2_1x1_increase/bn\n",
      "Processing layer conv3_3_1x1_reduce\n",
      "Processing layer conv3_3_1x1_reduce/bn\n",
      "Processing layer conv3_3_3x3\n",
      "Processing layer conv3_3_3x3/bn\n",
      "Processing layer conv3_3_1x1_increase\n",
      "Processing layer conv3_3_1x1_increase/bn\n",
      "Processing layer conv3_4_1x1_reduce\n",
      "Processing layer conv3_4_1x1_reduce/bn\n",
      "Processing layer conv3_4_3x3\n",
      "Processing layer conv3_4_3x3/bn\n",
      "Processing layer conv3_4_1x1_increase\n",
      "Processing layer conv3_4_1x1_increase/bn\n",
      "Processing layer conv4_1_1x1_reduce\n",
      "Processing layer conv4_1_1x1_reduce/bn\n",
      "Processing layer conv4_1_3x3\n",
      "Processing layer conv4_1_3x3/bn\n",
      "Processing layer conv4_1_1x1_increase\n",
      "Processing layer conv4_1_1x1_increase/bn\n",
      "Processing layer conv4_1_1x1_proj\n",
      "Processing layer conv4_1_1x1_proj/bn\n",
      "Processing layer conv4_2_1x1_reduce\n",
      "Processing layer conv4_2_1x1_reduce/bn\n",
      "Processing layer conv4_2_3x3\n",
      "Processing layer conv4_2_3x3/bn\n",
      "Processing layer conv4_2_1x1_increase\n",
      "Processing layer conv4_2_1x1_increase/bn\n",
      "Processing layer conv4_3_1x1_reduce\n",
      "Processing layer conv4_3_1x1_reduce/bn\n",
      "Processing layer conv4_3_3x3\n",
      "Processing layer conv4_3_3x3/bn\n",
      "Processing layer conv4_3_1x1_increase\n",
      "Processing layer conv4_3_1x1_increase/bn\n",
      "Processing layer conv4_4_1x1_reduce\n",
      "Processing layer conv4_4_1x1_reduce/bn\n",
      "Processing layer conv4_4_3x3\n",
      "Processing layer conv4_4_3x3/bn\n",
      "Processing layer conv4_4_1x1_increase\n",
      "Processing layer conv4_4_1x1_increase/bn\n",
      "Processing layer conv4_5_1x1_reduce\n",
      "Processing layer conv4_5_1x1_reduce/bn\n",
      "Processing layer conv4_5_3x3\n",
      "Processing layer conv4_5_3x3/bn\n",
      "Processing layer conv4_5_1x1_increase\n",
      "Processing layer conv4_5_1x1_increase/bn\n",
      "Processing layer conv4_6_1x1_reduce\n",
      "Processing layer conv4_6_1x1_reduce/bn\n",
      "Processing layer conv4_6_3x3\n",
      "Processing layer conv4_6_3x3/bn\n",
      "Processing layer conv4_6_1x1_increase\n",
      "Processing layer conv4_6_1x1_increase/bn\n",
      "Processing layer conv4_7_1x1_reduce\n",
      "Processing layer conv4_7_1x1_reduce/bn\n",
      "Processing layer conv4_7_3x3\n",
      "Processing layer conv4_7_3x3/bn\n",
      "Processing layer conv4_7_1x1_increase\n",
      "Processing layer conv4_7_1x1_increase/bn\n",
      "Processing layer conv4_8_1x1_reduce\n",
      "Processing layer conv4_8_1x1_reduce/bn\n",
      "Processing layer conv4_8_3x3\n",
      "Processing layer conv4_8_3x3/bn\n",
      "Processing layer conv4_8_1x1_increase\n",
      "Processing layer conv4_8_1x1_increase/bn\n",
      "Processing layer conv4_9_1x1_reduce\n",
      "Processing layer conv4_9_1x1_reduce/bn\n",
      "Processing layer conv4_9_3x3\n",
      "Processing layer conv4_9_3x3/bn\n",
      "Processing layer conv4_9_1x1_increase\n",
      "Processing layer conv4_9_1x1_increase/bn\n",
      "Processing layer conv4_10_1x1_reduce\n",
      "Processing layer conv4_10_1x1_reduce/bn\n",
      "Processing layer conv4_10_3x3\n",
      "Processing layer conv4_10_3x3/bn\n",
      "Processing layer conv4_10_1x1_increase\n",
      "Processing layer conv4_10_1x1_increase/bn\n",
      "Processing layer conv4_11_1x1_reduce\n",
      "Processing layer conv4_11_1x1_reduce/bn\n",
      "Processing layer conv4_11_3x3\n",
      "Processing layer conv4_11_3x3/bn\n",
      "Processing layer conv4_11_1x1_increase\n",
      "Processing layer conv4_11_1x1_increase/bn\n",
      "Processing layer conv4_12_1x1_reduce\n",
      "Processing layer conv4_12_1x1_reduce/bn\n",
      "Processing layer conv4_12_3x3\n",
      "Processing layer conv4_12_3x3/bn\n",
      "Processing layer conv4_12_1x1_increase\n",
      "Processing layer conv4_12_1x1_increase/bn\n",
      "Processing layer conv4_13_1x1_reduce\n",
      "Processing layer conv4_13_1x1_reduce/bn\n",
      "Processing layer conv4_13_3x3\n",
      "Processing layer conv4_13_3x3/bn\n",
      "Processing layer conv4_13_1x1_increase\n",
      "Processing layer conv4_13_1x1_increase/bn\n",
      "Processing layer conv4_14_1x1_reduce\n",
      "Processing layer conv4_14_1x1_reduce/bn\n",
      "Processing layer conv4_14_3x3\n",
      "Processing layer conv4_14_3x3/bn\n",
      "Processing layer conv4_14_1x1_increase\n",
      "Processing layer conv4_14_1x1_increase/bn\n",
      "Processing layer conv4_15_1x1_reduce\n",
      "Processing layer conv4_15_1x1_reduce/bn\n",
      "Processing layer conv4_15_3x3\n",
      "Processing layer conv4_15_3x3/bn\n",
      "Processing layer conv4_15_1x1_increase\n",
      "Processing layer conv4_15_1x1_increase/bn\n",
      "Processing layer conv4_16_1x1_reduce\n",
      "Processing layer conv4_16_1x1_reduce/bn\n",
      "Processing layer conv4_16_3x3\n",
      "Processing layer conv4_16_3x3/bn\n",
      "Processing layer conv4_16_1x1_increase\n",
      "Processing layer conv4_16_1x1_increase/bn\n",
      "Processing layer conv4_17_1x1_reduce\n",
      "Processing layer conv4_17_1x1_reduce/bn\n",
      "Processing layer conv4_17_3x3\n",
      "Processing layer conv4_17_3x3/bn\n",
      "Processing layer conv4_17_1x1_increase\n",
      "Processing layer conv4_17_1x1_increase/bn\n",
      "Processing layer conv4_18_1x1_reduce\n",
      "Processing layer conv4_18_1x1_reduce/bn\n",
      "Processing layer conv4_18_3x3\n",
      "Processing layer conv4_18_3x3/bn\n",
      "Processing layer conv4_18_1x1_increase\n",
      "Processing layer conv4_18_1x1_increase/bn\n",
      "Processing layer conv4_19_1x1_reduce\n",
      "Processing layer conv4_19_1x1_reduce/bn\n",
      "Processing layer conv4_19_3x3\n",
      "Processing layer conv4_19_3x3/bn\n",
      "Processing layer conv4_19_1x1_increase\n",
      "Processing layer conv4_19_1x1_increase/bn\n",
      "Processing layer conv4_20_1x1_reduce\n",
      "Processing layer conv4_20_1x1_reduce/bn\n",
      "Processing layer conv4_20_3x3\n",
      "Processing layer conv4_20_3x3/bn\n",
      "Processing layer conv4_20_1x1_increase\n",
      "Processing layer conv4_20_1x1_increase/bn\n",
      "Processing layer conv4_21_1x1_reduce\n",
      "Processing layer conv4_21_1x1_reduce/bn\n",
      "Processing layer conv4_21_3x3\n",
      "Processing layer conv4_21_3x3/bn\n",
      "Processing layer conv4_21_1x1_increase\n",
      "Processing layer conv4_21_1x1_increase/bn\n",
      "Processing layer conv4_22_1x1_reduce\n",
      "Processing layer conv4_22_1x1_reduce/bn\n",
      "Processing layer conv4_22_3x3\n",
      "Processing layer conv4_22_3x3/bn\n",
      "Processing layer conv4_22_1x1_increase\n",
      "Processing layer conv4_22_1x1_increase/bn\n",
      "Processing layer conv4_23_1x1_reduce\n",
      "Processing layer conv4_23_1x1_reduce/bn\n",
      "Processing layer conv4_23_3x3\n",
      "Processing layer conv4_23_3x3/bn\n",
      "Processing layer conv4_23_1x1_increase\n",
      "Processing layer conv4_23_1x1_increase/bn\n",
      "Processing layer conv5_1_1x1_reduce\n",
      "Processing layer conv5_1_1x1_reduce/bn\n",
      "Processing layer conv5_1_3x3\n",
      "Processing layer conv5_1_3x3/bn\n",
      "Processing layer conv5_1_1x1_increase\n",
      "Processing layer conv5_1_1x1_increase/bn\n",
      "Processing layer conv5_1_1x1_proj\n",
      "Processing layer conv5_1_1x1_proj/bn\n",
      "Processing layer conv5_2_1x1_reduce\n",
      "Processing layer conv5_2_1x1_reduce/bn\n",
      "Processing layer conv5_2_3x3\n",
      "Processing layer conv5_2_3x3/bn\n",
      "Processing layer conv5_2_1x1_increase\n",
      "Processing layer conv5_2_1x1_increase/bn\n",
      "Processing layer conv5_3_1x1_reduce\n",
      "Processing layer conv5_3_1x1_reduce/bn\n",
      "Processing layer conv5_3_3x3\n",
      "Processing layer conv5_3_3x3/bn\n",
      "Processing layer conv5_3_1x1_increase\n",
      "Processing layer conv5_3_1x1_increase/bn\n",
      "Processing layer conv5_3_pool1_conv\n",
      "Processing layer conv5_3_pool1_conv/bn\n",
      "Processing layer conv5_3_pool2_conv\n",
      "Processing layer conv5_3_pool2_conv/bn\n",
      "Processing layer conv5_3_pool3_conv\n",
      "Processing layer conv5_3_pool3_conv/bn\n",
      "Processing layer conv5_3_pool6_conv\n",
      "Processing layer conv5_3_pool6_conv/bn\n",
      "Processing layer conv5_4\n",
      "Processing layer conv5_4/bn\n",
      "Processing layer conv6\n",
      "Processing layer conv4_24\n",
      "Processing layer conv4_24/bn\n",
      "Processing layer conv6_1\n",
      "CONV conv1_1_3x3_s2: Original [64  3  3  3] and trans weights (1728,)\n",
      "BN conv1_1_3x3_s2: Original torch.Size([64]) and trans weights (64,)\n",
      "CONV conv1_2_3x3: Original [64 64  3  3] and trans weights (36864,)\n",
      "BN conv1_2_3x3: Original torch.Size([64]) and trans weights (64,)\n",
      "CONV conv1_3_3x3: Original [128  64   3   3] and trans weights (73728,)\n",
      "BN conv1_3_3x3: Original torch.Size([128]) and trans weights (128,)\n",
      "CONV conv5_3_pool6_conv: Original [ 512 2048    1    1] and trans weights (1048576,)\n",
      "BN conv5_3_pool6_conv: Original torch.Size([512]) and trans weights (512,)\n",
      "CONV conv5_3_pool3_conv: Original [ 512 2048    1    1] and trans weights (1048576,)\n",
      "BN conv5_3_pool3_conv: Original torch.Size([512]) and trans weights (512,)\n",
      "CONV conv5_3_pool2_conv: Original [ 512 2048    1    1] and trans weights (1048576,)\n",
      "BN conv5_3_pool2_conv: Original torch.Size([512]) and trans weights (512,)\n",
      "CONV conv5_3_pool1_conv: Original [ 512 2048    1    1] and trans weights (1048576,)\n",
      "BN conv5_3_pool1_conv: Original torch.Size([512]) and trans weights (512,)\n",
      "CONV conv5_4: Original [ 512 4096    3    3] and trans weights (18874368,)\n",
      "BN conv5_4: Original torch.Size([512]) and trans weights (512,)\n",
      "CONV conv4_24: Original [ 256 1024    3    3] and trans weights (2359296,)\n",
      "BN conv4_24: Original torch.Size([256]) and trans weights (256,)\n",
      "CONV conv6: Original [ 21 512   1   1] and trans weights (10752,)\n",
      "CONV conv6: Original [21] and trans bias (21,)\n",
      "CONV conv6_1: Original [ 21 256   1   1] and trans weights (5376,)\n",
      "CONV conv6_1: Original [21] and trans bias (21,)\n",
      "CONV conv2_1_1x1_reduce: Original [ 64 128   1   1] and trans weights (8192,)\n",
      "BN conv2_1_1x1_reduce: Original torch.Size([64]) and trans weights (64,)\n",
      "CONV conv2_1_3x3: Original [64 64  3  3] and trans weights (36864,)\n",
      "BN conv2_1_3x3: Original torch.Size([64]) and trans weights (64,)\n",
      "CONV conv2_1_1x1_proj: Original [256 128   1   1] and trans weights (32768,)\n",
      "BN conv2_1_1x1_proj: Original torch.Size([256]) and trans weights (256,)\n",
      "CONV conv2_1_1x1_increase: Original [256  64   1   1] and trans weights (16384,)\n",
      "BN conv2_1_1x1_increase: Original torch.Size([256]) and trans weights (256,)\n",
      "CONV conv2_2_1x1_reduce: Original [ 64 256   1   1] and trans weights (16384,)\n",
      "BN conv2_2_1x1_reduce: Original torch.Size([64]) and trans weights (64,)\n",
      "CONV conv2_2_3x3: Original [64 64  3  3] and trans weights (36864,)\n",
      "BN conv2_2_3x3: Original torch.Size([64]) and trans weights (64,)\n",
      "CONV conv2_2_1x1_increase: Original [256  64   1   1] and trans weights (16384,)\n",
      "BN conv2_2_1x1_increase: Original torch.Size([256]) and trans weights (256,)\n",
      "CONV conv2_3_1x1_reduce: Original [ 64 256   1   1] and trans weights (16384,)\n",
      "BN conv2_3_1x1_reduce: Original torch.Size([64]) and trans weights (64,)\n",
      "CONV conv2_3_3x3: Original [64 64  3  3] and trans weights (36864,)\n",
      "BN conv2_3_3x3: Original torch.Size([64]) and trans weights (64,)\n",
      "CONV conv2_3_1x1_increase: Original [256  64   1   1] and trans weights (16384,)\n",
      "BN conv2_3_1x1_increase: Original torch.Size([256]) and trans weights (256,)\n",
      "CONV conv3_1_1x1_reduce: Original [128 256   1   1] and trans weights (32768,)\n",
      "BN conv3_1_1x1_reduce: Original torch.Size([128]) and trans weights (128,)\n",
      "CONV conv3_1_3x3: Original [128 128   3   3] and trans weights (147456,)\n",
      "BN conv3_1_3x3: Original torch.Size([128]) and trans weights (128,)\n",
      "CONV conv3_1_1x1_proj: Original [512 256   1   1] and trans weights (131072,)\n",
      "BN conv3_1_1x1_proj: Original torch.Size([512]) and trans weights (512,)\n",
      "CONV conv3_1_1x1_increase: Original [512 128   1   1] and trans weights (65536,)\n",
      "BN conv3_1_1x1_increase: Original torch.Size([512]) and trans weights (512,)\n",
      "CONV conv3_2_1x1_reduce: Original [128 512   1   1] and trans weights (65536,)\n",
      "BN conv3_2_1x1_reduce: Original torch.Size([128]) and trans weights (128,)\n",
      "CONV conv3_2_3x3: Original [128 128   3   3] and trans weights (147456,)\n",
      "BN conv3_2_3x3: Original torch.Size([128]) and trans weights (128,)\n",
      "CONV conv3_2_1x1_increase: Original [512 128   1   1] and trans weights (65536,)\n",
      "BN conv3_2_1x1_increase: Original torch.Size([512]) and trans weights (512,)\n",
      "CONV conv3_3_1x1_reduce: Original [128 512   1   1] and trans weights (65536,)\n",
      "BN conv3_3_1x1_reduce: Original torch.Size([128]) and trans weights (128,)\n",
      "CONV conv3_3_3x3: Original [128 128   3   3] and trans weights (147456,)\n",
      "BN conv3_3_3x3: Original torch.Size([128]) and trans weights (128,)\n",
      "CONV conv3_3_1x1_increase: Original [512 128   1   1] and trans weights (65536,)\n",
      "BN conv3_3_1x1_increase: Original torch.Size([512]) and trans weights (512,)\n",
      "CONV conv3_4_1x1_reduce: Original [128 512   1   1] and trans weights (65536,)\n",
      "BN conv3_4_1x1_reduce: Original torch.Size([128]) and trans weights (128,)\n",
      "CONV conv3_4_3x3: Original [128 128   3   3] and trans weights (147456,)\n",
      "BN conv3_4_3x3: Original torch.Size([128]) and trans weights (128,)\n",
      "CONV conv3_4_1x1_increase: Original [512 128   1   1] and trans weights (65536,)\n",
      "BN conv3_4_1x1_increase: Original torch.Size([512]) and trans weights (512,)\n",
      "CONV conv4_1_1x1_reduce: Original [256 512   1   1] and trans weights (131072,)\n",
      "BN conv4_1_1x1_reduce: Original torch.Size([256]) and trans weights (256,)\n",
      "CONV conv4_1_3x3: Original [256 256   3   3] and trans weights (589824,)\n",
      "BN conv4_1_3x3: Original torch.Size([256]) and trans weights (256,)\n",
      "CONV conv4_1_1x1_proj: Original [1024  512    1    1] and trans weights (524288,)\n",
      "BN conv4_1_1x1_proj: Original torch.Size([1024]) and trans weights (1024,)\n",
      "CONV conv4_1_1x1_increase: Original [1024  256    1    1] and trans weights (262144,)\n",
      "BN conv4_1_1x1_increase: Original torch.Size([1024]) and trans weights (1024,)\n",
      "CONV conv4_2_1x1_reduce: Original [ 256 1024    1    1] and trans weights (262144,)\n",
      "BN conv4_2_1x1_reduce: Original torch.Size([256]) and trans weights (256,)\n",
      "CONV conv4_2_3x3: Original [256 256   3   3] and trans weights (589824,)\n",
      "BN conv4_2_3x3: Original torch.Size([256]) and trans weights (256,)\n",
      "CONV conv4_2_1x1_increase: Original [1024  256    1    1] and trans weights (262144,)\n",
      "BN conv4_2_1x1_increase: Original torch.Size([1024]) and trans weights (1024,)\n",
      "CONV conv4_3_1x1_reduce: Original [ 256 1024    1    1] and trans weights (262144,)\n",
      "BN conv4_3_1x1_reduce: Original torch.Size([256]) and trans weights (256,)\n",
      "CONV conv4_3_3x3: Original [256 256   3   3] and trans weights (589824,)\n",
      "BN conv4_3_3x3: Original torch.Size([256]) and trans weights (256,)\n",
      "CONV conv4_3_1x1_increase: Original [1024  256    1    1] and trans weights (262144,)\n",
      "BN conv4_3_1x1_increase: Original torch.Size([1024]) and trans weights (1024,)\n",
      "CONV conv4_4_1x1_reduce: Original [ 256 1024    1    1] and trans weights (262144,)\n",
      "BN conv4_4_1x1_reduce: Original torch.Size([256]) and trans weights (256,)\n",
      "CONV conv4_4_3x3: Original [256 256   3   3] and trans weights (589824,)\n",
      "BN conv4_4_3x3: Original torch.Size([256]) and trans weights (256,)\n",
      "CONV conv4_4_1x1_increase: Original [1024  256    1    1] and trans weights (262144,)\n",
      "BN conv4_4_1x1_increase: Original torch.Size([1024]) and trans weights (1024,)\n",
      "CONV conv4_5_1x1_reduce: Original [ 256 1024    1    1] and trans weights (262144,)\n",
      "BN conv4_5_1x1_reduce: Original torch.Size([256]) and trans weights (256,)\n",
      "CONV conv4_5_3x3: Original [256 256   3   3] and trans weights (589824,)\n",
      "BN conv4_5_3x3: Original torch.Size([256]) and trans weights (256,)\n",
      "CONV conv4_5_1x1_increase: Original [1024  256    1    1] and trans weights (262144,)\n",
      "BN conv4_5_1x1_increase: Original torch.Size([1024]) and trans weights (1024,)\n",
      "CONV conv4_6_1x1_reduce: Original [ 256 1024    1    1] and trans weights (262144,)\n",
      "BN conv4_6_1x1_reduce: Original torch.Size([256]) and trans weights (256,)\n",
      "CONV conv4_6_3x3: Original [256 256   3   3] and trans weights (589824,)\n",
      "BN conv4_6_3x3: Original torch.Size([256]) and trans weights (256,)\n",
      "CONV conv4_6_1x1_increase: Original [1024  256    1    1] and trans weights (262144,)\n",
      "BN conv4_6_1x1_increase: Original torch.Size([1024]) and trans weights (1024,)\n",
      "CONV conv4_7_1x1_reduce: Original [ 256 1024    1    1] and trans weights (262144,)\n",
      "BN conv4_7_1x1_reduce: Original torch.Size([256]) and trans weights (256,)\n",
      "CONV conv4_7_3x3: Original [256 256   3   3] and trans weights (589824,)\n",
      "BN conv4_7_3x3: Original torch.Size([256]) and trans weights (256,)\n",
      "CONV conv4_7_1x1_increase: Original [1024  256    1    1] and trans weights (262144,)\n",
      "BN conv4_7_1x1_increase: Original torch.Size([1024]) and trans weights (1024,)\n",
      "CONV conv4_8_1x1_reduce: Original [ 256 1024    1    1] and trans weights (262144,)\n",
      "BN conv4_8_1x1_reduce: Original torch.Size([256]) and trans weights (256,)\n",
      "CONV conv4_8_3x3: Original [256 256   3   3] and trans weights (589824,)\n",
      "BN conv4_8_3x3: Original torch.Size([256]) and trans weights (256,)\n",
      "CONV conv4_8_1x1_increase: Original [1024  256    1    1] and trans weights (262144,)\n",
      "BN conv4_8_1x1_increase: Original torch.Size([1024]) and trans weights (1024,)\n",
      "CONV conv4_9_1x1_reduce: Original [ 256 1024    1    1] and trans weights (262144,)\n",
      "BN conv4_9_1x1_reduce: Original torch.Size([256]) and trans weights (256,)\n",
      "CONV conv4_9_3x3: Original [256 256   3   3] and trans weights (589824,)\n",
      "BN conv4_9_3x3: Original torch.Size([256]) and trans weights (256,)\n",
      "CONV conv4_9_1x1_increase: Original [1024  256    1    1] and trans weights (262144,)\n",
      "BN conv4_9_1x1_increase: Original torch.Size([1024]) and trans weights (1024,)\n",
      "CONV conv4_10_1x1_reduce: Original [ 256 1024    1    1] and trans weights (262144,)\n",
      "BN conv4_10_1x1_reduce: Original torch.Size([256]) and trans weights (256,)\n",
      "CONV conv4_10_3x3: Original [256 256   3   3] and trans weights (589824,)\n",
      "BN conv4_10_3x3: Original torch.Size([256]) and trans weights (256,)\n",
      "CONV conv4_10_1x1_increase: Original [1024  256    1    1] and trans weights (262144,)\n",
      "BN conv4_10_1x1_increase: Original torch.Size([1024]) and trans weights (1024,)\n",
      "CONV conv4_11_1x1_reduce: Original [ 256 1024    1    1] and trans weights (262144,)\n",
      "BN conv4_11_1x1_reduce: Original torch.Size([256]) and trans weights (256,)\n",
      "CONV conv4_11_3x3: Original [256 256   3   3] and trans weights (589824,)\n",
      "BN conv4_11_3x3: Original torch.Size([256]) and trans weights (256,)\n",
      "CONV conv4_11_1x1_increase: Original [1024  256    1    1] and trans weights (262144,)\n",
      "BN conv4_11_1x1_increase: Original torch.Size([1024]) and trans weights (1024,)\n",
      "CONV conv4_12_1x1_reduce: Original [ 256 1024    1    1] and trans weights (262144,)\n",
      "BN conv4_12_1x1_reduce: Original torch.Size([256]) and trans weights (256,)\n",
      "CONV conv4_12_3x3: Original [256 256   3   3] and trans weights (589824,)\n",
      "BN conv4_12_3x3: Original torch.Size([256]) and trans weights (256,)\n",
      "CONV conv4_12_1x1_increase: Original [1024  256    1    1] and trans weights (262144,)\n",
      "BN conv4_12_1x1_increase: Original torch.Size([1024]) and trans weights (1024,)\n",
      "CONV conv4_13_1x1_reduce: Original [ 256 1024    1    1] and trans weights (262144,)\n",
      "BN conv4_13_1x1_reduce: Original torch.Size([256]) and trans weights (256,)\n",
      "CONV conv4_13_3x3: Original [256 256   3   3] and trans weights (589824,)\n",
      "BN conv4_13_3x3: Original torch.Size([256]) and trans weights (256,)\n",
      "CONV conv4_13_1x1_increase: Original [1024  256    1    1] and trans weights (262144,)\n",
      "BN conv4_13_1x1_increase: Original torch.Size([1024]) and trans weights (1024,)\n",
      "CONV conv4_14_1x1_reduce: Original [ 256 1024    1    1] and trans weights (262144,)\n",
      "BN conv4_14_1x1_reduce: Original torch.Size([256]) and trans weights (256,)\n",
      "CONV conv4_14_3x3: Original [256 256   3   3] and trans weights (589824,)\n",
      "BN conv4_14_3x3: Original torch.Size([256]) and trans weights (256,)\n",
      "CONV conv4_14_1x1_increase: Original [1024  256    1    1] and trans weights (262144,)\n",
      "BN conv4_14_1x1_increase: Original torch.Size([1024]) and trans weights (1024,)\n",
      "CONV conv4_15_1x1_reduce: Original [ 256 1024    1    1] and trans weights (262144,)\n",
      "BN conv4_15_1x1_reduce: Original torch.Size([256]) and trans weights (256,)\n",
      "CONV conv4_15_3x3: Original [256 256   3   3] and trans weights (589824,)\n",
      "BN conv4_15_3x3: Original torch.Size([256]) and trans weights (256,)\n",
      "CONV conv4_15_1x1_increase: Original [1024  256    1    1] and trans weights (262144,)\n",
      "BN conv4_15_1x1_increase: Original torch.Size([1024]) and trans weights (1024,)\n",
      "CONV conv4_16_1x1_reduce: Original [ 256 1024    1    1] and trans weights (262144,)\n",
      "BN conv4_16_1x1_reduce: Original torch.Size([256]) and trans weights (256,)\n",
      "CONV conv4_16_3x3: Original [256 256   3   3] and trans weights (589824,)\n",
      "BN conv4_16_3x3: Original torch.Size([256]) and trans weights (256,)\n",
      "CONV conv4_16_1x1_increase: Original [1024  256    1    1] and trans weights (262144,)\n",
      "BN conv4_16_1x1_increase: Original torch.Size([1024]) and trans weights (1024,)\n",
      "CONV conv4_17_1x1_reduce: Original [ 256 1024    1    1] and trans weights (262144,)\n",
      "BN conv4_17_1x1_reduce: Original torch.Size([256]) and trans weights (256,)\n",
      "CONV conv4_17_3x3: Original [256 256   3   3] and trans weights (589824,)\n",
      "BN conv4_17_3x3: Original torch.Size([256]) and trans weights (256,)\n",
      "CONV conv4_17_1x1_increase: Original [1024  256    1    1] and trans weights (262144,)\n",
      "BN conv4_17_1x1_increase: Original torch.Size([1024]) and trans weights (1024,)\n",
      "CONV conv4_18_1x1_reduce: Original [ 256 1024    1    1] and trans weights (262144,)\n",
      "BN conv4_18_1x1_reduce: Original torch.Size([256]) and trans weights (256,)\n",
      "CONV conv4_18_3x3: Original [256 256   3   3] and trans weights (589824,)\n",
      "BN conv4_18_3x3: Original torch.Size([256]) and trans weights (256,)\n",
      "CONV conv4_18_1x1_increase: Original [1024  256    1    1] and trans weights (262144,)\n",
      "BN conv4_18_1x1_increase: Original torch.Size([1024]) and trans weights (1024,)\n",
      "CONV conv4_19_1x1_reduce: Original [ 256 1024    1    1] and trans weights (262144,)\n",
      "BN conv4_19_1x1_reduce: Original torch.Size([256]) and trans weights (256,)\n",
      "CONV conv4_19_3x3: Original [256 256   3   3] and trans weights (589824,)\n",
      "BN conv4_19_3x3: Original torch.Size([256]) and trans weights (256,)\n",
      "CONV conv4_19_1x1_increase: Original [1024  256    1    1] and trans weights (262144,)\n",
      "BN conv4_19_1x1_increase: Original torch.Size([1024]) and trans weights (1024,)\n",
      "CONV conv4_20_1x1_reduce: Original [ 256 1024    1    1] and trans weights (262144,)\n",
      "BN conv4_20_1x1_reduce: Original torch.Size([256]) and trans weights (256,)\n",
      "CONV conv4_20_3x3: Original [256 256   3   3] and trans weights (589824,)\n",
      "BN conv4_20_3x3: Original torch.Size([256]) and trans weights (256,)\n",
      "CONV conv4_20_1x1_increase: Original [1024  256    1    1] and trans weights (262144,)\n",
      "BN conv4_20_1x1_increase: Original torch.Size([1024]) and trans weights (1024,)\n",
      "CONV conv4_21_1x1_reduce: Original [ 256 1024    1    1] and trans weights (262144,)\n",
      "BN conv4_21_1x1_reduce: Original torch.Size([256]) and trans weights (256,)\n",
      "CONV conv4_21_3x3: Original [256 256   3   3] and trans weights (589824,)\n",
      "BN conv4_21_3x3: Original torch.Size([256]) and trans weights (256,)\n",
      "CONV conv4_21_1x1_increase: Original [1024  256    1    1] and trans weights (262144,)\n",
      "BN conv4_21_1x1_increase: Original torch.Size([1024]) and trans weights (1024,)\n",
      "CONV conv4_22_1x1_reduce: Original [ 256 1024    1    1] and trans weights (262144,)\n",
      "BN conv4_22_1x1_reduce: Original torch.Size([256]) and trans weights (256,)\n",
      "CONV conv4_22_3x3: Original [256 256   3   3] and trans weights (589824,)\n",
      "BN conv4_22_3x3: Original torch.Size([256]) and trans weights (256,)\n",
      "CONV conv4_22_1x1_increase: Original [1024  256    1    1] and trans weights (262144,)\n",
      "BN conv4_22_1x1_increase: Original torch.Size([1024]) and trans weights (1024,)\n",
      "CONV conv4_23_1x1_reduce: Original [ 256 1024    1    1] and trans weights (262144,)\n",
      "BN conv4_23_1x1_reduce: Original torch.Size([256]) and trans weights (256,)\n",
      "CONV conv4_23_3x3: Original [256 256   3   3] and trans weights (589824,)\n",
      "BN conv4_23_3x3: Original torch.Size([256]) and trans weights (256,)\n",
      "CONV conv4_23_1x1_increase: Original [1024  256    1    1] and trans weights (262144,)\n",
      "BN conv4_23_1x1_increase: Original torch.Size([1024]) and trans weights (1024,)\n",
      "CONV conv5_1_1x1_reduce: Original [ 512 1024    1    1] and trans weights (524288,)\n",
      "BN conv5_1_1x1_reduce: Original torch.Size([512]) and trans weights (512,)\n",
      "CONV conv5_1_3x3: Original [512 512   3   3] and trans weights (2359296,)\n",
      "BN conv5_1_3x3: Original torch.Size([512]) and trans weights (512,)\n",
      "CONV conv5_1_1x1_proj: Original [2048 1024    1    1] and trans weights (2097152,)\n",
      "BN conv5_1_1x1_proj: Original torch.Size([2048]) and trans weights (2048,)\n",
      "CONV conv5_1_1x1_increase: Original [2048  512    1    1] and trans weights (1048576,)\n",
      "BN conv5_1_1x1_increase: Original torch.Size([2048]) and trans weights (2048,)\n",
      "CONV conv5_2_1x1_reduce: Original [ 512 2048    1    1] and trans weights (1048576,)\n",
      "BN conv5_2_1x1_reduce: Original torch.Size([512]) and trans weights (512,)\n",
      "CONV conv5_2_3x3: Original [512 512   3   3] and trans weights (2359296,)\n",
      "BN conv5_2_3x3: Original torch.Size([512]) and trans weights (512,)\n",
      "CONV conv5_2_1x1_increase: Original [2048  512    1    1] and trans weights (1048576,)\n",
      "BN conv5_2_1x1_increase: Original torch.Size([2048]) and trans weights (2048,)\n",
      "CONV conv5_3_1x1_reduce: Original [ 512 2048    1    1] and trans weights (1048576,)\n",
      "BN conv5_3_1x1_reduce: Original torch.Size([512]) and trans weights (512,)\n",
      "CONV conv5_3_3x3: Original [512 512   3   3] and trans weights (2359296,)\n",
      "BN conv5_3_3x3: Original torch.Size([512]) and trans weights (512,)\n",
      "CONV conv5_3_1x1_increase: Original [2048  512    1    1] and trans weights (1048576,)\n",
      "BN conv5_3_1x1_increase: Original torch.Size([2048]) and trans weights (2048,)\n"
     ]
    }
   ],
   "source": [
    "pspnet.load_pretrained_model(\"/srv/glusterfs/yardima/runs/pretrained-models/pspnet101_VOC2012.caffemodel\")"
   ]
  },
  {
   "cell_type": "code",
   "execution_count": 120,
   "metadata": {},
   "outputs": [],
   "source": [
    "pspnet.cuda();\n",
    "pspnet.eval();"
   ]
  },
  {
   "cell_type": "code",
   "execution_count": 130,
   "metadata": {},
   "outputs": [
    {
     "name": "stderr",
     "output_type": "stream",
     "text": [
      "Exception ignored in: <bound method _DataLoaderIter.__del__ of <torch.utils.data.dataloader._DataLoaderIter object at 0x2b46ab9f8550>>\n",
      "Traceback (most recent call last):\n",
      "  File \"/home/yardima/.pyenv/versions/3.6.6/lib/python3.6/site-packages/torch/utils/data/dataloader.py\", line 399, in __del__\n",
      "    self._shutdown_workers()\n",
      "  File \"/home/yardima/.pyenv/versions/3.6.6/lib/python3.6/site-packages/torch/utils/data/dataloader.py\", line 378, in _shutdown_workers\n",
      "    self.worker_result_queue.get()\n",
      "  File \"/home/yardima/.pyenv/versions/3.6.6/lib/python3.6/multiprocessing/queues.py\", line 337, in get\n",
      "    return _ForkingPickler.loads(res)\n",
      "  File \"/home/yardima/.pyenv/versions/3.6.6/lib/python3.6/site-packages/torch/multiprocessing/reductions.py\", line 151, in rebuild_storage_fd\n",
      "    fd = df.detach()\n",
      "  File \"/home/yardima/.pyenv/versions/3.6.6/lib/python3.6/multiprocessing/resource_sharer.py\", line 57, in detach\n",
      "    with _resource_sharer.get_connection(self._id) as conn:\n",
      "  File \"/home/yardima/.pyenv/versions/3.6.6/lib/python3.6/multiprocessing/resource_sharer.py\", line 87, in get_connection\n",
      "    c = Client(address, authkey=process.current_process().authkey)\n",
      "  File \"/home/yardima/.pyenv/versions/3.6.6/lib/python3.6/multiprocessing/connection.py\", line 493, in Client\n",
      "    answer_challenge(c, authkey)\n",
      "  File \"/home/yardima/.pyenv/versions/3.6.6/lib/python3.6/multiprocessing/connection.py\", line 737, in answer_challenge\n",
      "    response = connection.recv_bytes(256)        # reject large message\n",
      "  File \"/home/yardima/.pyenv/versions/3.6.6/lib/python3.6/multiprocessing/connection.py\", line 216, in recv_bytes\n",
      "    buf = self._recv_bytes(maxlength)\n",
      "  File \"/home/yardima/.pyenv/versions/3.6.6/lib/python3.6/multiprocessing/connection.py\", line 407, in _recv_bytes\n",
      "    buf = self._recv(4)\n",
      "  File \"/home/yardima/.pyenv/versions/3.6.6/lib/python3.6/multiprocessing/connection.py\", line 379, in _recv\n",
      "    chunk = read(handle, remaining)\n",
      "ConnectionResetError: [Errno 104] Connection reset by peer\n",
      "Clipping input data to the valid range for imshow with RGB data ([0..1] for floats or [0..255] for integers).\n"
     ]
    },
    {
     "name": "stdout",
     "output_type": "stream",
     "text": [
      "torch.Size([1, 3, 256, 256])\n"
     ]
    },
    {
     "data": {
      "text/plain": [
       "<matplotlib.image.AxesImage at 0x2b46a448fcc0>"
      ]
     },
     "execution_count": 130,
     "metadata": {},
     "output_type": "execute_result"
    },
    {
     "data": {
      "image/png": "[encoded data removed]",
      "text/plain": [
       "<Figure size 432x288 with 1 Axes>"
      ]
     },
     "metadata": {
      "needs_background": "light"
     },
     "output_type": "display_data"
    }
   ],
   "source": [
    "dataiter = iter(valloader)\n",
    "i, l = dataiter.next()\n",
    "print(i.shape)\n",
    "g = torchvision.utils.make_grid(i, nrow=4)\n",
    "\n",
    "#g = g / 2 + 0.5     # unnormalize\n",
    "npimg = g.numpy()\n",
    "plt.imshow(np.transpose(npimg, (1, 2, 0)))"
   ]
  },
  {
   "cell_type": "code",
   "execution_count": 131,
   "metadata": {},
   "outputs": [
    {
     "data": {
      "image/png": "[encoded data removed]",
      "text/plain": [
       "<Figure size 432x288 with 1 Axes>"
      ]
     },
     "metadata": {
      "needs_background": "light"
     },
     "output_type": "display_data"
    }
   ],
   "source": [
    "v_loader.decode_segmap(l.numpy().reshape((l.shape[1], l.shape[2])), plot=True)"
   ]
  },
  {
   "cell_type": "code",
   "execution_count": 135,
   "metadata": {},
   "outputs": [],
   "source": [
    "ig = i.to(device)\n",
    "\n",
    "ig = ig * 15\n",
    "\n",
    "ig.cuda()\n",
    "pspnet.train(False)\n",
    "\n",
    "with torch.autograd.no_grad():\n",
    "    img = ig.clone()\n",
    "    out = pspnet.forward(img)"
   ]
  },
  {
   "cell_type": "code",
   "execution_count": 136,
   "metadata": {},
   "outputs": [
    {
     "name": "stdout",
     "output_type": "stream",
     "text": [
      "torch.Size([1, 21, 256, 256])\n"
     ]
    }
   ],
   "source": [
    "print(out.shape)"
   ]
  },
  {
   "cell_type": "code",
   "execution_count": 137,
   "metadata": {},
   "outputs": [
    {
     "data": {
      "image/png": "[encoded data removed]",
      "text/plain": [
       "<Figure size 432x288 with 2 Axes>"
      ]
     },
     "metadata": {
      "needs_background": "light"
     },
     "output_type": "display_data"
    }
   ],
   "source": [
    "output = out.cpu().data[0].numpy()\n",
    "#output = output[:,:img_temp.shape[0],:img_temp.shape[1]]\n",
    "output = output.transpose(1,2,0)\n",
    "output = output[:,:,0:]\n",
    "output = np.argmax(output,axis = 2)\n",
    "#output = output[:,:,1]\n",
    "\n",
    "# plt.subplot(3, 1, 1)\n",
    "# plt.imshow(img_original)\n",
    "# plt.subplot(3, 1, 2)\n",
    "# plt.imshow(gt)\n",
    "# plt.subplot(3, 1, 3)\n",
    "plt.imshow(output)\n",
    "plt.colorbar()\n",
    "plt.show()"
   ]
  },
  {
   "cell_type": "code",
   "execution_count": 30,
   "metadata": {},
   "outputs": [
    {
     "data": {
      "text/plain": [
       "array([[18, 18, 18, ..., 18, 18, 18],\n",
       "       [18, 18, 18, ..., 18, 18, 18],\n",
       "       [18, 18, 18, ..., 18, 18, 18],\n",
       "       ...,\n",
       "       [18, 18, 18, ..., 18, 18, 18],\n",
       "       [18, 18, 18, ..., 18, 18, 18],\n",
       "       [18, 18, 18, ..., 18, 18, 18]])"
      ]
     },
     "execution_count": 30,
     "metadata": {},
     "output_type": "execute_result"
    }
   ],
   "source": [
    "output"
   ]
  },
  {
   "cell_type": "markdown",
   "metadata": {},
   "source": [
    "## Find used mean/std"
   ]
  },
  {
   "cell_type": "code",
   "execution_count": 138,
   "metadata": {},
   "outputs": [],
   "source": [
    "pspnet.eval();\n",
    "pspnet = pspnet.cuda()"
   ]
  },
  {
   "cell_type": "code",
   "execution_count": 22,
   "metadata": {},
   "outputs": [],
   "source": [
    "mean_tensor = torch.tensor(np.random.randn(1, 3, 1, 1) - 0.5, requires_grad=True, dtype=torch.float32, device=device) \n",
    "std_tensor = torch.tensor(np.random.randn(1, 3, 1, 1) * 2 + 10, requires_grad=True, dtype=torch.float32, device=device)"
   ]
  },
  {
   "cell_type": "code",
   "execution_count": 23,
   "metadata": {},
   "outputs": [],
   "source": [
    "pspnet.cuda()\n",
    "optimizer = optim.SGD([mean_tensor, std_tensor], lr=1e-2, momentum=0.9)"
   ]
  },
  {
   "cell_type": "code",
   "execution_count": 24,
   "metadata": {},
   "outputs": [],
   "source": [
    "scheduler = torch.optim.lr_scheduler.MultiStepLR(optimizer, milestones=[2, 4, 6], gamma=0.1)"
   ]
  },
  {
   "cell_type": "code",
   "execution_count": 151,
   "metadata": {},
   "outputs": [],
   "source": [
    "for p in pspnet.parameters():\n",
    "    p.to(device)"
   ]
  },
  {
   "cell_type": "code",
   "execution_count": 112,
   "metadata": {
    "scrolled": true
   },
   "outputs": [
    {
     "name": "stdout",
     "output_type": "stream",
     "text": [
      "Epoch 0\n"
     ]
    },
    {
     "ename": "TypeError",
     "evalue": "'int' object is not subscriptable",
     "output_type": "error",
     "traceback": [
      "\u001b[0;31m---------------------------------------------------------------------------\u001b[0m",
      "\u001b[0;31mTypeError\u001b[0m                                 Traceback (most recent call last)",
      "\u001b[0;32m<ipython-input-112-ab7d115e2fc4>\u001b[0m in \u001b[0;36m<module>\u001b[0;34m\u001b[0m\n\u001b[1;32m     11\u001b[0m         \u001b[0;31m# itransformed = images * std_tensor + mean_tensor\u001b[0m\u001b[0;34m\u001b[0m\u001b[0;34m\u001b[0m\u001b[0m\n\u001b[1;32m     12\u001b[0m \u001b[0;34m\u001b[0m\u001b[0m\n\u001b[0;32m---> 13\u001b[0;31m         \u001b[0mi\u001b[0m\u001b[0;34m[\u001b[0m\u001b[0;34m:\u001b[0m\u001b[0;34m,\u001b[0m \u001b[0;36m0\u001b[0m\u001b[0;34m,\u001b[0m \u001b[0;34m:\u001b[0m\u001b[0;34m,\u001b[0m \u001b[0;34m:\u001b[0m\u001b[0;34m]\u001b[0m \u001b[0;34m=\u001b[0m \u001b[0;34m(\u001b[0m\u001b[0mi\u001b[0m\u001b[0;34m[\u001b[0m\u001b[0;34m:\u001b[0m\u001b[0;34m,\u001b[0m \u001b[0;36m0\u001b[0m\u001b[0;34m,\u001b[0m \u001b[0;34m:\u001b[0m\u001b[0;34m,\u001b[0m \u001b[0;34m:\u001b[0m\u001b[0;34m]\u001b[0m \u001b[0;34m*\u001b[0m \u001b[0;36m0.229\u001b[0m\u001b[0;34m)\u001b[0m \u001b[0;34m*\u001b[0m \u001b[0;36m255\u001b[0m\u001b[0;34m\u001b[0m\u001b[0m\n\u001b[0m\u001b[1;32m     14\u001b[0m         \u001b[0mi\u001b[0m\u001b[0;34m[\u001b[0m\u001b[0;34m:\u001b[0m\u001b[0;34m,\u001b[0m \u001b[0;36m1\u001b[0m\u001b[0;34m,\u001b[0m \u001b[0;34m:\u001b[0m\u001b[0;34m,\u001b[0m \u001b[0;34m:\u001b[0m\u001b[0;34m]\u001b[0m \u001b[0;34m=\u001b[0m \u001b[0;34m(\u001b[0m\u001b[0mi\u001b[0m\u001b[0;34m[\u001b[0m\u001b[0;34m:\u001b[0m\u001b[0;34m,\u001b[0m \u001b[0;36m1\u001b[0m\u001b[0;34m,\u001b[0m \u001b[0;34m:\u001b[0m\u001b[0;34m,\u001b[0m \u001b[0;34m:\u001b[0m\u001b[0;34m]\u001b[0m \u001b[0;34m*\u001b[0m \u001b[0;36m0.224\u001b[0m\u001b[0;34m)\u001b[0m \u001b[0;34m*\u001b[0m \u001b[0;36m255\u001b[0m\u001b[0;34m\u001b[0m\u001b[0m\n\u001b[1;32m     15\u001b[0m         \u001b[0mi\u001b[0m\u001b[0;34m[\u001b[0m\u001b[0;34m:\u001b[0m\u001b[0;34m,\u001b[0m \u001b[0;36m2\u001b[0m\u001b[0;34m,\u001b[0m \u001b[0;34m:\u001b[0m\u001b[0;34m,\u001b[0m \u001b[0;34m:\u001b[0m\u001b[0;34m]\u001b[0m \u001b[0;34m=\u001b[0m \u001b[0;34m(\u001b[0m\u001b[0mi\u001b[0m\u001b[0;34m[\u001b[0m\u001b[0;34m:\u001b[0m\u001b[0;34m,\u001b[0m \u001b[0;36m2\u001b[0m\u001b[0;34m,\u001b[0m \u001b[0;34m:\u001b[0m\u001b[0;34m,\u001b[0m \u001b[0;34m:\u001b[0m\u001b[0;34m]\u001b[0m \u001b[0;34m*\u001b[0m \u001b[0;36m0.225\u001b[0m\u001b[0;34m)\u001b[0m \u001b[0;34m*\u001b[0m \u001b[0;36m255\u001b[0m\u001b[0;34m\u001b[0m\u001b[0m\n",
      "\u001b[0;31mTypeError\u001b[0m: 'int' object is not subscriptable"
     ]
    }
   ],
   "source": [
    "for epoch in range(5):\n",
    "    scheduler.step()\n",
    "    i = 1\n",
    "    running_loss = 0.0\n",
    "    \n",
    "    print(\"Epoch {}\".format(epoch))\n",
    "    for (images, labels) in trainloader:\n",
    "        images = images.cuda()\n",
    "        labels = labels.cuda()\n",
    "        \n",
    "        itransformed = images * std_tensor + mean_tensor\n",
    "        \n",
    "        optimizer.zero_grad()\n",
    "        \n",
    "        out = pspnet.forward(itransformed)\n",
    "      \n",
    "        loss = ptsemseg.loss.cross_entropy2d(out, labels)\n",
    "        \n",
    "        loss.backward()\n",
    "\n",
    "        optimizer.step()\n",
    "        \n",
    "        running_loss += loss.item()\n",
    "        \n",
    "        del loss, out\n",
    "        \n",
    "        if i % 100 == 0:\n",
    "            print(running_loss / 100)\n",
    "            running_loss = 0.0\n",
    "            \n",
    "        i += 1"
   ]
  },
  {
   "cell_type": "code",
   "execution_count": 27,
   "metadata": {},
   "outputs": [],
   "source": [
    "torch.save([mean_tensor, std_tensor], '/home/yardima/norm_param1')"
   ]
  },
  {
   "cell_type": "code",
   "execution_count": 29,
   "metadata": {},
   "outputs": [
    {
     "data": {
      "text/plain": [
       "tensor([[[[-0.0531]],\n",
       "\n",
       "         [[-0.9113]],\n",
       "\n",
       "         [[-1.4369]]]], device='cuda:0', requires_grad=True)"
      ]
     },
     "execution_count": 29,
     "metadata": {},
     "output_type": "execute_result"
    }
   ],
   "source": [
    "mean_tensor"
   ]
  },
  {
   "cell_type": "code",
   "execution_count": 30,
   "metadata": {},
   "outputs": [
    {
     "data": {
      "text/plain": [
       "tensor([[[[15.1530]],\n",
       "\n",
       "         [[18.5970]],\n",
       "\n",
       "         [[17.2651]]]], device='cuda:0', requires_grad=True)"
      ]
     },
     "execution_count": 30,
     "metadata": {},
     "output_type": "execute_result"
    }
   ],
   "source": [
    "std_tensor"
   ]
  },
  {
   "cell_type": "markdown",
   "metadata": {},
   "source": [
    "## Eval PSPNet"
   ]
  },
  {
   "cell_type": "code",
   "execution_count": 139,
   "metadata": {},
   "outputs": [],
   "source": [
    "def _fast_hist(label_true, label_pred, n_class):\n",
    "        mask = (label_true >= 0) & (label_true < n_class)\n",
    "        hist = np.bincount(\n",
    "            n_class * label_true[mask].astype(int) + label_pred[mask],\n",
    "            minlength=n_class ** 2,\n",
    "        ).reshape(n_class, n_class)\n",
    "        return hist"
   ]
  },
  {
   "cell_type": "code",
   "execution_count": 140,
   "metadata": {},
   "outputs": [
    {
     "data": {
      "text/plain": [
       "65536.0"
      ]
     },
     "execution_count": 140,
     "metadata": {},
     "output_type": "execute_result"
    }
   ],
   "source": [
    "i.numel()/ 3"
   ]
  },
  {
   "cell_type": "code",
   "execution_count": 141,
   "metadata": {},
   "outputs": [
    {
     "ename": "RuntimeError",
     "evalue": "Expected object of type torch.cuda.FloatTensor but found type torch.LongTensor for argument #2 'other'",
     "output_type": "error",
     "traceback": [
      "\u001b[0;31m---------------------------------------------------------------------------\u001b[0m",
      "\u001b[0;31mRuntimeError\u001b[0m                              Traceback (most recent call last)",
      "\u001b[0;32m<ipython-input-141-ff491cf422f9>\u001b[0m in \u001b[0;36m<module>\u001b[0;34m\u001b[0m\n\u001b[0;32m----> 1\u001b[0;31m \u001b[0;34m(\u001b[0m\u001b[0;36m1.0\u001b[0m \u001b[0;34m*\u001b[0m \u001b[0;34m(\u001b[0m\u001b[0mout\u001b[0m \u001b[0;34m==\u001b[0m \u001b[0ml\u001b[0m\u001b[0;34m)\u001b[0m\u001b[0;34m)\u001b[0m\u001b[0;34m\u001b[0m\u001b[0m\n\u001b[0m",
      "\u001b[0;31mRuntimeError\u001b[0m: Expected object of type torch.cuda.FloatTensor but found type torch.LongTensor for argument #2 'other'"
     ]
    }
   ],
   "source": [
    "(1.0 * (out == l))"
   ]
  },
  {
   "cell_type": "code",
   "execution_count": 155,
   "metadata": {},
   "outputs": [],
   "source": [
    "pspnet = pspnet.cuda()"
   ]
  },
  {
   "cell_type": "code",
   "execution_count": 156,
   "metadata": {},
   "outputs": [],
   "source": [
    "pspnet.train(mode=False);"
   ]
  },
  {
   "cell_type": "code",
   "execution_count": 157,
   "metadata": {},
   "outputs": [
    {
     "name": "stdout",
     "output_type": "stream",
     "text": [
      "CPU times: user 1min 52s, sys: 30.9 s, total: 2min 23s\n",
      "Wall time: 2min 44s\n"
     ]
    }
   ],
   "source": [
    "%%time\n",
    "\n",
    "n_class = 21\n",
    "image_count = 0\n",
    "acc = 0.\n",
    "cf_matrix = np.zeros(shape=(n_classes, n_classes), dtype=np.float64)\n",
    "with torch.no_grad():\n",
    "    for i, l in valloader:\n",
    "        i = i.cuda()\n",
    "        \n",
    "        i[:, 0, :, :] = (i[:, 0, :, :] * 0.229) * 255\n",
    "        i[:, 1, :, :] = (i[:, 1, :, :] * 0.224) * 255\n",
    "        i[:, 2, :, :] = (i[:, 2, :, :] * 0.225) * 255\n",
    "\n",
    "        out =  pspnet.forward(i).cpu().numpy()\n",
    "        \n",
    "        out = out.squeeze().transpose(1,2,0)\n",
    "        out = np.argmax(out,axis = 2)\n",
    "        \n",
    "        acc += np.sum(out == l.numpy()) / (i.numel() / 3)\n",
    "        \n",
    "        out = out.reshape(-1)\n",
    "        l = l.numpy().reshape(-1)\n",
    "        cf_matrix += _fast_hist(l, out, n_class)\n",
    "        \n",
    "        image_count += 1\n",
    "        \n",
    "        \n",
    "acc /= image_count\n",
    "cf_matrix /= np.sum(cf_matrix)\n",
    "hist = cf_matrix\n",
    "mean_iu = np.nanmean(np.diag(hist) / (hist.sum(axis=1) + hist.sum(axis=0) - np.diag(hist)))"
   ]
  },
  {
   "cell_type": "code",
   "execution_count": 158,
   "metadata": {},
   "outputs": [
    {
     "name": "stdout",
     "output_type": "stream",
     "text": [
      "Pixel Acc.: 0.9442063763908378\n",
      "Mean IOU: 0.7705580880185501\n"
     ]
    }
   ],
   "source": [
    "print(\"Pixel Acc.: {}\".format(acc))\n",
    "print(\"Mean IOU: {}\".format(mean_iu))"
   ]
  },
  {
   "cell_type": "code",
   "execution_count": null,
   "metadata": {},
   "outputs": [],
   "source": [
    "plt."
   ]
  }
 ],
 "metadata": {
  "kernelspec": {
   "display_name": "Python 3",
   "language": "python",
   "name": "python3"
  },
  "language_info": {
   "codemirror_mode": {
    "name": "ipython",
    "version": 3
   },
   "file_extension": ".py",
   "mimetype": "text/x-python",
   "name": "python",
   "nbconvert_exporter": "python",
   "pygments_lexer": "ipython3",
   "version": "3.6.6"
  }
 },
 "nbformat": 4,
 "nbformat_minor": 2
}
