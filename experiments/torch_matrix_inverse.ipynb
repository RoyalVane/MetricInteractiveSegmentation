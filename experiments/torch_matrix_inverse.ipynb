{
 "cells": [
  {
   "cell_type": "code",
   "execution_count": 1,
   "metadata": {},
   "outputs": [],
   "source": [
    "import numpy as np\n",
    "import matplotlib.pyplot as plt\n",
    "import torch"
   ]
  },
  {
   "cell_type": "code",
   "execution_count": 2,
   "metadata": {},
   "outputs": [],
   "source": [
    "A = torch.rand(4, 4, dtype=torch.float32)\n",
    "I = torch.from_numpy(np.eye(4, dtype=np.float32))"
   ]
  },
  {
   "cell_type": "code",
   "execution_count": 3,
   "metadata": {},
   "outputs": [
    {
     "data": {
      "text/plain": [
       "tensor([[0.9951, 0.6473, 0.2089, 0.4368],\n",
       "        [0.5085, 0.1851, 0.2255, 0.8620],\n",
       "        [0.6870, 0.8338, 0.1727, 0.9580],\n",
       "        [0.4337, 0.1673, 0.5339, 0.1966]])"
      ]
     },
     "execution_count": 3,
     "metadata": {},
     "output_type": "execute_result"
    }
   ],
   "source": [
    "A"
   ]
  },
  {
   "cell_type": "code",
   "execution_count": 7,
   "metadata": {},
   "outputs": [
    {
     "data": {
      "text/plain": [
       "array([[ 1.8731642 ,  0.8892364 , -1.5283362 , -0.6140539 ],\n",
       "       [-0.50020856, -2.0084927 ,  1.9506358 ,  0.4130645 ],\n",
       "       [-1.1037027 , -0.5375274 ,  0.50067496,  2.3698351 ],\n",
       "       [-0.70888895,  1.2074677 ,  0.35172972, -0.3464483 ]],\n",
       "      dtype=float32)"
      ]
     },
     "execution_count": 7,
     "metadata": {},
     "output_type": "execute_result"
    }
   ],
   "source": [
    "A_inv = np.linalg.inv(A.numpy())\n",
    "A_inv"
   ]
  },
  {
   "cell_type": "code",
   "execution_count": 13,
   "metadata": {
    "scrolled": true
   },
   "outputs": [
    {
     "name": "stdout",
     "output_type": "stream",
     "text": [
      "[[ 1.873156    0.8892264  -1.5283278  -0.6140458 ]\n",
      " [-0.50020033 -2.0084803   1.9506271   0.4130575 ]\n",
      " [-1.1036948  -0.53751975  0.5006683   2.369825  ]\n",
      " [-0.7088899   1.2074655   0.35173053 -0.34644744]]\n",
      "[[ 9.9999595e-01  1.0698467e-06  1.7918908e-06 -2.7509079e-06]\n",
      " [ 5.4354423e-06  9.9999917e-01 -7.4416891e-07  4.5564229e-06]\n",
      " [ 2.7685701e-06 -7.2111197e-07  9.9999672e-01  1.6309518e-06]\n",
      " [-1.1443028e-06 -2.1646821e-07 -8.1743948e-08  9.9999869e-01]]\n"
     ]
    },
    {
     "data": {
      "image/png": "[encoded data removed]",
      "text/plain": [
       "<Figure size 432x288 with 1 Axes>"
      ]
     },
     "metadata": {
      "needs_background": "light"
     },
     "output_type": "display_data"
    }
   ],
   "source": [
    "X = torch.rand(4, 4, dtype=torch.float32 , requires_grad=True)\n",
    "errs = []\n",
    "for i in range(5000):\n",
    "    err = (torch.mm(A, X) - I).pow(2).sum()\n",
    "    err.backward()\n",
    "    errs.append(err.data.numpy())\n",
    "    \n",
    "    with torch.no_grad():\n",
    "        X -= 0.05 * X.grad\n",
    "\n",
    "    X.grad.data.zero_()\n",
    "    \n",
    "plt.plot(errs)\n",
    "print(X.data.numpy())\n",
    "\n",
    "print(np.dot(X.data.numpy(), A.numpy()))"
   ]
  }
 ],
 "metadata": {
  "kernelspec": {
   "display_name": "Python 3",
   "language": "python",
   "name": "python3"
  },
  "language_info": {
   "codemirror_mode": {
    "name": "ipython",
    "version": 3
   },
   "file_extension": ".py",
   "mimetype": "text/x-python",
   "name": "python",
   "nbconvert_exporter": "python",
   "pygments_lexer": "ipython3",
   "version": "3.6.6"
  }
 },
 "nbformat": 4,
 "nbformat_minor": 2
}
