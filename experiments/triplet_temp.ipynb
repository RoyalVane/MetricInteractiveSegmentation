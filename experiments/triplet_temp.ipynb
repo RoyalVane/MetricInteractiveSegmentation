{
 "cells": [
  {
   "cell_type": "code",
   "execution_count": 2,
   "metadata": {},
   "outputs": [],
   "source": [
    "import numpy as np"
   ]
  },
  {
   "cell_type": "code",
   "execution_count": 3,
   "metadata": {},
   "outputs": [],
   "source": [
    "import torch"
   ]
  },
  {
   "cell_type": "code",
   "execution_count": 4,
   "metadata": {},
   "outputs": [],
   "source": [
    "import matplotlib.pyplot as plt"
   ]
  },
  {
   "cell_type": "code",
   "execution_count": 3,
   "metadata": {},
   "outputs": [],
   "source": [
    "def compute_loss(out, l, n_triplets=200):\n",
    "    def generate_triplets(n_triplets):\n",
    "        ai = np.random.randint(low=0, high=out.shape[2]*out.shape[3], size=(n_triplets,))\n",
    "\n",
    "        classes, inv_map = np.unique(l, return_inverse=True)\n",
    "        n_classes = len(classes)\n",
    "        inv_map = inv_map.reshape(l.shape[1], l.shape[2])\n",
    "        inv_map_flat = inv_map.reshape(-1)\n",
    "\n",
    "    #     anchor_classes = inv_map[ix, iy]\n",
    "\n",
    "        class_lookup = (np.arange(n_classes, dtype=np.int32).reshape((1, 1, n_classes)) !=\n",
    "                        inv_map.reshape(l.shape[1], l.shape[2], 1))\n",
    "        class_lookup = np.transpose(class_lookup, axes=[2, 0, 1])\n",
    "\n",
    "        lneg = []\n",
    "        lpos = []\n",
    "        for i in range(n_classes):\n",
    "            lneg.append(np.transpose(class_lookup[i].reshape(-1).nonzero()).reshape((-1)))\n",
    "            lpos.append(np.transpose(np.logical_not(class_lookup[i]).reshape(-1).nonzero()).reshape((-1)))\n",
    "\n",
    "        ni, pi = [], []\n",
    "        for i in range(n_triplets):\n",
    "            ni.append( np.random.choice(lneg[inv_map_flat[ai[i]]]))\n",
    "            pi.append( np.random.choice(lpos[inv_map_flat[ai[i]]]))\n",
    "\n",
    "        return (torch.tensor(ai, dtype=torch.int32),\n",
    "                torch.tensor(pi, dtype=torch.int32),\n",
    "                torch.tensor(ni, dtype=torch.int32))\n",
    "\n",
    "    \n",
    "    ta, tp, tn = generate_triplets(n_triplets)\n",
    "    ta.cuda()\n",
    "    tp.cuda()\n",
    "    tn.cuda()"
   ]
  },
  {
   "cell_type": "code",
   "execution_count": 19,
   "metadata": {},
   "outputs": [],
   "source": [
    "def compute_loss(out, l, loss_fn, target, reg=1e-3, n_triplets=200):\n",
    "    def generate_triplets(n_triplets):\n",
    "        ai = np.random.randint(low=0, high=out.shape[2]*out.shape[3], size=(n_triplets,))\n",
    "\n",
    "        classes, inv_map = np.unique(l, return_inverse=True)\n",
    "        n_classes = len(classes)\n",
    "        inv_map = inv_map.reshape(l.shape[1], l.shape[2])\n",
    "        inv_map_flat = inv_map.reshape(-1)\n",
    "\n",
    "        class_lookup = (np.arange(n_classes, dtype=np.int32).reshape((1, 1, n_classes)) !=\n",
    "                        inv_map.reshape(l.shape[1], l.shape[2], 1))\n",
    "        class_lookup = np.transpose(class_lookup, axes=[2, 0, 1])\n",
    "\n",
    "        lneg = []\n",
    "        lpos = []\n",
    "        for i in range(n_classes):\n",
    "            lneg.append(np.transpose(class_lookup[i].reshape(-1).nonzero()).reshape((-1)))\n",
    "            lpos.append(np.transpose(np.logical_not(class_lookup[i]).reshape(-1).nonzero()).reshape((-1)))\n",
    "\n",
    "        ni, pi = [], []\n",
    "        for i in range(n_triplets):\n",
    "            ni.append( np.random.choice(lneg[inv_map_flat[ai[i]]]))\n",
    "            pi.append( np.random.choice(lpos[inv_map_flat[ai[i]]]))\n",
    "\n",
    "        return (torch.tensor(ai, dtype=torch.long),\n",
    "                torch.tensor(pi, dtype=torch.long),\n",
    "                torch.tensor(ni, dtype=torch.long))\n",
    "    \n",
    "    ta, tp, tn = generate_triplets(n_triplets)\n",
    "    ta.cuda()\n",
    "    tp.cuda()\n",
    "    tn.cuda()\n",
    "\n",
    "    n_dim = out.shape[1]\n",
    "    \n",
    "    out = out.view(n_dim, -1)\n",
    "    \n",
    "    l2_norm = (out[:, ta].pow(2).sum(dim=0).mean() +\n",
    "               out[:, ta].pow(2).sum(dim=0).mean() +\n",
    "               out[:, ta].pow(2).sum(dim=0).mean())\n",
    "            \n",
    "    distp = (out[:, ta] - out[:, tp]).pow(2).sum(dim=0)\n",
    "    distn = (out[:, ta] - out[:, tn]).pow(2).sum(dim=0)\n",
    "\n",
    "    loss = loss_fun(distn, distp, target) + l2_norm * 1e-3\n",
    "\n",
    "    return loss"
   ]
  },
  {
   "cell_type": "code",
   "execution_count": 3,
   "metadata": {},
   "outputs": [
    {
     "ename": "NameError",
     "evalue": "name 'compute_loss' is not defined",
     "output_type": "error",
     "traceback": [
      "\u001b[0;31m---------------------------------------------------------------------------\u001b[0m",
      "\u001b[0;31mNameError\u001b[0m                                 Traceback (most recent call last)",
      "\u001b[0;32m<timed exec>\u001b[0m in \u001b[0;36m<module>\u001b[0;34m\u001b[0m\n",
      "\u001b[0;31mNameError\u001b[0m: name 'compute_loss' is not defined"
     ]
    }
   ],
   "source": [
    "%%time\n",
    "cl = compute_loss(np.ones(shape=(1, 30, 2, 2)), np.array([[[3, 0], [1, 1]]]), n_triplets=20)"
   ]
  },
  {
   "cell_type": "code",
   "execution_count": 66,
   "metadata": {},
   "outputs": [],
   "source": [
    "import deeptriplet.triplet\n",
    "import importlib"
   ]
  },
  {
   "cell_type": "code",
   "execution_count": 4,
   "metadata": {},
   "outputs": [
    {
     "ename": "NameError",
     "evalue": "name 'RandomTriplet' is not defined",
     "output_type": "error",
     "traceback": [
      "\u001b[0;31m---------------------------------------------------------------------------\u001b[0m",
      "\u001b[0;31mNameError\u001b[0m                                 Traceback (most recent call last)",
      "\u001b[0;32m<ipython-input-4-fd4dd2f33e07>\u001b[0m in \u001b[0;36m<module>\u001b[0;34m\u001b[0m\n\u001b[0;32m----> 1\u001b[0;31m \u001b[0mloss1\u001b[0m \u001b[0;34m=\u001b[0m \u001b[0mRandomTriplet\u001b[0m\u001b[0;34m(\u001b[0m\u001b[0;34m)\u001b[0m\u001b[0;34m\u001b[0m\u001b[0m\n\u001b[0m",
      "\u001b[0;31mNameError\u001b[0m: name 'RandomTriplet' is not defined"
     ]
    }
   ],
   "source": [
    "loss1 = RandomTriplet()"
   ]
  },
  {
   "cell_type": "code",
   "execution_count": 4,
   "metadata": {},
   "outputs": [],
   "source": [
    "x1 = torch.tensor(np.random.rand(1, 30, 200, 100), device='cuda:0', dtype=torch.float32)\n",
    "x2 = torch.tensor(np.random.randint(0, high=20, size=(1,200,100)))"
   ]
  },
  {
   "cell_type": "code",
   "execution_count": 5,
   "metadata": {},
   "outputs": [],
   "source": [
    "loss = deeptriplet.triplet.RandomMinimumTriplet(n_points=200)"
   ]
  },
  {
   "cell_type": "code",
   "execution_count": 16,
   "metadata": {},
   "outputs": [
    {
     "name": "stdout",
     "output_type": "stream",
     "text": [
      "CPU times: user 128 ms, sys: 4 ms, total: 132 ms\n",
      "Wall time: 142 ms\n"
     ]
    }
   ],
   "source": [
    "%%time\n",
    "cl = loss.compute_loss(x1, x2)"
   ]
  },
  {
   "cell_type": "code",
   "execution_count": null,
   "metadata": {},
   "outputs": [],
   "source": []
  },
  {
   "cell_type": "code",
   "execution_count": null,
   "metadata": {},
   "outputs": [],
   "source": []
  },
  {
   "cell_type": "code",
   "execution_count": 7,
   "metadata": {},
   "outputs": [],
   "source": [
    "import torch\n",
    "import torch.nn as nn\n",
    "import torch.nn.functional as F\n",
    "import torch.optim as optim\n",
    "\n",
    "import torchvision\n",
    "from torchvision import transforms, datasets\n",
    "import torch.utils.data as data"
   ]
  },
  {
   "cell_type": "code",
   "execution_count": 8,
   "metadata": {},
   "outputs": [],
   "source": [
    "import ptsemseg\n",
    "import ptsemseg.loader"
   ]
  },
  {
   "cell_type": "code",
   "execution_count": 9,
   "metadata": {},
   "outputs": [],
   "source": [
    "data_loader = ptsemseg.loader.get_loader(\"pascal\")\n",
    "\n",
    "data_aug = None\n",
    "\n",
    "t_loader = data_loader(\n",
    "        \"/srv/glusterfs/yardima/datasets/voc12/VOCdevkit/VOC2012\",\n",
    "        is_transform=True,\n",
    "        split=\"train_aug\",\n",
    "        img_size=(\"same\", \"same\"),\n",
    "        augmentations=data_aug)\n",
    "\n",
    "\n",
    "v_loader = data_loader(\"/srv/glusterfs/yardima/datasets/voc12/VOCdevkit/VOC2012\",\n",
    "                        is_transform=True,\n",
    "                        split=\"val\",\n",
    "                        img_size=(\"same\", \"same\"),)\n",
    "\n",
    "trainloader = data.DataLoader(t_loader,\n",
    "                                  batch_size=1,\n",
    "                                  num_workers=2,\n",
    "                                  shuffle=True)\n",
    "\n",
    "valloader = data.DataLoader(v_loader,\n",
    "                                batch_size=1,\n",
    "                                num_workers=2)"
   ]
  },
  {
   "cell_type": "code",
   "execution_count": 67,
   "metadata": {},
   "outputs": [],
   "source": [
    "net = deeptriplet.models.FCN8Embedding(embedding_dim=30)\n",
    "pretrained_state = torch.load(\"/srv/glusterfs/yardima/runs/pretrained-models/fcn8s_pascal_best_model.pkl\",\n",
    "                              map_location=lambda storage, loc: storage)\n",
    "                              \n",
    "\n",
    "net = nn.DataParallel(net)\n",
    "net.load_state_dict(pretrained_state['model_state'], strict=False)\n",
    "net.cuda();"
   ]
  },
  {
   "cell_type": "code",
   "execution_count": 70,
   "metadata": {},
   "outputs": [],
   "source": [
    "triplet_fun = deeptriplet.triplet.LocalTriplet(sigma_neg=20, sigma_pos=10)\n",
    "triplet_fun_test = deeptriplet.triplet.RandomTriplet(n_triplets=500)\n",
    "optimizer = optim.SGD(net.parameters(), lr=1e-3, momentum=0.9, weight_decay=1e-7)\n",
    "scheduler = torch.optim.lr_scheduler.MultiStepLR(optimizer, milestones=[15, 30, 42], gamma=0.3)"
   ]
  },
  {
   "cell_type": "code",
   "execution_count": 71,
   "metadata": {
    "scrolled": true
   },
   "outputs": [
    {
     "name": "stderr",
     "output_type": "stream",
     "text": [
      "Process Process-15:\n",
      "Process Process-16:\n",
      "Traceback (most recent call last):\n",
      "Traceback (most recent call last):\n",
      "  File \"/home/yardima/.pyenv/versions/3.6.6/lib/python3.6/multiprocessing/process.py\", line 258, in _bootstrap\n",
      "    self.run()\n",
      "  File \"/home/yardima/.pyenv/versions/3.6.6/lib/python3.6/multiprocessing/process.py\", line 258, in _bootstrap\n",
      "    self.run()\n",
      "  File \"/home/yardima/.pyenv/versions/3.6.6/lib/python3.6/multiprocessing/process.py\", line 93, in run\n",
      "    self._target(*self._args, **self._kwargs)\n",
      "  File \"/home/yardima/.pyenv/versions/3.6.6/lib/python3.6/site-packages/torch/utils/data/dataloader.py\", line 96, in _worker_loop\n",
      "    r = index_queue.get(timeout=MANAGER_STATUS_CHECK_INTERVAL)\n",
      "  File \"/home/yardima/.pyenv/versions/3.6.6/lib/python3.6/multiprocessing/process.py\", line 93, in run\n",
      "    self._target(*self._args, **self._kwargs)\n",
      "  File \"/home/yardima/.pyenv/versions/3.6.6/lib/python3.6/multiprocessing/queues.py\", line 104, in get\n",
      "    if not self._poll(timeout):\n",
      "  File \"/home/yardima/.pyenv/versions/3.6.6/lib/python3.6/site-packages/torch/utils/data/dataloader.py\", line 106, in _worker_loop\n",
      "    samples = collate_fn([dataset[i] for i in batch_indices])\n",
      "  File \"/home/yardima/.pyenv/versions/3.6.6/lib/python3.6/multiprocessing/connection.py\", line 257, in poll\n",
      "    return self._poll(timeout)\n",
      "  File \"/home/yardima/.pyenv/versions/3.6.6/lib/python3.6/site-packages/torch/utils/data/dataloader.py\", line 106, in <listcomp>\n",
      "    samples = collate_fn([dataset[i] for i in batch_indices])\n",
      "  File \"/home/yardima/.pyenv/versions/3.6.6/lib/python3.6/multiprocessing/connection.py\", line 414, in _poll\n",
      "    r = wait([self], timeout)\n",
      "  File \"/home/yardima/Python/repos/pytorch-semseg/ptsemseg/loader/pascal_voc_loader.py\", line 95, in __getitem__\n",
      "    im = Image.open(im_path)\n"
     ]
    },
    {
     "ename": "KeyboardInterrupt",
     "evalue": "",
     "output_type": "error",
     "traceback": [
      "\u001b[0;31m---------------------------------------------------------------------------\u001b[0m",
      "\u001b[0;31mKeyboardInterrupt\u001b[0m                         Traceback (most recent call last)",
      "\u001b[0;32m<ipython-input-71-fb13ae148ba1>\u001b[0m in \u001b[0;36m<module>\u001b[0;34m\u001b[0m\n\u001b[1;32m      4\u001b[0m     \u001b[0moptimizer\u001b[0m\u001b[0;34m.\u001b[0m\u001b[0mzero_grad\u001b[0m\u001b[0;34m(\u001b[0m\u001b[0;34m)\u001b[0m\u001b[0;34m\u001b[0m\u001b[0m\n\u001b[1;32m      5\u001b[0m \u001b[0;34m\u001b[0m\u001b[0m\n\u001b[0;32m----> 6\u001b[0;31m     \u001b[0minputs\u001b[0m \u001b[0;34m=\u001b[0m \u001b[0minputs\u001b[0m\u001b[0;34m.\u001b[0m\u001b[0mcuda\u001b[0m\u001b[0;34m(\u001b[0m\u001b[0;34m)\u001b[0m\u001b[0;34m\u001b[0m\u001b[0m\n\u001b[0m\u001b[1;32m      7\u001b[0m \u001b[0;34m\u001b[0m\u001b[0m\n\u001b[1;32m      8\u001b[0m     \u001b[0moutputs\u001b[0m \u001b[0;34m=\u001b[0m \u001b[0mnet\u001b[0m\u001b[0;34m.\u001b[0m\u001b[0mforward\u001b[0m\u001b[0;34m(\u001b[0m\u001b[0minputs\u001b[0m\u001b[0;34m)\u001b[0m\u001b[0;34m\u001b[0m\u001b[0m\n",
      "\u001b[0;31mKeyboardInterrupt\u001b[0m: "
     ]
    },
    {
     "name": "stderr",
     "output_type": "stream",
     "text": [
      "  File \"/home/yardima/.pyenv/versions/3.6.6/lib/python3.6/multiprocessing/connection.py\", line 911, in wait\n",
      "    ready = selector.select(timeout)\n",
      "  File \"/home/yardima/.pyenv/versions/3.6.6/lib/python3.6/site-packages/PIL/Image.py\", line 2609, in open\n",
      "    fp = builtins.open(filename, \"rb\")\n",
      "  File \"/home/yardima/.pyenv/versions/3.6.6/lib/python3.6/selectors.py\", line 376, in select\n",
      "    fd_event_list = self._poll.poll(timeout)\n",
      "KeyboardInterrupt\n",
      "KeyboardInterrupt\n"
     ]
    }
   ],
   "source": [
    "for ii, sample_batched in enumerate(trainloader):\n",
    "    inputs, labels = sample_batched\n",
    "\n",
    "    optimizer.zero_grad()\n",
    "    \n",
    "    inputs = inputs.cuda()\n",
    "    \n",
    "    outputs = net.forward(inputs)\n",
    "    loss = triplet_fun.compute_loss(outputs, labels)\n",
    "    \n",
    "    loss.backward()\n",
    "    \n",
    "    optimizer.step()"
   ]
  },
  {
   "cell_type": "code",
   "execution_count": 106,
   "metadata": {},
   "outputs": [
    {
     "data": {
      "text/plain": [
       "array([1, 1])"
      ]
     },
     "execution_count": 106,
     "metadata": {},
     "output_type": "execute_result"
    }
   ],
   "source": [
    "np.append(np.array([1]), np.array([1]))"
   ]
  },
  {
   "cell_type": "code",
   "execution_count": 19,
   "metadata": {
    "scrolled": true
   },
   "outputs": [],
   "source": [
    "x3 = torch.tensor(np.random.rand(5, 30), device='cuda:0', dtype=torch.float32)\n",
    "x4 = torch.tensor(np.random.rand(7, 30), device='cuda:0', dtype=torch.float32)\n",
    "\n",
    "a = torch.cat((x3, x4), 0)"
   ]
  },
  {
   "cell_type": "code",
   "execution_count": 21,
   "metadata": {
    "scrolled": true
   },
   "outputs": [],
   "source": [
    "def similarity_matrix(mat):\n",
    "        # get the product x * y\n",
    "        # here, y = x.t()\n",
    "        r = torch.mm(mat, mat.t())\n",
    "        # get the diagonal elements\n",
    "        diag = r.diag().unsqueeze(0)\n",
    "        diag = diag.expand_as(r)\n",
    "        # compute the distance matrix\n",
    "        D = diag + diag.t() - 2*r\n",
    "        return D"
   ]
  },
  {
   "cell_type": "code",
   "execution_count": 24,
   "metadata": {
    "scrolled": true
   },
   "outputs": [
    {
     "data": {
      "text/plain": [
       "tensor([[0.0000, 4.7875, 6.5509, 3.6582, 4.9568, 4.8206, 6.2432, 5.2171, 3.8672,\n",
       "         5.6991, 3.6412, 5.6647],\n",
       "        [4.7875, 0.0000, 6.3958, 4.8783, 4.3987, 4.2929, 6.2774, 4.6088, 3.1215,\n",
       "         5.2489, 3.9696, 6.3064],\n",
       "        [6.5509, 6.3958, 0.0000, 4.7901, 3.5289, 5.7253, 4.6814, 4.6239, 5.9310,\n",
       "         5.0222, 7.0740, 5.5432],\n",
       "        [3.6582, 4.8783, 4.7901, 0.0000, 6.7585, 5.2093, 4.2621, 4.5627, 3.2990,\n",
       "         3.2383, 4.4473, 4.4385],\n",
       "        [4.9568, 4.3987, 3.5289, 6.7585, 0.0000, 4.1653, 4.4495, 3.7173, 4.8979,\n",
       "         5.7958, 6.2944, 4.3810],\n",
       "        [4.8206, 4.2929, 5.7253, 5.2093, 4.1653, 0.0000, 6.4525, 5.3264, 4.6413,\n",
       "         5.1812, 4.2690, 4.9387],\n",
       "        [6.2432, 6.2774, 4.6814, 4.2621, 4.4495, 6.4525, 0.0000, 4.8705, 6.1602,\n",
       "         4.9229, 6.3036, 4.5867],\n",
       "        [5.2171, 4.6088, 4.6239, 4.5627, 3.7173, 5.3264, 4.8705, 0.0000, 3.8980,\n",
       "         5.9005, 5.7550, 4.1147],\n",
       "        [3.8672, 3.1215, 5.9310, 3.2990, 4.8979, 4.6413, 6.1602, 3.8980, 0.0000,\n",
       "         4.6222, 3.2901, 4.9251],\n",
       "        [5.6991, 5.2489, 5.0222, 3.2383, 5.7958, 5.1812, 4.9229, 5.9005, 4.6222,\n",
       "         0.0000, 5.0235, 4.5626],\n",
       "        [3.6412, 3.9696, 7.0740, 4.4473, 6.2944, 4.2690, 6.3036, 5.7550, 3.2901,\n",
       "         5.0235, 0.0000, 5.3662],\n",
       "        [5.6647, 6.3064, 5.5432, 4.4385, 4.3810, 4.9387, 4.5867, 4.1147, 4.9251,\n",
       "         4.5626, 5.3662, 0.0000]], device='cuda:0')"
      ]
     },
     "execution_count": 24,
     "metadata": {},
     "output_type": "execute_result"
    }
   ],
   "source": [
    "similarity_matrix(a)"
   ]
  },
  {
   "cell_type": "code",
   "execution_count": 30,
   "metadata": {},
   "outputs": [],
   "source": [
    "prod = torch.mm(x3, x4.t())\n",
    "mag1 = x3.pow(2).sum(dim=1).view(-1, 1)\n",
    "mag2 = x4.pow(2).sum(dim=1).view(1, -1)\n",
    "\n",
    "S = mag1 + mag2 - 2 * prod"
   ]
  },
  {
   "cell_type": "code",
   "execution_count": 31,
   "metadata": {},
   "outputs": [
    {
     "data": {
      "text/plain": [
       "tensor([[4.8206, 6.2432, 5.2171, 3.8672, 5.6991, 3.6412, 5.6647],\n",
       "        [4.2929, 6.2774, 4.6088, 3.1215, 5.2489, 3.9696, 6.3064],\n",
       "        [5.7253, 4.6814, 4.6239, 5.9310, 5.0222, 7.0740, 5.5432],\n",
       "        [5.2094, 4.2621, 4.5627, 3.2990, 3.2383, 4.4473, 4.4385],\n",
       "        [4.1653, 4.4495, 3.7173, 4.8979, 5.7958, 6.2944, 4.3810]],\n",
       "       device='cuda:0')"
      ]
     },
     "execution_count": 31,
     "metadata": {},
     "output_type": "execute_result"
    }
   ],
   "source": [
    "S"
   ]
  },
  {
   "cell_type": "code",
   "execution_count": 35,
   "metadata": {},
   "outputs": [],
   "source": [
    "a = np.random.rand(3, 9)"
   ]
  },
  {
   "cell_type": "code",
   "execution_count": 41,
   "metadata": {},
   "outputs": [
    {
     "data": {
      "text/plain": [
       "array([0.6972077, 0.4375089])"
      ]
     },
     "execution_count": 41,
     "metadata": {},
     "output_type": "execute_result"
    }
   ],
   "source": [
    "a[[1,0], [7,8]]"
   ]
  },
  {
   "cell_type": "code",
   "execution_count": 36,
   "metadata": {},
   "outputs": [],
   "source": [
    "ai_x = np.random.randint(low=0, high=3, \n",
    "                                size=(200,))\n",
    "ai_y = np.random.randint(low=0, high=9, \n",
    "                                size=(200,))\n",
    "\n",
    "ai = ai_x * 9 + ai_y"
   ]
  },
  {
   "cell_type": "code",
   "execution_count": 44,
   "metadata": {},
   "outputs": [
    {
     "data": {
      "text/plain": [
       "array([], shape=(0, 0), dtype=float64)"
      ]
     },
     "execution_count": 44,
     "metadata": {},
     "output_type": "execute_result"
    }
   ],
   "source": [
    "a[-1:1, -1:3]"
   ]
  },
  {
   "cell_type": "code",
   "execution_count": 53,
   "metadata": {},
   "outputs": [],
   "source": []
  },
  {
   "cell_type": "code",
   "execution_count": 65,
   "metadata": {},
   "outputs": [
    {
     "name": "stdout",
     "output_type": "stream",
     "text": [
      "[[0.72614904 0.77880078 0.81873075 0.84366482 0.85214379 0.84366482]\n",
      " [0.77880078 0.83527021 0.87809543 0.90483742 0.91393119 0.90483742]\n",
      " [0.81873075 0.87809543 0.92311635 0.95122942 0.96078944 0.95122942]\n",
      " [0.84366482 0.90483742 0.95122942 0.98019867 0.99004983 0.98019867]\n",
      " [0.85214379 0.91393119 0.96078944 0.99004983 0.         0.99004983]]\n"
     ]
    }
   ],
   "source": [
    "labels = np.zeros(shape=(5, 6))\n",
    "halfw = labels.shape[0] // 2\n",
    "halfh = labels.shape[1] // 2\n",
    "\n",
    "ai_x = 4\n",
    "ai_y = 4\n",
    "\n",
    "prange = t.probs_precomputed[t.ox - ai_x: t.ox - ai_x + labels.shape[0],\n",
    "                             t.oy - ai_y: t.oy - ai_y + labels.shape[1]]\n",
    "\n",
    "print(prange)"
   ]
  },
  {
   "cell_type": "code",
   "execution_count": 24,
   "metadata": {},
   "outputs": [],
   "source": [
    "x1 = torch.tensor(np.random.rand(1, 30, 200, 100), device='cuda:0', dtype=torch.float32)\n",
    "x2 = torch.tensor(np.random.randint(0, high=20, size=(1,200,100)))"
   ]
  },
  {
   "cell_type": "code",
   "execution_count": 114,
   "metadata": {},
   "outputs": [],
   "source": [
    "t = LocalTriplet(max_size=1499, sigma_neg=30, sigma_pos=20)"
   ]
  },
  {
   "cell_type": "code",
   "execution_count": 115,
   "metadata": {},
   "outputs": [],
   "source": [
    "output = torch.rand(1, 30, l.shape[1], l.shape[2])"
   ]
  },
  {
   "cell_type": "code",
   "execution_count": 107,
   "metadata": {
    "scrolled": true
   },
   "outputs": [
    {
     "name": "stdout",
     "output_type": "stream",
     "text": [
      "430 ms ± 65.4 ms per loop (mean ± std. dev. of 15 runs, 1 loop each)\n"
     ]
    }
   ],
   "source": [
    "%%timeit -n 1 -r 15\n",
    "x = t.generate_triplets(output, l)"
   ]
  },
  {
   "cell_type": "code",
   "execution_count": 116,
   "metadata": {},
   "outputs": [
    {
     "name": "stdout",
     "output_type": "stream",
     "text": [
      "382 ms ± 50.1 ms per loop (mean ± std. dev. of 15 runs, 1 loop each)\n"
     ]
    }
   ],
   "source": [
    "%%timeit -n 1 -r 15\n",
    "x = t.generate_triplets(output, l)"
   ]
  },
  {
   "cell_type": "code",
   "execution_count": 79,
   "metadata": {},
   "outputs": [
    {
     "name": "stderr",
     "output_type": "stream",
     "text": [
      "Exception ignored in: <bound method _DataLoaderIter.__del__ of <torch.utils.data.dataloader._DataLoaderIter object at 0x2b9137bd3cc0>>\n",
      "Traceback (most recent call last):\n",
      "  File \"/home/yardima/.pyenv/versions/3.6.6/lib/python3.6/site-packages/torch/utils/data/dataloader.py\", line 399, in __del__\n",
      "    self._shutdown_workers()\n",
      "  File \"/home/yardima/.pyenv/versions/3.6.6/lib/python3.6/site-packages/torch/utils/data/dataloader.py\", line 378, in _shutdown_workers\n",
      "    self.worker_result_queue.get()\n",
      "  File \"/home/yardima/.pyenv/versions/3.6.6/lib/python3.6/multiprocessing/queues.py\", line 337, in get\n",
      "    return _ForkingPickler.loads(res)\n",
      "  File \"/home/yardima/.pyenv/versions/3.6.6/lib/python3.6/site-packages/torch/multiprocessing/reductions.py\", line 151, in rebuild_storage_fd\n",
      "    fd = df.detach()\n",
      "  File \"/home/yardima/.pyenv/versions/3.6.6/lib/python3.6/multiprocessing/resource_sharer.py\", line 57, in detach\n",
      "    with _resource_sharer.get_connection(self._id) as conn:\n",
      "  File \"/home/yardima/.pyenv/versions/3.6.6/lib/python3.6/multiprocessing/resource_sharer.py\", line 87, in get_connection\n",
      "    c = Client(address, authkey=process.current_process().authkey)\n",
      "  File \"/home/yardima/.pyenv/versions/3.6.6/lib/python3.6/multiprocessing/connection.py\", line 493, in Client\n",
      "    answer_challenge(c, authkey)\n",
      "  File \"/home/yardima/.pyenv/versions/3.6.6/lib/python3.6/multiprocessing/connection.py\", line 737, in answer_challenge\n",
      "    response = connection.recv_bytes(256)        # reject large message\n",
      "  File \"/home/yardima/.pyenv/versions/3.6.6/lib/python3.6/multiprocessing/connection.py\", line 216, in recv_bytes\n",
      "    buf = self._recv_bytes(maxlength)\n",
      "  File \"/home/yardima/.pyenv/versions/3.6.6/lib/python3.6/multiprocessing/connection.py\", line 407, in _recv_bytes\n",
      "    buf = self._recv(4)\n",
      "  File \"/home/yardima/.pyenv/versions/3.6.6/lib/python3.6/multiprocessing/connection.py\", line 379, in _recv\n",
      "    chunk = read(handle, remaining)\n",
      "ConnectionResetError: [Errno 104] Connection reset by peer\n"
     ]
    },
    {
     "name": "stdout",
     "output_type": "stream",
     "text": [
      "tensor(0)\n",
      "tensor(0)\n",
      "tensor(3)\n"
     ]
    },
    {
     "data": {
      "text/plain": [
       "(0, 500)"
      ]
     },
     "execution_count": 79,
     "metadata": {},
     "output_type": "execute_result"
    },
    {
     "data": {
      "image/png": "[encoded data removed]",
      "text/plain": [
       "<Figure size 432x288 with 1 Axes>"
      ]
     },
     "metadata": {
      "needs_background": "light"
     },
     "output_type": "display_data"
    }
   ],
   "source": [
    "itl = iter(trainloader)\n",
    "\n",
    "i,l = next(itl)\n",
    "\n",
    "t = LocalTriplet(max_size=1499, sigma_neg=30, sigma_pos=20)\n",
    "\n",
    "a, p, n = t.generate_triplets(torch.rand(1, 30, l.shape[1], l.shape[2]), l)\n",
    "\n",
    "ax = a[0] // l.shape[2]\n",
    "ay = a[0] % l.shape[2]\n",
    "\n",
    "px = p[0] // l.shape[2]\n",
    "py = p[0] % l.shape[2]\n",
    "\n",
    "nx = n[0] // l.shape[2]\n",
    "ny = n[0] % l.shape[2]\n",
    "\n",
    "print(l[0, ax, ay])\n",
    "print(l[0, px, py])\n",
    "print(l[0, nx, ny])\n",
    "\n",
    "plt.scatter(np.array([ax, px, nx]), np.array([ay, py, ny]))\n",
    "axes = plt.gca()\n",
    "axes.set_xlim([0,l.shape[1]])\n",
    "axes.set_ylim([0,l.shape[2]])"
   ]
  },
  {
   "cell_type": "code",
   "execution_count": 39,
   "metadata": {},
   "outputs": [],
   "source": [
    "for i in range(200):\n",
    "    assert(a.reshape(-1)[ai[i]] == a[ai_x[i], ai_y[i]])"
   ]
  },
  {
   "cell_type": "code",
   "execution_count": 50,
   "metadata": {},
   "outputs": [],
   "source": [
    "import random"
   ]
  },
  {
   "cell_type": "code",
   "execution_count": 52,
   "metadata": {},
   "outputs": [
    {
     "data": {
      "text/plain": [
       "0.19393193711517753"
      ]
     },
     "execution_count": 52,
     "metadata": {},
     "output_type": "execute_result"
    }
   ],
   "source": [
    "random.random()"
   ]
  },
  {
   "cell_type": "code",
   "execution_count": 113,
   "metadata": {},
   "outputs": [],
   "source": [
    "class LocalTriplet:\n",
    "\n",
    "    def __init__(self, n_triplets=200, *, sigma_pos=10, sigma_neg=80, margin=1, l2_penalty=1e-3, max_size=1599):\n",
    "        self.margin = margin\n",
    "        self.l2_penalty = l2_penalty\n",
    "        self.n_triplets =  n_triplets\n",
    "\n",
    "        self.loss_fun = nn.MarginRankingLoss(margin=margin)\n",
    "        self.target = torch.FloatTensor(n_triplets).fill_(1).cuda()\n",
    "\n",
    "        ox = oy = max_size // 2\n",
    "        \n",
    "        X, Y = np.meshgrid(range(max_size), range(max_size))\n",
    "        p = - ((X - ox) ** 2 + (Y - oy) ** 2) / (sigma_pos ** 2)\n",
    "        p = np.exp(p)\n",
    "        \n",
    "        self.ox = ox\n",
    "        self.oy = oy\n",
    "        self.probs_precomputed_pos = np.copy(p)\n",
    "        self.probs_precomputed_neg = np.exp(- ((X - ox) ** 2 + (Y - oy) ** 2) / (sigma_neg ** 2))\n",
    "        self.probs_precomputed_pos[ox, oy] = 0.\n",
    "        \n",
    "\n",
    "    def generate_triplets(self, output, labels):\n",
    "        ai_x = np.random.randint(low=0, high=output.shape[2], \n",
    "                                size=(self.n_triplets,))\n",
    "        ai_y = np.random.randint(low=0, high=output.shape[3], \n",
    "                                size=(self.n_triplets,))\n",
    "        \n",
    "        ai = output.shape[3] * ai_x + ai_y\n",
    "        \n",
    "        classes, inv_map = np.unique(labels, return_inverse=True)\n",
    "        n_classes = len(classes)\n",
    "        inv_map = inv_map.reshape(labels.shape[1], labels.shape[2])\n",
    "        inv_map_flat = inv_map.reshape(-1)\n",
    "\n",
    "        class_lookup = (np.arange(n_classes, dtype=np.int32).reshape((1, 1, n_classes)) !=\n",
    "                        inv_map.reshape(labels.shape[1], labels.shape[2], 1))\n",
    "        class_lookup = np.transpose(class_lookup, axes=[2, 0, 1])\n",
    "\n",
    "        lneg = []\n",
    "        lpos = []\n",
    "        for i in range(n_classes):\n",
    "            ni_temp = np.transpose(class_lookup[i].reshape(-1).nonzero()).reshape((-1))\n",
    "            pi_temp = np.transpose(np.logical_not(class_lookup[i]).reshape(-1).nonzero()).reshape((-1))\n",
    "            \n",
    "            lneg.append(ni_temp)\n",
    "            lpos.append(pi_temp)\n",
    "\n",
    "        rs = np.random.rand(2 * self.n_triplets)\n",
    "            \n",
    "        ni, pi = [], []\n",
    "        for i in range(self.n_triplets):\n",
    "            prangepos = self.probs_precomputed_pos[self.ox - ai_x[i]: self.ox - ai_x[i] + labels.shape[1],\n",
    "                                                    self.oy - ai_y[i]: self.oy - ai_y[i] + labels.shape[2]]\n",
    "            prangeneg = self.probs_precomputed_neg[self.ox - ai_x[i]: self.ox - ai_x[i] + labels.shape[1],\n",
    "                                                    self.oy - ai_y[i]: self.oy - ai_y[i] + labels.shape[2]]\n",
    "            prangeneg = prangeneg.reshape(-1)\n",
    "            prangepos = prangepos.reshape(-1)\n",
    "            \n",
    "            prob_neg = prangeneg[lneg[inv_map_flat[ai[i]]]]\n",
    "            prob_pos = prangepos[lpos[inv_map_flat[ai[i]]]]\n",
    "  \n",
    "            prob_pos = np.cumsum((prob_pos / prob_pos.sum()))\n",
    "            prob_neg = np.cumsum((prob_neg / prob_neg.sum()))\n",
    "            \n",
    "            ii1 = np.searchsorted(prob_pos, rs[2 * i])\n",
    "            ii2 = np.searchsorted(prob_neg, rs[2 * i + 1])\n",
    "\n",
    "#             ii1 = np.searchsorted(prob_pos, random.random())\n",
    "#             ii2 = np.searchsorted(prob_neg, random.random())\n",
    "\n",
    "            pi.append( lpos[inv_map_flat[ai[i]]][ii1])\n",
    "            ni.append( lneg[inv_map_flat[ai[i]]][ii2])\n",
    "\n",
    "        return (torch.tensor(ai, dtype=torch.long),\n",
    "                torch.tensor(pi, dtype=torch.long),\n",
    "                torch.tensor(ni, dtype=torch.long))\n",
    "\n",
    "    def compute_loss(self, output, labels):\n",
    "        ta, tp, tn = self.generate_triplets(output, labels)\n",
    "        ta.cuda()\n",
    "        tp.cuda()\n",
    "        tn.cuda()\n",
    "\n",
    "        n_dim = output.shape[1]\n",
    "        \n",
    "        output = output.view(n_dim, -1)\n",
    "        \n",
    "        l2_norm = (output[:, ta].pow(2).sum(dim=0).mean() +\n",
    "                    output[:, tp].pow(2).sum(dim=0).mean() +\n",
    "                    output[:, tn].pow(2).sum(dim=0).mean())\n",
    "                \n",
    "        distp = (output[:, ta] - output[:, tp]).pow(2).sum(dim=0)\n",
    "        distn = (output[:, ta] - output[:, tn]).pow(2).sum(dim=0)\n",
    "\n",
    "        loss = self.loss_fun(distn, distp, self.target) + l2_norm * self.l2_penalty\n",
    "\n",
    "        return loss"
   ]
  },
  {
   "cell_type": "code",
   "execution_count": 77,
   "metadata": {},
   "outputs": [
    {
     "data": {
      "text/plain": [
       "array([0.18725521, 0.77991908, 0.24225463, 0.07013761, 0.79544158,\n",
       "       0.49492709, 0.2060947 , 0.41480206, 0.16340681, 0.580928  ,\n",
       "       0.15326825, 0.62716341])"
      ]
     },
     "execution_count": 77,
     "metadata": {},
     "output_type": "execute_result"
    }
   ],
   "source": [
    "np.random.rand(12)"
   ]
  },
  {
   "cell_type": "code",
   "execution_count": 28,
   "metadata": {},
   "outputs": [
    {
     "data": {
      "text/plain": [
       "array([[1.98575042e-07, 2.11192916e-07, 2.24557104e-07, ...,\n",
       "        2.24557104e-07, 2.11192916e-07, 1.98575042e-07],\n",
       "       [2.11192916e-07, 2.24612557e-07, 2.38825933e-07, ...,\n",
       "        2.38825933e-07, 2.24612557e-07, 2.11192916e-07],\n",
       "       [2.24557104e-07, 2.38825933e-07, 2.53938725e-07, ...,\n",
       "        2.53938725e-07, 2.38825933e-07, 2.24557104e-07],\n",
       "       ...,\n",
       "       [2.24557104e-07, 2.38825933e-07, 2.53938725e-07, ...,\n",
       "        2.53938725e-07, 2.38825933e-07, 2.24557104e-07],\n",
       "       [2.11192916e-07, 2.24612557e-07, 2.38825933e-07, ...,\n",
       "        2.38825933e-07, 2.24612557e-07, 2.11192916e-07],\n",
       "       [1.98575042e-07, 2.11192916e-07, 2.24557104e-07, ...,\n",
       "        2.24557104e-07, 2.11192916e-07, 1.98575042e-07]])"
      ]
     },
     "execution_count": 28,
     "metadata": {},
     "output_type": "execute_result"
    }
   ],
   "source": [
    "t = LocalTriplet(max_size=501, sigma=90)\n",
    "t.probs_precomputed"
   ]
  },
  {
   "cell_type": "code",
   "execution_count": 29,
   "metadata": {},
   "outputs": [
    {
     "data": {
      "text/plain": [
       "<matplotlib.colorbar.Colorbar at 0x2b3f82925eb8>"
      ]
     },
     "execution_count": 29,
     "metadata": {},
     "output_type": "execute_result"
    },
    {
     "data": {
      "image/png": "[encoded data removed]",
      "text/plain": [
       "<Figure size 288x288 with 2 Axes>"
      ]
     },
     "metadata": {
      "needs_background": "light"
     },
     "output_type": "display_data"
    }
   ],
   "source": [
    "plt.matshow(t.probs_precomputed)\n",
    "plt.colorbar()"
   ]
  },
  {
   "cell_type": "code",
   "execution_count": 1,
   "metadata": {},
   "outputs": [],
   "source": [
    "l = [3, 4]"
   ]
  },
  {
   "cell_type": "code",
   "execution_count": 2,
   "metadata": {},
   "outputs": [],
   "source": [
    "l[1] += 1"
   ]
  }
 ],
 "metadata": {
  "kernelspec": {
   "display_name": "Python 3",
   "language": "python",
   "name": "python3"
  },
  "language_info": {
   "codemirror_mode": {
    "name": "ipython",
    "version": 3
   },
   "file_extension": ".py",
   "mimetype": "text/x-python",
   "name": "python",
   "nbconvert_exporter": "python",
   "pygments_lexer": "ipython3",
   "version": "3.6.6"
  }
 },
 "nbformat": 4,
 "nbformat_minor": 2
}
